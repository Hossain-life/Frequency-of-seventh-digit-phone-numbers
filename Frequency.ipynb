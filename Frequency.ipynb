{
 "cells": [
  {
   "cell_type": "code",
   "execution_count": 1,
   "id": "64349bb7",
   "metadata": {},
   "outputs": [
    {
     "name": "stderr",
     "output_type": "stream",
     "text": [
      "WARNING: An illegal reflective access operation has occurred\n",
      "WARNING: Illegal reflective access by org.apache.spark.unsafe.Platform (file:/opt/spark/jars/spark-unsafe_2.12-3.1.2.jar) to constructor java.nio.DirectByteBuffer(long,int)\n",
      "WARNING: Please consider reporting this to the maintainers of org.apache.spark.unsafe.Platform\n",
      "WARNING: Use --illegal-access=warn to enable warnings of further illegal reflective access operations\n",
      "WARNING: All illegal access operations will be denied in a future release\n",
      "22/02/18 16:43:17 WARN NativeCodeLoader: Unable to load native-hadoop library for your platform... using builtin-java classes where applicable\n",
      "Using Spark's default log4j profile: org/apache/spark/log4j-defaults.properties\n",
      "Setting default log level to \"WARN\".\n",
      "To adjust logging level use sc.setLogLevel(newLevel). For SparkR, use setLogLevel(newLevel).\n",
      "22/02/18 16:43:19 WARN ExecutorAllocationManager: Dynamic allocation without a shuffle service is an experimental feature.\n"
     ]
    }
   ],
   "source": [
    "import pyspark\n",
    "import os\n",
    "from pyspark.conf import SparkConf\n",
    "from pyspark.sql import SparkSession\n",
    "\n",
    "conf = (SparkConf()\n",
    "       .set(\"spark.driver.bindAddress\", \"0.0.0.0\")\\\n",
    "       .set(\"spark.submit.deployMode\", \"client\")\\\n",
    "       .set(\"spark.kubernetes.driver.pod.name\", os.getenv(\"MY_POD_NAME\"))\\\n",
    "       .set(\"spark.kubernetes.authenticate.subdmission.caCertFile\", \"/var/run/secrets/kubernetes.io/serviceaccount/ca.crt\")\\\n",
    "       .set(\"spark.kubernetes.authenticate.submission.oauthTokenFile\", \"/var/run/secrets/kubernetes.io/serviceaccount/token\")\\\n",
    "       .set(\"spark.kubernetes.authenticate.driver.serviceAccountName\", \"spark-driver\")\\\n",
    "       .set(\"spark.kubernetes.namespace\", os.getenv(\"MY_POD_NAMESPACE\"))\\\n",
    "       .set(\"spark.executor.instances\", \"1\")\\\n",
    "       .set(\"spark.dynamicAllocation.maxExecutors\", \"2\")\\\n",
    "       .set(\"spark.dynamicAllocation.enabled\", \"true\")\\\n",
    "       .set(\"spark.dynamicAllocation.shuffleTracking.enabled\", \"true\")\\\n",
    "       .set(\"spark.driver.host\", \"spark-driver\")\\\n",
    "       .set(\"spark.driver.port\", \"20020\")\\\n",
    "       .set(\"spark.kubernetes.executor.request.cores\", \"1\")\\\n",
    "       .set(\"spark.kubernetes.executor.limit.cores\", \"2\")\\\n",
    "       .set(\"spark.executor.memory\", \"8000m\")\\\n",
    "       .set(\"spark.kubernetes.container.image\", \"klovercloud/airflow-spark-k8s-driver:3.1.2\")\\\n",
    "       .set(\"spark.kubernetes.container.image.pullPolicy\", \"IfNotPresent\")\\\n",
    "       .set(\"spark.sql.extensions\",\"org.apache.iceberg.spark.extensions.IcebergSparkSessionExtensions\")\\\n",
    "       .set(\"spark.sql.catalog.spark_catalog\",\"org.apache.iceberg.spark.SparkSessionCatalog\")\\\n",
    "       .set(\"spark.sql.catalog.spark_catalog.type\",\"hive\")\\\n",
    "       .set(\"spark.hadoop.hive.metastore.uris\",\"thrift://hive-metastore.analytics-dev:9083\")\\\n",
    "       .set(\"spark.hadoop.hive.metastore.warehouse.dir\",\"s3a://bigdata-dev-cmfcknil/warehouse/\")\\\n",
    "       .set(\"spark.hadoop.fs.s3a.connection.ssl.enabled\",\"true\")\\\n",
    "       .set(\"spark.hadoop.fs.s3a.path.style.access\",\"true\")\\\n",
    "       .set(\"spark.hadoop.fs.s3a.endpoint\",\"https://kcs3.bd-1.wpc.waltonelectronics.com\")\\\n",
    "       .set(\"spark.hadoop.fs.s3a.access.key\",\"30J9IFFY75NVQZVHG4D4\")\\\n",
    "       .set(\"spark.hadoop.fs.s3a.secret.key\",\"WMGk6kqq5erjqZjnqo0QItSQ2zuoNWEpHIphsTgR\")\\\n",
    "       .set(\"spark.hadoop.fs.s3a.attempts.maximum\",\"1\")\\\n",
    "       .set(\"spark.hadoop.fs.s3a.connection.establish.timeout\",\"500\")\\\n",
    "       .set(\"spark.hadoop.datanucleus.autoCreateSchema\",\"true\")\\\n",
    "       .set(\"spark.hadoop.datanucleus.fixedDatastore\",\"false\"));\n",
    "\n",
    "spark = SparkSession.builder \\\n",
    "            .master(\"k8s://https://kubernetes.default:443\") \\\n",
    "            .appName(\"spark-test-app\") \\\n",
    "            .config(conf=conf).enableHiveSupport().getOrCreate()"
   ]
  },
  {
   "cell_type": "code",
   "execution_count": 2,
   "id": "e1f7542e",
   "metadata": {},
   "outputs": [
    {
     "name": "stdout",
     "output_type": "stream",
     "text": [
      "+---------+\n",
      "|namespace|\n",
      "+---------+\n",
      "|  default|\n",
      "|      ebs|\n",
      "|      pos|\n",
      "|   pqspos|\n",
      "|      reg|\n",
      "|     test|\n",
      "|    tmpdb|\n",
      "+---------+\n",
      "\n"
     ]
    }
   ],
   "source": [
    "spark.sql(\"SHOW DATABASES;\").show()"
   ]
  },
  {
   "cell_type": "code",
   "execution_count": 3,
   "id": "b578fefa",
   "metadata": {},
   "outputs": [
    {
     "name": "stderr",
     "output_type": "stream",
     "text": [
      "22/02/18 16:43:43 WARN MetricsConfig: Cannot locate configuration: tried hadoop-metrics2-s3a-file-system.properties,hadoop-metrics2.properties\n"
     ]
    }
   ],
   "source": [
    "dfM = spark.sql(\"select INVOICE_NO,CREATED,CREATED_BY,S_TYPE,IS_EMPLOYEE,CUSTOMER_ID,ID,PLAZA_ID from pos.pos___POS_SALE_MST;\")   # Sales Invoice Master\n",
    "dfD = spark.sql(\"select RATE,QUANTITY,S_TOTAL,REBATE,G_TOTAL,SALE_MST_ID,PRODUCT_ID from pos.pos___POS_SALE_DTLS;\")\n",
    "dfPD = spark.sql(\"select SEGMENT3,SEGMENT5,ID from pos.pos___POS_PRODUCTS;\")\n",
    "dfC = spark.sql(\"select NAME,MOBILE_PHONE,C_TYPE,ID from pos.pos___POS_CUSTOMERS;\")\n",
    "dfP = spark.sql(\"select NAME,ID from pos.pos___POS_PLAZAS;\")"
   ]
  },
  {
   "cell_type": "code",
   "execution_count": 4,
   "id": "8ffda757",
   "metadata": {},
   "outputs": [],
   "source": [
    "dfP = dfP.withColumnRenamed(\"ID\",\"pid\")\n"
   ]
  },
  {
   "cell_type": "code",
   "execution_count": 5,
   "id": "0b18fd42",
   "metadata": {},
   "outputs": [],
   "source": [
    "dfM = dfM.withColumnRenamed(\"ID\",\"SID\")\n"
   ]
  },
  {
   "cell_type": "code",
   "execution_count": 6,
   "id": "ac55fa4e",
   "metadata": {},
   "outputs": [],
   "source": [
    "dfC = dfC.withColumnRenamed(\"ID\",\"CID\")\n",
    "dfC = dfC.withColumnRenamed(\"NAME\",\"cname\")\n",
    "dfC = dfC.withColumnRenamed(\"MOBILE_PHONE\",\"CUSTOMER_PHONE_NO\")\n",
    "dfC = dfC.withColumnRenamed(\"C_TYPE\",\"CUSTOMER_TYPE\")\n"
   ]
  },
  {
   "cell_type": "code",
   "execution_count": 7,
   "id": "6f1b60f8",
   "metadata": {},
   "outputs": [],
   "source": [
    "dfPD = dfPD.withColumnRenamed(\"ID\",\"prodid\")\n"
   ]
  },
  {
   "cell_type": "code",
   "execution_count": 8,
   "id": "ccda5b96",
   "metadata": {},
   "outputs": [],
   "source": [
    "dfD= dfD.filter(dfD.RATE > 1500)"
   ]
  },
  {
   "cell_type": "code",
   "execution_count": 9,
   "id": "00538e48",
   "metadata": {},
   "outputs": [],
   "source": [
    "df1 = dfM.join(dfD,dfM.SID == dfD.SALE_MST_ID,\"inner\")"
   ]
  },
  {
   "cell_type": "code",
   "execution_count": 10,
   "id": "78434cf9",
   "metadata": {},
   "outputs": [],
   "source": [
    "df2= df1.join(dfPD, dfPD.prodid== df1.PRODUCT_ID,\"inner\")"
   ]
  },
  {
   "cell_type": "code",
   "execution_count": 11,
   "id": "f96f905a",
   "metadata": {},
   "outputs": [],
   "source": [
    "df3 = dfC.join(df2,dfC.CID == df2.CUSTOMER_ID,\"inner\")"
   ]
  },
  {
   "cell_type": "code",
   "execution_count": 12,
   "id": "317ef7c1",
   "metadata": {},
   "outputs": [],
   "source": [
    "df4 = dfP.join(df3,dfP.pid == df3.PLAZA_ID,\"inner\")"
   ]
  },
  {
   "cell_type": "code",
   "execution_count": 13,
   "id": "2d860e99",
   "metadata": {},
   "outputs": [],
   "source": [
    "df4 = df4.withColumnRenamed(\"Name\",\"PLAZA_NAME\")"
   ]
  },
  {
   "cell_type": "code",
   "execution_count": 14,
   "id": "528d75b7",
   "metadata": {},
   "outputs": [],
   "source": [
    "df4 = df4.drop(\"pid\")"
   ]
  },
  {
   "cell_type": "code",
   "execution_count": 15,
   "id": "c5757ba7",
   "metadata": {},
   "outputs": [],
   "source": [
    "df4 = df4.withColumnRenamed(\"cname\",\"CustomerName\")"
   ]
  },
  {
   "cell_type": "code",
   "execution_count": 16,
   "id": "cf8adfc2",
   "metadata": {},
   "outputs": [],
   "source": [
    "df4 = df4.drop(\"CID\")"
   ]
  },
  {
   "cell_type": "code",
   "execution_count": 17,
   "id": "3fa2eb63",
   "metadata": {},
   "outputs": [],
   "source": [
    "df4 = df4.filter(df4.IS_EMPLOYEE == False)"
   ]
  },
  {
   "cell_type": "code",
   "execution_count": 18,
   "id": "93ee8b09",
   "metadata": {},
   "outputs": [],
   "source": [
    "#df4 = df4.where('''Customer_Type in ('Retail','Hire')''')\n",
    "df4 = df4.filter(df4.CUSTOMER_TYPE.contains('Retail')|df4.CUSTOMER_TYPE.contains('Hire'))"
   ]
  },
  {
   "cell_type": "code",
   "execution_count": 19,
   "id": "061652c2",
   "metadata": {},
   "outputs": [],
   "source": [
    "df4 = df4.filter(df4.CREATED_BY != \"OPENING_HIRE\")"
   ]
  },
  {
   "cell_type": "code",
   "execution_count": 20,
   "id": "1d634045",
   "metadata": {},
   "outputs": [],
   "source": [
    "import pyspark.sql.functions as funcs\n",
    "df4 = df4.withColumn(\"date_of_registration\",funcs.to_date(funcs.col(\"CREATED\")))"
   ]
  },
  {
   "cell_type": "code",
   "execution_count": 21,
   "id": "de47287a",
   "metadata": {},
   "outputs": [],
   "source": [
    "df4 = df4.drop(\"CREATED\")"
   ]
  },
  {
   "cell_type": "code",
   "execution_count": 22,
   "id": "cd2a9ecc",
   "metadata": {},
   "outputs": [],
   "source": [
    "from pyspark.sql.functions import *\n",
    "from pyspark.sql.functions import when, lit, col\n",
    "import pyspark.sql.functions as F\n",
    " \n",
    " \n",
    " \n",
    "df4 = df4.filter(df4[\"date_of_registration\"] >= lit('2021-01-01')) \\\n",
    "                   .filter(df4[\"date_of_registration\"] <= lit('2022-02-18'))\n",
    "\n"
   ]
  },
  {
   "cell_type": "code",
   "execution_count": 23,
   "id": "c6e07489",
   "metadata": {},
   "outputs": [],
   "source": [
    "df = df4.cache()"
   ]
  },
  {
   "cell_type": "code",
   "execution_count": 24,
   "id": "72243c29",
   "metadata": {},
   "outputs": [],
   "source": [
    "df = df.withColumnRenamed(\"CUSTOMER_PHONE_NO\",\"CustomerPhoneNumber\")"
   ]
  },
  {
   "cell_type": "markdown",
   "id": "102b81ac",
   "metadata": {},
   "source": [
    "## Preprocessing CustomerPhoneNumber"
   ]
  },
  {
   "cell_type": "code",
   "execution_count": 25,
   "id": "9f946dac",
   "metadata": {},
   "outputs": [],
   "source": [
    "df = df.filter(df.CustomerPhoneNumber.isNotNull())"
   ]
  },
  {
   "cell_type": "markdown",
   "id": "b73b6bd0",
   "metadata": {},
   "source": [
    "## Remove zeros from customerphonenumber column"
   ]
  },
  {
   "cell_type": "code",
   "execution_count": 26,
   "id": "ff576fb4",
   "metadata": {},
   "outputs": [],
   "source": [
    "df = df.filter(df.CustomerPhoneNumber != \"0\")"
   ]
  },
  {
   "cell_type": "markdown",
   "id": "40116a8e",
   "metadata": {},
   "source": [
    "## Remove leading plus minus sign from customerphonenumber column"
   ]
  },
  {
   "cell_type": "code",
   "execution_count": 27,
   "id": "cd187080",
   "metadata": {},
   "outputs": [],
   "source": [
    "\n",
    "#Remove leading plus minus sign\n",
    "from pyspark.sql.functions import *\n",
    "\n",
    "import pyspark.sql.functions as F\n",
    "\n",
    " \n",
    "\n",
    "df = df.withColumn('CustomerPhoneNumber', F.regexp_replace('CustomerPhoneNumber', r'^[±]*', ''))"
   ]
  },
  {
   "cell_type": "markdown",
   "id": "ebca44a6",
   "metadata": {},
   "source": [
    "## Remove punctuation from customerphonenumber column"
   ]
  },
  {
   "cell_type": "code",
   "execution_count": 28,
   "id": "040658a4",
   "metadata": {},
   "outputs": [],
   "source": [
    "### Remove punctuation from column in pyspark\n",
    "df = df.withColumn('CustomerPhoneNumber', F.regexp_replace('CustomerPhoneNumber', r'[^\\w\\s]', ''))"
   ]
  },
  {
   "cell_type": "markdown",
   "id": "06ce3f10",
   "metadata": {},
   "source": [
    "## Remove all special characters from CustomerPhoneNumber column"
   ]
  },
  {
   "cell_type": "code",
   "execution_count": 29,
   "id": "7fc3020f",
   "metadata": {},
   "outputs": [],
   "source": [
    "df = df.withColumn('CustomerPhoneNumber', F.regexp_replace('CustomerPhoneNumber', r'\\W', ''))"
   ]
  },
  {
   "cell_type": "markdown",
   "id": "7a0401f8",
   "metadata": {},
   "source": [
    "## Remove leading eight from CustomerPhoneNumber column"
   ]
  },
  {
   "cell_type": "code",
   "execution_count": 30,
   "id": "a2872426",
   "metadata": {},
   "outputs": [],
   "source": [
    "df = df.withColumn('CustomerPhoneNumber', F.regexp_replace('CustomerPhoneNumber', r'^[8]*', ''))"
   ]
  },
  {
   "cell_type": "code",
   "execution_count": 31,
   "id": "e9be8242",
   "metadata": {},
   "outputs": [],
   "source": [
    "## Dropping na values from customerphonenumber column"
   ]
  },
  {
   "cell_type": "code",
   "execution_count": 32,
   "id": "cb8f78a7",
   "metadata": {},
   "outputs": [],
   "source": [
    "df = df.na.drop(subset=[\"CustomerPhoneNumber\"])"
   ]
  },
  {
   "cell_type": "markdown",
   "id": "c006d702",
   "metadata": {},
   "source": [
    "## Remove english alphabets from customerphonenumber column"
   ]
  },
  {
   "cell_type": "code",
   "execution_count": 33,
   "id": "ccd4a2a0",
   "metadata": {},
   "outputs": [],
   "source": [
    "df = df.withColumn('CustomerPhoneNumber', F.regexp_replace('CustomerPhoneNumber', r'[A-Za-z]', ''))"
   ]
  },
  {
   "cell_type": "markdown",
   "id": "7aefc768",
   "metadata": {},
   "source": [
    "## Removing empty strings"
   ]
  },
  {
   "cell_type": "code",
   "execution_count": 34,
   "id": "68cb7200",
   "metadata": {},
   "outputs": [],
   "source": [
    "df = df.filter(df.CustomerPhoneNumber != \"\")"
   ]
  },
  {
   "cell_type": "markdown",
   "id": "1d3531d6",
   "metadata": {},
   "source": [
    "## Remove leading plus sign from customerphonenumber column"
   ]
  },
  {
   "cell_type": "code",
   "execution_count": 35,
   "id": "20ca9045",
   "metadata": {},
   "outputs": [],
   "source": [
    "#remove leading plus\n",
    "df = df.withColumn('CustomerPhoneNumber', F.regexp_replace('CustomerPhoneNumber', r'^[+]*', ''))"
   ]
  },
  {
   "cell_type": "markdown",
   "id": "e32baecd",
   "metadata": {},
   "source": [
    "## Remove | from customerphonenumber column"
   ]
  },
  {
   "cell_type": "code",
   "execution_count": 36,
   "id": "c7db8a67",
   "metadata": {},
   "outputs": [],
   "source": [
    "\n",
    "df = df.withColumn('CustomerPhoneNumber', F.regexp_replace('CustomerPhoneNumber', r'|', ''))"
   ]
  },
  {
   "cell_type": "markdown",
   "id": "6db52e76",
   "metadata": {},
   "source": [
    "## Remove / from customerphonenumber column"
   ]
  },
  {
   "cell_type": "code",
   "execution_count": 37,
   "id": "402fae56",
   "metadata": {},
   "outputs": [],
   "source": [
    "df = df.withColumn('CustomerPhoneNumber', F.regexp_replace('CustomerPhoneNumber', r'/', ''))"
   ]
  },
  {
   "cell_type": "markdown",
   "id": "333af9b5",
   "metadata": {},
   "source": [
    "## Remove all non-english characters"
   ]
  },
  {
   "cell_type": "code",
   "execution_count": 38,
   "id": "37f4e5dd",
   "metadata": {},
   "outputs": [],
   "source": [
    "df = df.withColumn('CustomerPhoneNumber', F.regexp_replace('CustomerPhoneNumber', r'/[^\\x00-\\x7F]+/', ''))"
   ]
  },
  {
   "cell_type": "markdown",
   "id": "9cec8e6b",
   "metadata": {},
   "source": [
    "## Removing empty strings after final data cleaning"
   ]
  },
  {
   "cell_type": "code",
   "execution_count": 39,
   "id": "4c576715",
   "metadata": {},
   "outputs": [],
   "source": [
    "df = df.filter(df.CustomerPhoneNumber != \"\")"
   ]
  },
  {
   "cell_type": "markdown",
   "id": "65ee5269",
   "metadata": {},
   "source": [
    "## Removing all spaces from CustomerPhonenumber column"
   ]
  },
  {
   "cell_type": "code",
   "execution_count": 40,
   "id": "aa717543",
   "metadata": {},
   "outputs": [],
   "source": [
    "df = df.withColumn('CustomerPhoneNumber', F.regexp_replace('CustomerPhoneNumber', r'/\\s/g', ''))"
   ]
  },
  {
   "cell_type": "markdown",
   "id": "9a0da2f6",
   "metadata": {},
   "source": [
    "## Finding the length of customerphonenumber in customerphonenumber column"
   ]
  },
  {
   "cell_type": "code",
   "execution_count": 41,
   "id": "16fa82c4",
   "metadata": {},
   "outputs": [],
   "source": [
    "from pyspark.sql.functions import length\n",
    "df = df.withColumn(\"length\", F.length(\"CustomerPhoneNumber\"))"
   ]
  },
  {
   "cell_type": "markdown",
   "id": "738cb70b",
   "metadata": {},
   "source": [
    "## Remove all customers who do not have 11 digit number"
   ]
  },
  {
   "cell_type": "code",
   "execution_count": 42,
   "id": "3d4e6e44",
   "metadata": {},
   "outputs": [],
   "source": [
    "df = df.filter(df.length == 11)"
   ]
  },
  {
   "cell_type": "markdown",
   "id": "e8d0874f",
   "metadata": {},
   "source": [
    "## Select all customers whose phone number starts with 01"
   ]
  },
  {
   "cell_type": "code",
   "execution_count": 43,
   "id": "b7e22d34",
   "metadata": {},
   "outputs": [],
   "source": [
    "df = df.filter(df.CustomerPhoneNumber.startswith('01'))"
   ]
  },
  {
   "cell_type": "markdown",
   "id": "77b33630",
   "metadata": {},
   "source": [
    "## Remove all customers whose phone numbers start with 010"
   ]
  },
  {
   "cell_type": "code",
   "execution_count": 44,
   "id": "06214432",
   "metadata": {},
   "outputs": [],
   "source": [
    "df = df.filter(~df.CustomerPhoneNumber.startswith('010'))"
   ]
  },
  {
   "cell_type": "markdown",
   "id": "c7901227",
   "metadata": {},
   "source": [
    "## Remove all customers whose phone numbers start with 011"
   ]
  },
  {
   "cell_type": "code",
   "execution_count": 45,
   "id": "04f9a1d7",
   "metadata": {},
   "outputs": [],
   "source": [
    "df = df.filter(~df.CustomerPhoneNumber.startswith('011'))"
   ]
  },
  {
   "cell_type": "markdown",
   "id": "6692fb33",
   "metadata": {},
   "source": [
    "## Remove all customers whose phone numbers start with 012"
   ]
  },
  {
   "cell_type": "code",
   "execution_count": 46,
   "id": "b2af932a",
   "metadata": {},
   "outputs": [],
   "source": [
    "df = df.filter(~df.CustomerPhoneNumber.startswith('012'))"
   ]
  },
  {
   "cell_type": "code",
   "execution_count": 47,
   "id": "00603e2b",
   "metadata": {},
   "outputs": [],
   "source": [
    "df = df.withColumn('remaining_strings', substring('CustomerPhoneNumber', 4, 11))"
   ]
  },
  {
   "cell_type": "code",
   "execution_count": 48,
   "id": "eaea135b",
   "metadata": {},
   "outputs": [],
   "source": [
    "df = df.filter(df.remaining_strings != \"00000000\")"
   ]
  },
  {
   "cell_type": "code",
   "execution_count": 49,
   "id": "f0d0a359",
   "metadata": {},
   "outputs": [],
   "source": [
    "df = df.withColumn('remaining_new', substring('remaining_strings', 1, 7))"
   ]
  },
  {
   "cell_type": "code",
   "execution_count": 50,
   "id": "be50d2fb",
   "metadata": {},
   "outputs": [],
   "source": [
    "df = df.filter(df.remaining_new != \"0000000\")"
   ]
  },
  {
   "cell_type": "code",
   "execution_count": 51,
   "id": "0818c0c2",
   "metadata": {},
   "outputs": [],
   "source": [
    "from pyspark.sql.functions import when\n",
    "\n",
    "df = df.withColumn('SEGMENT3',\n",
    "    F.when((df.SEGMENT3 == \"LAPTOP\") | (df.SEGMENT3 == 'DESKTOP PC') | (df.SEGMENT3 == 'SERVER') | (df.SEGMENT3 == 'ALL IN ONE'), \"COMPUTER\").otherwise(df.SEGMENT3))\n"
   ]
  },
  {
   "cell_type": "code",
   "execution_count": 52,
   "id": "415ea0ae",
   "metadata": {},
   "outputs": [],
   "source": [
    "df = df.withColumn('SEGMENT3',\n",
    "    F.when((df.SEGMENT3 == \"3D TELEVISION\") , \"LED SMART TELEVISION\").otherwise(df.SEGMENT3))"
   ]
  },
  {
   "cell_type": "code",
   "execution_count": 53,
   "id": "2c1d7057",
   "metadata": {},
   "outputs": [],
   "source": [
    "df = df.withColumn('SEGMENT3',\n",
    "    F.when((df.SEGMENT3 == \"LCD TELEVISION\") , \"LED TELEVISION\").otherwise(df.SEGMENT3))"
   ]
  },
  {
   "cell_type": "code",
   "execution_count": 54,
   "id": "343afe39",
   "metadata": {},
   "outputs": [],
   "source": [
    "df = df.withColumn('SEGMENT3',\n",
    "    F.when((df.SEGMENT3 == \"BEVERAGE COOLER\") , \"REFRIGERATOR\").otherwise(df.SEGMENT3))"
   ]
  },
  {
   "cell_type": "code",
   "execution_count": 55,
   "id": "9176da28",
   "metadata": {},
   "outputs": [],
   "source": [
    "df = df.withColumn('SEGMENT3',\n",
    "    F.when((df.SEGMENT3 == \"AIRCONDITIONER-INDOOR\") , \"AIRCONDITIONER\").otherwise(df.SEGMENT3))"
   ]
  },
  {
   "cell_type": "code",
   "execution_count": 56,
   "id": "14af592a",
   "metadata": {},
   "outputs": [],
   "source": [
    "dfselected = df.select(\"CustomerPhoneNumber\",\"SEGMENT3\",\"date_of_registration\")"
   ]
  },
  {
   "cell_type": "code",
   "execution_count": 57,
   "id": "229f3502",
   "metadata": {},
   "outputs": [],
   "source": [
    "dfcountfinal = df.groupby('CustomerPhoneNumber','SEGMENT3').agg(funcs.expr('count(SEGMENT3)')\\\n",
    "                              .alias('productcount'))"
   ]
  },
  {
   "cell_type": "code",
   "execution_count": 58,
   "id": "a43785c6",
   "metadata": {},
   "outputs": [],
   "source": [
    "dfcountfinal = dfcountfinal.filter(dfcountfinal.productcount < 5)"
   ]
  },
  {
   "cell_type": "code",
   "execution_count": 59,
   "id": "a308545f",
   "metadata": {},
   "outputs": [],
   "source": [
    "dfcountfinalaircon = dfcountfinal.filter(dfcountfinal.SEGMENT3 == \"AIRCONDITIONER\")"
   ]
  },
  {
   "cell_type": "code",
   "execution_count": 60,
   "id": "515d0c46",
   "metadata": {},
   "outputs": [],
   "source": [
    "dfcountfinalaircon = dfcountfinalaircon.filter(dfcountfinalaircon.productcount <= 4)"
   ]
  },
  {
   "cell_type": "code",
   "execution_count": 61,
   "id": "920928e1",
   "metadata": {},
   "outputs": [],
   "source": [
    "dfcountfinalcomputer = dfcountfinal.filter(dfcountfinal.SEGMENT3 == \"COMPUTER\")"
   ]
  },
  {
   "cell_type": "code",
   "execution_count": 62,
   "id": "e44a41ab",
   "metadata": {},
   "outputs": [],
   "source": [
    "dfcountfinalcomputer = dfcountfinalcomputer.filter(dfcountfinalcomputer.productcount <= 3)"
   ]
  },
  {
   "cell_type": "code",
   "execution_count": 63,
   "id": "0199b49c",
   "metadata": {},
   "outputs": [],
   "source": [
    "dfcountfinalfreezer = dfcountfinal.filter(dfcountfinal.SEGMENT3 == \"FREEZER\")"
   ]
  },
  {
   "cell_type": "code",
   "execution_count": 64,
   "id": "232252dd",
   "metadata": {},
   "outputs": [],
   "source": [
    "dfcountfinalfreezer = dfcountfinalfreezer.filter(dfcountfinalfreezer.productcount <= 3)"
   ]
  },
  {
   "cell_type": "code",
   "execution_count": 65,
   "id": "476c254c",
   "metadata": {},
   "outputs": [],
   "source": [
    "dfcountfinaltelevision = dfcountfinal.filter((dfcountfinal.SEGMENT3 == \"LED TELEVISION\") | (dfcountfinal.SEGMENT3 == \"LED SMART TELEVISION\"))"
   ]
  },
  {
   "cell_type": "code",
   "execution_count": 66,
   "id": "2ca2507e",
   "metadata": {},
   "outputs": [],
   "source": [
    "dfcountfinaltelevision = dfcountfinaltelevision.filter(dfcountfinaltelevision.productcount <= 4)"
   ]
  },
  {
   "cell_type": "code",
   "execution_count": 67,
   "id": "435ae5ec",
   "metadata": {},
   "outputs": [],
   "source": [
    "dfcountfinalmicrowaveoven = dfcountfinal.filter(dfcountfinal.SEGMENT3 == \"MICROWAVE OVEN\")"
   ]
  },
  {
   "cell_type": "code",
   "execution_count": 68,
   "id": "44a31b99",
   "metadata": {},
   "outputs": [],
   "source": [
    "dfcountfinalmicrowaveoven = dfcountfinalmicrowaveoven.filter(dfcountfinalmicrowaveoven.productcount <= 4)"
   ]
  },
  {
   "cell_type": "code",
   "execution_count": 69,
   "id": "982f92ae",
   "metadata": {},
   "outputs": [],
   "source": [
    "dfcountfinalrefrigerator = dfcountfinal.filter(dfcountfinal.SEGMENT3 == \"REFRIGERATOR\")"
   ]
  },
  {
   "cell_type": "code",
   "execution_count": 70,
   "id": "0dd59186",
   "metadata": {},
   "outputs": [],
   "source": [
    "dfcountfinalrefrigerator = dfcountfinalrefrigerator.filter(dfcountfinalrefrigerator.productcount <= 4)"
   ]
  },
  {
   "cell_type": "code",
   "execution_count": 71,
   "id": "3428531b",
   "metadata": {},
   "outputs": [],
   "source": [
    "dfcountfinalwashingmachine = dfcountfinal.filter(dfcountfinal.SEGMENT3 == \"WASHING MACHINE\")"
   ]
  },
  {
   "cell_type": "code",
   "execution_count": 72,
   "id": "ff93ee3d",
   "metadata": {},
   "outputs": [],
   "source": [
    "dfcountfinalwashingmachine = dfcountfinalwashingmachine.filter(dfcountfinalwashingmachine.productcount <= 3)"
   ]
  },
  {
   "cell_type": "code",
   "execution_count": 73,
   "id": "faee189e",
   "metadata": {},
   "outputs": [],
   "source": [
    "resultant = dfcountfinalaircon.union(dfcountfinalcomputer)"
   ]
  },
  {
   "cell_type": "code",
   "execution_count": 74,
   "id": "0e99605d",
   "metadata": {},
   "outputs": [],
   "source": [
    "resultant1 = resultant.union(dfcountfinalfreezer)"
   ]
  },
  {
   "cell_type": "code",
   "execution_count": 75,
   "id": "1ef2c068",
   "metadata": {},
   "outputs": [],
   "source": [
    "resultant2 = resultant1.union(dfcountfinaltelevision)"
   ]
  },
  {
   "cell_type": "code",
   "execution_count": 76,
   "id": "4af0c487",
   "metadata": {},
   "outputs": [],
   "source": [
    "resultant3 = resultant2.union(dfcountfinalmicrowaveoven)"
   ]
  },
  {
   "cell_type": "code",
   "execution_count": 77,
   "id": "9ef8083a",
   "metadata": {},
   "outputs": [],
   "source": [
    "resultant4 = resultant3.union(dfcountfinalrefrigerator)"
   ]
  },
  {
   "cell_type": "code",
   "execution_count": 78,
   "id": "276ba41a",
   "metadata": {},
   "outputs": [],
   "source": [
    "resultant5 = resultant4.union(dfcountfinalwashingmachine)"
   ]
  },
  {
   "cell_type": "code",
   "execution_count": 79,
   "id": "5d5cc4df",
   "metadata": {},
   "outputs": [],
   "source": [
    "resultant5 = resultant5.withColumnRenamed(\"CustomerPhoneNumber\",\"Number\")"
   ]
  },
  {
   "cell_type": "code",
   "execution_count": 80,
   "id": "2aa3059d",
   "metadata": {},
   "outputs": [],
   "source": [
    "dfselected = dfselected.withColumnRenamed(\"SEGMENT3\",\"Product\")"
   ]
  },
  {
   "cell_type": "code",
   "execution_count": 81,
   "id": "57148112",
   "metadata": {},
   "outputs": [
    {
     "name": "stderr",
     "output_type": "stream",
     "text": [
      "/usr/local/lib/python3.8/dist-packages/pyspark/sql/dataframe.py:138: FutureWarning: Deprecated in 2.0, use createOrReplaceTempView instead.\n",
      "  warnings.warn(\n",
      "22/02/18 16:44:20 WARN package: Truncated the string representation of a plan since it was too large. This behavior can be adjusted by setting 'spark.sql.debug.maxToStringFields'.\n"
     ]
    }
   ],
   "source": [
    "resultant5.registerTempTable(\"resultant5\")\n",
    "dfselected.registerTempTable(\"dfselected\")"
   ]
  },
  {
   "cell_type": "code",
   "execution_count": 82,
   "id": "c96e9a1a",
   "metadata": {},
   "outputs": [],
   "source": [
    "new = spark.sql(\"SELECT dfselected.CustomerPhoneNumber,resultant5.SEGMENT3,dfselected.date_of_registration,resultant5.productcount from resultant5 inner join dfselected on resultant5.Number = dfselected.CustomerPhoneNumber and resultant5.SEGMENT3 = dfselected.Product\")"
   ]
  },
  {
   "cell_type": "code",
   "execution_count": 83,
   "id": "414b2fd0",
   "metadata": {},
   "outputs": [],
   "source": [
    "df = new.select(\"CustomerPhoneNumber\")"
   ]
  },
  {
   "cell_type": "code",
   "execution_count": 84,
   "id": "deb68f87",
   "metadata": {},
   "outputs": [],
   "source": [
    "df = df.withColumn('lf5', substring('CustomerPhoneNumber', 7, 1))"
   ]
  },
  {
   "cell_type": "code",
   "execution_count": 85,
   "id": "64e14783",
   "metadata": {},
   "outputs": [],
   "source": [
    "from pyspark.sql import functions as funcs\n",
    " \n",
    "df = df.groupby('lf5').agg(funcs.expr('count(lf5)')\\\n",
    "                              .alias('Frequency'))"
   ]
  },
  {
   "cell_type": "code",
   "execution_count": 86,
   "id": "3740630d",
   "metadata": {},
   "outputs": [],
   "source": [
    "df = df.dropDuplicates()"
   ]
  },
  {
   "cell_type": "code",
   "execution_count": 87,
   "id": "822cc62b",
   "metadata": {},
   "outputs": [
    {
     "name": "stderr",
     "output_type": "stream",
     "text": [
      "22/02/18 16:44:47 ERROR CodeGenerator: failed to compile: org.codehaus.janino.InternalCompilerException: Compiling \"GeneratedClass\" in \"generated.java\": Code of method \"processNext()V\" of class \"org.apache.spark.sql.catalyst.expressions.GeneratedClass$GeneratedIteratorForCodegenStage16\" grows beyond 64 KB\n",
      "org.codehaus.janino.InternalCompilerException: Compiling \"GeneratedClass\" in \"generated.java\": Code of method \"processNext()V\" of class \"org.apache.spark.sql.catalyst.expressions.GeneratedClass$GeneratedIteratorForCodegenStage16\" grows beyond 64 KB\n",
      "\tat org.codehaus.janino.UnitCompiler.compile2(UnitCompiler.java:366)\n",
      "\tat org.codehaus.janino.UnitCompiler.access$000(UnitCompiler.java:226)\n",
      "\tat org.codehaus.janino.UnitCompiler$1.visitCompilationUnit(UnitCompiler.java:336)\n",
      "\tat org.codehaus.janino.UnitCompiler$1.visitCompilationUnit(UnitCompiler.java:333)\n",
      "\tat org.codehaus.janino.Java$CompilationUnit.accept(Java.java:363)\n",
      "\tat org.codehaus.janino.UnitCompiler.compileUnit(UnitCompiler.java:333)\n",
      "\tat org.codehaus.janino.SimpleCompiler.cook(SimpleCompiler.java:235)\n",
      "\tat org.codehaus.janino.SimpleCompiler.compileToClassLoader(SimpleCompiler.java:464)\n",
      "\tat org.codehaus.janino.ClassBodyEvaluator.compileToClass(ClassBodyEvaluator.java:314)\n",
      "\tat org.codehaus.janino.ClassBodyEvaluator.cook(ClassBodyEvaluator.java:237)\n",
      "\tat org.codehaus.janino.SimpleCompiler.cook(SimpleCompiler.java:205)\n",
      "\tat org.codehaus.commons.compiler.Cookable.cook(Cookable.java:80)\n",
      "\tat org.apache.spark.sql.catalyst.expressions.codegen.CodeGenerator$.org$apache$spark$sql$catalyst$expressions$codegen$CodeGenerator$$doCompile(CodeGenerator.scala:1404)\n",
      "\tat org.apache.spark.sql.catalyst.expressions.codegen.CodeGenerator$$anon$1.load(CodeGenerator.scala:1501)\n",
      "\tat org.apache.spark.sql.catalyst.expressions.codegen.CodeGenerator$$anon$1.load(CodeGenerator.scala:1498)\n",
      "\tat org.sparkproject.guava.cache.LocalCache$LoadingValueReference.loadFuture(LocalCache.java:3599)\n",
      "\tat org.sparkproject.guava.cache.LocalCache$Segment.loadSync(LocalCache.java:2379)\n",
      "\tat org.sparkproject.guava.cache.LocalCache$Segment.lockedGetOrLoad(LocalCache.java:2342)\n",
      "\tat org.sparkproject.guava.cache.LocalCache$Segment.get(LocalCache.java:2257)\n",
      "\tat org.sparkproject.guava.cache.LocalCache.get(LocalCache.java:4000)\n",
      "\tat org.sparkproject.guava.cache.LocalCache.getOrLoad(LocalCache.java:4004)\n",
      "\tat org.sparkproject.guava.cache.LocalCache$LocalLoadingCache.get(LocalCache.java:4874)\n",
      "\tat org.apache.spark.sql.catalyst.expressions.codegen.CodeGenerator$.compile(CodeGenerator.scala:1352)\n",
      "\tat org.apache.spark.sql.execution.WholeStageCodegenExec.liftedTree1$1(WholeStageCodegenExec.scala:721)\n",
      "\tat org.apache.spark.sql.execution.WholeStageCodegenExec.doExecute(WholeStageCodegenExec.scala:720)\n",
      "\tat org.apache.spark.sql.execution.SparkPlan.$anonfun$execute$1(SparkPlan.scala:180)\n",
      "\tat org.apache.spark.sql.execution.SparkPlan.$anonfun$executeQuery$1(SparkPlan.scala:218)\n",
      "\tat org.apache.spark.rdd.RDDOperationScope$.withScope(RDDOperationScope.scala:151)\n",
      "\tat org.apache.spark.sql.execution.SparkPlan.executeQuery(SparkPlan.scala:215)\n",
      "\tat org.apache.spark.sql.execution.SparkPlan.execute(SparkPlan.scala:176)\n",
      "\tat org.apache.spark.sql.execution.exchange.ShuffleExchangeExec.inputRDD$lzycompute(ShuffleExchangeExec.scala:118)\n",
      "\tat org.apache.spark.sql.execution.exchange.ShuffleExchangeExec.inputRDD(ShuffleExchangeExec.scala:118)\n",
      "\tat org.apache.spark.sql.execution.exchange.ShuffleExchangeExec.shuffleDependency$lzycompute(ShuffleExchangeExec.scala:151)\n",
      "\tat org.apache.spark.sql.execution.exchange.ShuffleExchangeExec.shuffleDependency(ShuffleExchangeExec.scala:149)\n",
      "\tat org.apache.spark.sql.execution.exchange.ShuffleExchangeExec.$anonfun$doExecute$1(ShuffleExchangeExec.scala:166)\n",
      "\tat org.apache.spark.sql.catalyst.errors.package$.attachTree(package.scala:52)\n",
      "\tat org.apache.spark.sql.execution.exchange.ShuffleExchangeExec.doExecute(ShuffleExchangeExec.scala:163)\n",
      "\tat org.apache.spark.sql.execution.SparkPlan.$anonfun$execute$1(SparkPlan.scala:180)\n",
      "\tat org.apache.spark.sql.execution.SparkPlan.$anonfun$executeQuery$1(SparkPlan.scala:218)\n",
      "\tat org.apache.spark.rdd.RDDOperationScope$.withScope(RDDOperationScope.scala:151)\n",
      "\tat org.apache.spark.sql.execution.SparkPlan.executeQuery(SparkPlan.scala:215)\n",
      "\tat org.apache.spark.sql.execution.SparkPlan.execute(SparkPlan.scala:176)\n",
      "\tat org.apache.spark.sql.execution.InputAdapter.inputRDD(WholeStageCodegenExec.scala:525)\n",
      "\tat org.apache.spark.sql.execution.InputRDDCodegen.inputRDDs(WholeStageCodegenExec.scala:453)\n",
      "\tat org.apache.spark.sql.execution.InputRDDCodegen.inputRDDs$(WholeStageCodegenExec.scala:452)\n",
      "\tat org.apache.spark.sql.execution.InputAdapter.inputRDDs(WholeStageCodegenExec.scala:496)\n",
      "\tat org.apache.spark.sql.execution.SortExec.inputRDDs(SortExec.scala:132)\n",
      "\tat org.apache.spark.sql.execution.WholeStageCodegenExec.doExecute(WholeStageCodegenExec.scala:746)\n",
      "\tat org.apache.spark.sql.execution.SparkPlan.$anonfun$execute$1(SparkPlan.scala:180)\n",
      "\tat org.apache.spark.sql.execution.SparkPlan.$anonfun$executeQuery$1(SparkPlan.scala:218)\n",
      "\tat org.apache.spark.rdd.RDDOperationScope$.withScope(RDDOperationScope.scala:151)\n",
      "\tat org.apache.spark.sql.execution.SparkPlan.executeQuery(SparkPlan.scala:215)\n",
      "\tat org.apache.spark.sql.execution.SparkPlan.execute(SparkPlan.scala:176)\n",
      "\tat org.apache.spark.sql.execution.InputAdapter.doExecute(WholeStageCodegenExec.scala:511)\n",
      "\tat org.apache.spark.sql.execution.SparkPlan.$anonfun$execute$1(SparkPlan.scala:180)\n",
      "\tat org.apache.spark.sql.execution.SparkPlan.$anonfun$executeQuery$1(SparkPlan.scala:218)\n",
      "\tat org.apache.spark.rdd.RDDOperationScope$.withScope(RDDOperationScope.scala:151)\n",
      "\tat org.apache.spark.sql.execution.SparkPlan.executeQuery(SparkPlan.scala:215)\n",
      "\tat org.apache.spark.sql.execution.SparkPlan.execute(SparkPlan.scala:176)\n",
      "\tat org.apache.spark.sql.execution.joins.SortMergeJoinExec.inputRDDs(SortMergeJoinExec.scala:378)\n",
      "\tat org.apache.spark.sql.execution.ProjectExec.inputRDDs(basicPhysicalOperators.scala:50)\n",
      "\tat org.apache.spark.sql.execution.aggregate.HashAggregateExec.inputRDDs(HashAggregateExec.scala:141)\n",
      "\tat org.apache.spark.sql.execution.WholeStageCodegenExec.doExecute(WholeStageCodegenExec.scala:746)\n",
      "\tat org.apache.spark.sql.execution.SparkPlan.$anonfun$execute$1(SparkPlan.scala:180)\n",
      "\tat org.apache.spark.sql.execution.SparkPlan.$anonfun$executeQuery$1(SparkPlan.scala:218)\n",
      "\tat org.apache.spark.rdd.RDDOperationScope$.withScope(RDDOperationScope.scala:151)\n",
      "\tat org.apache.spark.sql.execution.SparkPlan.executeQuery(SparkPlan.scala:215)\n",
      "\tat org.apache.spark.sql.execution.SparkPlan.execute(SparkPlan.scala:176)\n",
      "\tat org.apache.spark.sql.execution.exchange.ShuffleExchangeExec.inputRDD$lzycompute(ShuffleExchangeExec.scala:118)\n",
      "\tat org.apache.spark.sql.execution.exchange.ShuffleExchangeExec.inputRDD(ShuffleExchangeExec.scala:118)\n",
      "\tat org.apache.spark.sql.execution.exchange.ShuffleExchangeExec.shuffleDependency$lzycompute(ShuffleExchangeExec.scala:151)\n",
      "\tat org.apache.spark.sql.execution.exchange.ShuffleExchangeExec.shuffleDependency(ShuffleExchangeExec.scala:149)\n",
      "\tat org.apache.spark.sql.execution.exchange.ShuffleExchangeExec.$anonfun$doExecute$1(ShuffleExchangeExec.scala:166)\n",
      "\tat org.apache.spark.sql.catalyst.errors.package$.attachTree(package.scala:52)\n",
      "\tat org.apache.spark.sql.execution.exchange.ShuffleExchangeExec.doExecute(ShuffleExchangeExec.scala:163)\n",
      "\tat org.apache.spark.sql.execution.SparkPlan.$anonfun$execute$1(SparkPlan.scala:180)\n",
      "\tat org.apache.spark.sql.execution.SparkPlan.$anonfun$executeQuery$1(SparkPlan.scala:218)\n",
      "\tat org.apache.spark.rdd.RDDOperationScope$.withScope(RDDOperationScope.scala:151)\n",
      "\tat org.apache.spark.sql.execution.SparkPlan.executeQuery(SparkPlan.scala:215)\n",
      "\tat org.apache.spark.sql.execution.SparkPlan.execute(SparkPlan.scala:176)\n",
      "\tat org.apache.spark.sql.execution.InputAdapter.inputRDD(WholeStageCodegenExec.scala:525)\n",
      "\tat org.apache.spark.sql.execution.InputRDDCodegen.inputRDDs(WholeStageCodegenExec.scala:453)\n",
      "\tat org.apache.spark.sql.execution.InputRDDCodegen.inputRDDs$(WholeStageCodegenExec.scala:452)\n",
      "\tat org.apache.spark.sql.execution.InputAdapter.inputRDDs(WholeStageCodegenExec.scala:496)\n",
      "\tat org.apache.spark.sql.execution.aggregate.HashAggregateExec.inputRDDs(HashAggregateExec.scala:141)\n",
      "\tat org.apache.spark.sql.execution.aggregate.HashAggregateExec.inputRDDs(HashAggregateExec.scala:141)\n",
      "\tat org.apache.spark.sql.execution.aggregate.HashAggregateExec.inputRDDs(HashAggregateExec.scala:141)\n",
      "\tat org.apache.spark.sql.execution.WholeStageCodegenExec.doExecute(WholeStageCodegenExec.scala:746)\n",
      "\tat org.apache.spark.sql.execution.SparkPlan.$anonfun$execute$1(SparkPlan.scala:180)\n",
      "\tat org.apache.spark.sql.execution.SparkPlan.$anonfun$executeQuery$1(SparkPlan.scala:218)\n",
      "\tat org.apache.spark.rdd.RDDOperationScope$.withScope(RDDOperationScope.scala:151)\n",
      "\tat org.apache.spark.sql.execution.SparkPlan.executeQuery(SparkPlan.scala:215)\n",
      "\tat org.apache.spark.sql.execution.SparkPlan.execute(SparkPlan.scala:176)\n",
      "\tat org.apache.spark.sql.execution.SparkPlan.getByteArrayRdd(SparkPlan.scala:321)\n",
      "\tat org.apache.spark.sql.execution.SparkPlan.executeTake(SparkPlan.scala:439)\n",
      "\tat org.apache.spark.sql.execution.SparkPlan.executeTake(SparkPlan.scala:425)\n",
      "\tat org.apache.spark.sql.execution.CollectLimitExec.executeCollect(limit.scala:47)\n",
      "\tat org.apache.spark.sql.Dataset.collectFromPlan(Dataset.scala:3696)\n",
      "\tat org.apache.spark.sql.Dataset.$anonfun$head$1(Dataset.scala:2722)\n",
      "\tat org.apache.spark.sql.Dataset.$anonfun$withAction$1(Dataset.scala:3687)\n",
      "\tat org.apache.spark.sql.execution.SQLExecution$.$anonfun$withNewExecutionId$5(SQLExecution.scala:103)\n",
      "\tat org.apache.spark.sql.execution.SQLExecution$.withSQLConfPropagated(SQLExecution.scala:163)\n",
      "\tat org.apache.spark.sql.execution.SQLExecution$.$anonfun$withNewExecutionId$1(SQLExecution.scala:90)\n",
      "\tat org.apache.spark.sql.SparkSession.withActive(SparkSession.scala:775)\n",
      "\tat org.apache.spark.sql.execution.SQLExecution$.withNewExecutionId(SQLExecution.scala:64)\n",
      "\tat org.apache.spark.sql.Dataset.withAction(Dataset.scala:3685)\n",
      "\tat org.apache.spark.sql.Dataset.head(Dataset.scala:2722)\n",
      "\tat org.apache.spark.sql.Dataset.take(Dataset.scala:2929)\n",
      "\tat org.apache.spark.sql.Dataset.getRows(Dataset.scala:301)\n",
      "\tat org.apache.spark.sql.Dataset.showString(Dataset.scala:338)\n",
      "\tat java.base/jdk.internal.reflect.NativeMethodAccessorImpl.invoke0(Native Method)\n",
      "\tat java.base/jdk.internal.reflect.NativeMethodAccessorImpl.invoke(NativeMethodAccessorImpl.java:62)\n",
      "\tat java.base/jdk.internal.reflect.DelegatingMethodAccessorImpl.invoke(DelegatingMethodAccessorImpl.java:43)\n",
      "\tat java.base/java.lang.reflect.Method.invoke(Method.java:566)\n",
      "\tat py4j.reflection.MethodInvoker.invoke(MethodInvoker.java:244)\n",
      "\tat py4j.reflection.ReflectionEngine.invoke(ReflectionEngine.java:357)\n",
      "\tat py4j.Gateway.invoke(Gateway.java:282)\n",
      "\tat py4j.commands.AbstractCommand.invokeMethod(AbstractCommand.java:132)\n",
      "\tat py4j.commands.CallCommand.execute(CallCommand.java:79)\n",
      "\tat py4j.GatewayConnection.run(GatewayConnection.java:238)\n",
      "\tat java.base/java.lang.Thread.run(Thread.java:829)\n",
      "Caused by: org.codehaus.janino.InternalCompilerException: Code of method \"processNext()V\" of class \"org.apache.spark.sql.catalyst.expressions.GeneratedClass$GeneratedIteratorForCodegenStage16\" grows beyond 64 KB\n",
      "\tat org.codehaus.janino.CodeContext.makeSpace(CodeContext.java:1051)\n",
      "\tat org.codehaus.janino.CodeContext.write(CodeContext.java:932)\n",
      "\tat org.codehaus.janino.UnitCompiler.writeOpcode(UnitCompiler.java:12101)\n",
      "\tat org.codehaus.janino.UnitCompiler.compileGet2(UnitCompiler.java:4898)\n",
      "\tat org.codehaus.janino.UnitCompiler.access$7600(UnitCompiler.java:226)\n",
      "\tat org.codehaus.janino.UnitCompiler$16$1.visitArrayAccessExpression(UnitCompiler.java:4463)\n",
      "\tat org.codehaus.janino.UnitCompiler$16$1.visitArrayAccessExpression(UnitCompiler.java:4459)\n",
      "\tat org.codehaus.janino.Java$ArrayAccessExpression.accept(Java.java:4818)\n",
      "\tat org.codehaus.janino.UnitCompiler$16.visitLvalue(UnitCompiler.java:4459)\n",
      "\tat org.codehaus.janino.UnitCompiler$16.visitLvalue(UnitCompiler.java:4455)\n",
      "\tat org.codehaus.janino.Java$Lvalue.accept(Java.java:4353)\n",
      "\tat org.codehaus.janino.UnitCompiler.compileGet(UnitCompiler.java:4455)\n",
      "\tat org.codehaus.janino.UnitCompiler.compileGetValue(UnitCompiler.java:5683)\n",
      "\tat org.codehaus.janino.UnitCompiler.compileGet2(UnitCompiler.java:5014)\n",
      "\tat org.codehaus.janino.UnitCompiler.access$8600(UnitCompiler.java:226)\n",
      "\tat org.codehaus.janino.UnitCompiler$16.visitCast(UnitCompiler.java:4477)\n",
      "\tat org.codehaus.janino.UnitCompiler$16.visitCast(UnitCompiler.java:4455)\n",
      "\tat org.codehaus.janino.Java$Cast.accept(Java.java:5111)\n",
      "\tat org.codehaus.janino.UnitCompiler.compileGet(UnitCompiler.java:4455)\n",
      "\tat org.codehaus.janino.UnitCompiler.compileGet2(UnitCompiler.java:5050)\n",
      "\tat org.codehaus.janino.UnitCompiler.access$8100(UnitCompiler.java:226)\n",
      "\tat org.codehaus.janino.UnitCompiler$16$1.visitParenthesizedExpression(UnitCompiler.java:4468)\n",
      "\tat org.codehaus.janino.UnitCompiler$16$1.visitParenthesizedExpression(UnitCompiler.java:4459)\n",
      "\tat org.codehaus.janino.Java$ParenthesizedExpression.accept(Java.java:5137)\n",
      "\tat org.codehaus.janino.UnitCompiler$16.visitLvalue(UnitCompiler.java:4459)\n",
      "\tat org.codehaus.janino.UnitCompiler$16.visitLvalue(UnitCompiler.java:4455)\n",
      "\tat org.codehaus.janino.Java$Lvalue.accept(Java.java:4353)\n",
      "\tat org.codehaus.janino.UnitCompiler.compileGet(UnitCompiler.java:4455)\n",
      "\tat org.codehaus.janino.UnitCompiler.compileGetValue(UnitCompiler.java:5683)\n",
      "\tat org.codehaus.janino.UnitCompiler.compile2(UnitCompiler.java:3839)\n",
      "\tat org.codehaus.janino.UnitCompiler.access$6100(UnitCompiler.java:226)\n",
      "\tat org.codehaus.janino.UnitCompiler$13.visitAssignment(UnitCompiler.java:3799)\n",
      "\tat org.codehaus.janino.UnitCompiler$13.visitAssignment(UnitCompiler.java:3779)\n",
      "\tat org.codehaus.janino.Java$Assignment.accept(Java.java:4690)\n",
      "\tat org.codehaus.janino.UnitCompiler.compile(UnitCompiler.java:3779)\n",
      "\tat org.codehaus.janino.UnitCompiler.compile2(UnitCompiler.java:2366)\n",
      "\tat org.codehaus.janino.UnitCompiler.access$1800(UnitCompiler.java:226)\n",
      "\tat org.codehaus.janino.UnitCompiler$6.visitExpressionStatement(UnitCompiler.java:1497)\n",
      "\tat org.codehaus.janino.UnitCompiler$6.visitExpressionStatement(UnitCompiler.java:1490)\n",
      "\tat org.codehaus.janino.Java$ExpressionStatement.accept(Java.java:3064)\n",
      "\tat org.codehaus.janino.UnitCompiler.compile(UnitCompiler.java:1490)\n",
      "\tat org.codehaus.janino.UnitCompiler.compileStatements(UnitCompiler.java:1573)\n",
      "\tat org.codehaus.janino.UnitCompiler.compile2(UnitCompiler.java:1559)\n",
      "\tat org.codehaus.janino.UnitCompiler.access$1700(UnitCompiler.java:226)\n",
      "\tat org.codehaus.janino.UnitCompiler$6.visitBlock(UnitCompiler.java:1496)\n",
      "\tat org.codehaus.janino.UnitCompiler$6.visitBlock(UnitCompiler.java:1490)\n",
      "\tat org.codehaus.janino.Java$Block.accept(Java.java:2969)\n",
      "\tat org.codehaus.janino.UnitCompiler.compile(UnitCompiler.java:1490)\n",
      "\tat org.codehaus.janino.UnitCompiler.compile2(UnitCompiler.java:2475)\n",
      "\tat org.codehaus.janino.UnitCompiler.access$1900(UnitCompiler.java:226)\n",
      "\tat org.codehaus.janino.UnitCompiler$6.visitIfStatement(UnitCompiler.java:1498)\n",
      "\tat org.codehaus.janino.UnitCompiler$6.visitIfStatement(UnitCompiler.java:1490)\n",
      "\tat org.codehaus.janino.Java$IfStatement.accept(Java.java:3140)\n",
      "\tat org.codehaus.janino.UnitCompiler.compile(UnitCompiler.java:1490)\n",
      "\tat org.codehaus.janino.UnitCompiler.compileStatements(UnitCompiler.java:1573)\n",
      "\tat org.codehaus.janino.UnitCompiler.compile2(UnitCompiler.java:1559)\n",
      "\tat org.codehaus.janino.UnitCompiler.access$1700(UnitCompiler.java:226)\n",
      "\tat org.codehaus.janino.UnitCompiler$6.visitBlock(UnitCompiler.java:1496)\n",
      "\tat org.codehaus.janino.UnitCompiler$6.visitBlock(UnitCompiler.java:1490)\n",
      "\tat org.codehaus.janino.Java$Block.accept(Java.java:2969)\n",
      "\tat org.codehaus.janino.UnitCompiler.compile(UnitCompiler.java:1490)\n",
      "\tat org.codehaus.janino.UnitCompiler.compile2(UnitCompiler.java:2496)\n",
      "\tat org.codehaus.janino.UnitCompiler.access$1900(UnitCompiler.java:226)\n",
      "\tat org.codehaus.janino.UnitCompiler$6.visitIfStatement(UnitCompiler.java:1498)\n",
      "\tat org.codehaus.janino.UnitCompiler$6.visitIfStatement(UnitCompiler.java:1490)\n",
      "\tat org.codehaus.janino.Java$IfStatement.accept(Java.java:3140)\n",
      "\tat org.codehaus.janino.UnitCompiler.compile(UnitCompiler.java:1490)\n",
      "\tat org.codehaus.janino.UnitCompiler.compileStatements(UnitCompiler.java:1573)\n",
      "\tat org.codehaus.janino.UnitCompiler.compile2(UnitCompiler.java:1559)\n",
      "\tat org.codehaus.janino.UnitCompiler.access$1700(UnitCompiler.java:226)\n",
      "\tat org.codehaus.janino.UnitCompiler$6.visitBlock(UnitCompiler.java:1496)\n",
      "\tat org.codehaus.janino.UnitCompiler$6.visitBlock(UnitCompiler.java:1490)\n",
      "\tat org.codehaus.janino.Java$Block.accept(Java.java:2969)\n",
      "\tat org.codehaus.janino.UnitCompiler.compile(UnitCompiler.java:1490)\n",
      "\tat org.codehaus.janino.UnitCompiler.compile2(UnitCompiler.java:2496)\n",
      "\tat org.codehaus.janino.UnitCompiler.access$1900(UnitCompiler.java:226)\n",
      "\tat org.codehaus.janino.UnitCompiler$6.visitIfStatement(UnitCompiler.java:1498)\n",
      "\tat org.codehaus.janino.UnitCompiler$6.visitIfStatement(UnitCompiler.java:1490)\n",
      "\tat org.codehaus.janino.Java$IfStatement.accept(Java.java:3140)\n",
      "\tat org.codehaus.janino.UnitCompiler.compile(UnitCompiler.java:1490)\n",
      "\tat org.codehaus.janino.UnitCompiler.compileStatements(UnitCompiler.java:1573)\n",
      "\tat org.codehaus.janino.UnitCompiler.compile2(UnitCompiler.java:1559)\n",
      "\tat org.codehaus.janino.UnitCompiler.access$1700(UnitCompiler.java:226)\n",
      "\tat org.codehaus.janino.UnitCompiler$6.visitBlock(UnitCompiler.java:1496)\n",
      "\tat org.codehaus.janino.UnitCompiler$6.visitBlock(UnitCompiler.java:1490)\n",
      "\tat org.codehaus.janino.Java$Block.accept(Java.java:2969)\n",
      "\tat org.codehaus.janino.UnitCompiler.compile(UnitCompiler.java:1490)\n",
      "\tat org.codehaus.janino.UnitCompiler.compile2(UnitCompiler.java:1598)\n",
      "\tat org.codehaus.janino.UnitCompiler.access$2600(UnitCompiler.java:226)\n",
      "\tat org.codehaus.janino.UnitCompiler$6.visitDoStatement(UnitCompiler.java:1505)\n",
      "\tat org.codehaus.janino.UnitCompiler$6.visitDoStatement(UnitCompiler.java:1490)\n",
      "\tat org.codehaus.janino.Java$DoStatement.accept(Java.java:3664)\n",
      "\tat org.codehaus.janino.UnitCompiler.compile(UnitCompiler.java:1490)\n",
      "\tat org.codehaus.janino.UnitCompiler.compileStatements(UnitCompiler.java:1573)\n",
      "\tat org.codehaus.janino.UnitCompiler.compile2(UnitCompiler.java:1559)\n",
      "\tat org.codehaus.janino.UnitCompiler.access$1700(UnitCompiler.java:226)\n",
      "\tat org.codehaus.janino.UnitCompiler$6.visitBlock(UnitCompiler.java:1496)\n",
      "\tat org.codehaus.janino.UnitCompiler$6.visitBlock(UnitCompiler.java:1490)\n",
      "\tat org.codehaus.janino.Java$Block.accept(Java.java:2969)\n",
      "\tat org.codehaus.janino.UnitCompiler.compile(UnitCompiler.java:1490)\n",
      "\tat org.codehaus.janino.UnitCompiler.compile2(UnitCompiler.java:1848)\n",
      "\tat org.codehaus.janino.UnitCompiler.access$2200(UnitCompiler.java:226)\n",
      "\tat org.codehaus.janino.UnitCompiler$6.visitWhileStatement(UnitCompiler.java:1501)\n",
      "\tat org.codehaus.janino.UnitCompiler$6.visitWhileStatement(UnitCompiler.java:1490)\n",
      "\tat org.codehaus.janino.Java$WhileStatement.accept(Java.java:3245)\n",
      "\tat org.codehaus.janino.UnitCompiler.compile(UnitCompiler.java:1490)\n",
      "\tat org.codehaus.janino.UnitCompiler.compileStatements(UnitCompiler.java:1573)\n",
      "\tat org.codehaus.janino.UnitCompiler.compile(UnitCompiler.java:3420)\n",
      "\tat org.codehaus.janino.UnitCompiler.compileDeclaredMethods(UnitCompiler.java:1362)\n",
      "\tat org.codehaus.janino.UnitCompiler.compileDeclaredMethods(UnitCompiler.java:1335)\n",
      "\tat org.codehaus.janino.UnitCompiler.compile2(UnitCompiler.java:807)\n",
      "\tat org.codehaus.janino.UnitCompiler.compile2(UnitCompiler.java:975)\n",
      "\tat org.codehaus.janino.UnitCompiler.access$700(UnitCompiler.java:226)\n",
      "\tat org.codehaus.janino.UnitCompiler$2.visitMemberClassDeclaration(UnitCompiler.java:392)\n",
      "\tat org.codehaus.janino.UnitCompiler$2.visitMemberClassDeclaration(UnitCompiler.java:384)\n",
      "\tat org.codehaus.janino.Java$MemberClassDeclaration.accept(Java.java:1445)\n",
      "\tat org.codehaus.janino.UnitCompiler.compile(UnitCompiler.java:384)\n",
      "\tat org.codehaus.janino.UnitCompiler.compileDeclaredMemberTypes(UnitCompiler.java:1312)\n",
      "\tat org.codehaus.janino.UnitCompiler.compile2(UnitCompiler.java:833)\n",
      "\tat org.codehaus.janino.UnitCompiler.compile2(UnitCompiler.java:410)\n",
      "\tat org.codehaus.janino.UnitCompiler.access$400(UnitCompiler.java:226)\n",
      "\tat org.codehaus.janino.UnitCompiler$2.visitPackageMemberClassDeclaration(UnitCompiler.java:389)\n",
      "\tat org.codehaus.janino.UnitCompiler$2.visitPackageMemberClassDeclaration(UnitCompiler.java:384)\n",
      "\tat org.codehaus.janino.Java$PackageMemberClassDeclaration.accept(Java.java:1594)\n",
      "\tat org.codehaus.janino.UnitCompiler.compile(UnitCompiler.java:384)\n",
      "\tat org.codehaus.janino.UnitCompiler.compile2(UnitCompiler.java:362)\n",
      "\t... 120 more\n",
      "22/02/18 16:44:47 WARN WholeStageCodegenExec: Whole-stage codegen disabled for plan (id=16):\n",
      " *(16) Project [regexp_replace(regexp_replace(regexp_replace(regexp_replace(regexp_replace(regexp_replace(regexp_replace(regexp_replace(regexp_replace(regexp_replace(CUSTOMER_PHONE_NO#399, ^[±]*, , 1), [^\\w\\s], , 1), \\W, , 1), ^[8]*, , 1), [A-Za-z], , 1), ^[+]*, , 1), |, , 1), /, , 1), /[^\\x00-\\x7F]+/, , 1), /\\s/g, , 1) AS CustomerPhoneNumber#1097, CASE WHEN (CASE WHEN (CASE WHEN (CASE WHEN (CASE WHEN ((((SEGMENT3#201 = LAPTOP) OR (SEGMENT3#201 = DESKTOP PC)) OR (SEGMENT3#201 = SERVER)) OR (SEGMENT3#201 = ALL IN ONE)) THEN COMPUTER ELSE SEGMENT3#201 END = 3D TELEVISION) THEN LED SMART TELEVISION ELSE CASE WHEN ((((SEGMENT3#201 = LAPTOP) OR (SEGMENT3#201 = DESKTOP PC)) OR (SEGMENT3#201 = SERVER)) OR (SEGMENT3#201 = ALL IN ONE)) THEN COMPUTER ELSE SEGMENT3#201 END END = LCD TELEVISION) THEN LED TELEVISION ELSE CASE WHEN (CASE WHEN ((((SEGMENT3#201 = LAPTOP) OR (SEGMENT3#201 = DESKTOP PC)) OR (SEGMENT3#201 = SERVER)) OR (SEGMENT3#201 = ALL IN ONE)) THEN COMPUTER ELSE SEGMENT3#201 END = 3D TELEVISION) THEN LED SMART TELEVISION ELSE CASE WHEN ((((SEGMENT3#201 = LAPTOP) OR (SEGMENT3#201 = DESKTOP PC)) OR (SEGMENT3#201 = SERVER)) OR (SEGMENT3#201 = ALL IN ONE)) THEN COMPUTER ELSE SEGMENT3#201 END END END = BEVERAGE COOLER) THEN REFRIGERATOR ELSE CASE WHEN (CASE WHEN (CASE WHEN ((((SEGMENT3#201 = LAPTOP) OR (SEGMENT3#201 = DESKTOP PC)) OR (SEGMENT3#201 = SERVER)) OR (SEGMENT3#201 = ALL IN ONE)) THEN COMPUTER ELSE SEGMENT3#201 END = 3D TELEVISION) THEN LED SMART TELEVISION ELSE CASE WHEN ((((SEGMENT3#201 = LAPTOP) OR (SEGMENT3#201 = DESKTOP PC)) OR (SEGMENT3#201 = SERVER)) OR (SEGMENT3#201 = ALL IN ONE)) THEN COMPUTER ELSE SEGMENT3#201 END END = LCD TELEVISION) THEN LED TELEVISION ELSE CASE WHEN (CASE WHEN ((((SEGMENT3#201 = LAPTOP) OR (SEGMENT3#201 = DESKTOP PC)) OR (SEGMENT3#201 = SERVER)) OR (SEGMENT3#201 = ALL IN ONE)) THEN COMPUTER ELSE SEGMENT3#201 END = 3D TELEVISION) THEN LED SMART TELEVISION ELSE CASE WHEN ((((SEGMENT3#201 = LAPTOP) OR (SEGMENT3#201 = DESKTOP PC)) OR (SEGMENT3#201 = SERVER)) OR (SEGMENT3#201 = ALL IN ONE)) THEN COMPUTER ELSE SEGMENT3#201 END END END END = AIRCONDITIONER-INDOOR) THEN AIRCONDITIONER ELSE CASE WHEN (CASE WHEN (CASE WHEN (CASE WHEN ((((SEGMENT3#201 = LAPTOP) OR (SEGMENT3#201 = DESKTOP PC)) OR (SEGMENT3#201 = SERVER)) OR (SEGMENT3#201 = ALL IN ONE)) THEN COMPUTER ELSE SEGMENT3#201 END = 3D TELEVISION) THEN LED SMART TELEVISION ELSE CASE WHEN ((((SEGMENT3#201 = LAPTOP) OR (SEGMENT3#201 = DESKTOP PC)) OR (SEGMENT3#201 = SERVER)) OR (SEGMENT3#201 = ALL IN ONE)) THEN COMPUTER ELSE SEGMENT3#201 END END = LCD TELEVISION) THEN LED TELEVISION ELSE CASE WHEN (CASE WHEN ((((SEGMENT3#201 = LAPTOP) OR (SEGMENT3#201 = DESKTOP PC)) OR (SEGMENT3#201 = SERVER)) OR (SEGMENT3#201 = ALL IN ONE)) THEN COMPUTER ELSE SEGMENT3#201 END = 3D TELEVISION) THEN LED SMART TELEVISION ELSE CASE WHEN ((((SEGMENT3#201 = LAPTOP) OR (SEGMENT3#201 = DESKTOP PC)) OR (SEGMENT3#201 = SERVER)) OR (SEGMENT3#201 = ALL IN ONE)) THEN COMPUTER ELSE SEGMENT3#201 END END END = BEVERAGE COOLER) THEN REFRIGERATOR ELSE CASE WHEN (CASE WHEN (CASE WHEN ((((SEGMENT3#201 = LAPTOP) OR (SEGMENT3#201 = DESKTOP PC)) OR (SEGMENT3#201 = SERVER)) OR (SEGMENT3#201 = ALL IN ONE)) THEN COMPUTER ELSE SEGMENT3#201 END = 3D TELEVISION) THEN LED SMART TELEVISION ELSE CASE WHEN ((((SEGMENT3#201 = LAPTOP) OR (SEGMENT3#201 = DESKTOP PC)) OR (SEGMENT3#201 = SERVER)) OR (SEGMENT3#201 = ALL IN ONE)) THEN COMPUTER ELSE SEGMENT3#201 END END = LCD TELEVISION) THEN LED TELEVISION ELSE CASE WHEN (CASE WHEN ((((SEGMENT3#201 = LAPTOP) OR (SEGMENT3#201 = DESKTOP PC)) OR (SEGMENT3#201 = SERVER)) OR (SEGMENT3#201 = ALL IN ONE)) THEN COMPUTER ELSE SEGMENT3#201 END = 3D TELEVISION) THEN LED SMART TELEVISION ELSE CASE WHEN ((((SEGMENT3#201 = LAPTOP) OR (SEGMENT3#201 = DESKTOP PC)) OR (SEGMENT3#201 = SERVER)) OR (SEGMENT3#201 = ALL IN ONE)) THEN COMPUTER ELSE SEGMENT3#201 END END END END END AS Product#1401]\n",
      "+- *(16) Filter (((((((((((((isnotnull(CUSTOMER_PHONE_NO#399) AND NOT (CUSTOMER_PHONE_NO#399 = 0)) AND AtLeastNNulls(n, regexp_replace(regexp_replace(regexp_replace(regexp_replace(CUSTOMER_PHONE_NO#399, ^[±]*, , 1), [^\\w\\s], , 1), \\W, , 1), ^[8]*, , 1))) AND NOT (regexp_replace(regexp_replace(regexp_replace(regexp_replace(regexp_replace(CUSTOMER_PHONE_NO#399, ^[±]*, , 1), [^\\w\\s], , 1), \\W, , 1), ^[8]*, , 1), [A-Za-z], , 1) = )) AND NOT (regexp_replace(regexp_replace(regexp_replace(regexp_replace(regexp_replace(regexp_replace(regexp_replace(regexp_replace(regexp_replace(CUSTOMER_PHONE_NO#399, ^[±]*, , 1), [^\\w\\s], , 1), \\W, , 1), ^[8]*, , 1), [A-Za-z], , 1), ^[+]*, , 1), |, , 1), /, , 1), /[^\\x00-\\x7F]+/, , 1) = )) AND (length(regexp_replace(regexp_replace(regexp_replace(regexp_replace(regexp_replace(regexp_replace(regexp_replace(regexp_replace(regexp_replace(regexp_replace(CUSTOMER_PHONE_NO#399, ^[±]*, , 1), [^\\w\\s], , 1), \\W, , 1), ^[8]*, , 1), [A-Za-z], , 1), ^[+]*, , 1), |, , 1), /, , 1), /[^\\x00-\\x7F]+/, , 1), /\\s/g, , 1)) = 11)) AND StartsWith(regexp_replace(regexp_replace(regexp_replace(regexp_replace(regexp_replace(regexp_replace(regexp_replace(regexp_replace(regexp_replace(regexp_replace(CUSTOMER_PHONE_NO#399, ^[±]*, , 1), [^\\w\\s], , 1), \\W, , 1), ^[8]*, , 1), [A-Za-z], , 1), ^[+]*, , 1), |, , 1), /, , 1), /[^\\x00-\\x7F]+/, , 1), /\\s/g, , 1), 01)) AND NOT StartsWith(regexp_replace(regexp_replace(regexp_replace(regexp_replace(regexp_replace(regexp_replace(regexp_replace(regexp_replace(regexp_replace(regexp_replace(CUSTOMER_PHONE_NO#399, ^[±]*, , 1), [^\\w\\s], , 1), \\W, , 1), ^[8]*, , 1), [A-Za-z], , 1), ^[+]*, , 1), |, , 1), /, , 1), /[^\\x00-\\x7F]+/, , 1), /\\s/g, , 1), 010)) AND NOT StartsWith(regexp_replace(regexp_replace(regexp_replace(regexp_replace(regexp_replace(regexp_replace(regexp_replace(regexp_replace(regexp_replace(regexp_replace(CUSTOMER_PHONE_NO#399, ^[±]*, , 1), [^\\w\\s], , 1), \\W, , 1), ^[8]*, , 1), [A-Za-z], , 1), ^[+]*, , 1), |, , 1), /, , 1), /[^\\x00-\\x7F]+/, , 1), /\\s/g, , 1), 011)) AND NOT StartsWith(regexp_replace(regexp_replace(regexp_replace(regexp_replace(regexp_replace(regexp_replace(regexp_replace(regexp_replace(regexp_replace(regexp_replace(CUSTOMER_PHONE_NO#399, ^[±]*, , 1), [^\\w\\s], , 1), \\W, , 1), ^[8]*, , 1), [A-Za-z], , 1), ^[+]*, , 1), |, , 1), /, , 1), /[^\\x00-\\x7F]+/, , 1), /\\s/g, , 1), 012)) AND NOT (substring(regexp_replace(regexp_replace(regexp_replace(regexp_replace(regexp_replace(regexp_replace(regexp_replace(regexp_replace(regexp_replace(regexp_replace(CUSTOMER_PHONE_NO#399, ^[±]*, , 1), [^\\w\\s], , 1), \\W, , 1), ^[8]*, , 1), [A-Za-z], , 1), ^[+]*, , 1), |, , 1), /, , 1), /[^\\x00-\\x7F]+/, , 1), /\\s/g, , 1), 4, 11) = 00000000)) AND NOT (substring(substring(regexp_replace(regexp_replace(regexp_replace(regexp_replace(regexp_replace(regexp_replace(regexp_replace(regexp_replace(regexp_replace(regexp_replace(CUSTOMER_PHONE_NO#399, ^[±]*, , 1), [^\\w\\s], , 1), \\W, , 1), ^[8]*, , 1), [A-Za-z], , 1), ^[+]*, , 1), |, , 1), /, , 1), /[^\\x00-\\x7F]+/, , 1), /\\s/g, , 1), 4, 11), 1, 7) = 0000000)) AND (((((isnotnull(CASE WHEN (CASE WHEN (CASE WHEN (CASE WHEN (CASE WHEN ((((SEGMENT3#201 = LAPTOP) OR (SEGMENT3#201 = DESKTOP PC)) OR (SEGMENT3#201 = SERVER)) OR (SEGMENT3#201 = ALL IN ONE)) THEN COMPUTER ELSE SEGMENT3#201 END = 3D TELEVISION) THEN LED SMART TELEVISION ELSE CASE WHEN ((((SEGMENT3#201 = LAPTOP) OR (SEGMENT3#201 = DESKTOP PC)) OR (SEGMENT3#201 = SERVER)) OR (SEGMENT3#201 = ALL IN ONE)) THEN COMPUTER ELSE SEGMENT3#201 END END = LCD TELEVISION) THEN LED TELEVISION ELSE CASE WHEN (CASE WHEN ((((SEGMENT3#201 = LAPTOP) OR (SEGMENT3#201 = DESKTOP PC)) OR (SEGMENT3#201 = SERVER)) OR (SEGMENT3#201 = ALL IN ONE)) THEN COMPUTER ELSE SEGMENT3#201 END = 3D TELEVISION) THEN LED SMART TELEVISION ELSE CASE WHEN ((((SEGMENT3#201 = LAPTOP) OR (SEGMENT3#201 = DESKTOP PC)) OR (SEGMENT3#201 = SERVER)) OR (SEGMENT3#201 = ALL IN ONE)) THEN COMPUTER ELSE SEGMENT3#201 END END END = BEVERAGE COOLER) THEN REFRIGERATOR ELSE CASE WHEN (CASE WHEN (CASE WHEN ((((SEGMENT3#201 = LAPTOP) OR (SEGMENT3#201 = DESKTOP PC)) OR (SEGMENT3#201 = SERVER)) OR (SEGMENT3#201 = ALL IN ONE)) THEN COMPUTER ELSE SEGMENT3#201 END = 3D TELEVISION) THEN LED SMART TELEVISION ELSE CASE WHEN ((((SEGMENT3#201 = LAPTOP) OR (SEGMENT3#201 = DESKTOP PC)) OR (SEGMENT3#201 = SERVER)) OR (SEGMENT3#201 = ALL IN ONE)) THEN COMPUTER ELSE SEGMENT3#201 END END = LCD TELEVISION) THEN LED TELEVISION ELSE CASE WHEN (CASE WHEN ((((SEGMENT3#201 = LAPTOP) OR (SEGMENT3#201 = DESKTOP PC)) OR (SEGMENT3#201 = SERVER)) OR (SEGMENT3#201 = ALL IN ONE)) THEN COMPUTER ELSE SEGMENT3#201 END = 3D TELEVISION) THEN LED SMART TELEVISION ELSE CASE WHEN ((((SEGMENT3#201 = LAPTOP) OR (SEGMENT3#201 = DESKTOP PC)) OR (SEGMENT3#201 = SERVER)) OR (SEGMENT3#201 = ALL IN ONE)) THEN COMPUTER ELSE SEGMENT3#201 END END END END = AIRCONDITIONER-INDOOR) THEN AIRCONDITIONER ELSE CASE WHEN (CASE WHEN (CASE WHEN (CASE WHEN ((((SEGMENT3#201 = LAPTOP) OR (SEGMENT3#201 = DESKTOP PC)) OR (SEGMENT3#201 = SERVER)) OR (SEGMENT3#201 = ALL IN ONE)) THEN COMPUTER ELSE SEGMENT3#201 END = 3D TELEVISION) THEN LED SMART TELEVISION ELSE CASE WHEN ((((SEGMENT3#201 = LAPTOP) OR (SEGMENT3#201 = DESKTOP PC)) OR (SEGMENT3#201 = SERVER)) OR (SEGMENT3#201 = ALL IN ONE)) THEN COMPUTER ELSE SEGMENT3#201 END END = LCD TELEVISION) THEN LED TELEVISION ELSE CASE WHEN (CASE WHEN ((((SEGMENT3#201 = LAPTOP) OR (SEGMENT3#201 = DESKTOP PC)) OR (SEGMENT3#201 = SERVER)) OR (SEGMENT3#201 = ALL IN ONE)) THEN COMPUTER ELSE SEGMENT3#201 END = 3D TELEVISION) THEN LED SMART TELEVISION ELSE CASE WHEN ((((SEGMENT3#201 = LAPTOP) OR (SEGMENT3#201 = DESKTOP PC)) OR (SEGMENT3#201 = SERVER)) OR (SEGMENT3#201 = ALL IN ONE)) THEN COMPUTER ELSE SEGMENT3#201 END END END = BEVERAGE COOLER) THEN REFRIGERATOR ELSE CASE WHEN (CASE WHEN (CASE WHEN ((((SEGMENT3#201 = LAPTOP) OR (SEGMENT3#201 = DESKTOP PC)) OR (SEGMENT3#201 = SERVER)) OR (SEGMENT3#201 = ALL IN ONE)) THEN COMPUTER ELSE SEGMENT3#201 END = 3D TELEVISION) THEN LED SMART TELEVISION ELSE CASE WHEN ((((SEGMENT3#201 = LAPTOP) OR (SEGMENT3#201 = DESKTOP PC)) OR (SEGMENT3#201 = SERVER)) OR (SEGMENT3#201 = ALL IN ONE)) THEN COMPUTER ELSE SEGMENT3#201 END END = LCD TELEVISION) THEN LED TELEVISION ELSE CASE WHEN (CASE WHEN ((((SEGMENT3#201 = LAPTOP) OR (SEGMENT3#201 = DESKTOP PC)) OR (SEGMENT3#201 = SERVER)) OR (SEGMENT3#201 = ALL IN ONE)) THEN COMPUTER ELSE SEGMENT3#201 END = 3D TELEVISION) THEN LED SMART TELEVISION ELSE CASE WHEN ((((SEGMENT3#201 = LAPTOP) OR (SEGMENT3#201 = DESKTOP PC)) OR (SEGMENT3#201 = SERVER)) OR (SEGMENT3#201 = ALL IN ONE)) THEN COMPUTER ELSE SEGMENT3#201 END END END END END) AND (((CASE WHEN (CASE WHEN (CASE WHEN (CASE WHEN (CASE WHEN ((((SEGMENT3#201 = LAPTOP) OR (SEGMENT3#201 = DESKTOP PC)) OR (SEGMENT3#201 = SERVER)) OR (SEGMENT3#201 = ALL IN ONE)) THEN COMPUTER ELSE SEGMENT3#201 END = 3D TELEVISION) THEN LED SMART TELEVISION ELSE CASE WHEN ((((SEGMENT3#201 = LAPTOP) OR (SEGMENT3#201 = DESKTOP PC)) OR (SEGMENT3#201 = SERVER)) OR (SEGMENT3#201 = ALL IN ONE)) THEN COMPUTER ELSE SEGMENT3#201 END END = LCD TELEVISION) THEN LED TELEVISION ELSE CASE WHEN (CASE WHEN ((((SEGMENT3#201 = LAPTOP) OR (SEGMENT3#201 = DESKTOP PC)) OR (SEGMENT3#201 = SERVER)) OR (SEGMENT3#201 = ALL IN ONE)) THEN COMPUTER ELSE SEGMENT3#201 END = 3D TELEVISION) THEN LED SMART TELEVISION ELSE CASE WHEN ((((SEGMENT3#201 = LAPTOP) OR (SEGMENT3#201 = DESKTOP PC)) OR (SEGMENT3#201 = SERVER)) OR (SEGMENT3#201 = ALL IN ONE)) THEN COMPUTER ELSE SEGMENT3#201 END END END = BEVERAGE COOLER) THEN REFRIGERATOR ELSE CASE WHEN (CASE WHEN (CASE WHEN ((((SEGMENT3#201 = LAPTOP) OR (SEGMENT3#201 = DESKTOP PC)) OR (SEGMENT3#201 = SERVER)) OR (SEGMENT3#201 = ALL IN ONE)) THEN COMPUTER ELSE SEGMENT3#201 END = 3D TELEVISION) THEN LED SMART TELEVISION ELSE CASE WHEN ((((SEGMENT3#201 = LAPTOP) OR (SEGMENT3#201 = DESKTOP PC)) OR (SEGMENT3#201 = SERVER)) OR (SEGMENT3#201 = ALL IN ONE)) THEN COMPUTER ELSE SEGMENT3#201 END END = LCD TELEVISION) THEN LED TELEVISION ELSE CASE WHEN (CASE WHEN ((((SEGMENT3#201 = LAPTOP) OR (SEGMENT3#201 = DESKTOP PC)) OR (SEGMENT3#201 = SERVER)) OR (SEGMENT3#201 = ALL IN ONE)) THEN COMPUTER ELSE SEGMENT3#201 END = 3D TELEVISION) THEN LED SMART TELEVISION ELSE CASE WHEN ((((SEGMENT3#201 = LAPTOP) OR (SEGMENT3#201 = DESKTOP PC)) OR (SEGMENT3#201 = SERVER)) OR (SEGMENT3#201 = ALL IN ONE)) THEN COMPUTER ELSE SEGMENT3#201 END END END END = AIRCONDITIONER-INDOOR) THEN AIRCONDITIONER ELSE CASE WHEN (CASE WHEN (CASE WHEN (CASE WHEN ((((SEGMENT3#201 = LAPTOP) OR (SEGMENT3#201 = DESKTOP PC)) OR (SEGMENT3#201 = SERVER)) OR (SEGMENT3#201 = ALL IN ONE)) THEN COMPUTER ELSE SEGMENT3#201 END = 3D TELEVISION) THEN LED SMART TELEVISION ELSE CASE WHEN ((((SEGMENT3#201 = LAPTOP) OR (SEGMENT3#201 = DESKTOP PC)) OR (SEGMENT3#201 = SERVER)) OR (SEGMENT3#201 = ALL IN ONE)) THEN COMPUTER ELSE SEGMENT3#201 END END = LCD TELEVISION) THEN LED TELEVISION ELSE CASE WHEN (CASE WHEN ((((SEGMENT3#201 = LAPTOP) OR (SEGMENT3#201 = DESKTOP PC)) OR (SEGMENT3#201 = SERVER)) OR (SEGMENT3#201 = ALL IN ONE)) THEN COMPUTER ELSE SEGMENT3#201 END = 3D TELEVISION) THEN LED SMART TELEVISION ELSE CASE WHEN ((((SEGMENT3#201 = LAPTOP) OR (SEGMENT3#201 = DESKTOP PC)) OR (SEGMENT3#201 = SERVER)) OR (SEGMENT3#201 = ALL IN ONE)) THEN COMPUTER ELSE SEGMENT3#201 END END END = BEVERAGE COOLER) THEN REFRIGERATOR ELSE CASE WHEN (CASE WHEN (CASE WHEN ((((SEGMENT3#201 = LAPTOP) OR (SEGMENT3#201 = DESKTOP PC)) OR (SEGMENT3#201 = SERVER)) OR (SEGMENT3#201 = ALL IN ONE)) THEN COMPUTER ELSE SEGMENT3#201 END = 3D TELEVISION) THEN LED SMART TELEVISION ELSE CASE WHEN ((((SEGMENT3#201 = LAPTOP) OR (SEGMENT3#201 = DESKTOP PC)) OR (SEGMENT3#201 = SERVER)) OR (SEGMENT3#201 = ALL IN ONE)) THEN COMPUTER ELSE SEGMENT3#201 END END = LCD TELEVISION) THEN LED TELEVISION ELSE CASE WHEN (CASE WHEN ((((SEGMENT3#201 = LAPTOP) OR (SEGMENT3#201 = DESKTOP PC)) OR (SEGMENT3#201 = SERVER)) OR (SEGMENT3#201 = ALL IN ONE)) THEN COMPUTER ELSE SEGMENT3#201 END = 3D TELEVISION) THEN LED SMART TELEVISION ELSE CASE WHEN ((((SEGMENT3#201 = LAPTOP) OR (SEGMENT3#201 = DESKTOP PC)) OR (SEGMENT3#201 = SERVER)) OR (SEGMENT3#201 = ALL IN ONE)) THEN COMPUTER ELSE SEGMENT3#201 END END END END END = AIRCONDITIONER) OR (CASE WHEN (CASE WHEN (CASE WHEN (CASE WHEN (CASE WHEN ((((SEGMENT3#201 = LAPTOP) OR (SEGMENT3#201 = DESKTOP PC)) OR (SEGMENT3#201 = SERVER)) OR (SEGMENT3#201 = ALL IN ONE)) THEN COMPUTER ELSE SEGMENT3#201 END = 3D TELEVISION) THEN LED SMART TELEVISION ELSE CASE WHEN ((((SEGMENT3#201 = LAPTOP) OR (SEGMENT3#201 = DESKTOP PC)) OR (SEGMENT3#201 = SERVER)) OR (SEGMENT3#201 = ALL IN ONE)) THEN COMPUTER ELSE SEGMENT3#201 END END = LCD TELEVISION) THEN LED TELEVISION ELSE CASE WHEN (CASE WHEN ((((SEGMENT3#201 = LAPTOP) OR (SEGMENT3#201 = DESKTOP PC)) OR (SEGMENT3#201 = SERVER)) OR (SEGMENT3#201 = ALL IN ONE)) THEN COMPUTER ELSE SEGMENT3#201 END = 3D TELEVISION) THEN LED SMART TELEVISION ELSE CASE WHEN ((((SEGMENT3#201 = LAPTOP) OR (SEGMENT3#201 = DESKTOP PC)) OR (SEGMENT3#201 = SERVER)) OR (SEGMENT3#201 = ALL IN ONE)) THEN COMPUTER ELSE SEGMENT3#201 END END END = BEVERAGE COOLER) THEN REFRIGERATOR ELSE CASE WHEN (CASE WHEN (CASE WHEN ((((SEGMENT3#201 = LAPTOP) OR (SEGMENT3#201 = DESKTOP PC)) OR (SEGMENT3#201 = SERVER)) OR (SEGMENT3#201 = ALL IN ONE)) THEN COMPUTER ELSE SEGMENT3#201 END = 3D TELEVISION) THEN LED SMART TELEVISION ELSE CASE WHEN ((((SEGMENT3#201 = LAPTOP) OR (SEGMENT3#201 = DESKTOP PC)) OR (SEGMENT3#201 = SERVER)) OR (SEGMENT3#201 = ALL IN ONE)) THEN COMPUTER ELSE SEGMENT3#201 END END = LCD TELEVISION) THEN LED TELEVISION ELSE CASE WHEN (CASE WHEN ((((SEGMENT3#201 = LAPTOP) OR (SEGMENT3#201 = DESKTOP PC)) OR (SEGMENT3#201 = SERVER)) OR (SEGMENT3#201 = ALL IN ONE)) THEN COMPUTER ELSE SEGMENT3#201 END = 3D TELEVISION) THEN LED SMART TELEVISION ELSE CASE WHEN ((((SEGMENT3#201 = LAPTOP) OR (SEGMENT3#201 = DESKTOP PC)) OR (SEGMENT3#201 = SERVER)) OR (SEGMENT3#201 = ALL IN ONE)) THEN COMPUTER ELSE SEGMENT3#201 END END END END = AIRCONDITIONER-INDOOR) THEN AIRCONDITIONER ELSE CASE WHEN (CASE WHEN (CASE WHEN (CASE WHEN ((((SEGMENT3#201 = LAPTOP) OR (SEGMENT3#201 = DESKTOP PC)) OR (SEGMENT3#201 = SERVER)) OR (SEGMENT3#201 = ALL IN ONE)) THEN COMPUTER ELSE SEGMENT3#201 END = 3D TELEVISION) THEN LED SMART TELEVISION ELSE CASE WHEN ((((SEGMENT3#201 = LAPTOP) OR (SEGMENT3#201 = DESKTOP PC)) OR (SEGMENT3#201 = SERVER)) OR (SEGMENT3#201 = ALL IN ONE)) THEN COMPUTER ELSE SEGMENT3#201 END END = LCD TELEVISION) THEN LED TELEVISION ELSE CASE WHEN (CASE WHEN ((((SEGMENT3#201 = LAPTOP) OR (SEGMENT3#201 = DESKTOP PC)) OR (SEGMENT3#201 = SERVER)) OR (SEGMENT3#201 = ALL IN ONE)) THEN COMPUTER ELSE SEGMENT3#201 END = 3D TELEVISION) THEN LED SMART TELEVISION ELSE CASE WHEN ((((SEGMENT3#201 = LAPTOP) OR (SEGMENT3#201 = DESKTOP PC)) OR (SEGMENT3#201 = SERVER)) OR (SEGMENT3#201 = ALL IN ONE)) THEN COMPUTER ELSE SEGMENT3#201 END END END = BEVERAGE COOLER) THEN REFRIGERATOR ELSE CASE WHEN (CASE WHEN (CASE WHEN ((((SEGMENT3#201 = LAPTOP) OR (SEGMENT3#201 = DESKTOP PC)) OR (SEGMENT3#201 = SERVER)) OR (SEGMENT3#201 = ALL IN ONE)) THEN COMPUTER ELSE SEGMENT3#201 END = 3D TELEVISION) THEN LED SMART TELEVISION ELSE CASE WHEN ((((SEGMENT3#201 = LAPTOP) OR (SEGMENT3#201 = DESKTOP PC)) OR (SEGMENT3#201 = SERVER)) OR (SEGMENT3#201 = ALL IN ONE)) THEN COMPUTER ELSE SEGMENT3#201 END END = LCD TELEVISION) THEN LED TELEVISION ELSE CASE WHEN (CASE WHEN ((((SEGMENT3#201 = LAPTOP) OR (SEGMENT3#201 = DESKTOP PC)) OR (SEGMENT3#201 = SERVER)) OR (SEGMENT3#201 = ALL IN ONE)) THEN COMPUTER ELSE SEGMENT3#201 END = 3D TELEVISION) THEN LED SMART TELEVISION ELSE CASE WHEN ((((SEGMENT3#201 = LAPTOP) OR (SEGMENT3#201 = DESKTOP PC)) OR (SEGMENT3#201 = SERVER)) OR (SEGMENT3#201 = ALL IN ONE)) THEN COMPUTER ELSE SEGMENT3#201 END END END END END = COMPUTER)) OR (CASE WHEN (CASE WHEN (CASE WHEN (CASE WHEN (CASE WHEN ((((SEGMENT3#201 = LAPTOP) OR (SEGMENT3#201 = DESKTOP PC)) OR (SEGMENT3#201 = SERVER)) OR (SEGMENT3#201 = ALL IN ONE)) THEN COMPUTER ELSE SEGMENT3#201 END = 3D TELEVISION) THEN LED SMART TELEVISION ELSE CASE WHEN ((((SEGMENT3#201 = LAPTOP) OR (SEGMENT3#201 = DESKTOP PC)) OR (SEGMENT3#201 = SERVER)) OR (SEGMENT3#201 = ALL IN ONE)) THEN COMPUTER ELSE SEGMENT3#201 END END = LCD TELEVISION) THEN LED TELEVISION ELSE CASE WHEN (CASE WHEN ((((SEGMENT3#201 = LAPTOP) OR (SEGMENT3#201 = DESKTOP PC)) OR (SEGMENT3#201 = SERVER)) OR (SEGMENT3#201 = ALL IN ONE)) THEN COMPUTER ELSE SEGMENT3#201 END = 3D TELEVISION) THEN LED SMART TELEVISION ELSE CASE WHEN ((((SEGMENT3#201 = LAPTOP) OR (SEGMENT3#201 = DESKTOP PC)) OR (SEGMENT3#201 = SERVER)) OR (SEGMENT3#201 = ALL IN ONE)) THEN COMPUTER ELSE SEGMENT3#201 END END END = BEVERAGE COOLER) THEN REFRIGERATOR ELSE CASE WHEN (CASE WHEN (CASE WHEN ((((SEGMENT3#201 = LAPTOP) OR (SEGMENT3#201 = DESKTOP PC)) OR (SEGMENT3#201 = SERVER)) OR (SEGMENT3#201 = ALL IN ONE)) THEN COMPUTER ELSE SEGMENT3#201 END = 3D TELEVISION) THEN LED SMART TELEVISION ELSE CASE WHEN ((((SEGMENT3#201 = LAPTOP) OR (SEGMENT3#201 = DESKTOP PC)) OR (SEGMENT3#201 = SERVER)) OR (SEGMENT3#201 = ALL IN ONE)) THEN COMPUTER ELSE SEGMENT3#201 END END = LCD TELEVISION) THEN LED TELEVISION ELSE CASE WHEN (CASE WHEN ((((SEGMENT3#201 = LAPTOP) OR (SEGMENT3#201 = DESKTOP PC)) OR (SEGMENT3#201 = SERVER)) OR (SEGMENT3#201 = ALL IN ONE)) THEN COMPUTER ELSE SEGMENT3#201 END = 3D TELEVISION) THEN LED SMART TELEVISION ELSE CASE WHEN ((((SEGMENT3#201 = LAPTOP) OR (SEGMENT3#201 = DESKTOP PC)) OR (SEGMENT3#201 = SERVER)) OR (SEGMENT3#201 = ALL IN ONE)) THEN COMPUTER ELSE SEGMENT3#201 END END END END = AIRCONDITIONER-INDOOR) THEN AIRCONDITIONER ELSE CASE WHEN (CASE WHEN (CASE WHEN (CASE WHEN ((((SEGMENT3#201 = LAPTOP) OR (SEGMENT3#201 = DESKTOP PC)) OR (SEGMENT3#201 = SERVER)) OR (SEGMENT3#201 = ALL IN ONE)) THEN COMPUTER ELSE SEGMENT3#201 END = 3D TELEVISION) THEN LED SMART TELEVISION ELSE CASE WHEN ((((SEGMENT3#201 = LAPTOP) OR (SEGMENT3#201 = DESKTOP PC)) OR (SEGMENT3#201 = SERVER)) OR (SEGMENT3#201 = ALL IN ONE)) THEN COMPUTER ELSE SEGMENT3#201 END END = LCD TELEVISION) THEN LED TELEVISION ELSE CASE WHEN (CASE WHEN ((((SEGMENT3#201 = LAPTOP) OR (SEGMENT3#201 = DESKTOP PC)) OR (SEGMENT3#201 = SERVER)) OR (SEGMENT3#201 = ALL IN ONE)) THEN COMPUTER ELSE SEGMENT3#201 END = 3D TELEVISION) THEN LED SMART TELEVISION ELSE CASE WHEN ((((SEGMENT3#201 = LAPTOP) OR (SEGMENT3#201 = DESKTOP PC)) OR (SEGMENT3#201 = SERVER)) OR (SEGMENT3#201 = ALL IN ONE)) THEN COMPUTER ELSE SEGMENT3#201 END END END = BEVERAGE COOLER) THEN REFRIGERATOR ELSE CASE WHEN (CASE WHEN (CASE WHEN ((((SEGMENT3#201 = LAPTOP) OR (SEGMENT3#201 = DESKTOP PC)) OR (SEGMENT3#201 = SERVER)) OR (SEGMENT3#201 = ALL IN ONE)) THEN COMPUTER ELSE SEGMENT3#201 END = 3D TELEVISION) THEN LED SMART TELEVISION ELSE CASE WHEN ((((SEGMENT3#201 = LAPTOP) OR (SEGMENT3#201 = DESKTOP PC)) OR (SEGMENT3#201 = SERVER)) OR (SEGMENT3#201 = ALL IN ONE)) THEN COMPUTER ELSE SEGMENT3#201 END END = LCD TELEVISION) THEN LED TELEVISION ELSE CASE WHEN (CASE WHEN ((((SEGMENT3#201 = LAPTOP) OR (SEGMENT3#201 = DESKTOP PC)) OR (SEGMENT3#201 = SERVER)) OR (SEGMENT3#201 = ALL IN ONE)) THEN COMPUTER ELSE SEGMENT3#201 END = 3D TELEVISION) THEN LED SMART TELEVISION ELSE CASE WHEN ((((SEGMENT3#201 = LAPTOP) OR (SEGMENT3#201 = DESKTOP PC)) OR (SEGMENT3#201 = SERVER)) OR (SEGMENT3#201 = ALL IN ONE)) THEN COMPUTER ELSE SEGMENT3#201 END END END END END = FREEZER))) OR ((CASE WHEN (CASE WHEN (CASE WHEN (CASE WHEN (CASE WHEN ((((SEGMENT3#201 = LAPTOP) OR (SEGMENT3#201 = DESKTOP PC)) OR (SEGMENT3#201 = SERVER)) OR (SEGMENT3#201 = ALL IN ONE)) THEN COMPUTER ELSE SEGMENT3#201 END = 3D TELEVISION) THEN LED SMART TELEVISION ELSE CASE WHEN ((((SEGMENT3#201 = LAPTOP) OR (SEGMENT3#201 = DESKTOP PC)) OR (SEGMENT3#201 = SERVER)) OR (SEGMENT3#201 = ALL IN ONE)) THEN COMPUTER ELSE SEGMENT3#201 END END = LCD TELEVISION) THEN LED TELEVISION ELSE CASE WHEN (CASE WHEN ((((SEGMENT3#201 = LAPTOP) OR (SEGMENT3#201 = DESKTOP PC)) OR (SEGMENT3#201 = SERVER)) OR (SEGMENT3#201 = ALL IN ONE)) THEN COMPUTER ELSE SEGMENT3#201 END = 3D TELEVISION) THEN LED SMART TELEVISION ELSE CASE WHEN ((((SEGMENT3#201 = LAPTOP) OR (SEGMENT3#201 = DESKTOP PC)) OR (SEGMENT3#201 = SERVER)) OR (SEGMENT3#201 = ALL IN ONE)) THEN COMPUTER ELSE SEGMENT3#201 END END END = BEVERAGE COOLER) THEN REFRIGERATOR ELSE CASE WHEN (CASE WHEN (CASE WHEN ((((SEGMENT3#201 = LAPTOP) OR (SEGMENT3#201 = DESKTOP PC)) OR (SEGMENT3#201 = SERVER)) OR (SEGMENT3#201 = ALL IN ONE)) THEN COMPUTER ELSE SEGMENT3#201 END = 3D TELEVISION) THEN LED SMART TELEVISION ELSE CASE WHEN ((((SEGMENT3#201 = LAPTOP) OR (SEGMENT3#201 = DESKTOP PC)) OR (SEGMENT3#201 = SERVER)) OR (SEGMENT3#201 = ALL IN ONE)) THEN COMPUTER ELSE SEGMENT3#201 END END = LCD TELEVISION) THEN LED TELEVISION ELSE CASE WHEN (CASE WHEN ((((SEGMENT3#201 = LAPTOP) OR (SEGMENT3#201 = DESKTOP PC)) OR (SEGMENT3#201 = SERVER)) OR (SEGMENT3#201 = ALL IN ONE)) THEN COMPUTER ELSE SEGMENT3#201 END = 3D TELEVISION) THEN LED SMART TELEVISION ELSE CASE WHEN ((((SEGMENT3#201 = LAPTOP) OR (SEGMENT3#201 = DESKTOP PC)) OR (SEGMENT3#201 = SERVER)) OR (SEGMENT3#201 = ALL IN ONE)) THEN COMPUTER ELSE SEGMENT3#201 END END END END = AIRCONDITIONER-INDOOR) THEN AIRCONDITIONER ELSE CASE WHEN (CASE WHEN (CASE WHEN (CASE WHEN ((((SEGMENT3#201 = LAPTOP) OR (SEGMENT3#201 = DESKTOP PC)) OR (SEGMENT3#201 = SERVER)) OR (SEGMENT3#201 = ALL IN ONE)) THEN COMPUTER ELSE SEGMENT3#201 END = 3D TELEVISION) THEN LED SMART TELEVISION ELSE CASE WHEN ((((SEGMENT3#201 = LAPTOP) OR (SEGMENT3#201 = DESKTOP PC)) OR (SEGMENT3#201 = SERVER)) OR (SEGMENT3#201 = ALL IN ONE)) THEN COMPUTER ELSE SEGMENT3#201 END END = LCD TELEVISION) THEN LED TELEVISION ELSE CASE WHEN (CASE WHEN ((((SEGMENT3#201 = LAPTOP) OR (SEGMENT3#201 = DESKTOP PC)) OR (SEGMENT3#201 = SERVER)) OR (SEGMENT3#201 = ALL IN ONE)) THEN COMPUTER ELSE SEGMENT3#201 END = 3D TELEVISION) THEN LED SMART TELEVISION ELSE CASE WHEN ((((SEGMENT3#201 = LAPTOP) OR (SEGMENT3#201 = DESKTOP PC)) OR (SEGMENT3#201 = SERVER)) OR (SEGMENT3#201 = ALL IN ONE)) THEN COMPUTER ELSE SEGMENT3#201 END END END = BEVERAGE COOLER) THEN REFRIGERATOR ELSE CASE WHEN (CASE WHEN (CASE WHEN ((((SEGMENT3#201 = LAPTOP) OR (SEGMENT3#201 = DESKTOP PC)) OR (SEGMENT3#201 = SERVER)) OR (SEGMENT3#201 = ALL IN ONE)) THEN COMPUTER ELSE SEGMENT3#201 END = 3D TELEVISION) THEN LED SMART TELEVISION ELSE CASE WHEN ((((SEGMENT3#201 = LAPTOP) OR (SEGMENT3#201 = DESKTOP PC)) OR (SEGMENT3#201 = SERVER)) OR (SEGMENT3#201 = ALL IN ONE)) THEN COMPUTER ELSE SEGMENT3#201 END END = LCD TELEVISION) THEN LED TELEVISION ELSE CASE WHEN (CASE WHEN ((((SEGMENT3#201 = LAPTOP) OR (SEGMENT3#201 = DESKTOP PC)) OR (SEGMENT3#201 = SERVER)) OR (SEGMENT3#201 = ALL IN ONE)) THEN COMPUTER ELSE SEGMENT3#201 END = 3D TELEVISION) THEN LED SMART TELEVISION ELSE CASE WHEN ((((SEGMENT3#201 = LAPTOP) OR (SEGMENT3#201 = DESKTOP PC)) OR (SEGMENT3#201 = SERVER)) OR (SEGMENT3#201 = ALL IN ONE)) THEN COMPUTER ELSE SEGMENT3#201 END END END END END = LED TELEVISION) OR (CASE WHEN (CASE WHEN (CASE WHEN (CASE WHEN (CASE WHEN ((((SEGMENT3#201 = LAPTOP) OR (SEGMENT3#201 = DESKTOP PC)) OR (SEGMENT3#201 = SERVER)) OR (SEGMENT3#201 = ALL IN ONE)) THEN COMPUTER ELSE SEGMENT3#201 END = 3D TELEVISION) THEN LED SMART TELEVISION ELSE CASE WHEN ((((SEGMENT3#201 = LAPTOP) OR (SEGMENT3#201 = DESKTOP PC)) OR (SEGMENT3#201 = SERVER)) OR (SEGMENT3#201 = ALL IN ONE)) THEN COMPUTER ELSE SEGMENT3#201 END END = LCD TELEVISION) THEN LED TELEVISION ELSE CASE WHEN (CASE WHEN ((((SEGMENT3#201 = LAPTOP) OR (SEGMENT3#201 = DESKTOP PC)) OR (SEGMENT3#201 = SERVER)) OR (SEGMENT3#201 = ALL IN ONE)) THEN COMPUTER ELSE SEGMENT3#201 END = 3D TELEVISION) THEN LED SMART TELEVISION ELSE CASE WHEN ((((SEGMENT3#201 = LAPTOP) OR (SEGMENT3#201 = DESKTOP PC)) OR (SEGMENT3#201 = SERVER)) OR (SEGMENT3#201 = ALL IN ONE)) THEN COMPUTER ELSE SEGMENT3#201 END END END = BEVERAGE COOLER) THEN REFRIGERATOR ELSE CASE WHEN (CASE WHEN (CASE WHEN ((((SEGMENT3#201 = LAPTOP) OR (SEGMENT3#201 = DESKTOP PC)) OR (SEGMENT3#201 = SERVER)) OR (SEGMENT3#201 = ALL IN ONE)) THEN COMPUTER ELSE SEGMENT3#201 END = 3D TELEVISION) THEN LED SMART TELEVISION ELSE CASE WHEN ((((SEGMENT3#201 = LAPTOP) OR (SEGMENT3#201 = DESKTOP PC)) OR (SEGMENT3#201 = SERVER)) OR (SEGMENT3#201 = ALL IN ONE)) THEN COMPUTER ELSE SEGMENT3#201 END END = LCD TELEVISION) THEN LED TELEVISION ELSE CASE WHEN (CASE WHEN ((((SEGMENT3#201 = LAPTOP) OR (SEGMENT3#201 = DESKTOP PC)) OR (SEGMENT3#201 = SERVER)) OR (SEGMENT3#201 = ALL IN ONE)) THEN COMPUTER ELSE SEGMENT3#201 END = 3D TELEVISION) THEN LED SMART TELEVISION ELSE CASE WHEN ((((SEGMENT3#201 = LAPTOP) OR (SEGMENT3#201 = DESKTOP PC)) OR (SEGMENT3#201 = SERVER)) OR (SEGMENT3#201 = ALL IN ONE)) THEN COMPUTER ELSE SEGMENT3#201 END END END END = AIRCONDITIONER-INDOOR) THEN AIRCONDITIONER ELSE CASE WHEN (CASE WHEN (CASE WHEN (CASE WHEN ((((SEGMENT3#201 = LAPTOP) OR (SEGMENT3#201 = DESKTOP PC)) OR (SEGMENT3#201 = SERVER)) OR (SEGMENT3#201 = ALL IN ONE)) THEN COMPUTER ELSE SEGMENT3#201 END = 3D TELEVISION) THEN LED SMART TELEVISION ELSE CASE WHEN ((((SEGMENT3#201 = LAPTOP) OR (SEGMENT3#201 = DESKTOP PC)) OR (SEGMENT3#201 = SERVER)) OR (SEGMENT3#201 = ALL IN ONE)) THEN COMPUTER ELSE SEGMENT3#201 END END = LCD TELEVISION) THEN LED TELEVISION ELSE CASE WHEN (CASE WHEN ((((SEGMENT3#201 = LAPTOP) OR (SEGMENT3#201 = DESKTOP PC)) OR (SEGMENT3#201 = SERVER)) OR (SEGMENT3#201 = ALL IN ONE)) THEN COMPUTER ELSE SEGMENT3#201 END = 3D TELEVISION) THEN LED SMART TELEVISION ELSE CASE WHEN ((((SEGMENT3#201 = LAPTOP) OR (SEGMENT3#201 = DESKTOP PC)) OR (SEGMENT3#201 = SERVER)) OR (SEGMENT3#201 = ALL IN ONE)) THEN COMPUTER ELSE SEGMENT3#201 END END END = BEVERAGE COOLER) THEN REFRIGERATOR ELSE CASE WHEN (CASE WHEN (CASE WHEN ((((SEGMENT3#201 = LAPTOP) OR (SEGMENT3#201 = DESKTOP PC)) OR (SEGMENT3#201 = SERVER)) OR (SEGMENT3#201 = ALL IN ONE)) THEN COMPUTER ELSE SEGMENT3#201 END = 3D TELEVISION) THEN LED SMART TELEVISION ELSE CASE WHEN ((((SEGMENT3#201 = LAPTOP) OR (SEGMENT3#201 = DESKTOP PC)) OR (SEGMENT3#201 = SERVER)) OR (SEGMENT3#201 = ALL IN ONE)) THEN COMPUTER ELSE SEGMENT3#201 END END = LCD TELEVISION) THEN LED TELEVISION ELSE CASE WHEN (CASE WHEN ((((SEGMENT3#201 = LAPTOP) OR (SEGMENT3#201 = DESKTOP PC)) OR (SEGMENT3#201 = SERVER)) OR (SEGMENT3#201 = ALL IN ONE)) THEN COMPUTER ELSE SEGMENT3#201 END = 3D TELEVISION) THEN LED SMART TELEVISION ELSE CASE WHEN ((((SEGMENT3#201 = LAPTOP) OR (SEGMENT3#201 = DESKTOP PC)) OR (SEGMENT3#201 = SERVER)) OR (SEGMENT3#201 = ALL IN ONE)) THEN COMPUTER ELSE SEGMENT3#201 END END END END END = LED SMART TELEVISION))) OR ((CASE WHEN (CASE WHEN (CASE WHEN (CASE WHEN (CASE WHEN ((((SEGMENT3#201 = LAPTOP) OR (SEGMENT3#201 = DESKTOP PC)) OR (SEGMENT3#201 = SERVER)) OR (SEGMENT3#201 = ALL IN ONE)) THEN COMPUTER ELSE SEGMENT3#201 END = 3D TELEVISION) THEN LED SMART TELEVISION ELSE CASE WHEN ((((SEGMENT3#201 = LAPTOP) OR (SEGMENT3#201 = DESKTOP PC)) OR (SEGMENT3#201 = SERVER)) OR (SEGMENT3#201 = ALL IN ONE)) THEN COMPUTER ELSE SEGMENT3#201 END END = LCD TELEVISION) THEN LED TELEVISION ELSE CASE WHEN (CASE WHEN ((((SEGMENT3#201 = LAPTOP) OR (SEGMENT3#201 = DESKTOP PC)) OR (SEGMENT3#201 = SERVER)) OR (SEGMENT3#201 = ALL IN ONE)) THEN COMPUTER ELSE SEGMENT3#201 END = 3D TELEVISION) THEN LED SMART TELEVISION ELSE CASE WHEN ((((SEGMENT3#201 = LAPTOP) OR (SEGMENT3#201 = DESKTOP PC)) OR (SEGMENT3#201 = SERVER)) OR (SEGMENT3#201 = ALL IN ONE)) THEN COMPUTER ELSE SEGMENT3#201 END END END = BEVERAGE COOLER) THEN REFRIGERATOR ELSE CASE WHEN (CASE WHEN (CASE WHEN ((((SEGMENT3#201 = LAPTOP) OR (SEGMENT3#201 = DESKTOP PC)) OR (SEGMENT3#201 = SERVER)) OR (SEGMENT3#201 = ALL IN ONE)) THEN COMPUTER ELSE SEGMENT3#201 END = 3D TELEVISION) THEN LED SMART TELEVISION ELSE CASE WHEN ((((SEGMENT3#201 = LAPTOP) OR (SEGMENT3#201 = DESKTOP PC)) OR (SEGMENT3#201 = SERVER)) OR (SEGMENT3#201 = ALL IN ONE)) THEN COMPUTER ELSE SEGMENT3#201 END END = LCD TELEVISION) THEN LED TELEVISION ELSE CASE WHEN (CASE WHEN ((((SEGMENT3#201 = LAPTOP) OR (SEGMENT3#201 = DESKTOP PC)) OR (SEGMENT3#201 = SERVER)) OR (SEGMENT3#201 = ALL IN ONE)) THEN COMPUTER ELSE SEGMENT3#201 END = 3D TELEVISION) THEN LED SMART TELEVISION ELSE CASE WHEN ((((SEGMENT3#201 = LAPTOP) OR (SEGMENT3#201 = DESKTOP PC)) OR (SEGMENT3#201 = SERVER)) OR (SEGMENT3#201 = ALL IN ONE)) THEN COMPUTER ELSE SEGMENT3#201 END END END END = AIRCONDITIONER-INDOOR) THEN AIRCONDITIONER ELSE CASE WHEN (CASE WHEN (CASE WHEN (CASE WHEN ((((SEGMENT3#201 = LAPTOP) OR (SEGMENT3#201 = DESKTOP PC)) OR (SEGMENT3#201 = SERVER)) OR (SEGMENT3#201 = ALL IN ONE)) THEN COMPUTER ELSE SEGMENT3#201 END = 3D TELEVISION) THEN LED SMART TELEVISION ELSE CASE WHEN ((((SEGMENT3#201 = LAPTOP) OR (SEGMENT3#201 = DESKTOP PC)) OR (SEGMENT3#201 = SERVER)) OR (SEGMENT3#201 = ALL IN ONE)) THEN COMPUTER ELSE SEGMENT3#201 END END = LCD TELEVISION) THEN LED TELEVISION ELSE CASE WHEN (CASE WHEN ((((SEGMENT3#201 = LAPTOP) OR (SEGMENT3#201 = DESKTOP PC)) OR (SEGMENT3#201 = SERVER)) OR (SEGMENT3#201 = ALL IN ONE)) THEN COMPUTER ELSE SEGMENT3#201 END = 3D TELEVISION) THEN LED SMART TELEVISION ELSE CASE WHEN ((((SEGMENT3#201 = LAPTOP) OR (SEGMENT3#201 = DESKTOP PC)) OR (SEGMENT3#201 = SERVER)) OR (SEGMENT3#201 = ALL IN ONE)) THEN COMPUTER ELSE SEGMENT3#201 END END END = BEVERAGE COOLER) THEN REFRIGERATOR ELSE CASE WHEN (CASE WHEN (CASE WHEN ((((SEGMENT3#201 = LAPTOP) OR (SEGMENT3#201 = DESKTOP PC)) OR (SEGMENT3#201 = SERVER)) OR (SEGMENT3#201 = ALL IN ONE)) THEN COMPUTER ELSE SEGMENT3#201 END = 3D TELEVISION) THEN LED SMART TELEVISION ELSE CASE WHEN ((((SEGMENT3#201 = LAPTOP) OR (SEGMENT3#201 = DESKTOP PC)) OR (SEGMENT3#201 = SERVER)) OR (SEGMENT3#201 = ALL IN ONE)) THEN COMPUTER ELSE SEGMENT3#201 END END = LCD TELEVISION) THEN LED TELEVISION ELSE CASE WHEN (CASE WHEN ((((SEGMENT3#201 = LAPTOP) OR (SEGMENT3#201 = DESKTOP PC)) OR (SEGMENT3#201 = SERVER)) OR (SEGMENT3#201 = ALL IN ONE)) THEN COMPUTER ELSE SEGMENT3#201 END = 3D TELEVISION) THEN LED SMART TELEVISION ELSE CASE WHEN ((((SEGMENT3#201 = LAPTOP) OR (SEGMENT3#201 = DESKTOP PC)) OR (SEGMENT3#201 = SERVER)) OR (SEGMENT3#201 = ALL IN ONE)) THEN COMPUTER ELSE SEGMENT3#201 END END END END END = MICROWAVE OVEN) AND isnotnull(CASE WHEN (CASE WHEN (CASE WHEN (CASE WHEN (CASE WHEN ((((SEGMENT3#201 = LAPTOP) OR (SEGMENT3#201 = DESKTOP PC)) OR (SEGMENT3#201 = SERVER)) OR (SEGMENT3#201 = ALL IN ONE)) THEN COMPUTER ELSE SEGMENT3#201 END = 3D TELEVISION) THEN LED SMART TELEVISION ELSE CASE WHEN ((((SEGMENT3#201 = LAPTOP) OR (SEGMENT3#201 = DESKTOP PC)) OR (SEGMENT3#201 = SERVER)) OR (SEGMENT3#201 = ALL IN ONE)) THEN COMPUTER ELSE SEGMENT3#201 END END = LCD TELEVISION) THEN LED TELEVISION ELSE CASE WHEN (CASE WHEN ((((SEGMENT3#201 = LAPTOP) OR (SEGMENT3#201 = DESKTOP PC)) OR (SEGMENT3#201 = SERVER)) OR (SEGMENT3#201 = ALL IN ONE)) THEN COMPUTER ELSE SEGMENT3#201 END = 3D TELEVISION) THEN LED SMART TELEVISION ELSE CASE WHEN ((((SEGMENT3#201 = LAPTOP) OR (SEGMENT3#201 = DESKTOP PC)) OR (SEGMENT3#201 = SERVER)) OR (SEGMENT3#201 = ALL IN ONE)) THEN COMPUTER ELSE SEGMENT3#201 END END END = BEVERAGE COOLER) THEN REFRIGERATOR ELSE CASE WHEN (CASE WHEN (CASE WHEN ((((SEGMENT3#201 = LAPTOP) OR (SEGMENT3#201 = DESKTOP PC)) OR (SEGMENT3#201 = SERVER)) OR (SEGMENT3#201 = ALL IN ONE)) THEN COMPUTER ELSE SEGMENT3#201 END = 3D TELEVISION) THEN LED SMART TELEVISION ELSE CASE WHEN ((((SEGMENT3#201 = LAPTOP) OR (SEGMENT3#201 = DESKTOP PC)) OR (SEGMENT3#201 = SERVER)) OR (SEGMENT3#201 = ALL IN ONE)) THEN COMPUTER ELSE SEGMENT3#201 END END = LCD TELEVISION) THEN LED TELEVISION ELSE CASE WHEN (CASE WHEN ((((SEGMENT3#201 = LAPTOP) OR (SEGMENT3#201 = DESKTOP PC)) OR (SEGMENT3#201 = SERVER)) OR (SEGMENT3#201 = ALL IN ONE)) THEN COMPUTER ELSE SEGMENT3#201 END = 3D TELEVISION) THEN LED SMART TELEVISION ELSE CASE WHEN ((((SEGMENT3#201 = LAPTOP) OR (SEGMENT3#201 = DESKTOP PC)) OR (SEGMENT3#201 = SERVER)) OR (SEGMENT3#201 = ALL IN ONE)) THEN COMPUTER ELSE SEGMENT3#201 END END END END = AIRCONDITIONER-INDOOR) THEN AIRCONDITIONER ELSE CASE WHEN (CASE WHEN (CASE WHEN (CASE WHEN ((((SEGMENT3#201 = LAPTOP) OR (SEGMENT3#201 = DESKTOP PC)) OR (SEGMENT3#201 = SERVER)) OR (SEGMENT3#201 = ALL IN ONE)) THEN COMPUTER ELSE SEGMENT3#201 END = 3D TELEVISION) THEN LED SMART TELEVISION ELSE CASE WHEN ((((SEGMENT3#201 = LAPTOP) OR (SEGMENT3#201 = DESKTOP PC)) OR (SEGMENT3#201 = SERVER)) OR (SEGMENT3#201 = ALL IN ONE)) THEN COMPUTER ELSE SEGMENT3#201 END END = LCD TELEVISION) THEN LED TELEVISION ELSE CASE WHEN (CASE WHEN ((((SEGMENT3#201 = LAPTOP) OR (SEGMENT3#201 = DESKTOP PC)) OR (SEGMENT3#201 = SERVER)) OR (SEGMENT3#201 = ALL IN ONE)) THEN COMPUTER ELSE SEGMENT3#201 END = 3D TELEVISION) THEN LED SMART TELEVISION ELSE CASE WHEN ((((SEGMENT3#201 = LAPTOP) OR (SEGMENT3#201 = DESKTOP PC)) OR (SEGMENT3#201 = SERVER)) OR (SEGMENT3#201 = ALL IN ONE)) THEN COMPUTER ELSE SEGMENT3#201 END END END = BEVERAGE COOLER) THEN REFRIGERATOR ELSE CASE WHEN (CASE WHEN (CASE WHEN ((((SEGMENT3#201 = LAPTOP) OR (SEGMENT3#201 = DESKTOP PC)) OR (SEGMENT3#201 = SERVER)) OR (SEGMENT3#201 = ALL IN ONE)) THEN COMPUTER ELSE SEGMENT3#201 END = 3D TELEVISION) THEN LED SMART TELEVISION ELSE CASE WHEN ((((SEGMENT3#201 = LAPTOP) OR (SEGMENT3#201 = DESKTOP PC)) OR (SEGMENT3#201 = SERVER)) OR (SEGMENT3#201 = ALL IN ONE)) THEN COMPUTER ELSE SEGMENT3#201 END END = LCD TELEVISION) THEN LED TELEVISION ELSE CASE WHEN (CASE WHEN ((((SEGMENT3#201 = LAPTOP) OR (SEGMENT3#201 = DESKTOP PC)) OR (SEGMENT3#201 = SERVER)) OR (SEGMENT3#201 = ALL IN ONE)) THEN COMPUTER ELSE SEGMENT3#201 END = 3D TELEVISION) THEN LED SMART TELEVISION ELSE CASE WHEN ((((SEGMENT3#201 = LAPTOP) OR (SEGMENT3#201 = DESKTOP PC)) OR (SEGMENT3#201 = SERVER)) OR (SEGMENT3#201 = ALL IN ONE)) THEN COMPUTER ELSE SEGMENT3#201 END END END END END))) OR ((CASE WHEN (CASE WHEN (CASE WHEN (CASE WHEN (CASE WHEN ((((SEGMENT3#201 = LAPTOP) OR (SEGMENT3#201 = DESKTOP PC)) OR (SEGMENT3#201 = SERVER)) OR (SEGMENT3#201 = ALL IN ONE)) THEN COMPUTER ELSE SEGMENT3#201 END = 3D TELEVISION) THEN LED SMART TELEVISION ELSE CASE WHEN ((((SEGMENT3#201 = LAPTOP) OR (SEGMENT3#201 = DESKTOP PC)) OR (SEGMENT3#201 = SERVER)) OR (SEGMENT3#201 = ALL IN ONE)) THEN COMPUTER ELSE SEGMENT3#201 END END = LCD TELEVISION) THEN LED TELEVISION ELSE CASE WHEN (CASE WHEN ((((SEGMENT3#201 = LAPTOP) OR (SEGMENT3#201 = DESKTOP PC)) OR (SEGMENT3#201 = SERVER)) OR (SEGMENT3#201 = ALL IN ONE)) THEN COMPUTER ELSE SEGMENT3#201 END = 3D TELEVISION) THEN LED SMART TELEVISION ELSE CASE WHEN ((((SEGMENT3#201 = LAPTOP) OR (SEGMENT3#201 = DESKTOP PC)) OR (SEGMENT3#201 = SERVER)) OR (SEGMENT3#201 = ALL IN ONE)) THEN COMPUTER ELSE SEGMENT3#201 END END END = BEVERAGE COOLER) THEN REFRIGERATOR ELSE CASE WHEN (CASE WHEN (CASE WHEN ((((SEGMENT3#201 = LAPTOP) OR (SEGMENT3#201 = DESKTOP PC)) OR (SEGMENT3#201 = SERVER)) OR (SEGMENT3#201 = ALL IN ONE)) THEN COMPUTER ELSE SEGMENT3#201 END = 3D TELEVISION) THEN LED SMART TELEVISION ELSE CASE WHEN ((((SEGMENT3#201 = LAPTOP) OR (SEGMENT3#201 = DESKTOP PC)) OR (SEGMENT3#201 = SERVER)) OR (SEGMENT3#201 = ALL IN ONE)) THEN COMPUTER ELSE SEGMENT3#201 END END = LCD TELEVISION) THEN LED TELEVISION ELSE CASE WHEN (CASE WHEN ((((SEGMENT3#201 = LAPTOP) OR (SEGMENT3#201 = DESKTOP PC)) OR (SEGMENT3#201 = SERVER)) OR (SEGMENT3#201 = ALL IN ONE)) THEN COMPUTER ELSE SEGMENT3#201 END = 3D TELEVISION) THEN LED SMART TELEVISION ELSE CASE WHEN ((((SEGMENT3#201 = LAPTOP) OR (SEGMENT3#201 = DESKTOP PC)) OR (SEGMENT3#201 = SERVER)) OR (SEGMENT3#201 = ALL IN ONE)) THEN COMPUTER ELSE SEGMENT3#201 END END END END = AIRCONDITIONER-INDOOR) THEN AIRCONDITIONER ELSE CASE WHEN (CASE WHEN (CASE WHEN (CASE WHEN ((((SEGMENT3#201 = LAPTOP) OR (SEGMENT3#201 = DESKTOP PC)) OR (SEGMENT3#201 = SERVER)) OR (SEGMENT3#201 = ALL IN ONE)) THEN COMPUTER ELSE SEGMENT3#201 END = 3D TELEVISION) THEN LED SMART TELEVISION ELSE CASE WHEN ((((SEGMENT3#201 = LAPTOP) OR (SEGMENT3#201 = DESKTOP PC)) OR (SEGMENT3#201 = SERVER)) OR (SEGMENT3#201 = ALL IN ONE)) THEN COMPUTER ELSE SEGMENT3#201 END END = LCD TELEVISION) THEN LED TELEVISION ELSE CASE WHEN (CASE WHEN ((((SEGMENT3#201 = LAPTOP) OR (SEGMENT3#201 = DESKTOP PC)) OR (SEGMENT3#201 = SERVER)) OR (SEGMENT3#201 = ALL IN ONE)) THEN COMPUTER ELSE SEGMENT3#201 END = 3D TELEVISION) THEN LED SMART TELEVISION ELSE CASE WHEN ((((SEGMENT3#201 = LAPTOP) OR (SEGMENT3#201 = DESKTOP PC)) OR (SEGMENT3#201 = SERVER)) OR (SEGMENT3#201 = ALL IN ONE)) THEN COMPUTER ELSE SEGMENT3#201 END END END = BEVERAGE COOLER) THEN REFRIGERATOR ELSE CASE WHEN (CASE WHEN (CASE WHEN ((((SEGMENT3#201 = LAPTOP) OR (SEGMENT3#201 = DESKTOP PC)) OR (SEGMENT3#201 = SERVER)) OR (SEGMENT3#201 = ALL IN ONE)) THEN COMPUTER ELSE SEGMENT3#201 END = 3D TELEVISION) THEN LED SMART TELEVISION ELSE CASE WHEN ((((SEGMENT3#201 = LAPTOP) OR (SEGMENT3#201 = DESKTOP PC)) OR (SEGMENT3#201 = SERVER)) OR (SEGMENT3#201 = ALL IN ONE)) THEN COMPUTER ELSE SEGMENT3#201 END END = LCD TELEVISION) THEN LED TELEVISION ELSE CASE WHEN (CASE WHEN ((((SEGMENT3#201 = LAPTOP) OR (SEGMENT3#201 = DESKTOP PC)) OR (SEGMENT3#201 = SERVER)) OR (SEGMENT3#201 = ALL IN ONE)) THEN COMPUTER ELSE SEGMENT3#201 END = 3D TELEVISION) THEN LED SMART TELEVISION ELSE CASE WHEN ((((SEGMENT3#201 = LAPTOP) OR (SEGMENT3#201 = DESKTOP PC)) OR (SEGMENT3#201 = SERVER)) OR (SEGMENT3#201 = ALL IN ONE)) THEN COMPUTER ELSE SEGMENT3#201 END END END END END = REFRIGERATOR) AND isnotnull(CASE WHEN (CASE WHEN (CASE WHEN (CASE WHEN (CASE WHEN ((((SEGMENT3#201 = LAPTOP) OR (SEGMENT3#201 = DESKTOP PC)) OR (SEGMENT3#201 = SERVER)) OR (SEGMENT3#201 = ALL IN ONE)) THEN COMPUTER ELSE SEGMENT3#201 END = 3D TELEVISION) THEN LED SMART TELEVISION ELSE CASE WHEN ((((SEGMENT3#201 = LAPTOP) OR (SEGMENT3#201 = DESKTOP PC)) OR (SEGMENT3#201 = SERVER)) OR (SEGMENT3#201 = ALL IN ONE)) THEN COMPUTER ELSE SEGMENT3#201 END END = LCD TELEVISION) THEN LED TELEVISION ELSE CASE WHEN (CASE WHEN ((((SEGMENT3#201 = LAPTOP) OR (SEGMENT3#201 = DESKTOP PC)) OR (SEGMENT3#201 = SERVER)) OR (SEGMENT3#201 = ALL IN ONE)) THEN COMPUTER ELSE SEGMENT3#201 END = 3D TELEVISION) THEN LED SMART TELEVISION ELSE CASE WHEN ((((SEGMENT3#201 = LAPTOP) OR (SEGMENT3#201 = DESKTOP PC)) OR (SEGMENT3#201 = SERVER)) OR (SEGMENT3#201 = ALL IN ONE)) THEN COMPUTER ELSE SEGMENT3#201 END END END = BEVERAGE COOLER) THEN REFRIGERATOR ELSE CASE WHEN (CASE WHEN (CASE WHEN ((((SEGMENT3#201 = LAPTOP) OR (SEGMENT3#201 = DESKTOP PC)) OR (SEGMENT3#201 = SERVER)) OR (SEGMENT3#201 = ALL IN ONE)) THEN COMPUTER ELSE SEGMENT3#201 END = 3D TELEVISION) THEN LED SMART TELEVISION ELSE CASE WHEN ((((SEGMENT3#201 = LAPTOP) OR (SEGMENT3#201 = DESKTOP PC)) OR (SEGMENT3#201 = SERVER)) OR (SEGMENT3#201 = ALL IN ONE)) THEN COMPUTER ELSE SEGMENT3#201 END END = LCD TELEVISION) THEN LED TELEVISION ELSE CASE WHEN (CASE WHEN ((((SEGMENT3#201 = LAPTOP) OR (SEGMENT3#201 = DESKTOP PC)) OR (SEGMENT3#201 = SERVER)) OR (SEGMENT3#201 = ALL IN ONE)) THEN COMPUTER ELSE SEGMENT3#201 END = 3D TELEVISION) THEN LED SMART TELEVISION ELSE CASE WHEN ((((SEGMENT3#201 = LAPTOP) OR (SEGMENT3#201 = DESKTOP PC)) OR (SEGMENT3#201 = SERVER)) OR (SEGMENT3#201 = ALL IN ONE)) THEN COMPUTER ELSE SEGMENT3#201 END END END END = AIRCONDITIONER-INDOOR) THEN AIRCONDITIONER ELSE CASE WHEN (CASE WHEN (CASE WHEN (CASE WHEN ((((SEGMENT3#201 = LAPTOP) OR (SEGMENT3#201 = DESKTOP PC)) OR (SEGMENT3#201 = SERVER)) OR (SEGMENT3#201 = ALL IN ONE)) THEN COMPUTER ELSE SEGMENT3#201 END = 3D TELEVISION) THEN LED SMART TELEVISION ELSE CASE WHEN ((((SEGMENT3#201 = LAPTOP) OR (SEGMENT3#201 = DESKTOP PC)) OR (SEGMENT3#201 = SERVER)) OR (SEGMENT3#201 = ALL IN ONE)) THEN COMPUTER ELSE SEGMENT3#201 END END = LCD TELEVISION) THEN LED TELEVISION ELSE CASE WHEN (CASE WHEN ((((SEGMENT3#201 = LAPTOP) OR (SEGMENT3#201 = DESKTOP PC)) OR (SEGMENT3#201 = SERVER)) OR (SEGMENT3#201 = ALL IN ONE)) THEN COMPUTER ELSE SEGMENT3#201 END = 3D TELEVISION) THEN LED SMART TELEVISION ELSE CASE WHEN ((((SEGMENT3#201 = LAPTOP) OR (SEGMENT3#201 = DESKTOP PC)) OR (SEGMENT3#201 = SERVER)) OR (SEGMENT3#201 = ALL IN ONE)) THEN COMPUTER ELSE SEGMENT3#201 END END END = BEVERAGE COOLER) THEN REFRIGERATOR ELSE CASE WHEN (CASE WHEN (CASE WHEN ((((SEGMENT3#201 = LAPTOP) OR (SEGMENT3#201 = DESKTOP PC)) OR (SEGMENT3#201 = SERVER)) OR (SEGMENT3#201 = ALL IN ONE)) THEN COMPUTER ELSE SEGMENT3#201 END = 3D TELEVISION) THEN LED SMART TELEVISION ELSE CASE WHEN ((((SEGMENT3#201 = LAPTOP) OR (SEGMENT3#201 = DESKTOP PC)) OR (SEGMENT3#201 = SERVER)) OR (SEGMENT3#201 = ALL IN ONE)) THEN COMPUTER ELSE SEGMENT3#201 END END = LCD TELEVISION) THEN LED TELEVISION ELSE CASE WHEN (CASE WHEN ((((SEGMENT3#201 = LAPTOP) OR (SEGMENT3#201 = DESKTOP PC)) OR (SEGMENT3#201 = SERVER)) OR (SEGMENT3#201 = ALL IN ONE)) THEN COMPUTER ELSE SEGMENT3#201 END = 3D TELEVISION) THEN LED SMART TELEVISION ELSE CASE WHEN ((((SEGMENT3#201 = LAPTOP) OR (SEGMENT3#201 = DESKTOP PC)) OR (SEGMENT3#201 = SERVER)) OR (SEGMENT3#201 = ALL IN ONE)) THEN COMPUTER ELSE SEGMENT3#201 END END END END END))) OR ((CASE WHEN (CASE WHEN (CASE WHEN (CASE WHEN (CASE WHEN ((((SEGMENT3#201 = LAPTOP) OR (SEGMENT3#201 = DESKTOP PC)) OR (SEGMENT3#201 = SERVER)) OR (SEGMENT3#201 = ALL IN ONE)) THEN COMPUTER ELSE SEGMENT3#201 END = 3D TELEVISION) THEN LED SMART TELEVISION ELSE CASE WHEN ((((SEGMENT3#201 = LAPTOP) OR (SEGMENT3#201 = DESKTOP PC)) OR (SEGMENT3#201 = SERVER)) OR (SEGMENT3#201 = ALL IN ONE)) THEN COMPUTER ELSE SEGMENT3#201 END END = LCD TELEVISION) THEN LED TELEVISION ELSE CASE WHEN (CASE WHEN ((((SEGMENT3#201 = LAPTOP) OR (SEGMENT3#201 = DESKTOP PC)) OR (SEGMENT3#201 = SERVER)) OR (SEGMENT3#201 = ALL IN ONE)) THEN COMPUTER ELSE SEGMENT3#201 END = 3D TELEVISION) THEN LED SMART TELEVISION ELSE CASE WHEN ((((SEGMENT3#201 = LAPTOP) OR (SEGMENT3#201 = DESKTOP PC)) OR (SEGMENT3#201 = SERVER)) OR (SEGMENT3#201 = ALL IN ONE)) THEN COMPUTER ELSE SEGMENT3#201 END END END = BEVERAGE COOLER) THEN REFRIGERATOR ELSE CASE WHEN (CASE WHEN (CASE WHEN ((((SEGMENT3#201 = LAPTOP) OR (SEGMENT3#201 = DESKTOP PC)) OR (SEGMENT3#201 = SERVER)) OR (SEGMENT3#201 = ALL IN ONE)) THEN COMPUTER ELSE SEGMENT3#201 END = 3D TELEVISION) THEN LED SMART TELEVISION ELSE CASE WHEN ((((SEGMENT3#201 = LAPTOP) OR (SEGMENT3#201 = DESKTOP PC)) OR (SEGMENT3#201 = SERVER)) OR (SEGMENT3#201 = ALL IN ONE)) THEN COMPUTER ELSE SEGMENT3#201 END END = LCD TELEVISION) THEN LED TELEVISION ELSE CASE WHEN (CASE WHEN ((((SEGMENT3#201 = LAPTOP) OR (SEGMENT3#201 = DESKTOP PC)) OR (SEGMENT3#201 = SERVER)) OR (SEGMENT3#201 = ALL IN ONE)) THEN COMPUTER ELSE SEGMENT3#201 END = 3D TELEVISION) THEN LED SMART TELEVISION ELSE CASE WHEN ((((SEGMENT3#201 = LAPTOP) OR (SEGMENT3#201 = DESKTOP PC)) OR (SEGMENT3#201 = SERVER)) OR (SEGMENT3#201 = ALL IN ONE)) THEN COMPUTER ELSE SEGMENT3#201 END END END END = AIRCONDITIONER-INDOOR) THEN AIRCONDITIONER ELSE CASE WHEN (CASE WHEN (CASE WHEN (CASE WHEN ((((SEGMENT3#201 = LAPTOP) OR (SEGMENT3#201 = DESKTOP PC)) OR (SEGMENT3#201 = SERVER)) OR (SEGMENT3#201 = ALL IN ONE)) THEN COMPUTER ELSE SEGMENT3#201 END = 3D TELEVISION) THEN LED SMART TELEVISION ELSE CASE WHEN ((((SEGMENT3#201 = LAPTOP) OR (SEGMENT3#201 = DESKTOP PC)) OR (SEGMENT3#201 = SERVER)) OR (SEGMENT3#201 = ALL IN ONE)) THEN COMPUTER ELSE SEGMENT3#201 END END = LCD TELEVISION) THEN LED TELEVISION ELSE CASE WHEN (CASE WHEN ((((SEGMENT3#201 = LAPTOP) OR (SEGMENT3#201 = DESKTOP PC)) OR (SEGMENT3#201 = SERVER)) OR (SEGMENT3#201 = ALL IN ONE)) THEN COMPUTER ELSE SEGMENT3#201 END = 3D TELEVISION) THEN LED SMART TELEVISION ELSE CASE WHEN ((((SEGMENT3#201 = LAPTOP) OR (SEGMENT3#201 = DESKTOP PC)) OR (SEGMENT3#201 = SERVER)) OR (SEGMENT3#201 = ALL IN ONE)) THEN COMPUTER ELSE SEGMENT3#201 END END END = BEVERAGE COOLER) THEN REFRIGERATOR ELSE CASE WHEN (CASE WHEN (CASE WHEN ((((SEGMENT3#201 = LAPTOP) OR (SEGMENT3#201 = DESKTOP PC)) OR (SEGMENT3#201 = SERVER)) OR (SEGMENT3#201 = ALL IN ONE)) THEN COMPUTER ELSE SEGMENT3#201 END = 3D TELEVISION) THEN LED SMART TELEVISION ELSE CASE WHEN ((((SEGMENT3#201 = LAPTOP) OR (SEGMENT3#201 = DESKTOP PC)) OR (SEGMENT3#201 = SERVER)) OR (SEGMENT3#201 = ALL IN ONE)) THEN COMPUTER ELSE SEGMENT3#201 END END = LCD TELEVISION) THEN LED TELEVISION ELSE CASE WHEN (CASE WHEN ((((SEGMENT3#201 = LAPTOP) OR (SEGMENT3#201 = DESKTOP PC)) OR (SEGMENT3#201 = SERVER)) OR (SEGMENT3#201 = ALL IN ONE)) THEN COMPUTER ELSE SEGMENT3#201 END = 3D TELEVISION) THEN LED SMART TELEVISION ELSE CASE WHEN ((((SEGMENT3#201 = LAPTOP) OR (SEGMENT3#201 = DESKTOP PC)) OR (SEGMENT3#201 = SERVER)) OR (SEGMENT3#201 = ALL IN ONE)) THEN COMPUTER ELSE SEGMENT3#201 END END END END END = WASHING MACHINE) AND isnotnull(CASE WHEN (CASE WHEN (CASE WHEN (CASE WHEN (CASE WHEN ((((SEGMENT3#201 = LAPTOP) OR (SEGMENT3#201 = DESKTOP PC)) OR (SEGMENT3#201 = SERVER)) OR (SEGMENT3#201 = ALL IN ONE)) THEN COMPUTER ELSE SEGMENT3#201 END = 3D TELEVISION) THEN LED SMART TELEVISION ELSE CASE WHEN ((((SEGMENT3#201 = LAPTOP) OR (SEGMENT3#201 = DESKTOP PC)) OR (SEGMENT3#201 = SERVER)) OR (SEGMENT3#201 = ALL IN ONE)) THEN COMPUTER ELSE SEGMENT3#201 END END = LCD TELEVISION) THEN LED TELEVISION ELSE CASE WHEN (CASE WHEN ((((SEGMENT3#201 = LAPTOP) OR (SEGMENT3#201 = DESKTOP PC)) OR (SEGMENT3#201 = SERVER)) OR (SEGMENT3#201 = ALL IN ONE)) THEN COMPUTER ELSE SEGMENT3#201 END = 3D TELEVISION) THEN LED SMART TELEVISION ELSE CASE WHEN ((((SEGMENT3#201 = LAPTOP) OR (SEGMENT3#201 = DESKTOP PC)) OR (SEGMENT3#201 = SERVER)) OR (SEGMENT3#201 = ALL IN ONE)) THEN COMPUTER ELSE SEGMENT3#201 END END END = BEVERAGE COOLER) THEN REFRIGERATOR ELSE CASE WHEN (CASE WHEN (CASE WHEN ((((SEGMENT3#201 = LAPTOP) OR (SEGMENT3#201 = DESKTOP PC)) OR (SEGMENT3#201 = SERVER)) OR (SEGMENT3#201 = ALL IN ONE)) THEN COMPUTER ELSE SEGMENT3#201 END = 3D TELEVISION) THEN LED SMART TELEVISION ELSE CASE WHEN ((((SEGMENT3#201 = LAPTOP) OR (SEGMENT3#201 = DESKTOP PC)) OR (SEGMENT3#201 = SERVER)) OR (SEGMENT3#201 = ALL IN ONE)) THEN COMPUTER ELSE SEGMENT3#201 END END = LCD TELEVISION) THEN LED TELEVISION ELSE CASE WHEN (CASE WHEN ((((SEGMENT3#201 = LAPTOP) OR (SEGMENT3#201 = DESKTOP PC)) OR (SEGMENT3#201 = SERVER)) OR (SEGMENT3#201 = ALL IN ONE)) THEN COMPUTER ELSE SEGMENT3#201 END = 3D TELEVISION) THEN LED SMART TELEVISION ELSE CASE WHEN ((((SEGMENT3#201 = LAPTOP) OR (SEGMENT3#201 = DESKTOP PC)) OR (SEGMENT3#201 = SERVER)) OR (SEGMENT3#201 = ALL IN ONE)) THEN COMPUTER ELSE SEGMENT3#201 END END END END = AIRCONDITIONER-INDOOR) THEN AIRCONDITIONER ELSE CASE WHEN (CASE WHEN (CASE WHEN (CASE WHEN ((((SEGMENT3#201 = LAPTOP) OR (SEGMENT3#201 = DESKTOP PC)) OR (SEGMENT3#201 = SERVER)) OR (SEGMENT3#201 = ALL IN ONE)) THEN COMPUTER ELSE SEGMENT3#201 END = 3D TELEVISION) THEN LED SMART TELEVISION ELSE CASE WHEN ((((SEGMENT3#201 = LAPTOP) OR (SEGMENT3#201 = DESKTOP PC)) OR (SEGMENT3#201 = SERVER)) OR (SEGMENT3#201 = ALL IN ONE)) THEN COMPUTER ELSE SEGMENT3#201 END END = LCD TELEVISION) THEN LED TELEVISION ELSE CASE WHEN (CASE WHEN ((((SEGMENT3#201 = LAPTOP) OR (SEGMENT3#201 = DESKTOP PC)) OR (SEGMENT3#201 = SERVER)) OR (SEGMENT3#201 = ALL IN ONE)) THEN COMPUTER ELSE SEGMENT3#201 END = 3D TELEVISION) THEN LED SMART TELEVISION ELSE CASE WHEN ((((SEGMENT3#201 = LAPTOP) OR (SEGMENT3#201 = DESKTOP PC)) OR (SEGMENT3#201 = SERVER)) OR (SEGMENT3#201 = ALL IN ONE)) THEN COMPUTER ELSE SEGMENT3#201 END END END = BEVERAGE COOLER) THEN REFRIGERATOR ELSE CASE WHEN (CASE WHEN (CASE WHEN ((((SEGMENT3#201 = LAPTOP) OR (SEGMENT3#201 = DESKTOP PC)) OR (SEGMENT3#201 = SERVER)) OR (SEGMENT3#201 = ALL IN ONE)) THEN COMPUTER ELSE SEGMENT3#201 END = 3D TELEVISION) THEN LED SMART TELEVISION ELSE CASE WHEN ((((SEGMENT3#201 = LAPTOP) OR (SEGMENT3#201 = DESKTOP PC)) OR (SEGMENT3#201 = SERVER)) OR (SEGMENT3#201 = ALL IN ONE)) THEN COMPUTER ELSE SEGMENT3#201 END END = LCD TELEVISION) THEN LED TELEVISION ELSE CASE WHEN (CASE WHEN ((((SEGMENT3#201 = LAPTOP) OR (SEGMENT3#201 = DESKTOP PC)) OR (SEGMENT3#201 = SERVER)) OR (SEGMENT3#201 = ALL IN ONE)) THEN COMPUTER ELSE SEGMENT3#201 END = 3D TELEVISION) THEN LED SMART TELEVISION ELSE CASE WHEN ((((SEGMENT3#201 = LAPTOP) OR (SEGMENT3#201 = DESKTOP PC)) OR (SEGMENT3#201 = SERVER)) OR (SEGMENT3#201 = ALL IN ONE)) THEN COMPUTER ELSE SEGMENT3#201 END END END END END)))) AND isnotnull(CASE WHEN (CASE WHEN (CASE WHEN (CASE WHEN (CASE WHEN ((((SEGMENT3#201 = LAPTOP) OR (SEGMENT3#201 = DESKTOP PC)) OR (SEGMENT3#201 = SERVER)) OR (SEGMENT3#201 = ALL IN ONE)) THEN COMPUTER ELSE SEGMENT3#201 END = 3D TELEVISION) THEN LED SMART TELEVISION ELSE CASE WHEN ((((SEGMENT3#201 = LAPTOP) OR (SEGMENT3#201 = DESKTOP PC)) OR (SEGMENT3#201 = SERVER)) OR (SEGMENT3#201 = ALL IN ONE)) THEN COMPUTER ELSE SEGMENT3#201 END END = LCD TELEVISION) THEN LED TELEVISION ELSE CASE WHEN (CASE WHEN ((((SEGMENT3#201 = LAPTOP) OR (SEGMENT3#201 = DESKTOP PC)) OR (SEGMENT3#201 = SERVER)) OR (SEGMENT3#201 = ALL IN ONE)) THEN COMPUTER ELSE SEGMENT3#201 END = 3D TELEVISION) THEN LED SMART TELEVISION ELSE CASE WHEN ((((SEGMENT3#201 = LAPTOP) OR (SEGMENT3#201 = DESKTOP PC)) OR (SEGMENT3#201 = SERVER)) OR (SEGMENT3#201 = ALL IN ONE)) THEN COMPUTER ELSE SEGMENT3#201 END END END = BEVERAGE COOLER) THEN REFRIGERATOR ELSE CASE WHEN (CASE WHEN (CASE WHEN ((((SEGMENT3#201 = LAPTOP) OR (SEGMENT3#201 = DESKTOP PC)) OR (SEGMENT3#201 = SERVER)) OR (SEGMENT3#201 = ALL IN ONE)) THEN COMPUTER ELSE SEGMENT3#201 END = 3D TELEVISION) THEN LED SMART TELEVISION ELSE CASE WHEN ((((SEGMENT3#201 = LAPTOP) OR (SEGMENT3#201 = DESKTOP PC)) OR (SEGMENT3#201 = SERVER)) OR (SEGMENT3#201 = ALL IN ONE)) THEN COMPUTER ELSE SEGMENT3#201 END END = LCD TELEVISION) THEN LED TELEVISION ELSE CASE WHEN (CASE WHEN ((((SEGMENT3#201 = LAPTOP) OR (SEGMENT3#201 = DESKTOP PC)) OR (SEGMENT3#201 = SERVER)) OR (SEGMENT3#201 = ALL IN ONE)) THEN COMPUTER ELSE SEGMENT3#201 END = 3D TELEVISION) THEN LED SMART TELEVISION ELSE CASE WHEN ((((SEGMENT3#201 = LAPTOP) OR (SEGMENT3#201 = DESKTOP PC)) OR (SEGMENT3#201 = SERVER)) OR (SEGMENT3#201 = ALL IN ONE)) THEN COMPUTER ELSE SEGMENT3#201 END END END END = AIRCONDITIONER-INDOOR) THEN AIRCONDITIONER ELSE CASE WHEN (CASE WHEN (CASE WHEN (CASE WHEN ((((SEGMENT3#201 = LAPTOP) OR (SEGMENT3#201 = DESKTOP PC)) OR (SEGMENT3#201 = SERVER)) OR (SEGMENT3#201 = ALL IN ONE)) THEN COMPUTER ELSE SEGMENT3#201 END = 3D TELEVISION) THEN LED SMART TELEVISION ELSE CASE WHEN ((((SEGMENT3#201 = LAPTOP) OR (SEGMENT3#201 = DESKTOP PC)) OR (SEGMENT3#201 = SERVER)) OR (SEGMENT3#201 = ALL IN ONE)) THEN COMPUTER ELSE SEGMENT3#201 END END = LCD TELEVISION) THEN LED TELEVISION ELSE CASE WHEN (CASE WHEN ((((SEGMENT3#201 = LAPTOP) OR (SEGMENT3#201 = DESKTOP PC)) OR (SEGMENT3#201 = SERVER)) OR (SEGMENT3#201 = ALL IN ONE)) THEN COMPUTER ELSE SEGMENT3#201 END = 3D TELEVISION) THEN LED SMART TELEVISION ELSE CASE WHEN ((((SEGMENT3#201 = LAPTOP) OR (SEGMENT3#201 = DESKTOP PC)) OR (SEGMENT3#201 = SERVER)) OR (SEGMENT3#201 = ALL IN ONE)) THEN COMPUTER ELSE SEGMENT3#201 END END END = BEVERAGE COOLER) THEN REFRIGERATOR ELSE CASE WHEN (CASE WHEN (CASE WHEN ((((SEGMENT3#201 = LAPTOP) OR (SEGMENT3#201 = DESKTOP PC)) OR (SEGMENT3#201 = SERVER)) OR (SEGMENT3#201 = ALL IN ONE)) THEN COMPUTER ELSE SEGMENT3#201 END = 3D TELEVISION) THEN LED SMART TELEVISION ELSE CASE WHEN ((((SEGMENT3#201 = LAPTOP) OR (SEGMENT3#201 = DESKTOP PC)) OR (SEGMENT3#201 = SERVER)) OR (SEGMENT3#201 = ALL IN ONE)) THEN COMPUTER ELSE SEGMENT3#201 END END = LCD TELEVISION) THEN LED TELEVISION ELSE CASE WHEN (CASE WHEN ((((SEGMENT3#201 = LAPTOP) OR (SEGMENT3#201 = DESKTOP PC)) OR (SEGMENT3#201 = SERVER)) OR (SEGMENT3#201 = ALL IN ONE)) THEN COMPUTER ELSE SEGMENT3#201 END = 3D TELEVISION) THEN LED SMART TELEVISION ELSE CASE WHEN ((((SEGMENT3#201 = LAPTOP) OR (SEGMENT3#201 = DESKTOP PC)) OR (SEGMENT3#201 = SERVER)) OR (SEGMENT3#201 = ALL IN ONE)) THEN COMPUTER ELSE SEGMENT3#201 END END END END END))\n",
      "   +- InMemoryTableScan [CUSTOMER_PHONE_NO#399, SEGMENT3#201], [isnotnull(CUSTOMER_PHONE_NO#399), NOT (CUSTOMER_PHONE_NO#399 = 0), AtLeastNNulls(n, regexp_replace(regexp_replace(regexp_replace(regexp_replace(CUSTOMER_PHONE_NO#399, ^[±]*, , 1), [^\\w\\s], , 1), \\W, , 1), ^[8]*, , 1)), NOT (regexp_replace(regexp_replace(regexp_replace(regexp_replace(regexp_replace(CUSTOMER_PHONE_NO#399, ^[±]*, , 1), [^\\w\\s], , 1), \\W, , 1), ^[8]*, , 1), [A-Za-z], , 1) = ), NOT (regexp_replace(regexp_replace(regexp_replace(regexp_replace(regexp_replace(regexp_replace(regexp_replace(regexp_replace(regexp_replace(CUSTOMER_PHONE_NO#399, ^[±]*, , 1), [^\\w\\s], , 1), \\W, , 1), ^[8]*, , 1), [A-Za-z], , 1), ^[+]*, , 1), |, , 1), /, , 1), /[^\\x00-\\x7F]+/, , 1) = ), (length(regexp_replace(regexp_replace(regexp_replace(regexp_replace(regexp_replace(regexp_replace(regexp_replace(regexp_replace(regexp_replace(regexp_replace(CUSTOMER_PHONE_NO#399, ^[±]*, , 1), [^\\w\\s], , 1), \\W, , 1), ^[8]*, , 1), [A-Za-z], , 1), ^[+]*, , 1), |, , 1), /, , 1), /[^\\x00-\\x7F]+/, , 1), /\\s/g, , 1)) = 11), StartsWith(regexp_replace(regexp_replace(regexp_replace(regexp_replace(regexp_replace(regexp_replace(regexp_replace(regexp_replace(regexp_replace(regexp_replace(CUSTOMER_PHONE_NO#399, ^[±]*, , 1), [^\\w\\s], , 1), \\W, , 1), ^[8]*, , 1), [A-Za-z], , 1), ^[+]*, , 1), |, , 1), /, , 1), /[^\\x00-\\x7F]+/, , 1), /\\s/g, , 1), 01), NOT StartsWith(regexp_replace(regexp_replace(regexp_replace(regexp_replace(regexp_replace(regexp_replace(regexp_replace(regexp_replace(regexp_replace(regexp_replace(CUSTOMER_PHONE_NO#399, ^[±]*, , 1), [^\\w\\s], , 1), \\W, , 1), ^[8]*, , 1), [A-Za-z], , 1), ^[+]*, , 1), |, , 1), /, , 1), /[^\\x00-\\x7F]+/, , 1), /\\s/g, , 1), 010), NOT StartsWith(regexp_replace(regexp_replace(regexp_replace(regexp_replace(regexp_replace(regexp_replace(regexp_replace(regexp_replace(regexp_replace(regexp_replace(CUSTOMER_PHONE_NO#399, ^[±]*, , 1), [^\\w\\s], , 1), \\W, , 1), ^[8]*, , 1), [A-Za-z], , 1), ^[+]*, , 1), |, , 1), /, , 1), /[^\\x00-\\x7F]+/, , 1), /\\s/g, , 1), 011), NOT StartsWith(regexp_replace(regexp_replace(regexp_replace(regexp_replace(regexp_replace(regexp_replace(regexp_replace(regexp_replace(regexp_replace(regexp_replace(CUSTOMER_PHONE_NO#399, ^[±]*, , 1), [^\\w\\s], , 1), \\W, , 1), ^[8]*, , 1), [A-Za-z], , 1), ^[+]*, , 1), |, , 1), /, , 1), /[^\\x00-\\x7F]+/, , 1), /\\s/g, , 1), 012), NOT (substring(regexp_replace(regexp_replace(regexp_replace(regexp_replace(regexp_replace(regexp_replace(regexp_replace(regexp_replace(regexp_replace(regexp_replace(CUSTOMER_PHONE_NO#399, ^[±]*, , 1), [^\\w\\s], , 1), \\W, , 1), ^[8]*, , 1), [A-Za-z], , 1), ^[+]*, , 1), |, , 1), /, , 1), /[^\\x00-\\x7F]+/, , 1), /\\s/g, , 1), 4, 11) = 00000000), NOT (substring(substring(regexp_replace(regexp_replace(regexp_replace(regexp_replace(regexp_replace(regexp_replace(regexp_replace(regexp_replace(regexp_replace(regexp_replace(CUSTOMER_PHONE_NO#399, ^[±]*, , 1), [^\\w\\s], , 1), \\W, , 1), ^[8]*, , 1), [A-Za-z], , 1), ^[+]*, , 1), |, , 1), /, , 1), /[^\\x00-\\x7F]+/, , 1), /\\s/g, , 1), 4, 11), 1, 7) = 0000000), (((((isnotnull(CASE WHEN (CASE WHEN (CASE WHEN (CASE WHEN (CASE WHEN ((((SEGMENT3#201 = LAPTOP) OR (SEGMENT3#201 = DESKTOP PC)) OR (SEGMENT3#201 = SERVER)) OR (SEGMENT3#201 = ALL IN ONE)) THEN COMPUTER ELSE SEGMENT3#201 END = 3D TELEVISION) THEN LED SMART TELEVISION ELSE CASE WHEN ((((SEGMENT3#201 = LAPTOP) OR (SEGMENT3#201 = DESKTOP PC)) OR (SEGMENT3#201 = SERVER)) OR (SEGMENT3#201 = ALL IN ONE)) THEN COMPUTER ELSE SEGMENT3#201 END END = LCD TELEVISION) THEN LED TELEVISION ELSE CASE WHEN (CASE WHEN ((((SEGMENT3#201 = LAPTOP) OR (SEGMENT3#201 = DESKTOP PC)) OR (SEGMENT3#201 = SERVER)) OR (SEGMENT3#201 = ALL IN ONE)) THEN COMPUTER ELSE SEGMENT3#201 END = 3D TELEVISION) THEN LED SMART TELEVISION ELSE CASE WHEN ((((SEGMENT3#201 = LAPTOP) OR (SEGMENT3#201 = DESKTOP PC)) OR (SEGMENT3#201 = SERVER)) OR (SEGMENT3#201 = ALL IN ONE)) THEN COMPUTER ELSE SEGMENT3#201 END END END = BEVERAGE COOLER) THEN REFRIGERATOR ELSE CASE WHEN (CASE WHEN (CASE WHEN ((((SEGMENT3#201 = LAPTOP) OR (SEGMENT3#201 = DESKTOP PC)) OR (SEGMENT3#201 = SERVER)) OR (SEGMENT3#201 = ALL IN ONE)) THEN COMPUTER ELSE SEGMENT3#201 END = 3D TELEVISION) THEN LED SMART TELEVISION ELSE CASE WHEN ((((SEGMENT3#201 = LAPTOP) OR (SEGMENT3#201 = DESKTOP PC)) OR (SEGMENT3#201 = SERVER)) OR (SEGMENT3#201 = ALL IN ONE)) THEN COMPUTER ELSE SEGMENT3#201 END END = LCD TELEVISION) THEN LED TELEVISION ELSE CASE WHEN (CASE WHEN ((((SEGMENT3#201 = LAPTOP) OR (SEGMENT3#201 = DESKTOP PC)) OR (SEGMENT3#201 = SERVER)) OR (SEGMENT3#201 = ALL IN ONE)) THEN COMPUTER ELSE SEGMENT3#201 END = 3D TELEVISION) THEN LED SMART TELEVISION ELSE CASE WHEN ((((SEGMENT3#201 = LAPTOP) OR (SEGMENT3#201 = DESKTOP PC)) OR (SEGMENT3#201 = SERVER)) OR (SEGMENT3#201 = ALL IN ONE)) THEN COMPUTER ELSE SEGMENT3#201 END END END END = AIRCONDITIONER-INDOOR) THEN AIRCONDITIONER ELSE CASE WHEN (CASE WHEN (CASE WHEN (CASE WHEN ((((SEGMENT3#201 = LAPTOP) OR (SEGMENT3#201 = DESKTOP PC)) OR (SEGMENT3#201 = SERVER)) OR (SEGMENT3#201 = ALL IN ONE)) THEN COMPUTER ELSE SEGMENT3#201 END = 3D TELEVISION) THEN LED SMART TELEVISION ELSE CASE WHEN ((((SEGMENT3#201 = LAPTOP) OR (SEGMENT3#201 = DESKTOP PC)) OR (SEGMENT3#201 = SERVER)) OR (SEGMENT3#201 = ALL IN ONE)) THEN COMPUTER ELSE SEGMENT3#201 END END = LCD TELEVISION) THEN LED TELEVISION ELSE CASE WHEN (CASE WHEN ((((SEGMENT3#201 = LAPTOP) OR (SEGMENT3#201 = DESKTOP PC)) OR (SEGMENT3#201 = SERVER)) OR (SEGMENT3#201 = ALL IN ONE)) THEN COMPUTER ELSE SEGMENT3#201 END = 3D TELEVISION) THEN LED SMART TELEVISION ELSE CASE WHEN ((((SEGMENT3#201 = LAPTOP) OR (SEGMENT3#201 = DESKTOP PC)) OR (SEGMENT3#201 = SERVER)) OR (SEGMENT3#201 = ALL IN ONE)) THEN COMPUTER ELSE SEGMENT3#201 END END END = BEVERAGE COOLER) THEN REFRIGERATOR ELSE CASE WHEN (CASE WHEN (CASE WHEN ((((SEGMENT3#201 = LAPTOP) OR (SEGMENT3#201 = DESKTOP PC)) OR (SEGMENT3#201 = SERVER)) OR (SEGMENT3#201 = ALL IN ONE)) THEN COMPUTER ELSE SEGMENT3#201 END = 3D TELEVISION) THEN LED SMART TELEVISION ELSE CASE WHEN ((((SEGMENT3#201 = LAPTOP) OR (SEGMENT3#201 = DESKTOP PC)) OR (SEGMENT3#201 = SERVER)) OR (SEGMENT3#201 = ALL IN ONE)) THEN COMPUTER ELSE SEGMENT3#201 END END = LCD TELEVISION) THEN LED TELEVISION ELSE CASE WHEN (CASE WHEN ((((SEGMENT3#201 = LAPTOP) OR (SEGMENT3#201 = DESKTOP PC)) OR (SEGMENT3#201 = SERVER)) OR (SEGMENT3#201 = ALL IN ONE)) THEN COMPUTER ELSE SEGMENT3#201 END = 3D TELEVISION) THEN LED SMART TELEVISION ELSE CASE WHEN ((((SEGMENT3#201 = LAPTOP) OR (SEGMENT3#201 = DESKTOP PC)) OR (SEGMENT3#201 = SERVER)) OR (SEGMENT3#201 = ALL IN ONE)) THEN COMPUTER ELSE SEGMENT3#201 END END END END END) AND (((CASE WHEN (CASE WHEN (CASE WHEN (CASE WHEN (CASE WHEN ((((SEGMENT3#201 = LAPTOP) OR (SEGMENT3#201 = DESKTOP PC)) OR (SEGMENT3#201 = SERVER)) OR (SEGMENT3#201 = ALL IN ONE)) THEN COMPUTER ELSE SEGMENT3#201 END = 3D TELEVISION) THEN LED SMART TELEVISION ELSE CASE WHEN ((((SEGMENT3#201 = LAPTOP) OR (SEGMENT3#201 = DESKTOP PC)) OR (SEGMENT3#201 = SERVER)) OR (SEGMENT3#201 = ALL IN ONE)) THEN COMPUTER ELSE SEGMENT3#201 END END = LCD TELEVISION) THEN LED TELEVISION ELSE CASE WHEN (CASE WHEN ((((SEGMENT3#201 = LAPTOP) OR (SEGMENT3#201 = DESKTOP PC)) OR (SEGMENT3#201 = SERVER)) OR (SEGMENT3#201 = ALL IN ONE)) THEN COMPUTER ELSE SEGMENT3#201 END = 3D TELEVISION) THEN LED SMART TELEVISION ELSE CASE WHEN ((((SEGMENT3#201 = LAPTOP) OR (SEGMENT3#201 = DESKTOP PC)) OR (SEGMENT3#201 = SERVER)) OR (SEGMENT3#201 = ALL IN ONE)) THEN COMPUTER ELSE SEGMENT3#201 END END END = BEVERAGE COOLER) THEN REFRIGERATOR ELSE CASE WHEN (CASE WHEN (CASE WHEN ((((SEGMENT3#201 = LAPTOP) OR (SEGMENT3#201 = DESKTOP PC)) OR (SEGMENT3#201 = SERVER)) OR (SEGMENT3#201 = ALL IN ONE)) THEN COMPUTER ELSE SEGMENT3#201 END = 3D TELEVISION) THEN LED SMART TELEVISION ELSE CASE WHEN ((((SEGMENT3#201 = LAPTOP) OR (SEGMENT3#201 = DESKTOP PC)) OR (SEGMENT3#201 = SERVER)) OR (SEGMENT3#201 = ALL IN ONE)) THEN COMPUTER ELSE SEGMENT3#201 END END = LCD TELEVISION) THEN LED TELEVISION ELSE CASE WHEN (CASE WHEN ((((SEGMENT3#201 = LAPTOP) OR (SEGMENT3#201 = DESKTOP PC)) OR (SEGMENT3#201 = SERVER)) OR (SEGMENT3#201 = ALL IN ONE)) THEN COMPUTER ELSE SEGMENT3#201 END = 3D TELEVISION) THEN LED SMART TELEVISION ELSE CASE WHEN ((((SEGMENT3#201 = LAPTOP) OR (SEGMENT3#201 = DESKTOP PC)) OR (SEGMENT3#201 = SERVER)) OR (SEGMENT3#201 = ALL IN ONE)) THEN COMPUTER ELSE SEGMENT3#201 END END END END = AIRCONDITIONER-INDOOR) THEN AIRCONDITIONER ELSE CASE WHEN (CASE WHEN (CASE WHEN (CASE WHEN ((((SEGMENT3#201 = LAPTOP) OR (SEGMENT3#201 = DESKTOP PC)) OR (SEGMENT3#201 = SERVER)) OR (SEGMENT3#201 = ALL IN ONE)) THEN COMPUTER ELSE SEGMENT3#201 END = 3D TELEVISION) THEN LED SMART TELEVISION ELSE CASE WHEN ((((SEGMENT3#201 = LAPTOP) OR (SEGMENT3#201 = DESKTOP PC)) OR (SEGMENT3#201 = SERVER)) OR (SEGMENT3#201 = ALL IN ONE)) THEN COMPUTER ELSE SEGMENT3#201 END END = LCD TELEVISION) THEN LED TELEVISION ELSE CASE WHEN (CASE WHEN ((((SEGMENT3#201 = LAPTOP) OR (SEGMENT3#201 = DESKTOP PC)) OR (SEGMENT3#201 = SERVER)) OR (SEGMENT3#201 = ALL IN ONE)) THEN COMPUTER ELSE SEGMENT3#201 END = 3D TELEVISION) THEN LED SMART TELEVISION ELSE CASE WHEN ((((SEGMENT3#201 = LAPTOP) OR (SEGMENT3#201 = DESKTOP PC)) OR (SEGMENT3#201 = SERVER)) OR (SEGMENT3#201 = ALL IN ONE)) THEN COMPUTER ELSE SEGMENT3#201 END END END = BEVERAGE COOLER) THEN REFRIGERATOR ELSE CASE WHEN (CASE WHEN (CASE WHEN ((((SEGMENT3#201 = LAPTOP) OR (SEGMENT3#201 = DESKTOP PC)) OR (SEGMENT3#201 = SERVER)) OR (SEGMENT3#201 = ALL IN ONE)) THEN COMPUTER ELSE SEGMENT3#201 END = 3D TELEVISION) THEN LED SMART TELEVISION ELSE CASE WHEN ((((SEGMENT3#201 = LAPTOP) OR (SEGMENT3#201 = DESKTOP PC)) OR (SEGMENT3#201 = SERVER)) OR (SEGMENT3#201 = ALL IN ONE)) THEN COMPUTER ELSE SEGMENT3#201 END END = LCD TELEVISION) THEN LED TELEVISION ELSE CASE WHEN (CASE WHEN ((((SEGMENT3#201 = LAPTOP) OR (SEGMENT3#201 = DESKTOP PC)) OR (SEGMENT3#201 = SERVER)) OR (SEGMENT3#201 = ALL IN ONE)) THEN COMPUTER ELSE SEGMENT3#201 END = 3D TELEVISION) THEN LED SMART TELEVISION ELSE CASE WHEN ((((SEGMENT3#201 = LAPTOP) OR (SEGMENT3#201 = DESKTOP PC)) OR (SEGMENT3#201 = SERVER)) OR (SEGMENT3#201 = ALL IN ONE)) THEN COMPUTER ELSE SEGMENT3#201 END END END END END = AIRCONDITIONER) OR (CASE WHEN (CASE WHEN (CASE WHEN (CASE WHEN (CASE WHEN ((((SEGMENT3#201 = LAPTOP) OR (SEGMENT3#201 = DESKTOP PC)) OR (SEGMENT3#201 = SERVER)) OR (SEGMENT3#201 = ALL IN ONE)) THEN COMPUTER ELSE SEGMENT3#201 END = 3D TELEVISION) THEN LED SMART TELEVISION ELSE CASE WHEN ((((SEGMENT3#201 = LAPTOP) OR (SEGMENT3#201 = DESKTOP PC)) OR (SEGMENT3#201 = SERVER)) OR (SEGMENT3#201 = ALL IN ONE)) THEN COMPUTER ELSE SEGMENT3#201 END END = LCD TELEVISION) THEN LED TELEVISION ELSE CASE WHEN (CASE WHEN ((((SEGMENT3#201 = LAPTOP) OR (SEGMENT3#201 = DESKTOP PC)) OR (SEGMENT3#201 = SERVER)) OR (SEGMENT3#201 = ALL IN ONE)) THEN COMPUTER ELSE SEGMENT3#201 END = 3D TELEVISION) THEN LED SMART TELEVISION ELSE CASE WHEN ((((SEGMENT3#201 = LAPTOP) OR (SEGMENT3#201 = DESKTOP PC)) OR (SEGMENT3#201 = SERVER)) OR (SEGMENT3#201 = ALL IN ONE)) THEN COMPUTER ELSE SEGMENT3#201 END END END = BEVERAGE COOLER) THEN REFRIGERATOR ELSE CASE WHEN (CASE WHEN (CASE WHEN ((((SEGMENT3#201 = LAPTOP) OR (SEGMENT3#201 = DESKTOP PC)) OR (SEGMENT3#201 = SERVER)) OR (SEGMENT3#201 = ALL IN ONE)) THEN COMPUTER ELSE SEGMENT3#201 END = 3D TELEVISION) THEN LED SMART TELEVISION ELSE CASE WHEN ((((SEGMENT3#201 = LAPTOP) OR (SEGMENT3#201 = DESKTOP PC)) OR (SEGMENT3#201 = SERVER)) OR (SEGMENT3#201 = ALL IN ONE)) THEN COMPUTER ELSE SEGMENT3#201 END END = LCD TELEVISION) THEN LED TELEVISION ELSE CASE WHEN (CASE WHEN ((((SEGMENT3#201 = LAPTOP) OR (SEGMENT3#201 = DESKTOP PC)) OR (SEGMENT3#201 = SERVER)) OR (SEGMENT3#201 = ALL IN ONE)) THEN COMPUTER ELSE SEGMENT3#201 END = 3D TELEVISION) THEN LED SMART TELEVISION ELSE CASE WHEN ((((SEGMENT3#201 = LAPTOP) OR (SEGMENT3#201 = DESKTOP PC)) OR (SEGMENT3#201 = SERVER)) OR (SEGMENT3#201 = ALL IN ONE)) THEN COMPUTER ELSE SEGMENT3#201 END END END END = AIRCONDITIONER-INDOOR) THEN AIRCONDITIONER ELSE CASE WHEN (CASE WHEN (CASE WHEN (CASE WHEN ((((SEGMENT3#201 = LAPTOP) OR (SEGMENT3#201 = DESKTOP PC)) OR (SEGMENT3#201 = SERVER)) OR (SEGMENT3#201 = ALL IN ONE)) THEN COMPUTER ELSE SEGMENT3#201 END = 3D TELEVISION) THEN LED SMART TELEVISION ELSE CASE WHEN ((((SEGMENT3#201 = LAPTOP) OR (SEGMENT3#201 = DESKTOP PC)) OR (SEGMENT3#201 = SERVER)) OR (SEGMENT3#201 = ALL IN ONE)) THEN COMPUTER ELSE SEGMENT3#201 END END = LCD TELEVISION) THEN LED TELEVISION ELSE CASE WHEN (CASE WHEN ((((SEGMENT3#201 = LAPTOP) OR (SEGMENT3#201 = DESKTOP PC)) OR (SEGMENT3#201 = SERVER)) OR (SEGMENT3#201 = ALL IN ONE)) THEN COMPUTER ELSE SEGMENT3#201 END = 3D TELEVISION) THEN LED SMART TELEVISION ELSE CASE WHEN ((((SEGMENT3#201 = LAPTOP) OR (SEGMENT3#201 = DESKTOP PC)) OR (SEGMENT3#201 = SERVER)) OR (SEGMENT3#201 = ALL IN ONE)) THEN COMPUTER ELSE SEGMENT3#201 END END END = BEVERAGE COOLER) THEN REFRIGERATOR ELSE CASE WHEN (CASE WHEN (CASE WHEN ((((SEGMENT3#201 = LAPTOP) OR (SEGMENT3#201 = DESKTOP PC)) OR (SEGMENT3#201 = SERVER)) OR (SEGMENT3#201 = ALL IN ONE)) THEN COMPUTER ELSE SEGMENT3#201 END = 3D TELEVISION) THEN LED SMART TELEVISION ELSE CASE WHEN ((((SEGMENT3#201 = LAPTOP) OR (SEGMENT3#201 = DESKTOP PC)) OR (SEGMENT3#201 = SERVER)) OR (SEGMENT3#201 = ALL IN ONE)) THEN COMPUTER ELSE SEGMENT3#201 END END = LCD TELEVISION) THEN LED TELEVISION ELSE CASE WHEN (CASE WHEN ((((SEGMENT3#201 = LAPTOP) OR (SEGMENT3#201 = DESKTOP PC)) OR (SEGMENT3#201 = SERVER)) OR (SEGMENT3#201 = ALL IN ONE)) THEN COMPUTER ELSE SEGMENT3#201 END = 3D TELEVISION) THEN LED SMART TELEVISION ELSE CASE WHEN ((((SEGMENT3#201 = LAPTOP) OR (SEGMENT3#201 = DESKTOP PC)) OR (SEGMENT3#201 = SERVER)) OR (SEGMENT3#201 = ALL IN ONE)) THEN COMPUTER ELSE SEGMENT3#201 END END END END END = COMPUTER)) OR (CASE WHEN (CASE WHEN (CASE WHEN (CASE WHEN (CASE WHEN ((((SEGMENT3#201 = LAPTOP) OR (SEGMENT3#201 = DESKTOP PC)) OR (SEGMENT3#201 = SERVER)) OR (SEGMENT3#201 = ALL IN ONE)) THEN COMPUTER ELSE SEGMENT3#201 END = 3D TELEVISION) THEN LED SMART TELEVISION ELSE CASE WHEN ((((SEGMENT3#201 = LAPTOP) OR (SEGMENT3#201 = DESKTOP PC)) OR (SEGMENT3#201 = SERVER)) OR (SEGMENT3#201 = ALL IN ONE)) THEN COMPUTER ELSE SEGMENT3#201 END END = LCD TELEVISION) THEN LED TELEVISION ELSE CASE WHEN (CASE WHEN ((((SEGMENT3#201 = LAPTOP) OR (SEGMENT3#201 = DESKTOP PC)) OR (SEGMENT3#201 = SERVER)) OR (SEGMENT3#201 = ALL IN ONE)) THEN COMPUTER ELSE SEGMENT3#201 END = 3D TELEVISION) THEN LED SMART TELEVISION ELSE CASE WHEN ((((SEGMENT3#201 = LAPTOP) OR (SEGMENT3#201 = DESKTOP PC)) OR (SEGMENT3#201 = SERVER)) OR (SEGMENT3#201 = ALL IN ONE)) THEN COMPUTER ELSE SEGMENT3#201 END END END = BEVERAGE COOLER) THEN REFRIGERATOR ELSE CASE WHEN (CASE WHEN (CASE WHEN ((((SEGMENT3#201 = LAPTOP) OR (SEGMENT3#201 = DESKTOP PC)) OR (SEGMENT3#201 = SERVER)) OR (SEGMENT3#201 = ALL IN ONE)) THEN COMPUTER ELSE SEGMENT3#201 END = 3D TELEVISION) THEN LED SMART TELEVISION ELSE CASE WHEN ((((SEGMENT3#201 = LAPTOP) OR (SEGMENT3#201 = DESKTOP PC)) OR (SEGMENT3#201 = SERVER)) OR (SEGMENT3#201 = ALL IN ONE)) THEN COMPUTER ELSE SEGMENT3#201 END END = LCD TELEVISION) THEN LED TELEVISION ELSE CASE WHEN (CASE WHEN ((((SEGMENT3#201 = LAPTOP) OR (SEGMENT3#201 = DESKTOP PC)) OR (SEGMENT3#201 = SERVER)) OR (SEGMENT3#201 = ALL IN ONE)) THEN COMPUTER ELSE SEGMENT3#201 END = 3D TELEVISION) THEN LED SMART TELEVISION ELSE CASE WHEN ((((SEGMENT3#201 = LAPTOP) OR (SEGMENT3#201 = DESKTOP PC)) OR (SEGMENT3#201 = SERVER)) OR (SEGMENT3#201 = ALL IN ONE)) THEN COMPUTER ELSE SEGMENT3#201 END END END END = AIRCONDITIONER-INDOOR) THEN AIRCONDITIONER ELSE CASE WHEN (CASE WHEN (CASE WHEN (CASE WHEN ((((SEGMENT3#201 = LAPTOP) OR (SEGMENT3#201 = DESKTOP PC)) OR (SEGMENT3#201 = SERVER)) OR (SEGMENT3#201 = ALL IN ONE)) THEN COMPUTER ELSE SEGMENT3#201 END = 3D TELEVISION) THEN LED SMART TELEVISION ELSE CASE WHEN ((((SEGMENT3#201 = LAPTOP) OR (SEGMENT3#201 = DESKTOP PC)) OR (SEGMENT3#201 = SERVER)) OR (SEGMENT3#201 = ALL IN ONE)) THEN COMPUTER ELSE SEGMENT3#201 END END = LCD TELEVISION) THEN LED TELEVISION ELSE CASE WHEN (CASE WHEN ((((SEGMENT3#201 = LAPTOP) OR (SEGMENT3#201 = DESKTOP PC)) OR (SEGMENT3#201 = SERVER)) OR (SEGMENT3#201 = ALL IN ONE)) THEN COMPUTER ELSE SEGMENT3#201 END = 3D TELEVISION) THEN LED SMART TELEVISION ELSE CASE WHEN ((((SEGMENT3#201 = LAPTOP) OR (SEGMENT3#201 = DESKTOP PC)) OR (SEGMENT3#201 = SERVER)) OR (SEGMENT3#201 = ALL IN ONE)) THEN COMPUTER ELSE SEGMENT3#201 END END END = BEVERAGE COOLER) THEN REFRIGERATOR ELSE CASE WHEN (CASE WHEN (CASE WHEN ((((SEGMENT3#201 = LAPTOP) OR (SEGMENT3#201 = DESKTOP PC)) OR (SEGMENT3#201 = SERVER)) OR (SEGMENT3#201 = ALL IN ONE)) THEN COMPUTER ELSE SEGMENT3#201 END = 3D TELEVISION) THEN LED SMART TELEVISION ELSE CASE WHEN ((((SEGMENT3#201 = LAPTOP) OR (SEGMENT3#201 = DESKTOP PC)) OR (SEGMENT3#201 = SERVER)) OR (SEGMENT3#201 = ALL IN ONE)) THEN COMPUTER ELSE SEGMENT3#201 END END = LCD TELEVISION) THEN LED TELEVISION ELSE CASE WHEN (CASE WHEN ((((SEGMENT3#201 = LAPTOP) OR (SEGMENT3#201 = DESKTOP PC)) OR (SEGMENT3#201 = SERVER)) OR (SEGMENT3#201 = ALL IN ONE)) THEN COMPUTER ELSE SEGMENT3#201 END = 3D TELEVISION) THEN LED SMART TELEVISION ELSE CASE WHEN ((((SEGMENT3#201 = LAPTOP) OR (SEGMENT3#201 = DESKTOP PC)) OR (SEGMENT3#201 = SERVER)) OR (SEGMENT3#201 = ALL IN ONE)) THEN COMPUTER ELSE SEGMENT3#201 END END END END END = FREEZER))) OR ((CASE WHEN (CASE WHEN (CASE WHEN (CASE WHEN (CASE WHEN ((((SEGMENT3#201 = LAPTOP) OR (SEGMENT3#201 = DESKTOP PC)) OR (SEGMENT3#201 = SERVER)) OR (SEGMENT3#201 = ALL IN ONE)) THEN COMPUTER ELSE SEGMENT3#201 END = 3D TELEVISION) THEN LED SMART TELEVISION ELSE CASE WHEN ((((SEGMENT3#201 = LAPTOP) OR (SEGMENT3#201 = DESKTOP PC)) OR (SEGMENT3#201 = SERVER)) OR (SEGMENT3#201 = ALL IN ONE)) THEN COMPUTER ELSE SEGMENT3#201 END END = LCD TELEVISION) THEN LED TELEVISION ELSE CASE WHEN (CASE WHEN ((((SEGMENT3#201 = LAPTOP) OR (SEGMENT3#201 = DESKTOP PC)) OR (SEGMENT3#201 = SERVER)) OR (SEGMENT3#201 = ALL IN ONE)) THEN COMPUTER ELSE SEGMENT3#201 END = 3D TELEVISION) THEN LED SMART TELEVISION ELSE CASE WHEN ((((SEGMENT3#201 = LAPTOP) OR (SEGMENT3#201 = DESKTOP PC)) OR (SEGMENT3#201 = SERVER)) OR (SEGMENT3#201 = ALL IN ONE)) THEN COMPUTER ELSE SEGMENT3#201 END END END = BEVERAGE COOLER) THEN REFRIGERATOR ELSE CASE WHEN (CASE WHEN (CASE WHEN ((((SEGMENT3#201 = LAPTOP) OR (SEGMENT3#201 = DESKTOP PC)) OR (SEGMENT3#201 = SERVER)) OR (SEGMENT3#201 = ALL IN ONE)) THEN COMPUTER ELSE SEGMENT3#201 END = 3D TELEVISION) THEN LED SMART TELEVISION ELSE CASE WHEN ((((SEGMENT3#201 = LAPTOP) OR (SEGMENT3#201 = DESKTOP PC)) OR (SEGMENT3#201 = SERVER)) OR (SEGMENT3#201 = ALL IN ONE)) THEN COMPUTER ELSE SEGMENT3#201 END END = LCD TELEVISION) THEN LED TELEVISION ELSE CASE WHEN (CASE WHEN ((((SEGMENT3#201 = LAPTOP) OR (SEGMENT3#201 = DESKTOP PC)) OR (SEGMENT3#201 = SERVER)) OR (SEGMENT3#201 = ALL IN ONE)) THEN COMPUTER ELSE SEGMENT3#201 END = 3D TELEVISION) THEN LED SMART TELEVISION ELSE CASE WHEN ((((SEGMENT3#201 = LAPTOP) OR (SEGMENT3#201 = DESKTOP PC)) OR (SEGMENT3#201 = SERVER)) OR (SEGMENT3#201 = ALL IN ONE)) THEN COMPUTER ELSE SEGMENT3#201 END END END END = AIRCONDITIONER-INDOOR) THEN AIRCONDITIONER ELSE CASE WHEN (CASE WHEN (CASE WHEN (CASE WHEN ((((SEGMENT3#201 = LAPTOP) OR (SEGMENT3#201 = DESKTOP PC)) OR (SEGMENT3#201 = SERVER)) OR (SEGMENT3#201 = ALL IN ONE)) THEN COMPUTER ELSE SEGMENT3#201 END = 3D TELEVISION) THEN LED SMART TELEVISION ELSE CASE WHEN ((((SEGMENT3#201 = LAPTOP) OR (SEGMENT3#201 = DESKTOP PC)) OR (SEGMENT3#201 = SERVER)) OR (SEGMENT3#201 = ALL IN ONE)) THEN COMPUTER ELSE SEGMENT3#201 END END = LCD TELEVISION) THEN LED TELEVISION ELSE CASE WHEN (CASE WHEN ((((SEGMENT3#201 = LAPTOP) OR (SEGMENT3#201 = DESKTOP PC)) OR (SEGMENT3#201 = SERVER)) OR (SEGMENT3#201 = ALL IN ONE)) THEN COMPUTER ELSE SEGMENT3#201 END = 3D TELEVISION) THEN LED SMART TELEVISION ELSE CASE WHEN ((((SEGMENT3#201 = LAPTOP) OR (SEGMENT3#201 = DESKTOP PC)) OR (SEGMENT3#201 = SERVER)) OR (SEGMENT3#201 = ALL IN ONE)) THEN COMPUTER ELSE SEGMENT3#201 END END END = BEVERAGE COOLER) THEN REFRIGERATOR ELSE CASE WHEN (CASE WHEN (CASE WHEN ((((SEGMENT3#201 = LAPTOP) OR (SEGMENT3#201 = DESKTOP PC)) OR (SEGMENT3#201 = SERVER)) OR (SEGMENT3#201 = ALL IN ONE)) THEN COMPUTER ELSE SEGMENT3#201 END = 3D TELEVISION) THEN LED SMART TELEVISION ELSE CASE WHEN ((((SEGMENT3#201 = LAPTOP) OR (SEGMENT3#201 = DESKTOP PC)) OR (SEGMENT3#201 = SERVER)) OR (SEGMENT3#201 = ALL IN ONE)) THEN COMPUTER ELSE SEGMENT3#201 END END = LCD TELEVISION) THEN LED TELEVISION ELSE CASE WHEN (CASE WHEN ((((SEGMENT3#201 = LAPTOP) OR (SEGMENT3#201 = DESKTOP PC)) OR (SEGMENT3#201 = SERVER)) OR (SEGMENT3#201 = ALL IN ONE)) THEN COMPUTER ELSE SEGMENT3#201 END = 3D TELEVISION) THEN LED SMART TELEVISION ELSE CASE WHEN ((((SEGMENT3#201 = LAPTOP) OR (SEGMENT3#201 = DESKTOP PC)) OR (SEGMENT3#201 = SERVER)) OR (SEGMENT3#201 = ALL IN ONE)) THEN COMPUTER ELSE SEGMENT3#201 END END END END END = LED TELEVISION) OR (CASE WHEN (CASE WHEN (CASE WHEN (CASE WHEN (CASE WHEN ((((SEGMENT3#201 = LAPTOP) OR (SEGMENT3#201 = DESKTOP PC)) OR (SEGMENT3#201 = SERVER)) OR (SEGMENT3#201 = ALL IN ONE)) THEN COMPUTER ELSE SEGMENT3#201 END = 3D TELEVISION) THEN LED SMART TELEVISION ELSE CASE WHEN ((((SEGMENT3#201 = LAPTOP) OR (SEGMENT3#201 = DESKTOP PC)) OR (SEGMENT3#201 = SERVER)) OR (SEGMENT3#201 = ALL IN ONE)) THEN COMPUTER ELSE SEGMENT3#201 END END = LCD TELEVISION) THEN LED TELEVISION ELSE CASE WHEN (CASE WHEN ((((SEGMENT3#201 = LAPTOP) OR (SEGMENT3#201 = DESKTOP PC)) OR (SEGMENT3#201 = SERVER)) OR (SEGMENT3#201 = ALL IN ONE)) THEN COMPUTER ELSE SEGMENT3#201 END = 3D TELEVISION) THEN LED SMART TELEVISION ELSE CASE WHEN ((((SEGMENT3#201 = LAPTOP) OR (SEGMENT3#201 = DESKTOP PC)) OR (SEGMENT3#201 = SERVER)) OR (SEGMENT3#201 = ALL IN ONE)) THEN COMPUTER ELSE SEGMENT3#201 END END END = BEVERAGE COOLER) THEN REFRIGERATOR ELSE CASE WHEN (CASE WHEN (CASE WHEN ((((SEGMENT3#201 = LAPTOP) OR (SEGMENT3#201 = DESKTOP PC)) OR (SEGMENT3#201 = SERVER)) OR (SEGMENT3#201 = ALL IN ONE)) THEN COMPUTER ELSE SEGMENT3#201 END = 3D TELEVISION) THEN LED SMART TELEVISION ELSE CASE WHEN ((((SEGMENT3#201 = LAPTOP) OR (SEGMENT3#201 = DESKTOP PC)) OR (SEGMENT3#201 = SERVER)) OR (SEGMENT3#201 = ALL IN ONE)) THEN COMPUTER ELSE SEGMENT3#201 END END = LCD TELEVISION) THEN LED TELEVISION ELSE CASE WHEN (CASE WHEN ((((SEGMENT3#201 = LAPTOP) OR (SEGMENT3#201 = DESKTOP PC)) OR (SEGMENT3#201 = SERVER)) OR (SEGMENT3#201 = ALL IN ONE)) THEN COMPUTER ELSE SEGMENT3#201 END = 3D TELEVISION) THEN LED SMART TELEVISION ELSE CASE WHEN ((((SEGMENT3#201 = LAPTOP) OR (SEGMENT3#201 = DESKTOP PC)) OR (SEGMENT3#201 = SERVER)) OR (SEGMENT3#201 = ALL IN ONE)) THEN COMPUTER ELSE SEGMENT3#201 END END END END = AIRCONDITIONER-INDOOR) THEN AIRCONDITIONER ELSE CASE WHEN (CASE WHEN (CASE WHEN (CASE WHEN ((((SEGMENT3#201 = LAPTOP) OR (SEGMENT3#201 = DESKTOP PC)) OR (SEGMENT3#201 = SERVER)) OR (SEGMENT3#201 = ALL IN ONE)) THEN COMPUTER ELSE SEGMENT3#201 END = 3D TELEVISION) THEN LED SMART TELEVISION ELSE CASE WHEN ((((SEGMENT3#201 = LAPTOP) OR (SEGMENT3#201 = DESKTOP PC)) OR (SEGMENT3#201 = SERVER)) OR (SEGMENT3#201 = ALL IN ONE)) THEN COMPUTER ELSE SEGMENT3#201 END END = LCD TELEVISION) THEN LED TELEVISION ELSE CASE WHEN (CASE WHEN ((((SEGMENT3#201 = LAPTOP) OR (SEGMENT3#201 = DESKTOP PC)) OR (SEGMENT3#201 = SERVER)) OR (SEGMENT3#201 = ALL IN ONE)) THEN COMPUTER ELSE SEGMENT3#201 END = 3D TELEVISION) THEN LED SMART TELEVISION ELSE CASE WHEN ((((SEGMENT3#201 = LAPTOP) OR (SEGMENT3#201 = DESKTOP PC)) OR (SEGMENT3#201 = SERVER)) OR (SEGMENT3#201 = ALL IN ONE)) THEN COMPUTER ELSE SEGMENT3#201 END END END = BEVERAGE COOLER) THEN REFRIGERATOR ELSE CASE WHEN (CASE WHEN (CASE WHEN ((((SEGMENT3#201 = LAPTOP) OR (SEGMENT3#201 = DESKTOP PC)) OR (SEGMENT3#201 = SERVER)) OR (SEGMENT3#201 = ALL IN ONE)) THEN COMPUTER ELSE SEGMENT3#201 END = 3D TELEVISION) THEN LED SMART TELEVISION ELSE CASE WHEN ((((SEGMENT3#201 = LAPTOP) OR (SEGMENT3#201 = DESKTOP PC)) OR (SEGMENT3#201 = SERVER)) OR (SEGMENT3#201 = ALL IN ONE)) THEN COMPUTER ELSE SEGMENT3#201 END END = LCD TELEVISION) THEN LED TELEVISION ELSE CASE WHEN (CASE WHEN ((((SEGMENT3#201 = LAPTOP) OR (SEGMENT3#201 = DESKTOP PC)) OR (SEGMENT3#201 = SERVER)) OR (SEGMENT3#201 = ALL IN ONE)) THEN COMPUTER ELSE SEGMENT3#201 END = 3D TELEVISION) THEN LED SMART TELEVISION ELSE CASE WHEN ((((SEGMENT3#201 = LAPTOP) OR (SEGMENT3#201 = DESKTOP PC)) OR (SEGMENT3#201 = SERVER)) OR (SEGMENT3#201 = ALL IN ONE)) THEN COMPUTER ELSE SEGMENT3#201 END END END END END = LED SMART TELEVISION))) OR ((CASE WHEN (CASE WHEN (CASE WHEN (CASE WHEN (CASE WHEN ((((SEGMENT3#201 = LAPTOP) OR (SEGMENT3#201 = DESKTOP PC)) OR (SEGMENT3#201 = SERVER)) OR (SEGMENT3#201 = ALL IN ONE)) THEN COMPUTER ELSE SEGMENT3#201 END = 3D TELEVISION) THEN LED SMART TELEVISION ELSE CASE WHEN ((((SEGMENT3#201 = LAPTOP) OR (SEGMENT3#201 = DESKTOP PC)) OR (SEGMENT3#201 = SERVER)) OR (SEGMENT3#201 = ALL IN ONE)) THEN COMPUTER ELSE SEGMENT3#201 END END = LCD TELEVISION) THEN LED TELEVISION ELSE CASE WHEN (CASE WHEN ((((SEGMENT3#201 = LAPTOP) OR (SEGMENT3#201 = DESKTOP PC)) OR (SEGMENT3#201 = SERVER)) OR (SEGMENT3#201 = ALL IN ONE)) THEN COMPUTER ELSE SEGMENT3#201 END = 3D TELEVISION) THEN LED SMART TELEVISION ELSE CASE WHEN ((((SEGMENT3#201 = LAPTOP) OR (SEGMENT3#201 = DESKTOP PC)) OR (SEGMENT3#201 = SERVER)) OR (SEGMENT3#201 = ALL IN ONE)) THEN COMPUTER ELSE SEGMENT3#201 END END END = BEVERAGE COOLER) THEN REFRIGERATOR ELSE CASE WHEN (CASE WHEN (CASE WHEN ((((SEGMENT3#201 = LAPTOP) OR (SEGMENT3#201 = DESKTOP PC)) OR (SEGMENT3#201 = SERVER)) OR (SEGMENT3#201 = ALL IN ONE)) THEN COMPUTER ELSE SEGMENT3#201 END = 3D TELEVISION) THEN LED SMART TELEVISION ELSE CASE WHEN ((((SEGMENT3#201 = LAPTOP) OR (SEGMENT3#201 = DESKTOP PC)) OR (SEGMENT3#201 = SERVER)) OR (SEGMENT3#201 = ALL IN ONE)) THEN COMPUTER ELSE SEGMENT3#201 END END = LCD TELEVISION) THEN LED TELEVISION ELSE CASE WHEN (CASE WHEN ((((SEGMENT3#201 = LAPTOP) OR (SEGMENT3#201 = DESKTOP PC)) OR (SEGMENT3#201 = SERVER)) OR (SEGMENT3#201 = ALL IN ONE)) THEN COMPUTER ELSE SEGMENT3#201 END = 3D TELEVISION) THEN LED SMART TELEVISION ELSE CASE WHEN ((((SEGMENT3#201 = LAPTOP) OR (SEGMENT3#201 = DESKTOP PC)) OR (SEGMENT3#201 = SERVER)) OR (SEGMENT3#201 = ALL IN ONE)) THEN COMPUTER ELSE SEGMENT3#201 END END END END = AIRCONDITIONER-INDOOR) THEN AIRCONDITIONER ELSE CASE WHEN (CASE WHEN (CASE WHEN (CASE WHEN ((((SEGMENT3#201 = LAPTOP) OR (SEGMENT3#201 = DESKTOP PC)) OR (SEGMENT3#201 = SERVER)) OR (SEGMENT3#201 = ALL IN ONE)) THEN COMPUTER ELSE SEGMENT3#201 END = 3D TELEVISION) THEN LED SMART TELEVISION ELSE CASE WHEN ((((SEGMENT3#201 = LAPTOP) OR (SEGMENT3#201 = DESKTOP PC)) OR (SEGMENT3#201 = SERVER)) OR (SEGMENT3#201 = ALL IN ONE)) THEN COMPUTER ELSE SEGMENT3#201 END END = LCD TELEVISION) THEN LED TELEVISION ELSE CASE WHEN (CASE WHEN ((((SEGMENT3#201 = LAPTOP) OR (SEGMENT3#201 = DESKTOP PC)) OR (SEGMENT3#201 = SERVER)) OR (SEGMENT3#201 = ALL IN ONE)) THEN COMPUTER ELSE SEGMENT3#201 END = 3D TELEVISION) THEN LED SMART TELEVISION ELSE CASE WHEN ((((SEGMENT3#201 = LAPTOP) OR (SEGMENT3#201 = DESKTOP PC)) OR (SEGMENT3#201 = SERVER)) OR (SEGMENT3#201 = ALL IN ONE)) THEN COMPUTER ELSE SEGMENT3#201 END END END = BEVERAGE COOLER) THEN REFRIGERATOR ELSE CASE WHEN (CASE WHEN (CASE WHEN ((((SEGMENT3#201 = LAPTOP) OR (SEGMENT3#201 = DESKTOP PC)) OR (SEGMENT3#201 = SERVER)) OR (SEGMENT3#201 = ALL IN ONE)) THEN COMPUTER ELSE SEGMENT3#201 END = 3D TELEVISION) THEN LED SMART TELEVISION ELSE CASE WHEN ((((SEGMENT3#201 = LAPTOP) OR (SEGMENT3#201 = DESKTOP PC)) OR (SEGMENT3#201 = SERVER)) OR (SEGMENT3#201 = ALL IN ONE)) THEN COMPUTER ELSE SEGMENT3#201 END END = LCD TELEVISION) THEN LED TELEVISION ELSE CASE WHEN (CASE WHEN ((((SEGMENT3#201 = LAPTOP) OR (SEGMENT3#201 = DESKTOP PC)) OR (SEGMENT3#201 = SERVER)) OR (SEGMENT3#201 = ALL IN ONE)) THEN COMPUTER ELSE SEGMENT3#201 END = 3D TELEVISION) THEN LED SMART TELEVISION ELSE CASE WHEN ((((SEGMENT3#201 = LAPTOP) OR (SEGMENT3#201 = DESKTOP PC)) OR (SEGMENT3#201 = SERVER)) OR (SEGMENT3#201 = ALL IN ONE)) THEN COMPUTER ELSE SEGMENT3#201 END END END END END = MICROWAVE OVEN) AND isnotnull(CASE WHEN (CASE WHEN (CASE WHEN (CASE WHEN (CASE WHEN ((((SEGMENT3#201 = LAPTOP) OR (SEGMENT3#201 = DESKTOP PC)) OR (SEGMENT3#201 = SERVER)) OR (SEGMENT3#201 = ALL IN ONE)) THEN COMPUTER ELSE SEGMENT3#201 END = 3D TELEVISION) THEN LED SMART TELEVISION ELSE CASE WHEN ((((SEGMENT3#201 = LAPTOP) OR (SEGMENT3#201 = DESKTOP PC)) OR (SEGMENT3#201 = SERVER)) OR (SEGMENT3#201 = ALL IN ONE)) THEN COMPUTER ELSE SEGMENT3#201 END END = LCD TELEVISION) THEN LED TELEVISION ELSE CASE WHEN (CASE WHEN ((((SEGMENT3#201 = LAPTOP) OR (SEGMENT3#201 = DESKTOP PC)) OR (SEGMENT3#201 = SERVER)) OR (SEGMENT3#201 = ALL IN ONE)) THEN COMPUTER ELSE SEGMENT3#201 END = 3D TELEVISION) THEN LED SMART TELEVISION ELSE CASE WHEN ((((SEGMENT3#201 = LAPTOP) OR (SEGMENT3#201 = DESKTOP PC)) OR (SEGMENT3#201 = SERVER)) OR (SEGMENT3#201 = ALL IN ONE)) THEN COMPUTER ELSE SEGMENT3#201 END END END = BEVERAGE COOLER) THEN REFRIGERATOR ELSE CASE WHEN (CASE WHEN (CASE WHEN ((((SEGMENT3#201 = LAPTOP) OR (SEGMENT3#201 = DESKTOP PC)) OR (SEGMENT3#201 = SERVER)) OR (SEGMENT3#201 = ALL IN ONE)) THEN COMPUTER ELSE SEGMENT3#201 END = 3D TELEVISION) THEN LED SMART TELEVISION ELSE CASE WHEN ((((SEGMENT3#201 = LAPTOP) OR (SEGMENT3#201 = DESKTOP PC)) OR (SEGMENT3#201 = SERVER)) OR (SEGMENT3#201 = ALL IN ONE)) THEN COMPUTER ELSE SEGMENT3#201 END END = LCD TELEVISION) THEN LED TELEVISION ELSE CASE WHEN (CASE WHEN ((((SEGMENT3#201 = LAPTOP) OR (SEGMENT3#201 = DESKTOP PC)) OR (SEGMENT3#201 = SERVER)) OR (SEGMENT3#201 = ALL IN ONE)) THEN COMPUTER ELSE SEGMENT3#201 END = 3D TELEVISION) THEN LED SMART TELEVISION ELSE CASE WHEN ((((SEGMENT3#201 = LAPTOP) OR (SEGMENT3#201 = DESKTOP PC)) OR (SEGMENT3#201 = SERVER)) OR (SEGMENT3#201 = ALL IN ONE)) THEN COMPUTER ELSE SEGMENT3#201 END END END END = AIRCONDITIONER-INDOOR) THEN AIRCONDITIONER ELSE CASE WHEN (CASE WHEN (CASE WHEN (CASE WHEN ((((SEGMENT3#201 = LAPTOP) OR (SEGMENT3#201 = DESKTOP PC)) OR (SEGMENT3#201 = SERVER)) OR (SEGMENT3#201 = ALL IN ONE)) THEN COMPUTER ELSE SEGMENT3#201 END = 3D TELEVISION) THEN LED SMART TELEVISION ELSE CASE WHEN ((((SEGMENT3#201 = LAPTOP) OR (SEGMENT3#201 = DESKTOP PC)) OR (SEGMENT3#201 = SERVER)) OR (SEGMENT3#201 = ALL IN ONE)) THEN COMPUTER ELSE SEGMENT3#201 END END = LCD TELEVISION) THEN LED TELEVISION ELSE CASE WHEN (CASE WHEN ((((SEGMENT3#201 = LAPTOP) OR (SEGMENT3#201 = DESKTOP PC)) OR (SEGMENT3#201 = SERVER)) OR (SEGMENT3#201 = ALL IN ONE)) THEN COMPUTER ELSE SEGMENT3#201 END = 3D TELEVISION) THEN LED SMART TELEVISION ELSE CASE WHEN ((((SEGMENT3#201 = LAPTOP) OR (SEGMENT3#201 = DESKTOP PC)) OR (SEGMENT3#201 = SERVER)) OR (SEGMENT3#201 = ALL IN ONE)) THEN COMPUTER ELSE SEGMENT3#201 END END END = BEVERAGE COOLER) THEN REFRIGERATOR ELSE CASE WHEN (CASE WHEN (CASE WHEN ((((SEGMENT3#201 = LAPTOP) OR (SEGMENT3#201 = DESKTOP PC)) OR (SEGMENT3#201 = SERVER)) OR (SEGMENT3#201 = ALL IN ONE)) THEN COMPUTER ELSE SEGMENT3#201 END = 3D TELEVISION) THEN LED SMART TELEVISION ELSE CASE WHEN ((((SEGMENT3#201 = LAPTOP) OR (SEGMENT3#201 = DESKTOP PC)) OR (SEGMENT3#201 = SERVER)) OR (SEGMENT3#201 = ALL IN ONE)) THEN COMPUTER ELSE SEGMENT3#201 END END = LCD TELEVISION) THEN LED TELEVISION ELSE CASE WHEN (CASE WHEN ((((SEGMENT3#201 = LAPTOP) OR (SEGMENT3#201 = DESKTOP PC)) OR (SEGMENT3#201 = SERVER)) OR (SEGMENT3#201 = ALL IN ONE)) THEN COMPUTER ELSE SEGMENT3#201 END = 3D TELEVISION) THEN LED SMART TELEVISION ELSE CASE WHEN ((((SEGMENT3#201 = LAPTOP) OR (SEGMENT3#201 = DESKTOP PC)) OR (SEGMENT3#201 = SERVER)) OR (SEGMENT3#201 = ALL IN ONE)) THEN COMPUTER ELSE SEGMENT3#201 END END END END END))) OR ((CASE WHEN (CASE WHEN (CASE WHEN (CASE WHEN (CASE WHEN ((((SEGMENT3#201 = LAPTOP) OR (SEGMENT3#201 = DESKTOP PC)) OR (SEGMENT3#201 = SERVER)) OR (SEGMENT3#201 = ALL IN ONE)) THEN COMPUTER ELSE SEGMENT3#201 END = 3D TELEVISION) THEN LED SMART TELEVISION ELSE CASE WHEN ((((SEGMENT3#201 = LAPTOP) OR (SEGMENT3#201 = DESKTOP PC)) OR (SEGMENT3#201 = SERVER)) OR (SEGMENT3#201 = ALL IN ONE)) THEN COMPUTER ELSE SEGMENT3#201 END END = LCD TELEVISION) THEN LED TELEVISION ELSE CASE WHEN (CASE WHEN ((((SEGMENT3#201 = LAPTOP) OR (SEGMENT3#201 = DESKTOP PC)) OR (SEGMENT3#201 = SERVER)) OR (SEGMENT3#201 = ALL IN ONE)) THEN COMPUTER ELSE SEGMENT3#201 END = 3D TELEVISION) THEN LED SMART TELEVISION ELSE CASE WHEN ((((SEGMENT3#201 = LAPTOP) OR (SEGMENT3#201 = DESKTOP PC)) OR (SEGMENT3#201 = SERVER)) OR (SEGMENT3#201 = ALL IN ONE)) THEN COMPUTER ELSE SEGMENT3#201 END END END = BEVERAGE COOLER) THEN REFRIGERATOR ELSE CASE WHEN (CASE WHEN (CASE WHEN ((((SEGMENT3#201 = LAPTOP) OR (SEGMENT3#201 = DESKTOP PC)) OR (SEGMENT3#201 = SERVER)) OR (SEGMENT3#201 = ALL IN ONE)) THEN COMPUTER ELSE SEGMENT3#201 END = 3D TELEVISION) THEN LED SMART TELEVISION ELSE CASE WHEN ((((SEGMENT3#201 = LAPTOP) OR (SEGMENT3#201 = DESKTOP PC)) OR (SEGMENT3#201 = SERVER)) OR (SEGMENT3#201 = ALL IN ONE)) THEN COMPUTER ELSE SEGMENT3#201 END END = LCD TELEVISION) THEN LED TELEVISION ELSE CASE WHEN (CASE WHEN ((((SEGMENT3#201 = LAPTOP) OR (SEGMENT3#201 = DESKTOP PC)) OR (SEGMENT3#201 = SERVER)) OR (SEGMENT3#201 = ALL IN ONE)) THEN COMPUTER ELSE SEGMENT3#201 END = 3D TELEVISION) THEN LED SMART TELEVISION ELSE CASE WHEN ((((SEGMENT3#201 = LAPTOP) OR (SEGMENT3#201 = DESKTOP PC)) OR (SEGMENT3#201 = SERVER)) OR (SEGMENT3#201 = ALL IN ONE)) THEN COMPUTER ELSE SEGMENT3#201 END END END END = AIRCONDITIONER-INDOOR) THEN AIRCONDITIONER ELSE CASE WHEN (CASE WHEN (CASE WHEN (CASE WHEN ((((SEGMENT3#201 = LAPTOP) OR (SEGMENT3#201 = DESKTOP PC)) OR (SEGMENT3#201 = SERVER)) OR (SEGMENT3#201 = ALL IN ONE)) THEN COMPUTER ELSE SEGMENT3#201 END = 3D TELEVISION) THEN LED SMART TELEVISION ELSE CASE WHEN ((((SEGMENT3#201 = LAPTOP) OR (SEGMENT3#201 = DESKTOP PC)) OR (SEGMENT3#201 = SERVER)) OR (SEGMENT3#201 = ALL IN ONE)) THEN COMPUTER ELSE SEGMENT3#201 END END = LCD TELEVISION) THEN LED TELEVISION ELSE CASE WHEN (CASE WHEN ((((SEGMENT3#201 = LAPTOP) OR (SEGMENT3#201 = DESKTOP PC)) OR (SEGMENT3#201 = SERVER)) OR (SEGMENT3#201 = ALL IN ONE)) THEN COMPUTER ELSE SEGMENT3#201 END = 3D TELEVISION) THEN LED SMART TELEVISION ELSE CASE WHEN ((((SEGMENT3#201 = LAPTOP) OR (SEGMENT3#201 = DESKTOP PC)) OR (SEGMENT3#201 = SERVER)) OR (SEGMENT3#201 = ALL IN ONE)) THEN COMPUTER ELSE SEGMENT3#201 END END END = BEVERAGE COOLER) THEN REFRIGERATOR ELSE CASE WHEN (CASE WHEN (CASE WHEN ((((SEGMENT3#201 = LAPTOP) OR (SEGMENT3#201 = DESKTOP PC)) OR (SEGMENT3#201 = SERVER)) OR (SEGMENT3#201 = ALL IN ONE)) THEN COMPUTER ELSE SEGMENT3#201 END = 3D TELEVISION) THEN LED SMART TELEVISION ELSE CASE WHEN ((((SEGMENT3#201 = LAPTOP) OR (SEGMENT3#201 = DESKTOP PC)) OR (SEGMENT3#201 = SERVER)) OR (SEGMENT3#201 = ALL IN ONE)) THEN COMPUTER ELSE SEGMENT3#201 END END = LCD TELEVISION) THEN LED TELEVISION ELSE CASE WHEN (CASE WHEN ((((SEGMENT3#201 = LAPTOP) OR (SEGMENT3#201 = DESKTOP PC)) OR (SEGMENT3#201 = SERVER)) OR (SEGMENT3#201 = ALL IN ONE)) THEN COMPUTER ELSE SEGMENT3#201 END = 3D TELEVISION) THEN LED SMART TELEVISION ELSE CASE WHEN ((((SEGMENT3#201 = LAPTOP) OR (SEGMENT3#201 = DESKTOP PC)) OR (SEGMENT3#201 = SERVER)) OR (SEGMENT3#201 = ALL IN ONE)) THEN COMPUTER ELSE SEGMENT3#201 END END END END END = REFRIGERATOR) AND isnotnull(CASE WHEN (CASE WHEN (CASE WHEN (CASE WHEN (CASE WHEN ((((SEGMENT3#201 = LAPTOP) OR (SEGMENT3#201 = DESKTOP PC)) OR (SEGMENT3#201 = SERVER)) OR (SEGMENT3#201 = ALL IN ONE)) THEN COMPUTER ELSE SEGMENT3#201 END = 3D TELEVISION) THEN LED SMART TELEVISION ELSE CASE WHEN ((((SEGMENT3#201 = LAPTOP) OR (SEGMENT3#201 = DESKTOP PC)) OR (SEGMENT3#201 = SERVER)) OR (SEGMENT3#201 = ALL IN ONE)) THEN COMPUTER ELSE SEGMENT3#201 END END = LCD TELEVISION) THEN LED TELEVISION ELSE CASE WHEN (CASE WHEN ((((SEGMENT3#201 = LAPTOP) OR (SEGMENT3#201 = DESKTOP PC)) OR (SEGMENT3#201 = SERVER)) OR (SEGMENT3#201 = ALL IN ONE)) THEN COMPUTER ELSE SEGMENT3#201 END = 3D TELEVISION) THEN LED SMART TELEVISION ELSE CASE WHEN ((((SEGMENT3#201 = LAPTOP) OR (SEGMENT3#201 = DESKTOP PC)) OR (SEGMENT3#201 = SERVER)) OR (SEGMENT3#201 = ALL IN ONE)) THEN COMPUTER ELSE SEGMENT3#201 END END END = BEVERAGE COOLER) THEN REFRIGERATOR ELSE CASE WHEN (CASE WHEN (CASE WHEN ((((SEGMENT3#201 = LAPTOP) OR (SEGMENT3#201 = DESKTOP PC)) OR (SEGMENT3#201 = SERVER)) OR (SEGMENT3#201 = ALL IN ONE)) THEN COMPUTER ELSE SEGMENT3#201 END = 3D TELEVISION) THEN LED SMART TELEVISION ELSE CASE WHEN ((((SEGMENT3#201 = LAPTOP) OR (SEGMENT3#201 = DESKTOP PC)) OR (SEGMENT3#201 = SERVER)) OR (SEGMENT3#201 = ALL IN ONE)) THEN COMPUTER ELSE SEGMENT3#201 END END = LCD TELEVISION) THEN LED TELEVISION ELSE CASE WHEN (CASE WHEN ((((SEGMENT3#201 = LAPTOP) OR (SEGMENT3#201 = DESKTOP PC)) OR (SEGMENT3#201 = SERVER)) OR (SEGMENT3#201 = ALL IN ONE)) THEN COMPUTER ELSE SEGMENT3#201 END = 3D TELEVISION) THEN LED SMART TELEVISION ELSE CASE WHEN ((((SEGMENT3#201 = LAPTOP) OR (SEGMENT3#201 = DESKTOP PC)) OR (SEGMENT3#201 = SERVER)) OR (SEGMENT3#201 = ALL IN ONE)) THEN COMPUTER ELSE SEGMENT3#201 END END END END = AIRCONDITIONER-INDOOR) THEN AIRCONDITIONER ELSE CASE WHEN (CASE WHEN (CASE WHEN (CASE WHEN ((((SEGMENT3#201 = LAPTOP) OR (SEGMENT3#201 = DESKTOP PC)) OR (SEGMENT3#201 = SERVER)) OR (SEGMENT3#201 = ALL IN ONE)) THEN COMPUTER ELSE SEGMENT3#201 END = 3D TELEVISION) THEN LED SMART TELEVISION ELSE CASE WHEN ((((SEGMENT3#201 = LAPTOP) OR (SEGMENT3#201 = DESKTOP PC)) OR (SEGMENT3#201 = SERVER)) OR (SEGMENT3#201 = ALL IN ONE)) THEN COMPUTER ELSE SEGMENT3#201 END END = LCD TELEVISION) THEN LED TELEVISION ELSE CASE WHEN (CASE WHEN ((((SEGMENT3#201 = LAPTOP) OR (SEGMENT3#201 = DESKTOP PC)) OR (SEGMENT3#201 = SERVER)) OR (SEGMENT3#201 = ALL IN ONE)) THEN COMPUTER ELSE SEGMENT3#201 END = 3D TELEVISION) THEN LED SMART TELEVISION ELSE CASE WHEN ((((SEGMENT3#201 = LAPTOP) OR (SEGMENT3#201 = DESKTOP PC)) OR (SEGMENT3#201 = SERVER)) OR (SEGMENT3#201 = ALL IN ONE)) THEN COMPUTER ELSE SEGMENT3#201 END END END = BEVERAGE COOLER) THEN REFRIGERATOR ELSE CASE WHEN (CASE WHEN (CASE WHEN ((((SEGMENT3#201 = LAPTOP) OR (SEGMENT3#201 = DESKTOP PC)) OR (SEGMENT3#201 = SERVER)) OR (SEGMENT3#201 = ALL IN ONE)) THEN COMPUTER ELSE SEGMENT3#201 END = 3D TELEVISION) THEN LED SMART TELEVISION ELSE CASE WHEN ((((SEGMENT3#201 = LAPTOP) OR (SEGMENT3#201 = DESKTOP PC)) OR (SEGMENT3#201 = SERVER)) OR (SEGMENT3#201 = ALL IN ONE)) THEN COMPUTER ELSE SEGMENT3#201 END END = LCD TELEVISION) THEN LED TELEVISION ELSE CASE WHEN (CASE WHEN ((((SEGMENT3#201 = LAPTOP) OR (SEGMENT3#201 = DESKTOP PC)) OR (SEGMENT3#201 = SERVER)) OR (SEGMENT3#201 = ALL IN ONE)) THEN COMPUTER ELSE SEGMENT3#201 END = 3D TELEVISION) THEN LED SMART TELEVISION ELSE CASE WHEN ((((SEGMENT3#201 = LAPTOP) OR (SEGMENT3#201 = DESKTOP PC)) OR (SEGMENT3#201 = SERVER)) OR (SEGMENT3#201 = ALL IN ONE)) THEN COMPUTER ELSE SEGMENT3#201 END END END END END))) OR ((CASE WHEN (CASE WHEN (CASE WHEN (CASE WHEN (CASE WHEN ((((SEGMENT3#201 = LAPTOP) OR (SEGMENT3#201 = DESKTOP PC)) OR (SEGMENT3#201 = SERVER)) OR (SEGMENT3#201 = ALL IN ONE)) THEN COMPUTER ELSE SEGMENT3#201 END = 3D TELEVISION) THEN LED SMART TELEVISION ELSE CASE WHEN ((((SEGMENT3#201 = LAPTOP) OR (SEGMENT3#201 = DESKTOP PC)) OR (SEGMENT3#201 = SERVER)) OR (SEGMENT3#201 = ALL IN ONE)) THEN COMPUTER ELSE SEGMENT3#201 END END = LCD TELEVISION) THEN LED TELEVISION ELSE CASE WHEN (CASE WHEN ((((SEGMENT3#201 = LAPTOP) OR (SEGMENT3#201 = DESKTOP PC)) OR (SEGMENT3#201 = SERVER)) OR (SEGMENT3#201 = ALL IN ONE)) THEN COMPUTER ELSE SEGMENT3#201 END = 3D TELEVISION) THEN LED SMART TELEVISION ELSE CASE WHEN ((((SEGMENT3#201 = LAPTOP) OR (SEGMENT3#201 = DESKTOP PC)) OR (SEGMENT3#201 = SERVER)) OR (SEGMENT3#201 = ALL IN ONE)) THEN COMPUTER ELSE SEGMENT3#201 END END END = BEVERAGE COOLER) THEN REFRIGERATOR ELSE CASE WHEN (CASE WHEN (CASE WHEN ((((SEGMENT3#201 = LAPTOP) OR (SEGMENT3#201 = DESKTOP PC)) OR (SEGMENT3#201 = SERVER)) OR (SEGMENT3#201 = ALL IN ONE)) THEN COMPUTER ELSE SEGMENT3#201 END = 3D TELEVISION) THEN LED SMART TELEVISION ELSE CASE WHEN ((((SEGMENT3#201 = LAPTOP) OR (SEGMENT3#201 = DESKTOP PC)) OR (SEGMENT3#201 = SERVER)) OR (SEGMENT3#201 = ALL IN ONE)) THEN COMPUTER ELSE SEGMENT3#201 END END = LCD TELEVISION) THEN LED TELEVISION ELSE CASE WHEN (CASE WHEN ((((SEGMENT3#201 = LAPTOP) OR (SEGMENT3#201 = DESKTOP PC)) OR (SEGMENT3#201 = SERVER)) OR (SEGMENT3#201 = ALL IN ONE)) THEN COMPUTER ELSE SEGMENT3#201 END = 3D TELEVISION) THEN LED SMART TELEVISION ELSE CASE WHEN ((((SEGMENT3#201 = LAPTOP) OR (SEGMENT3#201 = DESKTOP PC)) OR (SEGMENT3#201 = SERVER)) OR (SEGMENT3#201 = ALL IN ONE)) THEN COMPUTER ELSE SEGMENT3#201 END END END END = AIRCONDITIONER-INDOOR) THEN AIRCONDITIONER ELSE CASE WHEN (CASE WHEN (CASE WHEN (CASE WHEN ((((SEGMENT3#201 = LAPTOP) OR (SEGMENT3#201 = DESKTOP PC)) OR (SEGMENT3#201 = SERVER)) OR (SEGMENT3#201 = ALL IN ONE)) THEN COMPUTER ELSE SEGMENT3#201 END = 3D TELEVISION) THEN LED SMART TELEVISION ELSE CASE WHEN ((((SEGMENT3#201 = LAPTOP) OR (SEGMENT3#201 = DESKTOP PC)) OR (SEGMENT3#201 = SERVER)) OR (SEGMENT3#201 = ALL IN ONE)) THEN COMPUTER ELSE SEGMENT3#201 END END = LCD TELEVISION) THEN LED TELEVISION ELSE CASE WHEN (CASE WHEN ((((SEGMENT3#201 = LAPTOP) OR (SEGMENT3#201 = DESKTOP PC)) OR (SEGMENT3#201 = SERVER)) OR (SEGMENT3#201 = ALL IN ONE)) THEN COMPUTER ELSE SEGMENT3#201 END = 3D TELEVISION) THEN LED SMART TELEVISION ELSE CASE WHEN ((((SEGMENT3#201 = LAPTOP) OR (SEGMENT3#201 = DESKTOP PC)) OR (SEGMENT3#201 = SERVER)) OR (SEGMENT3#201 = ALL IN ONE)) THEN COMPUTER ELSE SEGMENT3#201 END END END = BEVERAGE COOLER) THEN REFRIGERATOR ELSE CASE WHEN (CASE WHEN (CASE WHEN ((((SEGMENT3#201 = LAPTOP) OR (SEGMENT3#201 = DESKTOP PC)) OR (SEGMENT3#201 = SERVER)) OR (SEGMENT3#201 = ALL IN ONE)) THEN COMPUTER ELSE SEGMENT3#201 END = 3D TELEVISION) THEN LED SMART TELEVISION ELSE CASE WHEN ((((SEGMENT3#201 = LAPTOP) OR (SEGMENT3#201 = DESKTOP PC)) OR (SEGMENT3#201 = SERVER)) OR (SEGMENT3#201 = ALL IN ONE)) THEN COMPUTER ELSE SEGMENT3#201 END END = LCD TELEVISION) THEN LED TELEVISION ELSE CASE WHEN (CASE WHEN ((((SEGMENT3#201 = LAPTOP) OR (SEGMENT3#201 = DESKTOP PC)) OR (SEGMENT3#201 = SERVER)) OR (SEGMENT3#201 = ALL IN ONE)) THEN COMPUTER ELSE SEGMENT3#201 END = 3D TELEVISION) THEN LED SMART TELEVISION ELSE CASE WHEN ((((SEGMENT3#201 = LAPTOP) OR (SEGMENT3#201 = DESKTOP PC)) OR (SEGMENT3#201 = SERVER)) OR (SEGMENT3#201 = ALL IN ONE)) THEN COMPUTER ELSE SEGMENT3#201 END END END END END = WASHING MACHINE) AND isnotnull(CASE WHEN (CASE WHEN (CASE WHEN (CASE WHEN (CASE WHEN ((((SEGMENT3#201 = LAPTOP) OR (SEGMENT3#201 = DESKTOP PC)) OR (SEGMENT3#201 = SERVER)) OR (SEGMENT3#201 = ALL IN ONE)) THEN COMPUTER ELSE SEGMENT3#201 END = 3D TELEVISION) THEN LED SMART TELEVISION ELSE CASE WHEN ((((SEGMENT3#201 = LAPTOP) OR (SEGMENT3#201 = DESKTOP PC)) OR (SEGMENT3#201 = SERVER)) OR (SEGMENT3#201 = ALL IN ONE)) THEN COMPUTER ELSE SEGMENT3#201 END END = LCD TELEVISION) THEN LED TELEVISION ELSE CASE WHEN (CASE WHEN ((((SEGMENT3#201 = LAPTOP) OR (SEGMENT3#201 = DESKTOP PC)) OR (SEGMENT3#201 = SERVER)) OR (SEGMENT3#201 = ALL IN ONE)) THEN COMPUTER ELSE SEGMENT3#201 END = 3D TELEVISION) THEN LED SMART TELEVISION ELSE CASE WHEN ((((SEGMENT3#201 = LAPTOP) OR (SEGMENT3#201 = DESKTOP PC)) OR (SEGMENT3#201 = SERVER)) OR (SEGMENT3#201 = ALL IN ONE)) THEN COMPUTER ELSE SEGMENT3#201 END END END = BEVERAGE COOLER) THEN REFRIGERATOR ELSE CASE WHEN (CASE WHEN (CASE WHEN ((((SEGMENT3#201 = LAPTOP) OR (SEGMENT3#201 = DESKTOP PC)) OR (SEGMENT3#201 = SERVER)) OR (SEGMENT3#201 = ALL IN ONE)) THEN COMPUTER ELSE SEGMENT3#201 END = 3D TELEVISION) THEN LED SMART TELEVISION ELSE CASE WHEN ((((SEGMENT3#201 = LAPTOP) OR (SEGMENT3#201 = DESKTOP PC)) OR (SEGMENT3#201 = SERVER)) OR (SEGMENT3#201 = ALL IN ONE)) THEN COMPUTER ELSE SEGMENT3#201 END END = LCD TELEVISION) THEN LED TELEVISION ELSE CASE WHEN (CASE WHEN ((((SEGMENT3#201 = LAPTOP) OR (SEGMENT3#201 = DESKTOP PC)) OR (SEGMENT3#201 = SERVER)) OR (SEGMENT3#201 = ALL IN ONE)) THEN COMPUTER ELSE SEGMENT3#201 END = 3D TELEVISION) THEN LED SMART TELEVISION ELSE CASE WHEN ((((SEGMENT3#201 = LAPTOP) OR (SEGMENT3#201 = DESKTOP PC)) OR (SEGMENT3#201 = SERVER)) OR (SEGMENT3#201 = ALL IN ONE)) THEN COMPUTER ELSE SEGMENT3#201 END END END END = AIRCONDITIONER-INDOOR) THEN AIRCONDITIONER ELSE CASE WHEN (CASE WHEN (CASE WHEN (CASE WHEN ((((SEGMENT3#201 = LAPTOP) OR (SEGMENT3#201 = DESKTOP PC)) OR (SEGMENT3#201 = SERVER)) OR (SEGMENT3#201 = ALL IN ONE)) THEN COMPUTER ELSE SEGMENT3#201 END = 3D TELEVISION) THEN LED SMART TELEVISION ELSE CASE WHEN ((((SEGMENT3#201 = LAPTOP) OR (SEGMENT3#201 = DESKTOP PC)) OR (SEGMENT3#201 = SERVER)) OR (SEGMENT3#201 = ALL IN ONE)) THEN COMPUTER ELSE SEGMENT3#201 END END = LCD TELEVISION) THEN LED TELEVISION ELSE CASE WHEN (CASE WHEN ((((SEGMENT3#201 = LAPTOP) OR (SEGMENT3#201 = DESKTOP PC)) OR (SEGMENT3#201 = SERVER)) OR (SEGMENT3#201 = ALL IN ONE)) THEN COMPUTER ELSE SEGMENT3#201 END = 3D TELEVISION) THEN LED SMART TELEVISION ELSE CASE WHEN ((((SEGMENT3#201 = LAPTOP) OR (SEGMENT3#201 = DESKTOP PC)) OR (SEGMENT3#201 = SERVER)) OR (SEGMENT3#201 = ALL IN ONE)) THEN COMPUTER ELSE SEGMENT3#201 END END END = BEVERAGE COOLER) THEN REFRIGERATOR ELSE CASE WHEN (CASE WHEN (CASE WHEN ((((SEGMENT3#201 = LAPTOP) OR (SEGMENT3#201 = DESKTOP PC)) OR (SEGMENT3#201 = SERVER)) OR (SEGMENT3#201 = ALL IN ONE)) THEN COMPUTER ELSE SEGMENT3#201 END = 3D TELEVISION) THEN LED SMART TELEVISION ELSE CASE WHEN ((((SEGMENT3#201 = LAPTOP) OR (SEGMENT3#201 = DESKTOP PC)) OR (SEGMENT3#201 = SERVER)) OR (SEGMENT3#201 = ALL IN ONE)) THEN COMPUTER ELSE SEGMENT3#201 END END = LCD TELEVISION) THEN LED TELEVISION ELSE CASE WHEN (CASE WHEN ((((SEGMENT3#201 = LAPTOP) OR (SEGMENT3#201 = DESKTOP PC)) OR (SEGMENT3#201 = SERVER)) OR (SEGMENT3#201 = ALL IN ONE)) THEN COMPUTER ELSE SEGMENT3#201 END = 3D TELEVISION) THEN LED SMART TELEVISION ELSE CASE WHEN ((((SEGMENT3#201 = LAPTOP) OR (SEGMENT3#201 = DESKTOP PC)) OR (SEGMENT3#201 = SERVER)) OR (SEGMENT3#201 = ALL IN ONE)) THEN COMPUTER ELSE SEGMENT3#201 END END END END END))), isnotnull(CASE WHEN (CASE WHEN (CASE WHEN (CASE WHEN (CASE WHEN ((((SEGMENT3#201 = LAPTOP) OR (SEGMENT3#201 = DESKTOP PC)) OR (SEGMENT3#201 = SERVER)) OR (SEGMENT3#201 = ALL IN ONE)) THEN COMPUTER ELSE SEGMENT3#201 END = 3D TELEVISION) THEN LED SMART TELEVISION ELSE CASE WHEN ((((SEGMENT3#201 = LAPTOP) OR (SEGMENT3#201 = DESKTOP PC)) OR (SEGMENT3#201 = SERVER)) OR (SEGMENT3#201 = ALL IN ONE)) THEN COMPUTER ELSE SEGMENT3#201 END END = LCD TELEVISION) THEN LED TELEVISION ELSE CASE WHEN (CASE WHEN ((((SEGMENT3#201 = LAPTOP) OR (SEGMENT3#201 = DESKTOP PC)) OR (SEGMENT3#201 = SERVER)) OR (SEGMENT3#201 = ALL IN ONE)) THEN COMPUTER ELSE SEGMENT3#201 END = 3D TELEVISION) THEN LED SMART TELEVISION ELSE CASE WHEN ((((SEGMENT3#201 = LAPTOP) OR (SEGMENT3#201 = DESKTOP PC)) OR (SEGMENT3#201 = SERVER)) OR (SEGMENT3#201 = ALL IN ONE)) THEN COMPUTER ELSE SEGMENT3#201 END END END = BEVERAGE COOLER) THEN REFRIGERATOR ELSE CASE WHEN (CASE WHEN (CASE WHEN ((((SEGMENT3#201 = LAPTOP) OR (SEGMENT3#201 = DESKTOP PC)) OR (SEGMENT3#201 = SERVER)) OR (SEGMENT3#201 = ALL IN ONE)) THEN COMPUTER ELSE SEGMENT3#201 END = 3D TELEVISION) THEN LED SMART TELEVISION ELSE CASE WHEN ((((SEGMENT3#201 = LAPTOP) OR (SEGMENT3#201 = DESKTOP PC)) OR (SEGMENT3#201 = SERVER)) OR (SEGMENT3#201 = ALL IN ONE)) THEN COMPUTER ELSE SEGMENT3#201 END END = LCD TELEVISION) THEN LED TELEVISION ELSE CASE WHEN (CASE WHEN ((((SEGMENT3#201 = LAPTOP) OR (SEGMENT3#201 = DESKTOP PC)) OR (SEGMENT3#201 = SERVER)) OR (SEGMENT3#201 = ALL IN ONE)) THEN COMPUTER ELSE SEGMENT3#201 END = 3D TELEVISION) THEN LED SMART TELEVISION ELSE CASE WHEN ((((SEGMENT3#201 = LAPTOP) OR (SEGMENT3#201 = DESKTOP PC)) OR (SEGMENT3#201 = SERVER)) OR (SEGMENT3#201 = ALL IN ONE)) THEN COMPUTER ELSE SEGMENT3#201 END END END END = AIRCONDITIONER-INDOOR) THEN AIRCONDITIONER ELSE CASE WHEN (CASE WHEN (CASE WHEN (CASE WHEN ((((SEGMENT3#201 = LAPTOP) OR (SEGMENT3#201 = DESKTOP PC)) OR (SEGMENT3#201 = SERVER)) OR (SEGMENT3#201 = ALL IN ONE)) THEN COMPUTER ELSE SEGMENT3#201 END = 3D TELEVISION) THEN LED SMART TELEVISION ELSE CASE WHEN ((((SEGMENT3#201 = LAPTOP) OR (SEGMENT3#201 = DESKTOP PC)) OR (SEGMENT3#201 = SERVER)) OR (SEGMENT3#201 = ALL IN ONE)) THEN COMPUTER ELSE SEGMENT3#201 END END = LCD TELEVISION) THEN LED TELEVISION ELSE CASE WHEN (CASE WHEN ((((SEGMENT3#201 = LAPTOP) OR (SEGMENT3#201 = DESKTOP PC)) OR (SEGMENT3#201 = SERVER)) OR (SEGMENT3#201 = ALL IN ONE)) THEN COMPUTER ELSE SEGMENT3#201 END = 3D TELEVISION) THEN LED SMART TELEVISION ELSE CASE WHEN ((((SEGMENT3#201 = LAPTOP) OR (SEGMENT3#201 = DESKTOP PC)) OR (SEGMENT3#201 = SERVER)) OR (SEGMENT3#201 = ALL IN ONE)) THEN COMPUTER ELSE SEGMENT3#201 END END END = BEVERAGE COOLER) THEN REFRIGERATOR ELSE CASE WHEN (CASE WHEN (CASE WHEN ((((SEGMENT3#201 = LAPTOP) OR (SEGMENT3#201 = DESKTOP PC)) OR (SEGMENT3#201 = SERVER)) OR (SEGMENT3#201 = ALL IN ONE)) THEN COMPUTER ELSE SEGMENT3#201 END = 3D TELEVISION) THEN LED SMART TELEVISION ELSE CASE WHEN ((((SEGMENT3#201 = LAPTOP) OR (SEGMENT3#201 = DESKTOP PC)) OR (SEGMENT3#201 = SERVER)) OR (SEGMENT3#201 = ALL IN ONE)) THEN COMPUTER ELSE SEGMENT3#201 END END = LCD TELEVISION) THEN LED TELEVISION ELSE CASE WHEN (CASE WHEN ((((SEGMENT3#201 = LAPTOP) OR (SEGMENT3#201 = DESKTOP PC)) OR (SEGMENT3#201 = SERVER)) OR (SEGMENT3#201 = ALL IN ONE)) THEN COMPUTER ELSE SEGMENT3#201 END = 3D TELEVISION) THEN LED SMART TELEVISION ELSE CASE WHEN ((((SEGMENT3#201 = LAPTOP) OR (SEGMENT3#201 = DESKTOP PC)) OR (SEGMENT3#201 = SERVER)) OR (SEGMENT3#201 = ALL IN ONE)) THEN COMPUTER ELSE SEGMENT3#201 END END END END END)]\n",
      "         +- InMemoryRelation [PLAZA_NAME#571, CustomerName#619, CUSTOMER_PHONE_NO#399, CUSTOMER_TYPE#404, INVOICE_NO#83, CREATED_BY#19, S_TYPE#55, IS_EMPLOYEE#65, CUSTOMER_ID#20, SID#380, PLAZA_ID#48, RATE#168, QUANTITY#167, S_TOTAL#169, REBATE#161, G_TOTAL#166, SALE_MST_ID#156, PRODUCT_ID#154, SEGMENT3#201, SEGMENT5#203, prodid#409, date_of_registration#665], StorageLevel(disk, memory, deserialized, 1 replicas)\n",
      "               +- *(11) Project [NAME#333 AS PLAZA_NAME#571, cname#394 AS CustomerName#619, CUSTOMER_PHONE_NO#399, CUSTOMER_TYPE#404, INVOICE_NO#83, CREATED_BY#19, S_TYPE#55, IS_EMPLOYEE#65, CUSTOMER_ID#20, SID#380, PLAZA_ID#48, RATE#168, QUANTITY#167, S_TOTAL#169, REBATE#161, G_TOTAL#166, SALE_MST_ID#156, PRODUCT_ID#154, SEGMENT3#201, SEGMENT5#203, prodid#409, cast(CREATED#18 as date) AS date_of_registration#665]\n",
      "                  +- *(11) BroadcastHashJoin [knownfloatingpointnormalized(normalizenanandzero(pid#377))], [knownfloatingpointnormalized(normalizenanandzero(PLAZA_ID#48))], Inner, BuildLeft, false\n",
      "                     :- BroadcastExchange HashedRelationBroadcastMode(List(knownfloatingpointnormalized(normalizenanandzero(input[1, double, true]))),false), [id=#100]\n",
      "                     :  +- *(1) Project [NAME#333, ID#323 AS pid#377]\n",
      "                     :     +- *(1) Filter isnotnull(ID#323)\n",
      "                     :        +- BatchScan[ID#323, NAME#333] spark_catalog.pos.pos___POS_PLAZAS [filters=ID IS NOT NULL]\n",
      "                     +- *(11) Project [cname#394, CUSTOMER_PHONE_NO#399, CUSTOMER_TYPE#404, INVOICE_NO#83, CREATED#18, CREATED_BY#19, S_TYPE#55, IS_EMPLOYEE#65, CUSTOMER_ID#20, SID#380, PLAZA_ID#48, RATE#168, QUANTITY#167, S_TOTAL#169, REBATE#161, G_TOTAL#166, SALE_MST_ID#156, PRODUCT_ID#154, SEGMENT3#201, SEGMENT5#203, prodid#409]\n",
      "                        +- *(11) SortMergeJoin [knownfloatingpointnormalized(normalizenanandzero(CID#389))], [knownfloatingpointnormalized(normalizenanandzero(CUSTOMER_ID#20))], Inner\n",
      "                           :- *(3) Sort [knownfloatingpointnormalized(normalizenanandzero(CID#389)) ASC NULLS FIRST], false, 0\n",
      "                           :  +- Exchange hashpartitioning(knownfloatingpointnormalized(normalizenanandzero(CID#389)), 200), ENSURE_REQUIREMENTS, [id=#106]\n",
      "                           :     +- *(2) Project [NAME#259 AS cname#394, MOBILE_PHONE#256 AS CUSTOMER_PHONE_NO#399, C_TYPE#247 AS CUSTOMER_TYPE#404, ID#246 AS CID#389]\n",
      "                           :        +- *(2) Filter ((Contains(C_TYPE#247, Retail) OR Contains(C_TYPE#247, Hire)) AND isnotnull(ID#246))\n",
      "                           :           +- BatchScan[ID#246, C_TYPE#247, MOBILE_PHONE#256, NAME#259] spark_catalog.pos.pos___POS_CUSTOMERS [filters=ID IS NOT NULL]\n",
      "                           +- *(10) Sort [knownfloatingpointnormalized(normalizenanandzero(CUSTOMER_ID#20)) ASC NULLS FIRST], false, 0\n",
      "                              +- Exchange hashpartitioning(knownfloatingpointnormalized(normalizenanandzero(CUSTOMER_ID#20)), 200), ENSURE_REQUIREMENTS, [id=#137]\n",
      "                                 +- *(9) BroadcastHashJoin [knownfloatingpointnormalized(normalizenanandzero(PRODUCT_ID#154))], [knownfloatingpointnormalized(normalizenanandzero(prodid#409))], Inner, BuildRight, false\n",
      "                                    :- *(9) SortMergeJoin [knownfloatingpointnormalized(normalizenanandzero(SID#380))], [knownfloatingpointnormalized(normalizenanandzero(SALE_MST_ID#156))], Inner\n",
      "                                    :  :- *(5) Sort [knownfloatingpointnormalized(normalizenanandzero(SID#380)) ASC NULLS FIRST], false, 0\n",
      "                                    :  :  +- Exchange hashpartitioning(knownfloatingpointnormalized(normalizenanandzero(SID#380)), 200), ENSURE_REQUIREMENTS, [id=#115]\n",
      "                                    :  :     +- *(4) Project [INVOICE_NO#83, CREATED#18, CREATED_BY#19, S_TYPE#55, IS_EMPLOYEE#65, CUSTOMER_ID#20, ID#11 AS SID#380, PLAZA_ID#48]\n",
      "                                    :  :        +- *(4) Filter ((((((((((cast(CREATED#18 as date) >= 18628) AND (cast(CREATED#18 as date) <= 19041)) AND isnotnull(IS_EMPLOYEE#65)) AND isnotnull(CREATED_BY#19)) AND isnotnull(CREATED#18)) AND (IS_EMPLOYEE#65 = 0.0)) AND NOT (CREATED_BY#19 = OPENING_HIRE)) AND isnotnull(ID#11)) AND isnotnull(PLAZA_ID#48)) AND isnotnull(CUSTOMER_ID#20))\n",
      "                                    :  :           +- BatchScan[ID#11, CREATED#18, CREATED_BY#19, CUSTOMER_ID#20, PLAZA_ID#48, S_TYPE#55, IS_EMPLOYEE#65, INVOICE_NO#83] spark_catalog.pos.pos___POS_SALE_MST [filters=IS_EMPLOYEE IS NOT NULL, CREATED_BY IS NOT NULL, CREATED IS NOT NULL, IS_EMPLOYEE = 0.0, NOT (CREATED_BY = 'OPENING_HIRE'), ID IS NOT NULL, PLAZA_ID IS NOT NULL, CUSTOMER_ID IS NOT NULL]\n",
      "                                    :  +- *(7) Sort [knownfloatingpointnormalized(normalizenanandzero(SALE_MST_ID#156)) ASC NULLS FIRST], false, 0\n",
      "                                    :     +- Exchange hashpartitioning(knownfloatingpointnormalized(normalizenanandzero(SALE_MST_ID#156)), 200), ENSURE_REQUIREMENTS, [id=#123]\n",
      "                                    :        +- *(6) Filter (((isnotnull(RATE#168) AND (RATE#168 > 1500.0)) AND isnotnull(SALE_MST_ID#156)) AND isnotnull(PRODUCT_ID#154))\n",
      "                                    :           +- BatchScan[PRODUCT_ID#154, SALE_MST_ID#156, REBATE#161, G_TOTAL#166, QUANTITY#167, RATE#168, S_TOTAL#169] spark_catalog.pos.pos___POS_SALE_DTLS [filters=RATE IS NOT NULL, RATE > 1500.0, SALE_MST_ID IS NOT NULL, PRODUCT_ID IS NOT NULL]\n",
      "                                    +- BroadcastExchange HashedRelationBroadcastMode(List(knownfloatingpointnormalized(normalizenanandzero(input[2, double, true]))),false), [id=#133]\n",
      "                                       +- *(8) Project [SEGMENT3#201, SEGMENT5#203, ID#183 AS prodid#409]\n",
      "                                          +- *(8) Filter isnotnull(ID#183)\n",
      "                                             +- BatchScan[ID#183, SEGMENT3#201, SEGMENT5#203] spark_catalog.pos.pos___POS_PRODUCTS [filters=ID IS NOT NULL]\n",
      "\n",
      "22/02/18 16:54:37 WARN WatchConnectionManager: Exec Failure     (228 + 2) / 680]\n",
      "java.io.EOFException\n",
      "\tat okio.RealBufferedSource.require(RealBufferedSource.java:61)\n",
      "\tat okio.RealBufferedSource.readByte(RealBufferedSource.java:74)\n",
      "\tat okhttp3.internal.ws.WebSocketReader.readHeader(WebSocketReader.java:117)\n",
      "\tat okhttp3.internal.ws.WebSocketReader.processNextFrame(WebSocketReader.java:101)\n",
      "\tat okhttp3.internal.ws.RealWebSocket.loopReader(RealWebSocket.java:274)\n",
      "\tat okhttp3.internal.ws.RealWebSocket$2.onResponse(RealWebSocket.java:214)\n",
      "\tat okhttp3.RealCall$AsyncCall.execute(RealCall.java:203)\n",
      "\tat okhttp3.internal.NamedRunnable.run(NamedRunnable.java:32)\n",
      "\tat java.base/java.util.concurrent.ThreadPoolExecutor.runWorker(ThreadPoolExecutor.java:1128)\n",
      "\tat java.base/java.util.concurrent.ThreadPoolExecutor$Worker.run(ThreadPoolExecutor.java:628)\n",
      "\tat java.base/java.lang.Thread.run(Thread.java:829)\n",
      "22/02/18 17:04:38 WARN WatchConnectionManager: Exec Failure8:>  (0 + 0) / 200]0]\n",
      "java.io.EOFException\n",
      "\tat okio.RealBufferedSource.require(RealBufferedSource.java:61)\n",
      "\tat okio.RealBufferedSource.readByte(RealBufferedSource.java:74)\n",
      "\tat okhttp3.internal.ws.WebSocketReader.readHeader(WebSocketReader.java:117)\n",
      "\tat okhttp3.internal.ws.WebSocketReader.processNextFrame(WebSocketReader.java:101)\n",
      "\tat okhttp3.internal.ws.RealWebSocket.loopReader(RealWebSocket.java:274)\n",
      "\tat okhttp3.internal.ws.RealWebSocket$2.onResponse(RealWebSocket.java:214)\n",
      "\tat okhttp3.RealCall$AsyncCall.execute(RealCall.java:203)\n",
      "\tat okhttp3.internal.NamedRunnable.run(NamedRunnable.java:32)\n",
      "\tat java.base/java.util.concurrent.ThreadPoolExecutor.runWorker(ThreadPoolExecutor.java:1128)\n",
      "\tat java.base/java.util.concurrent.ThreadPoolExecutor$Worker.run(ThreadPoolExecutor.java:628)\n",
      "\tat java.base/java.lang.Thread.run(Thread.java:829)\n",
      "22/02/18 17:04:39 WARN ExecutorPodsWatchSnapshotSource: Kubernetes client has been closed (this is expected if the application is shutting down.)\n",
      "io.fabric8.kubernetes.client.KubernetesClientException: too old resource version: 51455270 (51458718)\n",
      "\tat io.fabric8.kubernetes.client.dsl.internal.WatchConnectionManager$1.onMessage(WatchConnectionManager.java:258)\n",
      "\tat okhttp3.internal.ws.RealWebSocket.onReadMessage(RealWebSocket.java:323)\n",
      "\tat okhttp3.internal.ws.WebSocketReader.readMessageFrame(WebSocketReader.java:219)\n",
      "\tat okhttp3.internal.ws.WebSocketReader.processNextFrame(WebSocketReader.java:105)\n",
      "\tat okhttp3.internal.ws.RealWebSocket.loopReader(RealWebSocket.java:274)\n",
      "\tat okhttp3.internal.ws.RealWebSocket$2.onResponse(RealWebSocket.java:214)\n",
      "\tat okhttp3.RealCall$AsyncCall.execute(RealCall.java:203)\n",
      "\tat okhttp3.internal.NamedRunnable.run(NamedRunnable.java:32)\n",
      "\tat java.base/java.util.concurrent.ThreadPoolExecutor.runWorker(ThreadPoolExecutor.java:1128)\n",
      "\tat java.base/java.util.concurrent.ThreadPoolExecutor$Worker.run(ThreadPoolExecutor.java:628)\n",
      "\tat java.base/java.lang.Thread.run(Thread.java:829)\n",
      "                                                                                \r"
     ]
    },
    {
     "name": "stdout",
     "output_type": "stream",
     "text": [
      "+---+---------+\n",
      "|lf5|Frequency|\n",
      "+---+---------+\n",
      "|  7|    65943|\n",
      "|  3|    67104|\n",
      "+---+---------+\n",
      "only showing top 2 rows\n",
      "\n"
     ]
    }
   ],
   "source": [
    "df.show(2)"
   ]
  },
  {
   "cell_type": "code",
   "execution_count": 88,
   "id": "5f61bea7",
   "metadata": {},
   "outputs": [
    {
     "name": "stderr",
     "output_type": "stream",
     "text": [
      "22/02/18 17:11:53 WARN AbstractS3ACommitterFactory: Using standard FileOutputCommitter to commit work. This is slow and potentially unsafe.\n",
      "22/02/18 17:11:55 ERROR CodeGenerator: failed to compile: org.codehaus.janino.InternalCompilerException: Compiling \"GeneratedClass\" in \"generated.java\": Code of method \"processNext()V\" of class \"org.apache.spark.sql.catalyst.expressions.GeneratedClass$GeneratedIteratorForCodegenStage16\" grows beyond 64 KB\n",
      "org.codehaus.janino.InternalCompilerException: Compiling \"GeneratedClass\" in \"generated.java\": Code of method \"processNext()V\" of class \"org.apache.spark.sql.catalyst.expressions.GeneratedClass$GeneratedIteratorForCodegenStage16\" grows beyond 64 KB\n",
      "\tat org.codehaus.janino.UnitCompiler.compile2(UnitCompiler.java:366)\n",
      "\tat org.codehaus.janino.UnitCompiler.access$000(UnitCompiler.java:226)\n",
      "\tat org.codehaus.janino.UnitCompiler$1.visitCompilationUnit(UnitCompiler.java:336)\n",
      "\tat org.codehaus.janino.UnitCompiler$1.visitCompilationUnit(UnitCompiler.java:333)\n",
      "\tat org.codehaus.janino.Java$CompilationUnit.accept(Java.java:363)\n",
      "\tat org.codehaus.janino.UnitCompiler.compileUnit(UnitCompiler.java:333)\n",
      "\tat org.codehaus.janino.SimpleCompiler.cook(SimpleCompiler.java:235)\n",
      "\tat org.codehaus.janino.SimpleCompiler.compileToClassLoader(SimpleCompiler.java:464)\n",
      "\tat org.codehaus.janino.ClassBodyEvaluator.compileToClass(ClassBodyEvaluator.java:314)\n",
      "\tat org.codehaus.janino.ClassBodyEvaluator.cook(ClassBodyEvaluator.java:237)\n",
      "\tat org.codehaus.janino.SimpleCompiler.cook(SimpleCompiler.java:205)\n",
      "\tat org.codehaus.commons.compiler.Cookable.cook(Cookable.java:80)\n",
      "\tat org.apache.spark.sql.catalyst.expressions.codegen.CodeGenerator$.org$apache$spark$sql$catalyst$expressions$codegen$CodeGenerator$$doCompile(CodeGenerator.scala:1404)\n",
      "\tat org.apache.spark.sql.catalyst.expressions.codegen.CodeGenerator$$anon$1.load(CodeGenerator.scala:1501)\n",
      "\tat org.apache.spark.sql.catalyst.expressions.codegen.CodeGenerator$$anon$1.load(CodeGenerator.scala:1498)\n",
      "\tat org.sparkproject.guava.cache.LocalCache$LoadingValueReference.loadFuture(LocalCache.java:3599)\n",
      "\tat org.sparkproject.guava.cache.LocalCache$Segment.loadSync(LocalCache.java:2379)\n",
      "\tat org.sparkproject.guava.cache.LocalCache$Segment.lockedGetOrLoad(LocalCache.java:2342)\n",
      "\tat org.sparkproject.guava.cache.LocalCache$Segment.get(LocalCache.java:2257)\n",
      "\tat org.sparkproject.guava.cache.LocalCache.get(LocalCache.java:4000)\n",
      "\tat org.sparkproject.guava.cache.LocalCache.getOrLoad(LocalCache.java:4004)\n",
      "\tat org.sparkproject.guava.cache.LocalCache$LocalLoadingCache.get(LocalCache.java:4874)\n",
      "\tat org.apache.spark.sql.catalyst.expressions.codegen.CodeGenerator$.compile(CodeGenerator.scala:1352)\n",
      "\tat org.apache.spark.sql.execution.WholeStageCodegenExec.liftedTree1$1(WholeStageCodegenExec.scala:721)\n",
      "\tat org.apache.spark.sql.execution.WholeStageCodegenExec.doExecute(WholeStageCodegenExec.scala:720)\n",
      "\tat org.apache.spark.sql.execution.SparkPlan.$anonfun$execute$1(SparkPlan.scala:180)\n",
      "\tat org.apache.spark.sql.execution.SparkPlan.$anonfun$executeQuery$1(SparkPlan.scala:218)\n",
      "\tat org.apache.spark.rdd.RDDOperationScope$.withScope(RDDOperationScope.scala:151)\n",
      "\tat org.apache.spark.sql.execution.SparkPlan.executeQuery(SparkPlan.scala:215)\n",
      "\tat org.apache.spark.sql.execution.SparkPlan.execute(SparkPlan.scala:176)\n",
      "\tat org.apache.spark.sql.execution.exchange.ShuffleExchangeExec.inputRDD$lzycompute(ShuffleExchangeExec.scala:118)\n",
      "\tat org.apache.spark.sql.execution.exchange.ShuffleExchangeExec.inputRDD(ShuffleExchangeExec.scala:118)\n",
      "\tat org.apache.spark.sql.execution.exchange.ShuffleExchangeExec.shuffleDependency$lzycompute(ShuffleExchangeExec.scala:151)\n",
      "\tat org.apache.spark.sql.execution.exchange.ShuffleExchangeExec.shuffleDependency(ShuffleExchangeExec.scala:149)\n",
      "\tat org.apache.spark.sql.execution.exchange.ShuffleExchangeExec.$anonfun$doExecute$1(ShuffleExchangeExec.scala:166)\n",
      "\tat org.apache.spark.sql.catalyst.errors.package$.attachTree(package.scala:52)\n",
      "\tat org.apache.spark.sql.execution.exchange.ShuffleExchangeExec.doExecute(ShuffleExchangeExec.scala:163)\n",
      "\tat org.apache.spark.sql.execution.SparkPlan.$anonfun$execute$1(SparkPlan.scala:180)\n",
      "\tat org.apache.spark.sql.execution.SparkPlan.$anonfun$executeQuery$1(SparkPlan.scala:218)\n",
      "\tat org.apache.spark.rdd.RDDOperationScope$.withScope(RDDOperationScope.scala:151)\n",
      "\tat org.apache.spark.sql.execution.SparkPlan.executeQuery(SparkPlan.scala:215)\n",
      "\tat org.apache.spark.sql.execution.SparkPlan.execute(SparkPlan.scala:176)\n",
      "\tat org.apache.spark.sql.execution.InputAdapter.inputRDD(WholeStageCodegenExec.scala:525)\n",
      "\tat org.apache.spark.sql.execution.InputRDDCodegen.inputRDDs(WholeStageCodegenExec.scala:453)\n",
      "\tat org.apache.spark.sql.execution.InputRDDCodegen.inputRDDs$(WholeStageCodegenExec.scala:452)\n",
      "\tat org.apache.spark.sql.execution.InputAdapter.inputRDDs(WholeStageCodegenExec.scala:496)\n",
      "\tat org.apache.spark.sql.execution.SortExec.inputRDDs(SortExec.scala:132)\n",
      "\tat org.apache.spark.sql.execution.WholeStageCodegenExec.doExecute(WholeStageCodegenExec.scala:746)\n",
      "\tat org.apache.spark.sql.execution.SparkPlan.$anonfun$execute$1(SparkPlan.scala:180)\n",
      "\tat org.apache.spark.sql.execution.SparkPlan.$anonfun$executeQuery$1(SparkPlan.scala:218)\n",
      "\tat org.apache.spark.rdd.RDDOperationScope$.withScope(RDDOperationScope.scala:151)\n",
      "\tat org.apache.spark.sql.execution.SparkPlan.executeQuery(SparkPlan.scala:215)\n",
      "\tat org.apache.spark.sql.execution.SparkPlan.execute(SparkPlan.scala:176)\n",
      "\tat org.apache.spark.sql.execution.InputAdapter.doExecute(WholeStageCodegenExec.scala:511)\n",
      "\tat org.apache.spark.sql.execution.SparkPlan.$anonfun$execute$1(SparkPlan.scala:180)\n",
      "\tat org.apache.spark.sql.execution.SparkPlan.$anonfun$executeQuery$1(SparkPlan.scala:218)\n",
      "\tat org.apache.spark.rdd.RDDOperationScope$.withScope(RDDOperationScope.scala:151)\n",
      "\tat org.apache.spark.sql.execution.SparkPlan.executeQuery(SparkPlan.scala:215)\n",
      "\tat org.apache.spark.sql.execution.SparkPlan.execute(SparkPlan.scala:176)\n",
      "\tat org.apache.spark.sql.execution.joins.SortMergeJoinExec.inputRDDs(SortMergeJoinExec.scala:378)\n",
      "\tat org.apache.spark.sql.execution.ProjectExec.inputRDDs(basicPhysicalOperators.scala:50)\n",
      "\tat org.apache.spark.sql.execution.aggregate.HashAggregateExec.inputRDDs(HashAggregateExec.scala:141)\n",
      "\tat org.apache.spark.sql.execution.WholeStageCodegenExec.doExecute(WholeStageCodegenExec.scala:746)\n",
      "\tat org.apache.spark.sql.execution.SparkPlan.$anonfun$execute$1(SparkPlan.scala:180)\n",
      "\tat org.apache.spark.sql.execution.SparkPlan.$anonfun$executeQuery$1(SparkPlan.scala:218)\n",
      "\tat org.apache.spark.rdd.RDDOperationScope$.withScope(RDDOperationScope.scala:151)\n",
      "\tat org.apache.spark.sql.execution.SparkPlan.executeQuery(SparkPlan.scala:215)\n",
      "\tat org.apache.spark.sql.execution.SparkPlan.execute(SparkPlan.scala:176)\n",
      "\tat org.apache.spark.sql.execution.exchange.ShuffleExchangeExec.inputRDD$lzycompute(ShuffleExchangeExec.scala:118)\n",
      "\tat org.apache.spark.sql.execution.exchange.ShuffleExchangeExec.inputRDD(ShuffleExchangeExec.scala:118)\n",
      "\tat org.apache.spark.sql.execution.exchange.ShuffleExchangeExec.shuffleDependency$lzycompute(ShuffleExchangeExec.scala:151)\n",
      "\tat org.apache.spark.sql.execution.exchange.ShuffleExchangeExec.shuffleDependency(ShuffleExchangeExec.scala:149)\n",
      "\tat org.apache.spark.sql.execution.exchange.ShuffleExchangeExec.$anonfun$doExecute$1(ShuffleExchangeExec.scala:166)\n",
      "\tat org.apache.spark.sql.catalyst.errors.package$.attachTree(package.scala:52)\n",
      "\tat org.apache.spark.sql.execution.exchange.ShuffleExchangeExec.doExecute(ShuffleExchangeExec.scala:163)\n",
      "\tat org.apache.spark.sql.execution.SparkPlan.$anonfun$execute$1(SparkPlan.scala:180)\n",
      "\tat org.apache.spark.sql.execution.SparkPlan.$anonfun$executeQuery$1(SparkPlan.scala:218)\n",
      "\tat org.apache.spark.rdd.RDDOperationScope$.withScope(RDDOperationScope.scala:151)\n",
      "\tat org.apache.spark.sql.execution.SparkPlan.executeQuery(SparkPlan.scala:215)\n",
      "\tat org.apache.spark.sql.execution.SparkPlan.execute(SparkPlan.scala:176)\n",
      "\tat org.apache.spark.sql.execution.InputAdapter.inputRDD(WholeStageCodegenExec.scala:525)\n",
      "\tat org.apache.spark.sql.execution.InputRDDCodegen.inputRDDs(WholeStageCodegenExec.scala:453)\n",
      "\tat org.apache.spark.sql.execution.InputRDDCodegen.inputRDDs$(WholeStageCodegenExec.scala:452)\n",
      "\tat org.apache.spark.sql.execution.InputAdapter.inputRDDs(WholeStageCodegenExec.scala:496)\n",
      "\tat org.apache.spark.sql.execution.aggregate.HashAggregateExec.inputRDDs(HashAggregateExec.scala:141)\n",
      "\tat org.apache.spark.sql.execution.aggregate.HashAggregateExec.inputRDDs(HashAggregateExec.scala:141)\n",
      "\tat org.apache.spark.sql.execution.aggregate.HashAggregateExec.inputRDDs(HashAggregateExec.scala:141)\n",
      "\tat org.apache.spark.sql.execution.WholeStageCodegenExec.doExecute(WholeStageCodegenExec.scala:746)\n",
      "\tat org.apache.spark.sql.execution.SparkPlan.$anonfun$execute$1(SparkPlan.scala:180)\n",
      "\tat org.apache.spark.sql.execution.SparkPlan.$anonfun$executeQuery$1(SparkPlan.scala:218)\n",
      "\tat org.apache.spark.rdd.RDDOperationScope$.withScope(RDDOperationScope.scala:151)\n",
      "\tat org.apache.spark.sql.execution.SparkPlan.executeQuery(SparkPlan.scala:215)\n",
      "\tat org.apache.spark.sql.execution.SparkPlan.execute(SparkPlan.scala:176)\n",
      "\tat org.apache.spark.sql.execution.exchange.ShuffleExchangeExec.inputRDD$lzycompute(ShuffleExchangeExec.scala:118)\n",
      "\tat org.apache.spark.sql.execution.exchange.ShuffleExchangeExec.inputRDD(ShuffleExchangeExec.scala:118)\n",
      "\tat org.apache.spark.sql.execution.exchange.ShuffleExchangeExec.shuffleDependency$lzycompute(ShuffleExchangeExec.scala:151)\n",
      "\tat org.apache.spark.sql.execution.exchange.ShuffleExchangeExec.shuffleDependency(ShuffleExchangeExec.scala:149)\n",
      "\tat org.apache.spark.sql.execution.exchange.ShuffleExchangeExec.$anonfun$doExecute$1(ShuffleExchangeExec.scala:166)\n",
      "\tat org.apache.spark.sql.catalyst.errors.package$.attachTree(package.scala:52)\n",
      "\tat org.apache.spark.sql.execution.exchange.ShuffleExchangeExec.doExecute(ShuffleExchangeExec.scala:163)\n",
      "\tat org.apache.spark.sql.execution.SparkPlan.$anonfun$execute$1(SparkPlan.scala:180)\n",
      "\tat org.apache.spark.sql.execution.SparkPlan.$anonfun$executeQuery$1(SparkPlan.scala:218)\n",
      "\tat org.apache.spark.rdd.RDDOperationScope$.withScope(RDDOperationScope.scala:151)\n",
      "\tat org.apache.spark.sql.execution.SparkPlan.executeQuery(SparkPlan.scala:215)\n",
      "\tat org.apache.spark.sql.execution.SparkPlan.execute(SparkPlan.scala:176)\n",
      "\tat org.apache.spark.sql.execution.datasources.FileFormatWriter$.write(FileFormatWriter.scala:177)\n",
      "\tat org.apache.spark.sql.execution.datasources.InsertIntoHadoopFsRelationCommand.run(InsertIntoHadoopFsRelationCommand.scala:188)\n",
      "\tat org.apache.spark.sql.execution.command.DataWritingCommandExec.sideEffectResult$lzycompute(commands.scala:108)\n",
      "\tat org.apache.spark.sql.execution.command.DataWritingCommandExec.sideEffectResult(commands.scala:106)\n",
      "\tat org.apache.spark.sql.execution.command.DataWritingCommandExec.doExecute(commands.scala:131)\n",
      "\tat org.apache.spark.sql.execution.SparkPlan.$anonfun$execute$1(SparkPlan.scala:180)\n",
      "\tat org.apache.spark.sql.execution.SparkPlan.$anonfun$executeQuery$1(SparkPlan.scala:218)\n",
      "\tat org.apache.spark.rdd.RDDOperationScope$.withScope(RDDOperationScope.scala:151)\n",
      "\tat org.apache.spark.sql.execution.SparkPlan.executeQuery(SparkPlan.scala:215)\n",
      "\tat org.apache.spark.sql.execution.SparkPlan.execute(SparkPlan.scala:176)\n",
      "\tat org.apache.spark.sql.execution.QueryExecution.toRdd$lzycompute(QueryExecution.scala:132)\n",
      "\tat org.apache.spark.sql.execution.QueryExecution.toRdd(QueryExecution.scala:131)\n",
      "\tat org.apache.spark.sql.DataFrameWriter.$anonfun$runCommand$1(DataFrameWriter.scala:989)\n",
      "\tat org.apache.spark.sql.execution.SQLExecution$.$anonfun$withNewExecutionId$5(SQLExecution.scala:103)\n",
      "\tat org.apache.spark.sql.execution.SQLExecution$.withSQLConfPropagated(SQLExecution.scala:163)\n",
      "\tat org.apache.spark.sql.execution.SQLExecution$.$anonfun$withNewExecutionId$1(SQLExecution.scala:90)\n",
      "\tat org.apache.spark.sql.SparkSession.withActive(SparkSession.scala:775)\n",
      "\tat org.apache.spark.sql.execution.SQLExecution$.withNewExecutionId(SQLExecution.scala:64)\n",
      "\tat org.apache.spark.sql.DataFrameWriter.runCommand(DataFrameWriter.scala:989)\n",
      "\tat org.apache.spark.sql.DataFrameWriter.saveToV1Source(DataFrameWriter.scala:438)\n",
      "\tat org.apache.spark.sql.DataFrameWriter.saveInternal(DataFrameWriter.scala:415)\n",
      "\tat org.apache.spark.sql.DataFrameWriter.save(DataFrameWriter.scala:293)\n",
      "\tat java.base/jdk.internal.reflect.NativeMethodAccessorImpl.invoke0(Native Method)\n",
      "\tat java.base/jdk.internal.reflect.NativeMethodAccessorImpl.invoke(NativeMethodAccessorImpl.java:62)\n",
      "\tat java.base/jdk.internal.reflect.DelegatingMethodAccessorImpl.invoke(DelegatingMethodAccessorImpl.java:43)\n",
      "\tat java.base/java.lang.reflect.Method.invoke(Method.java:566)\n",
      "\tat py4j.reflection.MethodInvoker.invoke(MethodInvoker.java:244)\n",
      "\tat py4j.reflection.ReflectionEngine.invoke(ReflectionEngine.java:357)\n",
      "\tat py4j.Gateway.invoke(Gateway.java:282)\n",
      "\tat py4j.commands.AbstractCommand.invokeMethod(AbstractCommand.java:132)\n",
      "\tat py4j.commands.CallCommand.execute(CallCommand.java:79)\n",
      "\tat py4j.GatewayConnection.run(GatewayConnection.java:238)\n",
      "\tat java.base/java.lang.Thread.run(Thread.java:829)\n",
      "Caused by: org.codehaus.janino.InternalCompilerException: Code of method \"processNext()V\" of class \"org.apache.spark.sql.catalyst.expressions.GeneratedClass$GeneratedIteratorForCodegenStage16\" grows beyond 64 KB\n",
      "\tat org.codehaus.janino.CodeContext.makeSpace(CodeContext.java:1051)\n",
      "\tat org.codehaus.janino.CodeContext.write(CodeContext.java:932)\n",
      "\tat org.codehaus.janino.UnitCompiler.writeOpcode(UnitCompiler.java:12101)\n",
      "\tat org.codehaus.janino.UnitCompiler.compileGet2(UnitCompiler.java:4898)\n",
      "\tat org.codehaus.janino.UnitCompiler.access$7600(UnitCompiler.java:226)\n",
      "\tat org.codehaus.janino.UnitCompiler$16$1.visitArrayAccessExpression(UnitCompiler.java:4463)\n",
      "\tat org.codehaus.janino.UnitCompiler$16$1.visitArrayAccessExpression(UnitCompiler.java:4459)\n",
      "\tat org.codehaus.janino.Java$ArrayAccessExpression.accept(Java.java:4818)\n",
      "\tat org.codehaus.janino.UnitCompiler$16.visitLvalue(UnitCompiler.java:4459)\n",
      "\tat org.codehaus.janino.UnitCompiler$16.visitLvalue(UnitCompiler.java:4455)\n",
      "\tat org.codehaus.janino.Java$Lvalue.accept(Java.java:4353)\n",
      "\tat org.codehaus.janino.UnitCompiler.compileGet(UnitCompiler.java:4455)\n",
      "\tat org.codehaus.janino.UnitCompiler.compileGetValue(UnitCompiler.java:5683)\n",
      "\tat org.codehaus.janino.UnitCompiler.compileGet2(UnitCompiler.java:5014)\n",
      "\tat org.codehaus.janino.UnitCompiler.access$8600(UnitCompiler.java:226)\n",
      "\tat org.codehaus.janino.UnitCompiler$16.visitCast(UnitCompiler.java:4477)\n",
      "\tat org.codehaus.janino.UnitCompiler$16.visitCast(UnitCompiler.java:4455)\n",
      "\tat org.codehaus.janino.Java$Cast.accept(Java.java:5111)\n",
      "\tat org.codehaus.janino.UnitCompiler.compileGet(UnitCompiler.java:4455)\n",
      "\tat org.codehaus.janino.UnitCompiler.compileGet2(UnitCompiler.java:5050)\n",
      "\tat org.codehaus.janino.UnitCompiler.access$8100(UnitCompiler.java:226)\n",
      "\tat org.codehaus.janino.UnitCompiler$16$1.visitParenthesizedExpression(UnitCompiler.java:4468)\n",
      "\tat org.codehaus.janino.UnitCompiler$16$1.visitParenthesizedExpression(UnitCompiler.java:4459)\n",
      "\tat org.codehaus.janino.Java$ParenthesizedExpression.accept(Java.java:5137)\n",
      "\tat org.codehaus.janino.UnitCompiler$16.visitLvalue(UnitCompiler.java:4459)\n",
      "\tat org.codehaus.janino.UnitCompiler$16.visitLvalue(UnitCompiler.java:4455)\n",
      "\tat org.codehaus.janino.Java$Lvalue.accept(Java.java:4353)\n",
      "\tat org.codehaus.janino.UnitCompiler.compileGet(UnitCompiler.java:4455)\n",
      "\tat org.codehaus.janino.UnitCompiler.compileGetValue(UnitCompiler.java:5683)\n",
      "\tat org.codehaus.janino.UnitCompiler.compile2(UnitCompiler.java:3839)\n",
      "\tat org.codehaus.janino.UnitCompiler.access$6100(UnitCompiler.java:226)\n",
      "\tat org.codehaus.janino.UnitCompiler$13.visitAssignment(UnitCompiler.java:3799)\n",
      "\tat org.codehaus.janino.UnitCompiler$13.visitAssignment(UnitCompiler.java:3779)\n",
      "\tat org.codehaus.janino.Java$Assignment.accept(Java.java:4690)\n",
      "\tat org.codehaus.janino.UnitCompiler.compile(UnitCompiler.java:3779)\n",
      "\tat org.codehaus.janino.UnitCompiler.compile2(UnitCompiler.java:2366)\n",
      "\tat org.codehaus.janino.UnitCompiler.access$1800(UnitCompiler.java:226)\n",
      "\tat org.codehaus.janino.UnitCompiler$6.visitExpressionStatement(UnitCompiler.java:1497)\n",
      "\tat org.codehaus.janino.UnitCompiler$6.visitExpressionStatement(UnitCompiler.java:1490)\n",
      "\tat org.codehaus.janino.Java$ExpressionStatement.accept(Java.java:3064)\n",
      "\tat org.codehaus.janino.UnitCompiler.compile(UnitCompiler.java:1490)\n",
      "\tat org.codehaus.janino.UnitCompiler.compileStatements(UnitCompiler.java:1573)\n",
      "\tat org.codehaus.janino.UnitCompiler.compile2(UnitCompiler.java:1559)\n",
      "\tat org.codehaus.janino.UnitCompiler.access$1700(UnitCompiler.java:226)\n",
      "\tat org.codehaus.janino.UnitCompiler$6.visitBlock(UnitCompiler.java:1496)\n",
      "\tat org.codehaus.janino.UnitCompiler$6.visitBlock(UnitCompiler.java:1490)\n",
      "\tat org.codehaus.janino.Java$Block.accept(Java.java:2969)\n",
      "\tat org.codehaus.janino.UnitCompiler.compile(UnitCompiler.java:1490)\n",
      "\tat org.codehaus.janino.UnitCompiler.compile2(UnitCompiler.java:2475)\n",
      "\tat org.codehaus.janino.UnitCompiler.access$1900(UnitCompiler.java:226)\n",
      "\tat org.codehaus.janino.UnitCompiler$6.visitIfStatement(UnitCompiler.java:1498)\n",
      "\tat org.codehaus.janino.UnitCompiler$6.visitIfStatement(UnitCompiler.java:1490)\n",
      "\tat org.codehaus.janino.Java$IfStatement.accept(Java.java:3140)\n",
      "\tat org.codehaus.janino.UnitCompiler.compile(UnitCompiler.java:1490)\n",
      "\tat org.codehaus.janino.UnitCompiler.compileStatements(UnitCompiler.java:1573)\n",
      "\tat org.codehaus.janino.UnitCompiler.compile2(UnitCompiler.java:1559)\n",
      "\tat org.codehaus.janino.UnitCompiler.access$1700(UnitCompiler.java:226)\n",
      "\tat org.codehaus.janino.UnitCompiler$6.visitBlock(UnitCompiler.java:1496)\n",
      "\tat org.codehaus.janino.UnitCompiler$6.visitBlock(UnitCompiler.java:1490)\n",
      "\tat org.codehaus.janino.Java$Block.accept(Java.java:2969)\n",
      "\tat org.codehaus.janino.UnitCompiler.compile(UnitCompiler.java:1490)\n",
      "\tat org.codehaus.janino.UnitCompiler.compile2(UnitCompiler.java:2496)\n",
      "\tat org.codehaus.janino.UnitCompiler.access$1900(UnitCompiler.java:226)\n",
      "\tat org.codehaus.janino.UnitCompiler$6.visitIfStatement(UnitCompiler.java:1498)\n",
      "\tat org.codehaus.janino.UnitCompiler$6.visitIfStatement(UnitCompiler.java:1490)\n",
      "\tat org.codehaus.janino.Java$IfStatement.accept(Java.java:3140)\n",
      "\tat org.codehaus.janino.UnitCompiler.compile(UnitCompiler.java:1490)\n",
      "\tat org.codehaus.janino.UnitCompiler.compileStatements(UnitCompiler.java:1573)\n",
      "\tat org.codehaus.janino.UnitCompiler.compile2(UnitCompiler.java:1559)\n",
      "\tat org.codehaus.janino.UnitCompiler.access$1700(UnitCompiler.java:226)\n",
      "\tat org.codehaus.janino.UnitCompiler$6.visitBlock(UnitCompiler.java:1496)\n",
      "\tat org.codehaus.janino.UnitCompiler$6.visitBlock(UnitCompiler.java:1490)\n",
      "\tat org.codehaus.janino.Java$Block.accept(Java.java:2969)\n",
      "\tat org.codehaus.janino.UnitCompiler.compile(UnitCompiler.java:1490)\n",
      "\tat org.codehaus.janino.UnitCompiler.compile2(UnitCompiler.java:2496)\n",
      "\tat org.codehaus.janino.UnitCompiler.access$1900(UnitCompiler.java:226)\n",
      "\tat org.codehaus.janino.UnitCompiler$6.visitIfStatement(UnitCompiler.java:1498)\n",
      "\tat org.codehaus.janino.UnitCompiler$6.visitIfStatement(UnitCompiler.java:1490)\n",
      "\tat org.codehaus.janino.Java$IfStatement.accept(Java.java:3140)\n",
      "\tat org.codehaus.janino.UnitCompiler.compile(UnitCompiler.java:1490)\n",
      "\tat org.codehaus.janino.UnitCompiler.compileStatements(UnitCompiler.java:1573)\n",
      "\tat org.codehaus.janino.UnitCompiler.compile2(UnitCompiler.java:1559)\n",
      "\tat org.codehaus.janino.UnitCompiler.access$1700(UnitCompiler.java:226)\n",
      "\tat org.codehaus.janino.UnitCompiler$6.visitBlock(UnitCompiler.java:1496)\n",
      "\tat org.codehaus.janino.UnitCompiler$6.visitBlock(UnitCompiler.java:1490)\n",
      "\tat org.codehaus.janino.Java$Block.accept(Java.java:2969)\n",
      "\tat org.codehaus.janino.UnitCompiler.compile(UnitCompiler.java:1490)\n",
      "\tat org.codehaus.janino.UnitCompiler.compile2(UnitCompiler.java:1598)\n",
      "\tat org.codehaus.janino.UnitCompiler.access$2600(UnitCompiler.java:226)\n",
      "\tat org.codehaus.janino.UnitCompiler$6.visitDoStatement(UnitCompiler.java:1505)\n",
      "\tat org.codehaus.janino.UnitCompiler$6.visitDoStatement(UnitCompiler.java:1490)\n",
      "\tat org.codehaus.janino.Java$DoStatement.accept(Java.java:3664)\n",
      "\tat org.codehaus.janino.UnitCompiler.compile(UnitCompiler.java:1490)\n",
      "\tat org.codehaus.janino.UnitCompiler.compileStatements(UnitCompiler.java:1573)\n",
      "\tat org.codehaus.janino.UnitCompiler.compile2(UnitCompiler.java:1559)\n",
      "\tat org.codehaus.janino.UnitCompiler.access$1700(UnitCompiler.java:226)\n",
      "\tat org.codehaus.janino.UnitCompiler$6.visitBlock(UnitCompiler.java:1496)\n",
      "\tat org.codehaus.janino.UnitCompiler$6.visitBlock(UnitCompiler.java:1490)\n",
      "\tat org.codehaus.janino.Java$Block.accept(Java.java:2969)\n",
      "\tat org.codehaus.janino.UnitCompiler.compile(UnitCompiler.java:1490)\n",
      "\tat org.codehaus.janino.UnitCompiler.compile2(UnitCompiler.java:1848)\n",
      "\tat org.codehaus.janino.UnitCompiler.access$2200(UnitCompiler.java:226)\n",
      "\tat org.codehaus.janino.UnitCompiler$6.visitWhileStatement(UnitCompiler.java:1501)\n",
      "\tat org.codehaus.janino.UnitCompiler$6.visitWhileStatement(UnitCompiler.java:1490)\n",
      "\tat org.codehaus.janino.Java$WhileStatement.accept(Java.java:3245)\n",
      "\tat org.codehaus.janino.UnitCompiler.compile(UnitCompiler.java:1490)\n",
      "\tat org.codehaus.janino.UnitCompiler.compileStatements(UnitCompiler.java:1573)\n",
      "\tat org.codehaus.janino.UnitCompiler.compile(UnitCompiler.java:3420)\n",
      "\tat org.codehaus.janino.UnitCompiler.compileDeclaredMethods(UnitCompiler.java:1362)\n",
      "\tat org.codehaus.janino.UnitCompiler.compileDeclaredMethods(UnitCompiler.java:1335)\n",
      "\tat org.codehaus.janino.UnitCompiler.compile2(UnitCompiler.java:807)\n",
      "\tat org.codehaus.janino.UnitCompiler.compile2(UnitCompiler.java:975)\n",
      "\tat org.codehaus.janino.UnitCompiler.access$700(UnitCompiler.java:226)\n",
      "\tat org.codehaus.janino.UnitCompiler$2.visitMemberClassDeclaration(UnitCompiler.java:392)\n",
      "\tat org.codehaus.janino.UnitCompiler$2.visitMemberClassDeclaration(UnitCompiler.java:384)\n",
      "\tat org.codehaus.janino.Java$MemberClassDeclaration.accept(Java.java:1445)\n",
      "\tat org.codehaus.janino.UnitCompiler.compile(UnitCompiler.java:384)\n",
      "\tat org.codehaus.janino.UnitCompiler.compileDeclaredMemberTypes(UnitCompiler.java:1312)\n",
      "\tat org.codehaus.janino.UnitCompiler.compile2(UnitCompiler.java:833)\n",
      "\tat org.codehaus.janino.UnitCompiler.compile2(UnitCompiler.java:410)\n",
      "\tat org.codehaus.janino.UnitCompiler.access$400(UnitCompiler.java:226)\n",
      "\tat org.codehaus.janino.UnitCompiler$2.visitPackageMemberClassDeclaration(UnitCompiler.java:389)\n",
      "\tat org.codehaus.janino.UnitCompiler$2.visitPackageMemberClassDeclaration(UnitCompiler.java:384)\n",
      "\tat org.codehaus.janino.Java$PackageMemberClassDeclaration.accept(Java.java:1594)\n",
      "\tat org.codehaus.janino.UnitCompiler.compile(UnitCompiler.java:384)\n",
      "\tat org.codehaus.janino.UnitCompiler.compile2(UnitCompiler.java:362)\n",
      "\t... 137 more\n",
      "22/02/18 17:11:55 WARN WholeStageCodegenExec: Whole-stage codegen disabled for plan (id=16):\n",
      " *(16) Project [regexp_replace(regexp_replace(regexp_replace(regexp_replace(regexp_replace(regexp_replace(regexp_replace(regexp_replace(regexp_replace(regexp_replace(CUSTOMER_PHONE_NO#399, ^[±]*, , 1), [^\\w\\s], , 1), \\W, , 1), ^[8]*, , 1), [A-Za-z], , 1), ^[+]*, , 1), |, , 1), /, , 1), /[^\\x00-\\x7F]+/, , 1), /\\s/g, , 1) AS CustomerPhoneNumber#1097, CASE WHEN (CASE WHEN (CASE WHEN (CASE WHEN (CASE WHEN ((((SEGMENT3#201 = LAPTOP) OR (SEGMENT3#201 = DESKTOP PC)) OR (SEGMENT3#201 = SERVER)) OR (SEGMENT3#201 = ALL IN ONE)) THEN COMPUTER ELSE SEGMENT3#201 END = 3D TELEVISION) THEN LED SMART TELEVISION ELSE CASE WHEN ((((SEGMENT3#201 = LAPTOP) OR (SEGMENT3#201 = DESKTOP PC)) OR (SEGMENT3#201 = SERVER)) OR (SEGMENT3#201 = ALL IN ONE)) THEN COMPUTER ELSE SEGMENT3#201 END END = LCD TELEVISION) THEN LED TELEVISION ELSE CASE WHEN (CASE WHEN ((((SEGMENT3#201 = LAPTOP) OR (SEGMENT3#201 = DESKTOP PC)) OR (SEGMENT3#201 = SERVER)) OR (SEGMENT3#201 = ALL IN ONE)) THEN COMPUTER ELSE SEGMENT3#201 END = 3D TELEVISION) THEN LED SMART TELEVISION ELSE CASE WHEN ((((SEGMENT3#201 = LAPTOP) OR (SEGMENT3#201 = DESKTOP PC)) OR (SEGMENT3#201 = SERVER)) OR (SEGMENT3#201 = ALL IN ONE)) THEN COMPUTER ELSE SEGMENT3#201 END END END = BEVERAGE COOLER) THEN REFRIGERATOR ELSE CASE WHEN (CASE WHEN (CASE WHEN ((((SEGMENT3#201 = LAPTOP) OR (SEGMENT3#201 = DESKTOP PC)) OR (SEGMENT3#201 = SERVER)) OR (SEGMENT3#201 = ALL IN ONE)) THEN COMPUTER ELSE SEGMENT3#201 END = 3D TELEVISION) THEN LED SMART TELEVISION ELSE CASE WHEN ((((SEGMENT3#201 = LAPTOP) OR (SEGMENT3#201 = DESKTOP PC)) OR (SEGMENT3#201 = SERVER)) OR (SEGMENT3#201 = ALL IN ONE)) THEN COMPUTER ELSE SEGMENT3#201 END END = LCD TELEVISION) THEN LED TELEVISION ELSE CASE WHEN (CASE WHEN ((((SEGMENT3#201 = LAPTOP) OR (SEGMENT3#201 = DESKTOP PC)) OR (SEGMENT3#201 = SERVER)) OR (SEGMENT3#201 = ALL IN ONE)) THEN COMPUTER ELSE SEGMENT3#201 END = 3D TELEVISION) THEN LED SMART TELEVISION ELSE CASE WHEN ((((SEGMENT3#201 = LAPTOP) OR (SEGMENT3#201 = DESKTOP PC)) OR (SEGMENT3#201 = SERVER)) OR (SEGMENT3#201 = ALL IN ONE)) THEN COMPUTER ELSE SEGMENT3#201 END END END END = AIRCONDITIONER-INDOOR) THEN AIRCONDITIONER ELSE CASE WHEN (CASE WHEN (CASE WHEN (CASE WHEN ((((SEGMENT3#201 = LAPTOP) OR (SEGMENT3#201 = DESKTOP PC)) OR (SEGMENT3#201 = SERVER)) OR (SEGMENT3#201 = ALL IN ONE)) THEN COMPUTER ELSE SEGMENT3#201 END = 3D TELEVISION) THEN LED SMART TELEVISION ELSE CASE WHEN ((((SEGMENT3#201 = LAPTOP) OR (SEGMENT3#201 = DESKTOP PC)) OR (SEGMENT3#201 = SERVER)) OR (SEGMENT3#201 = ALL IN ONE)) THEN COMPUTER ELSE SEGMENT3#201 END END = LCD TELEVISION) THEN LED TELEVISION ELSE CASE WHEN (CASE WHEN ((((SEGMENT3#201 = LAPTOP) OR (SEGMENT3#201 = DESKTOP PC)) OR (SEGMENT3#201 = SERVER)) OR (SEGMENT3#201 = ALL IN ONE)) THEN COMPUTER ELSE SEGMENT3#201 END = 3D TELEVISION) THEN LED SMART TELEVISION ELSE CASE WHEN ((((SEGMENT3#201 = LAPTOP) OR (SEGMENT3#201 = DESKTOP PC)) OR (SEGMENT3#201 = SERVER)) OR (SEGMENT3#201 = ALL IN ONE)) THEN COMPUTER ELSE SEGMENT3#201 END END END = BEVERAGE COOLER) THEN REFRIGERATOR ELSE CASE WHEN (CASE WHEN (CASE WHEN ((((SEGMENT3#201 = LAPTOP) OR (SEGMENT3#201 = DESKTOP PC)) OR (SEGMENT3#201 = SERVER)) OR (SEGMENT3#201 = ALL IN ONE)) THEN COMPUTER ELSE SEGMENT3#201 END = 3D TELEVISION) THEN LED SMART TELEVISION ELSE CASE WHEN ((((SEGMENT3#201 = LAPTOP) OR (SEGMENT3#201 = DESKTOP PC)) OR (SEGMENT3#201 = SERVER)) OR (SEGMENT3#201 = ALL IN ONE)) THEN COMPUTER ELSE SEGMENT3#201 END END = LCD TELEVISION) THEN LED TELEVISION ELSE CASE WHEN (CASE WHEN ((((SEGMENT3#201 = LAPTOP) OR (SEGMENT3#201 = DESKTOP PC)) OR (SEGMENT3#201 = SERVER)) OR (SEGMENT3#201 = ALL IN ONE)) THEN COMPUTER ELSE SEGMENT3#201 END = 3D TELEVISION) THEN LED SMART TELEVISION ELSE CASE WHEN ((((SEGMENT3#201 = LAPTOP) OR (SEGMENT3#201 = DESKTOP PC)) OR (SEGMENT3#201 = SERVER)) OR (SEGMENT3#201 = ALL IN ONE)) THEN COMPUTER ELSE SEGMENT3#201 END END END END END AS Product#1401]\n",
      "+- *(16) Filter (((((((((((((isnotnull(CUSTOMER_PHONE_NO#399) AND NOT (CUSTOMER_PHONE_NO#399 = 0)) AND AtLeastNNulls(n, regexp_replace(regexp_replace(regexp_replace(regexp_replace(CUSTOMER_PHONE_NO#399, ^[±]*, , 1), [^\\w\\s], , 1), \\W, , 1), ^[8]*, , 1))) AND NOT (regexp_replace(regexp_replace(regexp_replace(regexp_replace(regexp_replace(CUSTOMER_PHONE_NO#399, ^[±]*, , 1), [^\\w\\s], , 1), \\W, , 1), ^[8]*, , 1), [A-Za-z], , 1) = )) AND NOT (regexp_replace(regexp_replace(regexp_replace(regexp_replace(regexp_replace(regexp_replace(regexp_replace(regexp_replace(regexp_replace(CUSTOMER_PHONE_NO#399, ^[±]*, , 1), [^\\w\\s], , 1), \\W, , 1), ^[8]*, , 1), [A-Za-z], , 1), ^[+]*, , 1), |, , 1), /, , 1), /[^\\x00-\\x7F]+/, , 1) = )) AND (length(regexp_replace(regexp_replace(regexp_replace(regexp_replace(regexp_replace(regexp_replace(regexp_replace(regexp_replace(regexp_replace(regexp_replace(CUSTOMER_PHONE_NO#399, ^[±]*, , 1), [^\\w\\s], , 1), \\W, , 1), ^[8]*, , 1), [A-Za-z], , 1), ^[+]*, , 1), |, , 1), /, , 1), /[^\\x00-\\x7F]+/, , 1), /\\s/g, , 1)) = 11)) AND StartsWith(regexp_replace(regexp_replace(regexp_replace(regexp_replace(regexp_replace(regexp_replace(regexp_replace(regexp_replace(regexp_replace(regexp_replace(CUSTOMER_PHONE_NO#399, ^[±]*, , 1), [^\\w\\s], , 1), \\W, , 1), ^[8]*, , 1), [A-Za-z], , 1), ^[+]*, , 1), |, , 1), /, , 1), /[^\\x00-\\x7F]+/, , 1), /\\s/g, , 1), 01)) AND NOT StartsWith(regexp_replace(regexp_replace(regexp_replace(regexp_replace(regexp_replace(regexp_replace(regexp_replace(regexp_replace(regexp_replace(regexp_replace(CUSTOMER_PHONE_NO#399, ^[±]*, , 1), [^\\w\\s], , 1), \\W, , 1), ^[8]*, , 1), [A-Za-z], , 1), ^[+]*, , 1), |, , 1), /, , 1), /[^\\x00-\\x7F]+/, , 1), /\\s/g, , 1), 010)) AND NOT StartsWith(regexp_replace(regexp_replace(regexp_replace(regexp_replace(regexp_replace(regexp_replace(regexp_replace(regexp_replace(regexp_replace(regexp_replace(CUSTOMER_PHONE_NO#399, ^[±]*, , 1), [^\\w\\s], , 1), \\W, , 1), ^[8]*, , 1), [A-Za-z], , 1), ^[+]*, , 1), |, , 1), /, , 1), /[^\\x00-\\x7F]+/, , 1), /\\s/g, , 1), 011)) AND NOT StartsWith(regexp_replace(regexp_replace(regexp_replace(regexp_replace(regexp_replace(regexp_replace(regexp_replace(regexp_replace(regexp_replace(regexp_replace(CUSTOMER_PHONE_NO#399, ^[±]*, , 1), [^\\w\\s], , 1), \\W, , 1), ^[8]*, , 1), [A-Za-z], , 1), ^[+]*, , 1), |, , 1), /, , 1), /[^\\x00-\\x7F]+/, , 1), /\\s/g, , 1), 012)) AND NOT (substring(regexp_replace(regexp_replace(regexp_replace(regexp_replace(regexp_replace(regexp_replace(regexp_replace(regexp_replace(regexp_replace(regexp_replace(CUSTOMER_PHONE_NO#399, ^[±]*, , 1), [^\\w\\s], , 1), \\W, , 1), ^[8]*, , 1), [A-Za-z], , 1), ^[+]*, , 1), |, , 1), /, , 1), /[^\\x00-\\x7F]+/, , 1), /\\s/g, , 1), 4, 11) = 00000000)) AND NOT (substring(substring(regexp_replace(regexp_replace(regexp_replace(regexp_replace(regexp_replace(regexp_replace(regexp_replace(regexp_replace(regexp_replace(regexp_replace(CUSTOMER_PHONE_NO#399, ^[±]*, , 1), [^\\w\\s], , 1), \\W, , 1), ^[8]*, , 1), [A-Za-z], , 1), ^[+]*, , 1), |, , 1), /, , 1), /[^\\x00-\\x7F]+/, , 1), /\\s/g, , 1), 4, 11), 1, 7) = 0000000)) AND (((((isnotnull(CASE WHEN (CASE WHEN (CASE WHEN (CASE WHEN (CASE WHEN ((((SEGMENT3#201 = LAPTOP) OR (SEGMENT3#201 = DESKTOP PC)) OR (SEGMENT3#201 = SERVER)) OR (SEGMENT3#201 = ALL IN ONE)) THEN COMPUTER ELSE SEGMENT3#201 END = 3D TELEVISION) THEN LED SMART TELEVISION ELSE CASE WHEN ((((SEGMENT3#201 = LAPTOP) OR (SEGMENT3#201 = DESKTOP PC)) OR (SEGMENT3#201 = SERVER)) OR (SEGMENT3#201 = ALL IN ONE)) THEN COMPUTER ELSE SEGMENT3#201 END END = LCD TELEVISION) THEN LED TELEVISION ELSE CASE WHEN (CASE WHEN ((((SEGMENT3#201 = LAPTOP) OR (SEGMENT3#201 = DESKTOP PC)) OR (SEGMENT3#201 = SERVER)) OR (SEGMENT3#201 = ALL IN ONE)) THEN COMPUTER ELSE SEGMENT3#201 END = 3D TELEVISION) THEN LED SMART TELEVISION ELSE CASE WHEN ((((SEGMENT3#201 = LAPTOP) OR (SEGMENT3#201 = DESKTOP PC)) OR (SEGMENT3#201 = SERVER)) OR (SEGMENT3#201 = ALL IN ONE)) THEN COMPUTER ELSE SEGMENT3#201 END END END = BEVERAGE COOLER) THEN REFRIGERATOR ELSE CASE WHEN (CASE WHEN (CASE WHEN ((((SEGMENT3#201 = LAPTOP) OR (SEGMENT3#201 = DESKTOP PC)) OR (SEGMENT3#201 = SERVER)) OR (SEGMENT3#201 = ALL IN ONE)) THEN COMPUTER ELSE SEGMENT3#201 END = 3D TELEVISION) THEN LED SMART TELEVISION ELSE CASE WHEN ((((SEGMENT3#201 = LAPTOP) OR (SEGMENT3#201 = DESKTOP PC)) OR (SEGMENT3#201 = SERVER)) OR (SEGMENT3#201 = ALL IN ONE)) THEN COMPUTER ELSE SEGMENT3#201 END END = LCD TELEVISION) THEN LED TELEVISION ELSE CASE WHEN (CASE WHEN ((((SEGMENT3#201 = LAPTOP) OR (SEGMENT3#201 = DESKTOP PC)) OR (SEGMENT3#201 = SERVER)) OR (SEGMENT3#201 = ALL IN ONE)) THEN COMPUTER ELSE SEGMENT3#201 END = 3D TELEVISION) THEN LED SMART TELEVISION ELSE CASE WHEN ((((SEGMENT3#201 = LAPTOP) OR (SEGMENT3#201 = DESKTOP PC)) OR (SEGMENT3#201 = SERVER)) OR (SEGMENT3#201 = ALL IN ONE)) THEN COMPUTER ELSE SEGMENT3#201 END END END END = AIRCONDITIONER-INDOOR) THEN AIRCONDITIONER ELSE CASE WHEN (CASE WHEN (CASE WHEN (CASE WHEN ((((SEGMENT3#201 = LAPTOP) OR (SEGMENT3#201 = DESKTOP PC)) OR (SEGMENT3#201 = SERVER)) OR (SEGMENT3#201 = ALL IN ONE)) THEN COMPUTER ELSE SEGMENT3#201 END = 3D TELEVISION) THEN LED SMART TELEVISION ELSE CASE WHEN ((((SEGMENT3#201 = LAPTOP) OR (SEGMENT3#201 = DESKTOP PC)) OR (SEGMENT3#201 = SERVER)) OR (SEGMENT3#201 = ALL IN ONE)) THEN COMPUTER ELSE SEGMENT3#201 END END = LCD TELEVISION) THEN LED TELEVISION ELSE CASE WHEN (CASE WHEN ((((SEGMENT3#201 = LAPTOP) OR (SEGMENT3#201 = DESKTOP PC)) OR (SEGMENT3#201 = SERVER)) OR (SEGMENT3#201 = ALL IN ONE)) THEN COMPUTER ELSE SEGMENT3#201 END = 3D TELEVISION) THEN LED SMART TELEVISION ELSE CASE WHEN ((((SEGMENT3#201 = LAPTOP) OR (SEGMENT3#201 = DESKTOP PC)) OR (SEGMENT3#201 = SERVER)) OR (SEGMENT3#201 = ALL IN ONE)) THEN COMPUTER ELSE SEGMENT3#201 END END END = BEVERAGE COOLER) THEN REFRIGERATOR ELSE CASE WHEN (CASE WHEN (CASE WHEN ((((SEGMENT3#201 = LAPTOP) OR (SEGMENT3#201 = DESKTOP PC)) OR (SEGMENT3#201 = SERVER)) OR (SEGMENT3#201 = ALL IN ONE)) THEN COMPUTER ELSE SEGMENT3#201 END = 3D TELEVISION) THEN LED SMART TELEVISION ELSE CASE WHEN ((((SEGMENT3#201 = LAPTOP) OR (SEGMENT3#201 = DESKTOP PC)) OR (SEGMENT3#201 = SERVER)) OR (SEGMENT3#201 = ALL IN ONE)) THEN COMPUTER ELSE SEGMENT3#201 END END = LCD TELEVISION) THEN LED TELEVISION ELSE CASE WHEN (CASE WHEN ((((SEGMENT3#201 = LAPTOP) OR (SEGMENT3#201 = DESKTOP PC)) OR (SEGMENT3#201 = SERVER)) OR (SEGMENT3#201 = ALL IN ONE)) THEN COMPUTER ELSE SEGMENT3#201 END = 3D TELEVISION) THEN LED SMART TELEVISION ELSE CASE WHEN ((((SEGMENT3#201 = LAPTOP) OR (SEGMENT3#201 = DESKTOP PC)) OR (SEGMENT3#201 = SERVER)) OR (SEGMENT3#201 = ALL IN ONE)) THEN COMPUTER ELSE SEGMENT3#201 END END END END END) AND (((CASE WHEN (CASE WHEN (CASE WHEN (CASE WHEN (CASE WHEN ((((SEGMENT3#201 = LAPTOP) OR (SEGMENT3#201 = DESKTOP PC)) OR (SEGMENT3#201 = SERVER)) OR (SEGMENT3#201 = ALL IN ONE)) THEN COMPUTER ELSE SEGMENT3#201 END = 3D TELEVISION) THEN LED SMART TELEVISION ELSE CASE WHEN ((((SEGMENT3#201 = LAPTOP) OR (SEGMENT3#201 = DESKTOP PC)) OR (SEGMENT3#201 = SERVER)) OR (SEGMENT3#201 = ALL IN ONE)) THEN COMPUTER ELSE SEGMENT3#201 END END = LCD TELEVISION) THEN LED TELEVISION ELSE CASE WHEN (CASE WHEN ((((SEGMENT3#201 = LAPTOP) OR (SEGMENT3#201 = DESKTOP PC)) OR (SEGMENT3#201 = SERVER)) OR (SEGMENT3#201 = ALL IN ONE)) THEN COMPUTER ELSE SEGMENT3#201 END = 3D TELEVISION) THEN LED SMART TELEVISION ELSE CASE WHEN ((((SEGMENT3#201 = LAPTOP) OR (SEGMENT3#201 = DESKTOP PC)) OR (SEGMENT3#201 = SERVER)) OR (SEGMENT3#201 = ALL IN ONE)) THEN COMPUTER ELSE SEGMENT3#201 END END END = BEVERAGE COOLER) THEN REFRIGERATOR ELSE CASE WHEN (CASE WHEN (CASE WHEN ((((SEGMENT3#201 = LAPTOP) OR (SEGMENT3#201 = DESKTOP PC)) OR (SEGMENT3#201 = SERVER)) OR (SEGMENT3#201 = ALL IN ONE)) THEN COMPUTER ELSE SEGMENT3#201 END = 3D TELEVISION) THEN LED SMART TELEVISION ELSE CASE WHEN ((((SEGMENT3#201 = LAPTOP) OR (SEGMENT3#201 = DESKTOP PC)) OR (SEGMENT3#201 = SERVER)) OR (SEGMENT3#201 = ALL IN ONE)) THEN COMPUTER ELSE SEGMENT3#201 END END = LCD TELEVISION) THEN LED TELEVISION ELSE CASE WHEN (CASE WHEN ((((SEGMENT3#201 = LAPTOP) OR (SEGMENT3#201 = DESKTOP PC)) OR (SEGMENT3#201 = SERVER)) OR (SEGMENT3#201 = ALL IN ONE)) THEN COMPUTER ELSE SEGMENT3#201 END = 3D TELEVISION) THEN LED SMART TELEVISION ELSE CASE WHEN ((((SEGMENT3#201 = LAPTOP) OR (SEGMENT3#201 = DESKTOP PC)) OR (SEGMENT3#201 = SERVER)) OR (SEGMENT3#201 = ALL IN ONE)) THEN COMPUTER ELSE SEGMENT3#201 END END END END = AIRCONDITIONER-INDOOR) THEN AIRCONDITIONER ELSE CASE WHEN (CASE WHEN (CASE WHEN (CASE WHEN ((((SEGMENT3#201 = LAPTOP) OR (SEGMENT3#201 = DESKTOP PC)) OR (SEGMENT3#201 = SERVER)) OR (SEGMENT3#201 = ALL IN ONE)) THEN COMPUTER ELSE SEGMENT3#201 END = 3D TELEVISION) THEN LED SMART TELEVISION ELSE CASE WHEN ((((SEGMENT3#201 = LAPTOP) OR (SEGMENT3#201 = DESKTOP PC)) OR (SEGMENT3#201 = SERVER)) OR (SEGMENT3#201 = ALL IN ONE)) THEN COMPUTER ELSE SEGMENT3#201 END END = LCD TELEVISION) THEN LED TELEVISION ELSE CASE WHEN (CASE WHEN ((((SEGMENT3#201 = LAPTOP) OR (SEGMENT3#201 = DESKTOP PC)) OR (SEGMENT3#201 = SERVER)) OR (SEGMENT3#201 = ALL IN ONE)) THEN COMPUTER ELSE SEGMENT3#201 END = 3D TELEVISION) THEN LED SMART TELEVISION ELSE CASE WHEN ((((SEGMENT3#201 = LAPTOP) OR (SEGMENT3#201 = DESKTOP PC)) OR (SEGMENT3#201 = SERVER)) OR (SEGMENT3#201 = ALL IN ONE)) THEN COMPUTER ELSE SEGMENT3#201 END END END = BEVERAGE COOLER) THEN REFRIGERATOR ELSE CASE WHEN (CASE WHEN (CASE WHEN ((((SEGMENT3#201 = LAPTOP) OR (SEGMENT3#201 = DESKTOP PC)) OR (SEGMENT3#201 = SERVER)) OR (SEGMENT3#201 = ALL IN ONE)) THEN COMPUTER ELSE SEGMENT3#201 END = 3D TELEVISION) THEN LED SMART TELEVISION ELSE CASE WHEN ((((SEGMENT3#201 = LAPTOP) OR (SEGMENT3#201 = DESKTOP PC)) OR (SEGMENT3#201 = SERVER)) OR (SEGMENT3#201 = ALL IN ONE)) THEN COMPUTER ELSE SEGMENT3#201 END END = LCD TELEVISION) THEN LED TELEVISION ELSE CASE WHEN (CASE WHEN ((((SEGMENT3#201 = LAPTOP) OR (SEGMENT3#201 = DESKTOP PC)) OR (SEGMENT3#201 = SERVER)) OR (SEGMENT3#201 = ALL IN ONE)) THEN COMPUTER ELSE SEGMENT3#201 END = 3D TELEVISION) THEN LED SMART TELEVISION ELSE CASE WHEN ((((SEGMENT3#201 = LAPTOP) OR (SEGMENT3#201 = DESKTOP PC)) OR (SEGMENT3#201 = SERVER)) OR (SEGMENT3#201 = ALL IN ONE)) THEN COMPUTER ELSE SEGMENT3#201 END END END END END = AIRCONDITIONER) OR (CASE WHEN (CASE WHEN (CASE WHEN (CASE WHEN (CASE WHEN ((((SEGMENT3#201 = LAPTOP) OR (SEGMENT3#201 = DESKTOP PC)) OR (SEGMENT3#201 = SERVER)) OR (SEGMENT3#201 = ALL IN ONE)) THEN COMPUTER ELSE SEGMENT3#201 END = 3D TELEVISION) THEN LED SMART TELEVISION ELSE CASE WHEN ((((SEGMENT3#201 = LAPTOP) OR (SEGMENT3#201 = DESKTOP PC)) OR (SEGMENT3#201 = SERVER)) OR (SEGMENT3#201 = ALL IN ONE)) THEN COMPUTER ELSE SEGMENT3#201 END END = LCD TELEVISION) THEN LED TELEVISION ELSE CASE WHEN (CASE WHEN ((((SEGMENT3#201 = LAPTOP) OR (SEGMENT3#201 = DESKTOP PC)) OR (SEGMENT3#201 = SERVER)) OR (SEGMENT3#201 = ALL IN ONE)) THEN COMPUTER ELSE SEGMENT3#201 END = 3D TELEVISION) THEN LED SMART TELEVISION ELSE CASE WHEN ((((SEGMENT3#201 = LAPTOP) OR (SEGMENT3#201 = DESKTOP PC)) OR (SEGMENT3#201 = SERVER)) OR (SEGMENT3#201 = ALL IN ONE)) THEN COMPUTER ELSE SEGMENT3#201 END END END = BEVERAGE COOLER) THEN REFRIGERATOR ELSE CASE WHEN (CASE WHEN (CASE WHEN ((((SEGMENT3#201 = LAPTOP) OR (SEGMENT3#201 = DESKTOP PC)) OR (SEGMENT3#201 = SERVER)) OR (SEGMENT3#201 = ALL IN ONE)) THEN COMPUTER ELSE SEGMENT3#201 END = 3D TELEVISION) THEN LED SMART TELEVISION ELSE CASE WHEN ((((SEGMENT3#201 = LAPTOP) OR (SEGMENT3#201 = DESKTOP PC)) OR (SEGMENT3#201 = SERVER)) OR (SEGMENT3#201 = ALL IN ONE)) THEN COMPUTER ELSE SEGMENT3#201 END END = LCD TELEVISION) THEN LED TELEVISION ELSE CASE WHEN (CASE WHEN ((((SEGMENT3#201 = LAPTOP) OR (SEGMENT3#201 = DESKTOP PC)) OR (SEGMENT3#201 = SERVER)) OR (SEGMENT3#201 = ALL IN ONE)) THEN COMPUTER ELSE SEGMENT3#201 END = 3D TELEVISION) THEN LED SMART TELEVISION ELSE CASE WHEN ((((SEGMENT3#201 = LAPTOP) OR (SEGMENT3#201 = DESKTOP PC)) OR (SEGMENT3#201 = SERVER)) OR (SEGMENT3#201 = ALL IN ONE)) THEN COMPUTER ELSE SEGMENT3#201 END END END END = AIRCONDITIONER-INDOOR) THEN AIRCONDITIONER ELSE CASE WHEN (CASE WHEN (CASE WHEN (CASE WHEN ((((SEGMENT3#201 = LAPTOP) OR (SEGMENT3#201 = DESKTOP PC)) OR (SEGMENT3#201 = SERVER)) OR (SEGMENT3#201 = ALL IN ONE)) THEN COMPUTER ELSE SEGMENT3#201 END = 3D TELEVISION) THEN LED SMART TELEVISION ELSE CASE WHEN ((((SEGMENT3#201 = LAPTOP) OR (SEGMENT3#201 = DESKTOP PC)) OR (SEGMENT3#201 = SERVER)) OR (SEGMENT3#201 = ALL IN ONE)) THEN COMPUTER ELSE SEGMENT3#201 END END = LCD TELEVISION) THEN LED TELEVISION ELSE CASE WHEN (CASE WHEN ((((SEGMENT3#201 = LAPTOP) OR (SEGMENT3#201 = DESKTOP PC)) OR (SEGMENT3#201 = SERVER)) OR (SEGMENT3#201 = ALL IN ONE)) THEN COMPUTER ELSE SEGMENT3#201 END = 3D TELEVISION) THEN LED SMART TELEVISION ELSE CASE WHEN ((((SEGMENT3#201 = LAPTOP) OR (SEGMENT3#201 = DESKTOP PC)) OR (SEGMENT3#201 = SERVER)) OR (SEGMENT3#201 = ALL IN ONE)) THEN COMPUTER ELSE SEGMENT3#201 END END END = BEVERAGE COOLER) THEN REFRIGERATOR ELSE CASE WHEN (CASE WHEN (CASE WHEN ((((SEGMENT3#201 = LAPTOP) OR (SEGMENT3#201 = DESKTOP PC)) OR (SEGMENT3#201 = SERVER)) OR (SEGMENT3#201 = ALL IN ONE)) THEN COMPUTER ELSE SEGMENT3#201 END = 3D TELEVISION) THEN LED SMART TELEVISION ELSE CASE WHEN ((((SEGMENT3#201 = LAPTOP) OR (SEGMENT3#201 = DESKTOP PC)) OR (SEGMENT3#201 = SERVER)) OR (SEGMENT3#201 = ALL IN ONE)) THEN COMPUTER ELSE SEGMENT3#201 END END = LCD TELEVISION) THEN LED TELEVISION ELSE CASE WHEN (CASE WHEN ((((SEGMENT3#201 = LAPTOP) OR (SEGMENT3#201 = DESKTOP PC)) OR (SEGMENT3#201 = SERVER)) OR (SEGMENT3#201 = ALL IN ONE)) THEN COMPUTER ELSE SEGMENT3#201 END = 3D TELEVISION) THEN LED SMART TELEVISION ELSE CASE WHEN ((((SEGMENT3#201 = LAPTOP) OR (SEGMENT3#201 = DESKTOP PC)) OR (SEGMENT3#201 = SERVER)) OR (SEGMENT3#201 = ALL IN ONE)) THEN COMPUTER ELSE SEGMENT3#201 END END END END END = COMPUTER)) OR (CASE WHEN (CASE WHEN (CASE WHEN (CASE WHEN (CASE WHEN ((((SEGMENT3#201 = LAPTOP) OR (SEGMENT3#201 = DESKTOP PC)) OR (SEGMENT3#201 = SERVER)) OR (SEGMENT3#201 = ALL IN ONE)) THEN COMPUTER ELSE SEGMENT3#201 END = 3D TELEVISION) THEN LED SMART TELEVISION ELSE CASE WHEN ((((SEGMENT3#201 = LAPTOP) OR (SEGMENT3#201 = DESKTOP PC)) OR (SEGMENT3#201 = SERVER)) OR (SEGMENT3#201 = ALL IN ONE)) THEN COMPUTER ELSE SEGMENT3#201 END END = LCD TELEVISION) THEN LED TELEVISION ELSE CASE WHEN (CASE WHEN ((((SEGMENT3#201 = LAPTOP) OR (SEGMENT3#201 = DESKTOP PC)) OR (SEGMENT3#201 = SERVER)) OR (SEGMENT3#201 = ALL IN ONE)) THEN COMPUTER ELSE SEGMENT3#201 END = 3D TELEVISION) THEN LED SMART TELEVISION ELSE CASE WHEN ((((SEGMENT3#201 = LAPTOP) OR (SEGMENT3#201 = DESKTOP PC)) OR (SEGMENT3#201 = SERVER)) OR (SEGMENT3#201 = ALL IN ONE)) THEN COMPUTER ELSE SEGMENT3#201 END END END = BEVERAGE COOLER) THEN REFRIGERATOR ELSE CASE WHEN (CASE WHEN (CASE WHEN ((((SEGMENT3#201 = LAPTOP) OR (SEGMENT3#201 = DESKTOP PC)) OR (SEGMENT3#201 = SERVER)) OR (SEGMENT3#201 = ALL IN ONE)) THEN COMPUTER ELSE SEGMENT3#201 END = 3D TELEVISION) THEN LED SMART TELEVISION ELSE CASE WHEN ((((SEGMENT3#201 = LAPTOP) OR (SEGMENT3#201 = DESKTOP PC)) OR (SEGMENT3#201 = SERVER)) OR (SEGMENT3#201 = ALL IN ONE)) THEN COMPUTER ELSE SEGMENT3#201 END END = LCD TELEVISION) THEN LED TELEVISION ELSE CASE WHEN (CASE WHEN ((((SEGMENT3#201 = LAPTOP) OR (SEGMENT3#201 = DESKTOP PC)) OR (SEGMENT3#201 = SERVER)) OR (SEGMENT3#201 = ALL IN ONE)) THEN COMPUTER ELSE SEGMENT3#201 END = 3D TELEVISION) THEN LED SMART TELEVISION ELSE CASE WHEN ((((SEGMENT3#201 = LAPTOP) OR (SEGMENT3#201 = DESKTOP PC)) OR (SEGMENT3#201 = SERVER)) OR (SEGMENT3#201 = ALL IN ONE)) THEN COMPUTER ELSE SEGMENT3#201 END END END END = AIRCONDITIONER-INDOOR) THEN AIRCONDITIONER ELSE CASE WHEN (CASE WHEN (CASE WHEN (CASE WHEN ((((SEGMENT3#201 = LAPTOP) OR (SEGMENT3#201 = DESKTOP PC)) OR (SEGMENT3#201 = SERVER)) OR (SEGMENT3#201 = ALL IN ONE)) THEN COMPUTER ELSE SEGMENT3#201 END = 3D TELEVISION) THEN LED SMART TELEVISION ELSE CASE WHEN ((((SEGMENT3#201 = LAPTOP) OR (SEGMENT3#201 = DESKTOP PC)) OR (SEGMENT3#201 = SERVER)) OR (SEGMENT3#201 = ALL IN ONE)) THEN COMPUTER ELSE SEGMENT3#201 END END = LCD TELEVISION) THEN LED TELEVISION ELSE CASE WHEN (CASE WHEN ((((SEGMENT3#201 = LAPTOP) OR (SEGMENT3#201 = DESKTOP PC)) OR (SEGMENT3#201 = SERVER)) OR (SEGMENT3#201 = ALL IN ONE)) THEN COMPUTER ELSE SEGMENT3#201 END = 3D TELEVISION) THEN LED SMART TELEVISION ELSE CASE WHEN ((((SEGMENT3#201 = LAPTOP) OR (SEGMENT3#201 = DESKTOP PC)) OR (SEGMENT3#201 = SERVER)) OR (SEGMENT3#201 = ALL IN ONE)) THEN COMPUTER ELSE SEGMENT3#201 END END END = BEVERAGE COOLER) THEN REFRIGERATOR ELSE CASE WHEN (CASE WHEN (CASE WHEN ((((SEGMENT3#201 = LAPTOP) OR (SEGMENT3#201 = DESKTOP PC)) OR (SEGMENT3#201 = SERVER)) OR (SEGMENT3#201 = ALL IN ONE)) THEN COMPUTER ELSE SEGMENT3#201 END = 3D TELEVISION) THEN LED SMART TELEVISION ELSE CASE WHEN ((((SEGMENT3#201 = LAPTOP) OR (SEGMENT3#201 = DESKTOP PC)) OR (SEGMENT3#201 = SERVER)) OR (SEGMENT3#201 = ALL IN ONE)) THEN COMPUTER ELSE SEGMENT3#201 END END = LCD TELEVISION) THEN LED TELEVISION ELSE CASE WHEN (CASE WHEN ((((SEGMENT3#201 = LAPTOP) OR (SEGMENT3#201 = DESKTOP PC)) OR (SEGMENT3#201 = SERVER)) OR (SEGMENT3#201 = ALL IN ONE)) THEN COMPUTER ELSE SEGMENT3#201 END = 3D TELEVISION) THEN LED SMART TELEVISION ELSE CASE WHEN ((((SEGMENT3#201 = LAPTOP) OR (SEGMENT3#201 = DESKTOP PC)) OR (SEGMENT3#201 = SERVER)) OR (SEGMENT3#201 = ALL IN ONE)) THEN COMPUTER ELSE SEGMENT3#201 END END END END END = FREEZER))) OR ((CASE WHEN (CASE WHEN (CASE WHEN (CASE WHEN (CASE WHEN ((((SEGMENT3#201 = LAPTOP) OR (SEGMENT3#201 = DESKTOP PC)) OR (SEGMENT3#201 = SERVER)) OR (SEGMENT3#201 = ALL IN ONE)) THEN COMPUTER ELSE SEGMENT3#201 END = 3D TELEVISION) THEN LED SMART TELEVISION ELSE CASE WHEN ((((SEGMENT3#201 = LAPTOP) OR (SEGMENT3#201 = DESKTOP PC)) OR (SEGMENT3#201 = SERVER)) OR (SEGMENT3#201 = ALL IN ONE)) THEN COMPUTER ELSE SEGMENT3#201 END END = LCD TELEVISION) THEN LED TELEVISION ELSE CASE WHEN (CASE WHEN ((((SEGMENT3#201 = LAPTOP) OR (SEGMENT3#201 = DESKTOP PC)) OR (SEGMENT3#201 = SERVER)) OR (SEGMENT3#201 = ALL IN ONE)) THEN COMPUTER ELSE SEGMENT3#201 END = 3D TELEVISION) THEN LED SMART TELEVISION ELSE CASE WHEN ((((SEGMENT3#201 = LAPTOP) OR (SEGMENT3#201 = DESKTOP PC)) OR (SEGMENT3#201 = SERVER)) OR (SEGMENT3#201 = ALL IN ONE)) THEN COMPUTER ELSE SEGMENT3#201 END END END = BEVERAGE COOLER) THEN REFRIGERATOR ELSE CASE WHEN (CASE WHEN (CASE WHEN ((((SEGMENT3#201 = LAPTOP) OR (SEGMENT3#201 = DESKTOP PC)) OR (SEGMENT3#201 = SERVER)) OR (SEGMENT3#201 = ALL IN ONE)) THEN COMPUTER ELSE SEGMENT3#201 END = 3D TELEVISION) THEN LED SMART TELEVISION ELSE CASE WHEN ((((SEGMENT3#201 = LAPTOP) OR (SEGMENT3#201 = DESKTOP PC)) OR (SEGMENT3#201 = SERVER)) OR (SEGMENT3#201 = ALL IN ONE)) THEN COMPUTER ELSE SEGMENT3#201 END END = LCD TELEVISION) THEN LED TELEVISION ELSE CASE WHEN (CASE WHEN ((((SEGMENT3#201 = LAPTOP) OR (SEGMENT3#201 = DESKTOP PC)) OR (SEGMENT3#201 = SERVER)) OR (SEGMENT3#201 = ALL IN ONE)) THEN COMPUTER ELSE SEGMENT3#201 END = 3D TELEVISION) THEN LED SMART TELEVISION ELSE CASE WHEN ((((SEGMENT3#201 = LAPTOP) OR (SEGMENT3#201 = DESKTOP PC)) OR (SEGMENT3#201 = SERVER)) OR (SEGMENT3#201 = ALL IN ONE)) THEN COMPUTER ELSE SEGMENT3#201 END END END END = AIRCONDITIONER-INDOOR) THEN AIRCONDITIONER ELSE CASE WHEN (CASE WHEN (CASE WHEN (CASE WHEN ((((SEGMENT3#201 = LAPTOP) OR (SEGMENT3#201 = DESKTOP PC)) OR (SEGMENT3#201 = SERVER)) OR (SEGMENT3#201 = ALL IN ONE)) THEN COMPUTER ELSE SEGMENT3#201 END = 3D TELEVISION) THEN LED SMART TELEVISION ELSE CASE WHEN ((((SEGMENT3#201 = LAPTOP) OR (SEGMENT3#201 = DESKTOP PC)) OR (SEGMENT3#201 = SERVER)) OR (SEGMENT3#201 = ALL IN ONE)) THEN COMPUTER ELSE SEGMENT3#201 END END = LCD TELEVISION) THEN LED TELEVISION ELSE CASE WHEN (CASE WHEN ((((SEGMENT3#201 = LAPTOP) OR (SEGMENT3#201 = DESKTOP PC)) OR (SEGMENT3#201 = SERVER)) OR (SEGMENT3#201 = ALL IN ONE)) THEN COMPUTER ELSE SEGMENT3#201 END = 3D TELEVISION) THEN LED SMART TELEVISION ELSE CASE WHEN ((((SEGMENT3#201 = LAPTOP) OR (SEGMENT3#201 = DESKTOP PC)) OR (SEGMENT3#201 = SERVER)) OR (SEGMENT3#201 = ALL IN ONE)) THEN COMPUTER ELSE SEGMENT3#201 END END END = BEVERAGE COOLER) THEN REFRIGERATOR ELSE CASE WHEN (CASE WHEN (CASE WHEN ((((SEGMENT3#201 = LAPTOP) OR (SEGMENT3#201 = DESKTOP PC)) OR (SEGMENT3#201 = SERVER)) OR (SEGMENT3#201 = ALL IN ONE)) THEN COMPUTER ELSE SEGMENT3#201 END = 3D TELEVISION) THEN LED SMART TELEVISION ELSE CASE WHEN ((((SEGMENT3#201 = LAPTOP) OR (SEGMENT3#201 = DESKTOP PC)) OR (SEGMENT3#201 = SERVER)) OR (SEGMENT3#201 = ALL IN ONE)) THEN COMPUTER ELSE SEGMENT3#201 END END = LCD TELEVISION) THEN LED TELEVISION ELSE CASE WHEN (CASE WHEN ((((SEGMENT3#201 = LAPTOP) OR (SEGMENT3#201 = DESKTOP PC)) OR (SEGMENT3#201 = SERVER)) OR (SEGMENT3#201 = ALL IN ONE)) THEN COMPUTER ELSE SEGMENT3#201 END = 3D TELEVISION) THEN LED SMART TELEVISION ELSE CASE WHEN ((((SEGMENT3#201 = LAPTOP) OR (SEGMENT3#201 = DESKTOP PC)) OR (SEGMENT3#201 = SERVER)) OR (SEGMENT3#201 = ALL IN ONE)) THEN COMPUTER ELSE SEGMENT3#201 END END END END END = LED TELEVISION) OR (CASE WHEN (CASE WHEN (CASE WHEN (CASE WHEN (CASE WHEN ((((SEGMENT3#201 = LAPTOP) OR (SEGMENT3#201 = DESKTOP PC)) OR (SEGMENT3#201 = SERVER)) OR (SEGMENT3#201 = ALL IN ONE)) THEN COMPUTER ELSE SEGMENT3#201 END = 3D TELEVISION) THEN LED SMART TELEVISION ELSE CASE WHEN ((((SEGMENT3#201 = LAPTOP) OR (SEGMENT3#201 = DESKTOP PC)) OR (SEGMENT3#201 = SERVER)) OR (SEGMENT3#201 = ALL IN ONE)) THEN COMPUTER ELSE SEGMENT3#201 END END = LCD TELEVISION) THEN LED TELEVISION ELSE CASE WHEN (CASE WHEN ((((SEGMENT3#201 = LAPTOP) OR (SEGMENT3#201 = DESKTOP PC)) OR (SEGMENT3#201 = SERVER)) OR (SEGMENT3#201 = ALL IN ONE)) THEN COMPUTER ELSE SEGMENT3#201 END = 3D TELEVISION) THEN LED SMART TELEVISION ELSE CASE WHEN ((((SEGMENT3#201 = LAPTOP) OR (SEGMENT3#201 = DESKTOP PC)) OR (SEGMENT3#201 = SERVER)) OR (SEGMENT3#201 = ALL IN ONE)) THEN COMPUTER ELSE SEGMENT3#201 END END END = BEVERAGE COOLER) THEN REFRIGERATOR ELSE CASE WHEN (CASE WHEN (CASE WHEN ((((SEGMENT3#201 = LAPTOP) OR (SEGMENT3#201 = DESKTOP PC)) OR (SEGMENT3#201 = SERVER)) OR (SEGMENT3#201 = ALL IN ONE)) THEN COMPUTER ELSE SEGMENT3#201 END = 3D TELEVISION) THEN LED SMART TELEVISION ELSE CASE WHEN ((((SEGMENT3#201 = LAPTOP) OR (SEGMENT3#201 = DESKTOP PC)) OR (SEGMENT3#201 = SERVER)) OR (SEGMENT3#201 = ALL IN ONE)) THEN COMPUTER ELSE SEGMENT3#201 END END = LCD TELEVISION) THEN LED TELEVISION ELSE CASE WHEN (CASE WHEN ((((SEGMENT3#201 = LAPTOP) OR (SEGMENT3#201 = DESKTOP PC)) OR (SEGMENT3#201 = SERVER)) OR (SEGMENT3#201 = ALL IN ONE)) THEN COMPUTER ELSE SEGMENT3#201 END = 3D TELEVISION) THEN LED SMART TELEVISION ELSE CASE WHEN ((((SEGMENT3#201 = LAPTOP) OR (SEGMENT3#201 = DESKTOP PC)) OR (SEGMENT3#201 = SERVER)) OR (SEGMENT3#201 = ALL IN ONE)) THEN COMPUTER ELSE SEGMENT3#201 END END END END = AIRCONDITIONER-INDOOR) THEN AIRCONDITIONER ELSE CASE WHEN (CASE WHEN (CASE WHEN (CASE WHEN ((((SEGMENT3#201 = LAPTOP) OR (SEGMENT3#201 = DESKTOP PC)) OR (SEGMENT3#201 = SERVER)) OR (SEGMENT3#201 = ALL IN ONE)) THEN COMPUTER ELSE SEGMENT3#201 END = 3D TELEVISION) THEN LED SMART TELEVISION ELSE CASE WHEN ((((SEGMENT3#201 = LAPTOP) OR (SEGMENT3#201 = DESKTOP PC)) OR (SEGMENT3#201 = SERVER)) OR (SEGMENT3#201 = ALL IN ONE)) THEN COMPUTER ELSE SEGMENT3#201 END END = LCD TELEVISION) THEN LED TELEVISION ELSE CASE WHEN (CASE WHEN ((((SEGMENT3#201 = LAPTOP) OR (SEGMENT3#201 = DESKTOP PC)) OR (SEGMENT3#201 = SERVER)) OR (SEGMENT3#201 = ALL IN ONE)) THEN COMPUTER ELSE SEGMENT3#201 END = 3D TELEVISION) THEN LED SMART TELEVISION ELSE CASE WHEN ((((SEGMENT3#201 = LAPTOP) OR (SEGMENT3#201 = DESKTOP PC)) OR (SEGMENT3#201 = SERVER)) OR (SEGMENT3#201 = ALL IN ONE)) THEN COMPUTER ELSE SEGMENT3#201 END END END = BEVERAGE COOLER) THEN REFRIGERATOR ELSE CASE WHEN (CASE WHEN (CASE WHEN ((((SEGMENT3#201 = LAPTOP) OR (SEGMENT3#201 = DESKTOP PC)) OR (SEGMENT3#201 = SERVER)) OR (SEGMENT3#201 = ALL IN ONE)) THEN COMPUTER ELSE SEGMENT3#201 END = 3D TELEVISION) THEN LED SMART TELEVISION ELSE CASE WHEN ((((SEGMENT3#201 = LAPTOP) OR (SEGMENT3#201 = DESKTOP PC)) OR (SEGMENT3#201 = SERVER)) OR (SEGMENT3#201 = ALL IN ONE)) THEN COMPUTER ELSE SEGMENT3#201 END END = LCD TELEVISION) THEN LED TELEVISION ELSE CASE WHEN (CASE WHEN ((((SEGMENT3#201 = LAPTOP) OR (SEGMENT3#201 = DESKTOP PC)) OR (SEGMENT3#201 = SERVER)) OR (SEGMENT3#201 = ALL IN ONE)) THEN COMPUTER ELSE SEGMENT3#201 END = 3D TELEVISION) THEN LED SMART TELEVISION ELSE CASE WHEN ((((SEGMENT3#201 = LAPTOP) OR (SEGMENT3#201 = DESKTOP PC)) OR (SEGMENT3#201 = SERVER)) OR (SEGMENT3#201 = ALL IN ONE)) THEN COMPUTER ELSE SEGMENT3#201 END END END END END = LED SMART TELEVISION))) OR ((CASE WHEN (CASE WHEN (CASE WHEN (CASE WHEN (CASE WHEN ((((SEGMENT3#201 = LAPTOP) OR (SEGMENT3#201 = DESKTOP PC)) OR (SEGMENT3#201 = SERVER)) OR (SEGMENT3#201 = ALL IN ONE)) THEN COMPUTER ELSE SEGMENT3#201 END = 3D TELEVISION) THEN LED SMART TELEVISION ELSE CASE WHEN ((((SEGMENT3#201 = LAPTOP) OR (SEGMENT3#201 = DESKTOP PC)) OR (SEGMENT3#201 = SERVER)) OR (SEGMENT3#201 = ALL IN ONE)) THEN COMPUTER ELSE SEGMENT3#201 END END = LCD TELEVISION) THEN LED TELEVISION ELSE CASE WHEN (CASE WHEN ((((SEGMENT3#201 = LAPTOP) OR (SEGMENT3#201 = DESKTOP PC)) OR (SEGMENT3#201 = SERVER)) OR (SEGMENT3#201 = ALL IN ONE)) THEN COMPUTER ELSE SEGMENT3#201 END = 3D TELEVISION) THEN LED SMART TELEVISION ELSE CASE WHEN ((((SEGMENT3#201 = LAPTOP) OR (SEGMENT3#201 = DESKTOP PC)) OR (SEGMENT3#201 = SERVER)) OR (SEGMENT3#201 = ALL IN ONE)) THEN COMPUTER ELSE SEGMENT3#201 END END END = BEVERAGE COOLER) THEN REFRIGERATOR ELSE CASE WHEN (CASE WHEN (CASE WHEN ((((SEGMENT3#201 = LAPTOP) OR (SEGMENT3#201 = DESKTOP PC)) OR (SEGMENT3#201 = SERVER)) OR (SEGMENT3#201 = ALL IN ONE)) THEN COMPUTER ELSE SEGMENT3#201 END = 3D TELEVISION) THEN LED SMART TELEVISION ELSE CASE WHEN ((((SEGMENT3#201 = LAPTOP) OR (SEGMENT3#201 = DESKTOP PC)) OR (SEGMENT3#201 = SERVER)) OR (SEGMENT3#201 = ALL IN ONE)) THEN COMPUTER ELSE SEGMENT3#201 END END = LCD TELEVISION) THEN LED TELEVISION ELSE CASE WHEN (CASE WHEN ((((SEGMENT3#201 = LAPTOP) OR (SEGMENT3#201 = DESKTOP PC)) OR (SEGMENT3#201 = SERVER)) OR (SEGMENT3#201 = ALL IN ONE)) THEN COMPUTER ELSE SEGMENT3#201 END = 3D TELEVISION) THEN LED SMART TELEVISION ELSE CASE WHEN ((((SEGMENT3#201 = LAPTOP) OR (SEGMENT3#201 = DESKTOP PC)) OR (SEGMENT3#201 = SERVER)) OR (SEGMENT3#201 = ALL IN ONE)) THEN COMPUTER ELSE SEGMENT3#201 END END END END = AIRCONDITIONER-INDOOR) THEN AIRCONDITIONER ELSE CASE WHEN (CASE WHEN (CASE WHEN (CASE WHEN ((((SEGMENT3#201 = LAPTOP) OR (SEGMENT3#201 = DESKTOP PC)) OR (SEGMENT3#201 = SERVER)) OR (SEGMENT3#201 = ALL IN ONE)) THEN COMPUTER ELSE SEGMENT3#201 END = 3D TELEVISION) THEN LED SMART TELEVISION ELSE CASE WHEN ((((SEGMENT3#201 = LAPTOP) OR (SEGMENT3#201 = DESKTOP PC)) OR (SEGMENT3#201 = SERVER)) OR (SEGMENT3#201 = ALL IN ONE)) THEN COMPUTER ELSE SEGMENT3#201 END END = LCD TELEVISION) THEN LED TELEVISION ELSE CASE WHEN (CASE WHEN ((((SEGMENT3#201 = LAPTOP) OR (SEGMENT3#201 = DESKTOP PC)) OR (SEGMENT3#201 = SERVER)) OR (SEGMENT3#201 = ALL IN ONE)) THEN COMPUTER ELSE SEGMENT3#201 END = 3D TELEVISION) THEN LED SMART TELEVISION ELSE CASE WHEN ((((SEGMENT3#201 = LAPTOP) OR (SEGMENT3#201 = DESKTOP PC)) OR (SEGMENT3#201 = SERVER)) OR (SEGMENT3#201 = ALL IN ONE)) THEN COMPUTER ELSE SEGMENT3#201 END END END = BEVERAGE COOLER) THEN REFRIGERATOR ELSE CASE WHEN (CASE WHEN (CASE WHEN ((((SEGMENT3#201 = LAPTOP) OR (SEGMENT3#201 = DESKTOP PC)) OR (SEGMENT3#201 = SERVER)) OR (SEGMENT3#201 = ALL IN ONE)) THEN COMPUTER ELSE SEGMENT3#201 END = 3D TELEVISION) THEN LED SMART TELEVISION ELSE CASE WHEN ((((SEGMENT3#201 = LAPTOP) OR (SEGMENT3#201 = DESKTOP PC)) OR (SEGMENT3#201 = SERVER)) OR (SEGMENT3#201 = ALL IN ONE)) THEN COMPUTER ELSE SEGMENT3#201 END END = LCD TELEVISION) THEN LED TELEVISION ELSE CASE WHEN (CASE WHEN ((((SEGMENT3#201 = LAPTOP) OR (SEGMENT3#201 = DESKTOP PC)) OR (SEGMENT3#201 = SERVER)) OR (SEGMENT3#201 = ALL IN ONE)) THEN COMPUTER ELSE SEGMENT3#201 END = 3D TELEVISION) THEN LED SMART TELEVISION ELSE CASE WHEN ((((SEGMENT3#201 = LAPTOP) OR (SEGMENT3#201 = DESKTOP PC)) OR (SEGMENT3#201 = SERVER)) OR (SEGMENT3#201 = ALL IN ONE)) THEN COMPUTER ELSE SEGMENT3#201 END END END END END = MICROWAVE OVEN) AND isnotnull(CASE WHEN (CASE WHEN (CASE WHEN (CASE WHEN (CASE WHEN ((((SEGMENT3#201 = LAPTOP) OR (SEGMENT3#201 = DESKTOP PC)) OR (SEGMENT3#201 = SERVER)) OR (SEGMENT3#201 = ALL IN ONE)) THEN COMPUTER ELSE SEGMENT3#201 END = 3D TELEVISION) THEN LED SMART TELEVISION ELSE CASE WHEN ((((SEGMENT3#201 = LAPTOP) OR (SEGMENT3#201 = DESKTOP PC)) OR (SEGMENT3#201 = SERVER)) OR (SEGMENT3#201 = ALL IN ONE)) THEN COMPUTER ELSE SEGMENT3#201 END END = LCD TELEVISION) THEN LED TELEVISION ELSE CASE WHEN (CASE WHEN ((((SEGMENT3#201 = LAPTOP) OR (SEGMENT3#201 = DESKTOP PC)) OR (SEGMENT3#201 = SERVER)) OR (SEGMENT3#201 = ALL IN ONE)) THEN COMPUTER ELSE SEGMENT3#201 END = 3D TELEVISION) THEN LED SMART TELEVISION ELSE CASE WHEN ((((SEGMENT3#201 = LAPTOP) OR (SEGMENT3#201 = DESKTOP PC)) OR (SEGMENT3#201 = SERVER)) OR (SEGMENT3#201 = ALL IN ONE)) THEN COMPUTER ELSE SEGMENT3#201 END END END = BEVERAGE COOLER) THEN REFRIGERATOR ELSE CASE WHEN (CASE WHEN (CASE WHEN ((((SEGMENT3#201 = LAPTOP) OR (SEGMENT3#201 = DESKTOP PC)) OR (SEGMENT3#201 = SERVER)) OR (SEGMENT3#201 = ALL IN ONE)) THEN COMPUTER ELSE SEGMENT3#201 END = 3D TELEVISION) THEN LED SMART TELEVISION ELSE CASE WHEN ((((SEGMENT3#201 = LAPTOP) OR (SEGMENT3#201 = DESKTOP PC)) OR (SEGMENT3#201 = SERVER)) OR (SEGMENT3#201 = ALL IN ONE)) THEN COMPUTER ELSE SEGMENT3#201 END END = LCD TELEVISION) THEN LED TELEVISION ELSE CASE WHEN (CASE WHEN ((((SEGMENT3#201 = LAPTOP) OR (SEGMENT3#201 = DESKTOP PC)) OR (SEGMENT3#201 = SERVER)) OR (SEGMENT3#201 = ALL IN ONE)) THEN COMPUTER ELSE SEGMENT3#201 END = 3D TELEVISION) THEN LED SMART TELEVISION ELSE CASE WHEN ((((SEGMENT3#201 = LAPTOP) OR (SEGMENT3#201 = DESKTOP PC)) OR (SEGMENT3#201 = SERVER)) OR (SEGMENT3#201 = ALL IN ONE)) THEN COMPUTER ELSE SEGMENT3#201 END END END END = AIRCONDITIONER-INDOOR) THEN AIRCONDITIONER ELSE CASE WHEN (CASE WHEN (CASE WHEN (CASE WHEN ((((SEGMENT3#201 = LAPTOP) OR (SEGMENT3#201 = DESKTOP PC)) OR (SEGMENT3#201 = SERVER)) OR (SEGMENT3#201 = ALL IN ONE)) THEN COMPUTER ELSE SEGMENT3#201 END = 3D TELEVISION) THEN LED SMART TELEVISION ELSE CASE WHEN ((((SEGMENT3#201 = LAPTOP) OR (SEGMENT3#201 = DESKTOP PC)) OR (SEGMENT3#201 = SERVER)) OR (SEGMENT3#201 = ALL IN ONE)) THEN COMPUTER ELSE SEGMENT3#201 END END = LCD TELEVISION) THEN LED TELEVISION ELSE CASE WHEN (CASE WHEN ((((SEGMENT3#201 = LAPTOP) OR (SEGMENT3#201 = DESKTOP PC)) OR (SEGMENT3#201 = SERVER)) OR (SEGMENT3#201 = ALL IN ONE)) THEN COMPUTER ELSE SEGMENT3#201 END = 3D TELEVISION) THEN LED SMART TELEVISION ELSE CASE WHEN ((((SEGMENT3#201 = LAPTOP) OR (SEGMENT3#201 = DESKTOP PC)) OR (SEGMENT3#201 = SERVER)) OR (SEGMENT3#201 = ALL IN ONE)) THEN COMPUTER ELSE SEGMENT3#201 END END END = BEVERAGE COOLER) THEN REFRIGERATOR ELSE CASE WHEN (CASE WHEN (CASE WHEN ((((SEGMENT3#201 = LAPTOP) OR (SEGMENT3#201 = DESKTOP PC)) OR (SEGMENT3#201 = SERVER)) OR (SEGMENT3#201 = ALL IN ONE)) THEN COMPUTER ELSE SEGMENT3#201 END = 3D TELEVISION) THEN LED SMART TELEVISION ELSE CASE WHEN ((((SEGMENT3#201 = LAPTOP) OR (SEGMENT3#201 = DESKTOP PC)) OR (SEGMENT3#201 = SERVER)) OR (SEGMENT3#201 = ALL IN ONE)) THEN COMPUTER ELSE SEGMENT3#201 END END = LCD TELEVISION) THEN LED TELEVISION ELSE CASE WHEN (CASE WHEN ((((SEGMENT3#201 = LAPTOP) OR (SEGMENT3#201 = DESKTOP PC)) OR (SEGMENT3#201 = SERVER)) OR (SEGMENT3#201 = ALL IN ONE)) THEN COMPUTER ELSE SEGMENT3#201 END = 3D TELEVISION) THEN LED SMART TELEVISION ELSE CASE WHEN ((((SEGMENT3#201 = LAPTOP) OR (SEGMENT3#201 = DESKTOP PC)) OR (SEGMENT3#201 = SERVER)) OR (SEGMENT3#201 = ALL IN ONE)) THEN COMPUTER ELSE SEGMENT3#201 END END END END END))) OR ((CASE WHEN (CASE WHEN (CASE WHEN (CASE WHEN (CASE WHEN ((((SEGMENT3#201 = LAPTOP) OR (SEGMENT3#201 = DESKTOP PC)) OR (SEGMENT3#201 = SERVER)) OR (SEGMENT3#201 = ALL IN ONE)) THEN COMPUTER ELSE SEGMENT3#201 END = 3D TELEVISION) THEN LED SMART TELEVISION ELSE CASE WHEN ((((SEGMENT3#201 = LAPTOP) OR (SEGMENT3#201 = DESKTOP PC)) OR (SEGMENT3#201 = SERVER)) OR (SEGMENT3#201 = ALL IN ONE)) THEN COMPUTER ELSE SEGMENT3#201 END END = LCD TELEVISION) THEN LED TELEVISION ELSE CASE WHEN (CASE WHEN ((((SEGMENT3#201 = LAPTOP) OR (SEGMENT3#201 = DESKTOP PC)) OR (SEGMENT3#201 = SERVER)) OR (SEGMENT3#201 = ALL IN ONE)) THEN COMPUTER ELSE SEGMENT3#201 END = 3D TELEVISION) THEN LED SMART TELEVISION ELSE CASE WHEN ((((SEGMENT3#201 = LAPTOP) OR (SEGMENT3#201 = DESKTOP PC)) OR (SEGMENT3#201 = SERVER)) OR (SEGMENT3#201 = ALL IN ONE)) THEN COMPUTER ELSE SEGMENT3#201 END END END = BEVERAGE COOLER) THEN REFRIGERATOR ELSE CASE WHEN (CASE WHEN (CASE WHEN ((((SEGMENT3#201 = LAPTOP) OR (SEGMENT3#201 = DESKTOP PC)) OR (SEGMENT3#201 = SERVER)) OR (SEGMENT3#201 = ALL IN ONE)) THEN COMPUTER ELSE SEGMENT3#201 END = 3D TELEVISION) THEN LED SMART TELEVISION ELSE CASE WHEN ((((SEGMENT3#201 = LAPTOP) OR (SEGMENT3#201 = DESKTOP PC)) OR (SEGMENT3#201 = SERVER)) OR (SEGMENT3#201 = ALL IN ONE)) THEN COMPUTER ELSE SEGMENT3#201 END END = LCD TELEVISION) THEN LED TELEVISION ELSE CASE WHEN (CASE WHEN ((((SEGMENT3#201 = LAPTOP) OR (SEGMENT3#201 = DESKTOP PC)) OR (SEGMENT3#201 = SERVER)) OR (SEGMENT3#201 = ALL IN ONE)) THEN COMPUTER ELSE SEGMENT3#201 END = 3D TELEVISION) THEN LED SMART TELEVISION ELSE CASE WHEN ((((SEGMENT3#201 = LAPTOP) OR (SEGMENT3#201 = DESKTOP PC)) OR (SEGMENT3#201 = SERVER)) OR (SEGMENT3#201 = ALL IN ONE)) THEN COMPUTER ELSE SEGMENT3#201 END END END END = AIRCONDITIONER-INDOOR) THEN AIRCONDITIONER ELSE CASE WHEN (CASE WHEN (CASE WHEN (CASE WHEN ((((SEGMENT3#201 = LAPTOP) OR (SEGMENT3#201 = DESKTOP PC)) OR (SEGMENT3#201 = SERVER)) OR (SEGMENT3#201 = ALL IN ONE)) THEN COMPUTER ELSE SEGMENT3#201 END = 3D TELEVISION) THEN LED SMART TELEVISION ELSE CASE WHEN ((((SEGMENT3#201 = LAPTOP) OR (SEGMENT3#201 = DESKTOP PC)) OR (SEGMENT3#201 = SERVER)) OR (SEGMENT3#201 = ALL IN ONE)) THEN COMPUTER ELSE SEGMENT3#201 END END = LCD TELEVISION) THEN LED TELEVISION ELSE CASE WHEN (CASE WHEN ((((SEGMENT3#201 = LAPTOP) OR (SEGMENT3#201 = DESKTOP PC)) OR (SEGMENT3#201 = SERVER)) OR (SEGMENT3#201 = ALL IN ONE)) THEN COMPUTER ELSE SEGMENT3#201 END = 3D TELEVISION) THEN LED SMART TELEVISION ELSE CASE WHEN ((((SEGMENT3#201 = LAPTOP) OR (SEGMENT3#201 = DESKTOP PC)) OR (SEGMENT3#201 = SERVER)) OR (SEGMENT3#201 = ALL IN ONE)) THEN COMPUTER ELSE SEGMENT3#201 END END END = BEVERAGE COOLER) THEN REFRIGERATOR ELSE CASE WHEN (CASE WHEN (CASE WHEN ((((SEGMENT3#201 = LAPTOP) OR (SEGMENT3#201 = DESKTOP PC)) OR (SEGMENT3#201 = SERVER)) OR (SEGMENT3#201 = ALL IN ONE)) THEN COMPUTER ELSE SEGMENT3#201 END = 3D TELEVISION) THEN LED SMART TELEVISION ELSE CASE WHEN ((((SEGMENT3#201 = LAPTOP) OR (SEGMENT3#201 = DESKTOP PC)) OR (SEGMENT3#201 = SERVER)) OR (SEGMENT3#201 = ALL IN ONE)) THEN COMPUTER ELSE SEGMENT3#201 END END = LCD TELEVISION) THEN LED TELEVISION ELSE CASE WHEN (CASE WHEN ((((SEGMENT3#201 = LAPTOP) OR (SEGMENT3#201 = DESKTOP PC)) OR (SEGMENT3#201 = SERVER)) OR (SEGMENT3#201 = ALL IN ONE)) THEN COMPUTER ELSE SEGMENT3#201 END = 3D TELEVISION) THEN LED SMART TELEVISION ELSE CASE WHEN ((((SEGMENT3#201 = LAPTOP) OR (SEGMENT3#201 = DESKTOP PC)) OR (SEGMENT3#201 = SERVER)) OR (SEGMENT3#201 = ALL IN ONE)) THEN COMPUTER ELSE SEGMENT3#201 END END END END END = REFRIGERATOR) AND isnotnull(CASE WHEN (CASE WHEN (CASE WHEN (CASE WHEN (CASE WHEN ((((SEGMENT3#201 = LAPTOP) OR (SEGMENT3#201 = DESKTOP PC)) OR (SEGMENT3#201 = SERVER)) OR (SEGMENT3#201 = ALL IN ONE)) THEN COMPUTER ELSE SEGMENT3#201 END = 3D TELEVISION) THEN LED SMART TELEVISION ELSE CASE WHEN ((((SEGMENT3#201 = LAPTOP) OR (SEGMENT3#201 = DESKTOP PC)) OR (SEGMENT3#201 = SERVER)) OR (SEGMENT3#201 = ALL IN ONE)) THEN COMPUTER ELSE SEGMENT3#201 END END = LCD TELEVISION) THEN LED TELEVISION ELSE CASE WHEN (CASE WHEN ((((SEGMENT3#201 = LAPTOP) OR (SEGMENT3#201 = DESKTOP PC)) OR (SEGMENT3#201 = SERVER)) OR (SEGMENT3#201 = ALL IN ONE)) THEN COMPUTER ELSE SEGMENT3#201 END = 3D TELEVISION) THEN LED SMART TELEVISION ELSE CASE WHEN ((((SEGMENT3#201 = LAPTOP) OR (SEGMENT3#201 = DESKTOP PC)) OR (SEGMENT3#201 = SERVER)) OR (SEGMENT3#201 = ALL IN ONE)) THEN COMPUTER ELSE SEGMENT3#201 END END END = BEVERAGE COOLER) THEN REFRIGERATOR ELSE CASE WHEN (CASE WHEN (CASE WHEN ((((SEGMENT3#201 = LAPTOP) OR (SEGMENT3#201 = DESKTOP PC)) OR (SEGMENT3#201 = SERVER)) OR (SEGMENT3#201 = ALL IN ONE)) THEN COMPUTER ELSE SEGMENT3#201 END = 3D TELEVISION) THEN LED SMART TELEVISION ELSE CASE WHEN ((((SEGMENT3#201 = LAPTOP) OR (SEGMENT3#201 = DESKTOP PC)) OR (SEGMENT3#201 = SERVER)) OR (SEGMENT3#201 = ALL IN ONE)) THEN COMPUTER ELSE SEGMENT3#201 END END = LCD TELEVISION) THEN LED TELEVISION ELSE CASE WHEN (CASE WHEN ((((SEGMENT3#201 = LAPTOP) OR (SEGMENT3#201 = DESKTOP PC)) OR (SEGMENT3#201 = SERVER)) OR (SEGMENT3#201 = ALL IN ONE)) THEN COMPUTER ELSE SEGMENT3#201 END = 3D TELEVISION) THEN LED SMART TELEVISION ELSE CASE WHEN ((((SEGMENT3#201 = LAPTOP) OR (SEGMENT3#201 = DESKTOP PC)) OR (SEGMENT3#201 = SERVER)) OR (SEGMENT3#201 = ALL IN ONE)) THEN COMPUTER ELSE SEGMENT3#201 END END END END = AIRCONDITIONER-INDOOR) THEN AIRCONDITIONER ELSE CASE WHEN (CASE WHEN (CASE WHEN (CASE WHEN ((((SEGMENT3#201 = LAPTOP) OR (SEGMENT3#201 = DESKTOP PC)) OR (SEGMENT3#201 = SERVER)) OR (SEGMENT3#201 = ALL IN ONE)) THEN COMPUTER ELSE SEGMENT3#201 END = 3D TELEVISION) THEN LED SMART TELEVISION ELSE CASE WHEN ((((SEGMENT3#201 = LAPTOP) OR (SEGMENT3#201 = DESKTOP PC)) OR (SEGMENT3#201 = SERVER)) OR (SEGMENT3#201 = ALL IN ONE)) THEN COMPUTER ELSE SEGMENT3#201 END END = LCD TELEVISION) THEN LED TELEVISION ELSE CASE WHEN (CASE WHEN ((((SEGMENT3#201 = LAPTOP) OR (SEGMENT3#201 = DESKTOP PC)) OR (SEGMENT3#201 = SERVER)) OR (SEGMENT3#201 = ALL IN ONE)) THEN COMPUTER ELSE SEGMENT3#201 END = 3D TELEVISION) THEN LED SMART TELEVISION ELSE CASE WHEN ((((SEGMENT3#201 = LAPTOP) OR (SEGMENT3#201 = DESKTOP PC)) OR (SEGMENT3#201 = SERVER)) OR (SEGMENT3#201 = ALL IN ONE)) THEN COMPUTER ELSE SEGMENT3#201 END END END = BEVERAGE COOLER) THEN REFRIGERATOR ELSE CASE WHEN (CASE WHEN (CASE WHEN ((((SEGMENT3#201 = LAPTOP) OR (SEGMENT3#201 = DESKTOP PC)) OR (SEGMENT3#201 = SERVER)) OR (SEGMENT3#201 = ALL IN ONE)) THEN COMPUTER ELSE SEGMENT3#201 END = 3D TELEVISION) THEN LED SMART TELEVISION ELSE CASE WHEN ((((SEGMENT3#201 = LAPTOP) OR (SEGMENT3#201 = DESKTOP PC)) OR (SEGMENT3#201 = SERVER)) OR (SEGMENT3#201 = ALL IN ONE)) THEN COMPUTER ELSE SEGMENT3#201 END END = LCD TELEVISION) THEN LED TELEVISION ELSE CASE WHEN (CASE WHEN ((((SEGMENT3#201 = LAPTOP) OR (SEGMENT3#201 = DESKTOP PC)) OR (SEGMENT3#201 = SERVER)) OR (SEGMENT3#201 = ALL IN ONE)) THEN COMPUTER ELSE SEGMENT3#201 END = 3D TELEVISION) THEN LED SMART TELEVISION ELSE CASE WHEN ((((SEGMENT3#201 = LAPTOP) OR (SEGMENT3#201 = DESKTOP PC)) OR (SEGMENT3#201 = SERVER)) OR (SEGMENT3#201 = ALL IN ONE)) THEN COMPUTER ELSE SEGMENT3#201 END END END END END))) OR ((CASE WHEN (CASE WHEN (CASE WHEN (CASE WHEN (CASE WHEN ((((SEGMENT3#201 = LAPTOP) OR (SEGMENT3#201 = DESKTOP PC)) OR (SEGMENT3#201 = SERVER)) OR (SEGMENT3#201 = ALL IN ONE)) THEN COMPUTER ELSE SEGMENT3#201 END = 3D TELEVISION) THEN LED SMART TELEVISION ELSE CASE WHEN ((((SEGMENT3#201 = LAPTOP) OR (SEGMENT3#201 = DESKTOP PC)) OR (SEGMENT3#201 = SERVER)) OR (SEGMENT3#201 = ALL IN ONE)) THEN COMPUTER ELSE SEGMENT3#201 END END = LCD TELEVISION) THEN LED TELEVISION ELSE CASE WHEN (CASE WHEN ((((SEGMENT3#201 = LAPTOP) OR (SEGMENT3#201 = DESKTOP PC)) OR (SEGMENT3#201 = SERVER)) OR (SEGMENT3#201 = ALL IN ONE)) THEN COMPUTER ELSE SEGMENT3#201 END = 3D TELEVISION) THEN LED SMART TELEVISION ELSE CASE WHEN ((((SEGMENT3#201 = LAPTOP) OR (SEGMENT3#201 = DESKTOP PC)) OR (SEGMENT3#201 = SERVER)) OR (SEGMENT3#201 = ALL IN ONE)) THEN COMPUTER ELSE SEGMENT3#201 END END END = BEVERAGE COOLER) THEN REFRIGERATOR ELSE CASE WHEN (CASE WHEN (CASE WHEN ((((SEGMENT3#201 = LAPTOP) OR (SEGMENT3#201 = DESKTOP PC)) OR (SEGMENT3#201 = SERVER)) OR (SEGMENT3#201 = ALL IN ONE)) THEN COMPUTER ELSE SEGMENT3#201 END = 3D TELEVISION) THEN LED SMART TELEVISION ELSE CASE WHEN ((((SEGMENT3#201 = LAPTOP) OR (SEGMENT3#201 = DESKTOP PC)) OR (SEGMENT3#201 = SERVER)) OR (SEGMENT3#201 = ALL IN ONE)) THEN COMPUTER ELSE SEGMENT3#201 END END = LCD TELEVISION) THEN LED TELEVISION ELSE CASE WHEN (CASE WHEN ((((SEGMENT3#201 = LAPTOP) OR (SEGMENT3#201 = DESKTOP PC)) OR (SEGMENT3#201 = SERVER)) OR (SEGMENT3#201 = ALL IN ONE)) THEN COMPUTER ELSE SEGMENT3#201 END = 3D TELEVISION) THEN LED SMART TELEVISION ELSE CASE WHEN ((((SEGMENT3#201 = LAPTOP) OR (SEGMENT3#201 = DESKTOP PC)) OR (SEGMENT3#201 = SERVER)) OR (SEGMENT3#201 = ALL IN ONE)) THEN COMPUTER ELSE SEGMENT3#201 END END END END = AIRCONDITIONER-INDOOR) THEN AIRCONDITIONER ELSE CASE WHEN (CASE WHEN (CASE WHEN (CASE WHEN ((((SEGMENT3#201 = LAPTOP) OR (SEGMENT3#201 = DESKTOP PC)) OR (SEGMENT3#201 = SERVER)) OR (SEGMENT3#201 = ALL IN ONE)) THEN COMPUTER ELSE SEGMENT3#201 END = 3D TELEVISION) THEN LED SMART TELEVISION ELSE CASE WHEN ((((SEGMENT3#201 = LAPTOP) OR (SEGMENT3#201 = DESKTOP PC)) OR (SEGMENT3#201 = SERVER)) OR (SEGMENT3#201 = ALL IN ONE)) THEN COMPUTER ELSE SEGMENT3#201 END END = LCD TELEVISION) THEN LED TELEVISION ELSE CASE WHEN (CASE WHEN ((((SEGMENT3#201 = LAPTOP) OR (SEGMENT3#201 = DESKTOP PC)) OR (SEGMENT3#201 = SERVER)) OR (SEGMENT3#201 = ALL IN ONE)) THEN COMPUTER ELSE SEGMENT3#201 END = 3D TELEVISION) THEN LED SMART TELEVISION ELSE CASE WHEN ((((SEGMENT3#201 = LAPTOP) OR (SEGMENT3#201 = DESKTOP PC)) OR (SEGMENT3#201 = SERVER)) OR (SEGMENT3#201 = ALL IN ONE)) THEN COMPUTER ELSE SEGMENT3#201 END END END = BEVERAGE COOLER) THEN REFRIGERATOR ELSE CASE WHEN (CASE WHEN (CASE WHEN ((((SEGMENT3#201 = LAPTOP) OR (SEGMENT3#201 = DESKTOP PC)) OR (SEGMENT3#201 = SERVER)) OR (SEGMENT3#201 = ALL IN ONE)) THEN COMPUTER ELSE SEGMENT3#201 END = 3D TELEVISION) THEN LED SMART TELEVISION ELSE CASE WHEN ((((SEGMENT3#201 = LAPTOP) OR (SEGMENT3#201 = DESKTOP PC)) OR (SEGMENT3#201 = SERVER)) OR (SEGMENT3#201 = ALL IN ONE)) THEN COMPUTER ELSE SEGMENT3#201 END END = LCD TELEVISION) THEN LED TELEVISION ELSE CASE WHEN (CASE WHEN ((((SEGMENT3#201 = LAPTOP) OR (SEGMENT3#201 = DESKTOP PC)) OR (SEGMENT3#201 = SERVER)) OR (SEGMENT3#201 = ALL IN ONE)) THEN COMPUTER ELSE SEGMENT3#201 END = 3D TELEVISION) THEN LED SMART TELEVISION ELSE CASE WHEN ((((SEGMENT3#201 = LAPTOP) OR (SEGMENT3#201 = DESKTOP PC)) OR (SEGMENT3#201 = SERVER)) OR (SEGMENT3#201 = ALL IN ONE)) THEN COMPUTER ELSE SEGMENT3#201 END END END END END = WASHING MACHINE) AND isnotnull(CASE WHEN (CASE WHEN (CASE WHEN (CASE WHEN (CASE WHEN ((((SEGMENT3#201 = LAPTOP) OR (SEGMENT3#201 = DESKTOP PC)) OR (SEGMENT3#201 = SERVER)) OR (SEGMENT3#201 = ALL IN ONE)) THEN COMPUTER ELSE SEGMENT3#201 END = 3D TELEVISION) THEN LED SMART TELEVISION ELSE CASE WHEN ((((SEGMENT3#201 = LAPTOP) OR (SEGMENT3#201 = DESKTOP PC)) OR (SEGMENT3#201 = SERVER)) OR (SEGMENT3#201 = ALL IN ONE)) THEN COMPUTER ELSE SEGMENT3#201 END END = LCD TELEVISION) THEN LED TELEVISION ELSE CASE WHEN (CASE WHEN ((((SEGMENT3#201 = LAPTOP) OR (SEGMENT3#201 = DESKTOP PC)) OR (SEGMENT3#201 = SERVER)) OR (SEGMENT3#201 = ALL IN ONE)) THEN COMPUTER ELSE SEGMENT3#201 END = 3D TELEVISION) THEN LED SMART TELEVISION ELSE CASE WHEN ((((SEGMENT3#201 = LAPTOP) OR (SEGMENT3#201 = DESKTOP PC)) OR (SEGMENT3#201 = SERVER)) OR (SEGMENT3#201 = ALL IN ONE)) THEN COMPUTER ELSE SEGMENT3#201 END END END = BEVERAGE COOLER) THEN REFRIGERATOR ELSE CASE WHEN (CASE WHEN (CASE WHEN ((((SEGMENT3#201 = LAPTOP) OR (SEGMENT3#201 = DESKTOP PC)) OR (SEGMENT3#201 = SERVER)) OR (SEGMENT3#201 = ALL IN ONE)) THEN COMPUTER ELSE SEGMENT3#201 END = 3D TELEVISION) THEN LED SMART TELEVISION ELSE CASE WHEN ((((SEGMENT3#201 = LAPTOP) OR (SEGMENT3#201 = DESKTOP PC)) OR (SEGMENT3#201 = SERVER)) OR (SEGMENT3#201 = ALL IN ONE)) THEN COMPUTER ELSE SEGMENT3#201 END END = LCD TELEVISION) THEN LED TELEVISION ELSE CASE WHEN (CASE WHEN ((((SEGMENT3#201 = LAPTOP) OR (SEGMENT3#201 = DESKTOP PC)) OR (SEGMENT3#201 = SERVER)) OR (SEGMENT3#201 = ALL IN ONE)) THEN COMPUTER ELSE SEGMENT3#201 END = 3D TELEVISION) THEN LED SMART TELEVISION ELSE CASE WHEN ((((SEGMENT3#201 = LAPTOP) OR (SEGMENT3#201 = DESKTOP PC)) OR (SEGMENT3#201 = SERVER)) OR (SEGMENT3#201 = ALL IN ONE)) THEN COMPUTER ELSE SEGMENT3#201 END END END END = AIRCONDITIONER-INDOOR) THEN AIRCONDITIONER ELSE CASE WHEN (CASE WHEN (CASE WHEN (CASE WHEN ((((SEGMENT3#201 = LAPTOP) OR (SEGMENT3#201 = DESKTOP PC)) OR (SEGMENT3#201 = SERVER)) OR (SEGMENT3#201 = ALL IN ONE)) THEN COMPUTER ELSE SEGMENT3#201 END = 3D TELEVISION) THEN LED SMART TELEVISION ELSE CASE WHEN ((((SEGMENT3#201 = LAPTOP) OR (SEGMENT3#201 = DESKTOP PC)) OR (SEGMENT3#201 = SERVER)) OR (SEGMENT3#201 = ALL IN ONE)) THEN COMPUTER ELSE SEGMENT3#201 END END = LCD TELEVISION) THEN LED TELEVISION ELSE CASE WHEN (CASE WHEN ((((SEGMENT3#201 = LAPTOP) OR (SEGMENT3#201 = DESKTOP PC)) OR (SEGMENT3#201 = SERVER)) OR (SEGMENT3#201 = ALL IN ONE)) THEN COMPUTER ELSE SEGMENT3#201 END = 3D TELEVISION) THEN LED SMART TELEVISION ELSE CASE WHEN ((((SEGMENT3#201 = LAPTOP) OR (SEGMENT3#201 = DESKTOP PC)) OR (SEGMENT3#201 = SERVER)) OR (SEGMENT3#201 = ALL IN ONE)) THEN COMPUTER ELSE SEGMENT3#201 END END END = BEVERAGE COOLER) THEN REFRIGERATOR ELSE CASE WHEN (CASE WHEN (CASE WHEN ((((SEGMENT3#201 = LAPTOP) OR (SEGMENT3#201 = DESKTOP PC)) OR (SEGMENT3#201 = SERVER)) OR (SEGMENT3#201 = ALL IN ONE)) THEN COMPUTER ELSE SEGMENT3#201 END = 3D TELEVISION) THEN LED SMART TELEVISION ELSE CASE WHEN ((((SEGMENT3#201 = LAPTOP) OR (SEGMENT3#201 = DESKTOP PC)) OR (SEGMENT3#201 = SERVER)) OR (SEGMENT3#201 = ALL IN ONE)) THEN COMPUTER ELSE SEGMENT3#201 END END = LCD TELEVISION) THEN LED TELEVISION ELSE CASE WHEN (CASE WHEN ((((SEGMENT3#201 = LAPTOP) OR (SEGMENT3#201 = DESKTOP PC)) OR (SEGMENT3#201 = SERVER)) OR (SEGMENT3#201 = ALL IN ONE)) THEN COMPUTER ELSE SEGMENT3#201 END = 3D TELEVISION) THEN LED SMART TELEVISION ELSE CASE WHEN ((((SEGMENT3#201 = LAPTOP) OR (SEGMENT3#201 = DESKTOP PC)) OR (SEGMENT3#201 = SERVER)) OR (SEGMENT3#201 = ALL IN ONE)) THEN COMPUTER ELSE SEGMENT3#201 END END END END END)))) AND isnotnull(CASE WHEN (CASE WHEN (CASE WHEN (CASE WHEN (CASE WHEN ((((SEGMENT3#201 = LAPTOP) OR (SEGMENT3#201 = DESKTOP PC)) OR (SEGMENT3#201 = SERVER)) OR (SEGMENT3#201 = ALL IN ONE)) THEN COMPUTER ELSE SEGMENT3#201 END = 3D TELEVISION) THEN LED SMART TELEVISION ELSE CASE WHEN ((((SEGMENT3#201 = LAPTOP) OR (SEGMENT3#201 = DESKTOP PC)) OR (SEGMENT3#201 = SERVER)) OR (SEGMENT3#201 = ALL IN ONE)) THEN COMPUTER ELSE SEGMENT3#201 END END = LCD TELEVISION) THEN LED TELEVISION ELSE CASE WHEN (CASE WHEN ((((SEGMENT3#201 = LAPTOP) OR (SEGMENT3#201 = DESKTOP PC)) OR (SEGMENT3#201 = SERVER)) OR (SEGMENT3#201 = ALL IN ONE)) THEN COMPUTER ELSE SEGMENT3#201 END = 3D TELEVISION) THEN LED SMART TELEVISION ELSE CASE WHEN ((((SEGMENT3#201 = LAPTOP) OR (SEGMENT3#201 = DESKTOP PC)) OR (SEGMENT3#201 = SERVER)) OR (SEGMENT3#201 = ALL IN ONE)) THEN COMPUTER ELSE SEGMENT3#201 END END END = BEVERAGE COOLER) THEN REFRIGERATOR ELSE CASE WHEN (CASE WHEN (CASE WHEN ((((SEGMENT3#201 = LAPTOP) OR (SEGMENT3#201 = DESKTOP PC)) OR (SEGMENT3#201 = SERVER)) OR (SEGMENT3#201 = ALL IN ONE)) THEN COMPUTER ELSE SEGMENT3#201 END = 3D TELEVISION) THEN LED SMART TELEVISION ELSE CASE WHEN ((((SEGMENT3#201 = LAPTOP) OR (SEGMENT3#201 = DESKTOP PC)) OR (SEGMENT3#201 = SERVER)) OR (SEGMENT3#201 = ALL IN ONE)) THEN COMPUTER ELSE SEGMENT3#201 END END = LCD TELEVISION) THEN LED TELEVISION ELSE CASE WHEN (CASE WHEN ((((SEGMENT3#201 = LAPTOP) OR (SEGMENT3#201 = DESKTOP PC)) OR (SEGMENT3#201 = SERVER)) OR (SEGMENT3#201 = ALL IN ONE)) THEN COMPUTER ELSE SEGMENT3#201 END = 3D TELEVISION) THEN LED SMART TELEVISION ELSE CASE WHEN ((((SEGMENT3#201 = LAPTOP) OR (SEGMENT3#201 = DESKTOP PC)) OR (SEGMENT3#201 = SERVER)) OR (SEGMENT3#201 = ALL IN ONE)) THEN COMPUTER ELSE SEGMENT3#201 END END END END = AIRCONDITIONER-INDOOR) THEN AIRCONDITIONER ELSE CASE WHEN (CASE WHEN (CASE WHEN (CASE WHEN ((((SEGMENT3#201 = LAPTOP) OR (SEGMENT3#201 = DESKTOP PC)) OR (SEGMENT3#201 = SERVER)) OR (SEGMENT3#201 = ALL IN ONE)) THEN COMPUTER ELSE SEGMENT3#201 END = 3D TELEVISION) THEN LED SMART TELEVISION ELSE CASE WHEN ((((SEGMENT3#201 = LAPTOP) OR (SEGMENT3#201 = DESKTOP PC)) OR (SEGMENT3#201 = SERVER)) OR (SEGMENT3#201 = ALL IN ONE)) THEN COMPUTER ELSE SEGMENT3#201 END END = LCD TELEVISION) THEN LED TELEVISION ELSE CASE WHEN (CASE WHEN ((((SEGMENT3#201 = LAPTOP) OR (SEGMENT3#201 = DESKTOP PC)) OR (SEGMENT3#201 = SERVER)) OR (SEGMENT3#201 = ALL IN ONE)) THEN COMPUTER ELSE SEGMENT3#201 END = 3D TELEVISION) THEN LED SMART TELEVISION ELSE CASE WHEN ((((SEGMENT3#201 = LAPTOP) OR (SEGMENT3#201 = DESKTOP PC)) OR (SEGMENT3#201 = SERVER)) OR (SEGMENT3#201 = ALL IN ONE)) THEN COMPUTER ELSE SEGMENT3#201 END END END = BEVERAGE COOLER) THEN REFRIGERATOR ELSE CASE WHEN (CASE WHEN (CASE WHEN ((((SEGMENT3#201 = LAPTOP) OR (SEGMENT3#201 = DESKTOP PC)) OR (SEGMENT3#201 = SERVER)) OR (SEGMENT3#201 = ALL IN ONE)) THEN COMPUTER ELSE SEGMENT3#201 END = 3D TELEVISION) THEN LED SMART TELEVISION ELSE CASE WHEN ((((SEGMENT3#201 = LAPTOP) OR (SEGMENT3#201 = DESKTOP PC)) OR (SEGMENT3#201 = SERVER)) OR (SEGMENT3#201 = ALL IN ONE)) THEN COMPUTER ELSE SEGMENT3#201 END END = LCD TELEVISION) THEN LED TELEVISION ELSE CASE WHEN (CASE WHEN ((((SEGMENT3#201 = LAPTOP) OR (SEGMENT3#201 = DESKTOP PC)) OR (SEGMENT3#201 = SERVER)) OR (SEGMENT3#201 = ALL IN ONE)) THEN COMPUTER ELSE SEGMENT3#201 END = 3D TELEVISION) THEN LED SMART TELEVISION ELSE CASE WHEN ((((SEGMENT3#201 = LAPTOP) OR (SEGMENT3#201 = DESKTOP PC)) OR (SEGMENT3#201 = SERVER)) OR (SEGMENT3#201 = ALL IN ONE)) THEN COMPUTER ELSE SEGMENT3#201 END END END END END))\n",
      "   +- InMemoryTableScan [CUSTOMER_PHONE_NO#399, SEGMENT3#201], [isnotnull(CUSTOMER_PHONE_NO#399), NOT (CUSTOMER_PHONE_NO#399 = 0), AtLeastNNulls(n, regexp_replace(regexp_replace(regexp_replace(regexp_replace(CUSTOMER_PHONE_NO#399, ^[±]*, , 1), [^\\w\\s], , 1), \\W, , 1), ^[8]*, , 1)), NOT (regexp_replace(regexp_replace(regexp_replace(regexp_replace(regexp_replace(CUSTOMER_PHONE_NO#399, ^[±]*, , 1), [^\\w\\s], , 1), \\W, , 1), ^[8]*, , 1), [A-Za-z], , 1) = ), NOT (regexp_replace(regexp_replace(regexp_replace(regexp_replace(regexp_replace(regexp_replace(regexp_replace(regexp_replace(regexp_replace(CUSTOMER_PHONE_NO#399, ^[±]*, , 1), [^\\w\\s], , 1), \\W, , 1), ^[8]*, , 1), [A-Za-z], , 1), ^[+]*, , 1), |, , 1), /, , 1), /[^\\x00-\\x7F]+/, , 1) = ), (length(regexp_replace(regexp_replace(regexp_replace(regexp_replace(regexp_replace(regexp_replace(regexp_replace(regexp_replace(regexp_replace(regexp_replace(CUSTOMER_PHONE_NO#399, ^[±]*, , 1), [^\\w\\s], , 1), \\W, , 1), ^[8]*, , 1), [A-Za-z], , 1), ^[+]*, , 1), |, , 1), /, , 1), /[^\\x00-\\x7F]+/, , 1), /\\s/g, , 1)) = 11), StartsWith(regexp_replace(regexp_replace(regexp_replace(regexp_replace(regexp_replace(regexp_replace(regexp_replace(regexp_replace(regexp_replace(regexp_replace(CUSTOMER_PHONE_NO#399, ^[±]*, , 1), [^\\w\\s], , 1), \\W, , 1), ^[8]*, , 1), [A-Za-z], , 1), ^[+]*, , 1), |, , 1), /, , 1), /[^\\x00-\\x7F]+/, , 1), /\\s/g, , 1), 01), NOT StartsWith(regexp_replace(regexp_replace(regexp_replace(regexp_replace(regexp_replace(regexp_replace(regexp_replace(regexp_replace(regexp_replace(regexp_replace(CUSTOMER_PHONE_NO#399, ^[±]*, , 1), [^\\w\\s], , 1), \\W, , 1), ^[8]*, , 1), [A-Za-z], , 1), ^[+]*, , 1), |, , 1), /, , 1), /[^\\x00-\\x7F]+/, , 1), /\\s/g, , 1), 010), NOT StartsWith(regexp_replace(regexp_replace(regexp_replace(regexp_replace(regexp_replace(regexp_replace(regexp_replace(regexp_replace(regexp_replace(regexp_replace(CUSTOMER_PHONE_NO#399, ^[±]*, , 1), [^\\w\\s], , 1), \\W, , 1), ^[8]*, , 1), [A-Za-z], , 1), ^[+]*, , 1), |, , 1), /, , 1), /[^\\x00-\\x7F]+/, , 1), /\\s/g, , 1), 011), NOT StartsWith(regexp_replace(regexp_replace(regexp_replace(regexp_replace(regexp_replace(regexp_replace(regexp_replace(regexp_replace(regexp_replace(regexp_replace(CUSTOMER_PHONE_NO#399, ^[±]*, , 1), [^\\w\\s], , 1), \\W, , 1), ^[8]*, , 1), [A-Za-z], , 1), ^[+]*, , 1), |, , 1), /, , 1), /[^\\x00-\\x7F]+/, , 1), /\\s/g, , 1), 012), NOT (substring(regexp_replace(regexp_replace(regexp_replace(regexp_replace(regexp_replace(regexp_replace(regexp_replace(regexp_replace(regexp_replace(regexp_replace(CUSTOMER_PHONE_NO#399, ^[±]*, , 1), [^\\w\\s], , 1), \\W, , 1), ^[8]*, , 1), [A-Za-z], , 1), ^[+]*, , 1), |, , 1), /, , 1), /[^\\x00-\\x7F]+/, , 1), /\\s/g, , 1), 4, 11) = 00000000), NOT (substring(substring(regexp_replace(regexp_replace(regexp_replace(regexp_replace(regexp_replace(regexp_replace(regexp_replace(regexp_replace(regexp_replace(regexp_replace(CUSTOMER_PHONE_NO#399, ^[±]*, , 1), [^\\w\\s], , 1), \\W, , 1), ^[8]*, , 1), [A-Za-z], , 1), ^[+]*, , 1), |, , 1), /, , 1), /[^\\x00-\\x7F]+/, , 1), /\\s/g, , 1), 4, 11), 1, 7) = 0000000), (((((isnotnull(CASE WHEN (CASE WHEN (CASE WHEN (CASE WHEN (CASE WHEN ((((SEGMENT3#201 = LAPTOP) OR (SEGMENT3#201 = DESKTOP PC)) OR (SEGMENT3#201 = SERVER)) OR (SEGMENT3#201 = ALL IN ONE)) THEN COMPUTER ELSE SEGMENT3#201 END = 3D TELEVISION) THEN LED SMART TELEVISION ELSE CASE WHEN ((((SEGMENT3#201 = LAPTOP) OR (SEGMENT3#201 = DESKTOP PC)) OR (SEGMENT3#201 = SERVER)) OR (SEGMENT3#201 = ALL IN ONE)) THEN COMPUTER ELSE SEGMENT3#201 END END = LCD TELEVISION) THEN LED TELEVISION ELSE CASE WHEN (CASE WHEN ((((SEGMENT3#201 = LAPTOP) OR (SEGMENT3#201 = DESKTOP PC)) OR (SEGMENT3#201 = SERVER)) OR (SEGMENT3#201 = ALL IN ONE)) THEN COMPUTER ELSE SEGMENT3#201 END = 3D TELEVISION) THEN LED SMART TELEVISION ELSE CASE WHEN ((((SEGMENT3#201 = LAPTOP) OR (SEGMENT3#201 = DESKTOP PC)) OR (SEGMENT3#201 = SERVER)) OR (SEGMENT3#201 = ALL IN ONE)) THEN COMPUTER ELSE SEGMENT3#201 END END END = BEVERAGE COOLER) THEN REFRIGERATOR ELSE CASE WHEN (CASE WHEN (CASE WHEN ((((SEGMENT3#201 = LAPTOP) OR (SEGMENT3#201 = DESKTOP PC)) OR (SEGMENT3#201 = SERVER)) OR (SEGMENT3#201 = ALL IN ONE)) THEN COMPUTER ELSE SEGMENT3#201 END = 3D TELEVISION) THEN LED SMART TELEVISION ELSE CASE WHEN ((((SEGMENT3#201 = LAPTOP) OR (SEGMENT3#201 = DESKTOP PC)) OR (SEGMENT3#201 = SERVER)) OR (SEGMENT3#201 = ALL IN ONE)) THEN COMPUTER ELSE SEGMENT3#201 END END = LCD TELEVISION) THEN LED TELEVISION ELSE CASE WHEN (CASE WHEN ((((SEGMENT3#201 = LAPTOP) OR (SEGMENT3#201 = DESKTOP PC)) OR (SEGMENT3#201 = SERVER)) OR (SEGMENT3#201 = ALL IN ONE)) THEN COMPUTER ELSE SEGMENT3#201 END = 3D TELEVISION) THEN LED SMART TELEVISION ELSE CASE WHEN ((((SEGMENT3#201 = LAPTOP) OR (SEGMENT3#201 = DESKTOP PC)) OR (SEGMENT3#201 = SERVER)) OR (SEGMENT3#201 = ALL IN ONE)) THEN COMPUTER ELSE SEGMENT3#201 END END END END = AIRCONDITIONER-INDOOR) THEN AIRCONDITIONER ELSE CASE WHEN (CASE WHEN (CASE WHEN (CASE WHEN ((((SEGMENT3#201 = LAPTOP) OR (SEGMENT3#201 = DESKTOP PC)) OR (SEGMENT3#201 = SERVER)) OR (SEGMENT3#201 = ALL IN ONE)) THEN COMPUTER ELSE SEGMENT3#201 END = 3D TELEVISION) THEN LED SMART TELEVISION ELSE CASE WHEN ((((SEGMENT3#201 = LAPTOP) OR (SEGMENT3#201 = DESKTOP PC)) OR (SEGMENT3#201 = SERVER)) OR (SEGMENT3#201 = ALL IN ONE)) THEN COMPUTER ELSE SEGMENT3#201 END END = LCD TELEVISION) THEN LED TELEVISION ELSE CASE WHEN (CASE WHEN ((((SEGMENT3#201 = LAPTOP) OR (SEGMENT3#201 = DESKTOP PC)) OR (SEGMENT3#201 = SERVER)) OR (SEGMENT3#201 = ALL IN ONE)) THEN COMPUTER ELSE SEGMENT3#201 END = 3D TELEVISION) THEN LED SMART TELEVISION ELSE CASE WHEN ((((SEGMENT3#201 = LAPTOP) OR (SEGMENT3#201 = DESKTOP PC)) OR (SEGMENT3#201 = SERVER)) OR (SEGMENT3#201 = ALL IN ONE)) THEN COMPUTER ELSE SEGMENT3#201 END END END = BEVERAGE COOLER) THEN REFRIGERATOR ELSE CASE WHEN (CASE WHEN (CASE WHEN ((((SEGMENT3#201 = LAPTOP) OR (SEGMENT3#201 = DESKTOP PC)) OR (SEGMENT3#201 = SERVER)) OR (SEGMENT3#201 = ALL IN ONE)) THEN COMPUTER ELSE SEGMENT3#201 END = 3D TELEVISION) THEN LED SMART TELEVISION ELSE CASE WHEN ((((SEGMENT3#201 = LAPTOP) OR (SEGMENT3#201 = DESKTOP PC)) OR (SEGMENT3#201 = SERVER)) OR (SEGMENT3#201 = ALL IN ONE)) THEN COMPUTER ELSE SEGMENT3#201 END END = LCD TELEVISION) THEN LED TELEVISION ELSE CASE WHEN (CASE WHEN ((((SEGMENT3#201 = LAPTOP) OR (SEGMENT3#201 = DESKTOP PC)) OR (SEGMENT3#201 = SERVER)) OR (SEGMENT3#201 = ALL IN ONE)) THEN COMPUTER ELSE SEGMENT3#201 END = 3D TELEVISION) THEN LED SMART TELEVISION ELSE CASE WHEN ((((SEGMENT3#201 = LAPTOP) OR (SEGMENT3#201 = DESKTOP PC)) OR (SEGMENT3#201 = SERVER)) OR (SEGMENT3#201 = ALL IN ONE)) THEN COMPUTER ELSE SEGMENT3#201 END END END END END) AND (((CASE WHEN (CASE WHEN (CASE WHEN (CASE WHEN (CASE WHEN ((((SEGMENT3#201 = LAPTOP) OR (SEGMENT3#201 = DESKTOP PC)) OR (SEGMENT3#201 = SERVER)) OR (SEGMENT3#201 = ALL IN ONE)) THEN COMPUTER ELSE SEGMENT3#201 END = 3D TELEVISION) THEN LED SMART TELEVISION ELSE CASE WHEN ((((SEGMENT3#201 = LAPTOP) OR (SEGMENT3#201 = DESKTOP PC)) OR (SEGMENT3#201 = SERVER)) OR (SEGMENT3#201 = ALL IN ONE)) THEN COMPUTER ELSE SEGMENT3#201 END END = LCD TELEVISION) THEN LED TELEVISION ELSE CASE WHEN (CASE WHEN ((((SEGMENT3#201 = LAPTOP) OR (SEGMENT3#201 = DESKTOP PC)) OR (SEGMENT3#201 = SERVER)) OR (SEGMENT3#201 = ALL IN ONE)) THEN COMPUTER ELSE SEGMENT3#201 END = 3D TELEVISION) THEN LED SMART TELEVISION ELSE CASE WHEN ((((SEGMENT3#201 = LAPTOP) OR (SEGMENT3#201 = DESKTOP PC)) OR (SEGMENT3#201 = SERVER)) OR (SEGMENT3#201 = ALL IN ONE)) THEN COMPUTER ELSE SEGMENT3#201 END END END = BEVERAGE COOLER) THEN REFRIGERATOR ELSE CASE WHEN (CASE WHEN (CASE WHEN ((((SEGMENT3#201 = LAPTOP) OR (SEGMENT3#201 = DESKTOP PC)) OR (SEGMENT3#201 = SERVER)) OR (SEGMENT3#201 = ALL IN ONE)) THEN COMPUTER ELSE SEGMENT3#201 END = 3D TELEVISION) THEN LED SMART TELEVISION ELSE CASE WHEN ((((SEGMENT3#201 = LAPTOP) OR (SEGMENT3#201 = DESKTOP PC)) OR (SEGMENT3#201 = SERVER)) OR (SEGMENT3#201 = ALL IN ONE)) THEN COMPUTER ELSE SEGMENT3#201 END END = LCD TELEVISION) THEN LED TELEVISION ELSE CASE WHEN (CASE WHEN ((((SEGMENT3#201 = LAPTOP) OR (SEGMENT3#201 = DESKTOP PC)) OR (SEGMENT3#201 = SERVER)) OR (SEGMENT3#201 = ALL IN ONE)) THEN COMPUTER ELSE SEGMENT3#201 END = 3D TELEVISION) THEN LED SMART TELEVISION ELSE CASE WHEN ((((SEGMENT3#201 = LAPTOP) OR (SEGMENT3#201 = DESKTOP PC)) OR (SEGMENT3#201 = SERVER)) OR (SEGMENT3#201 = ALL IN ONE)) THEN COMPUTER ELSE SEGMENT3#201 END END END END = AIRCONDITIONER-INDOOR) THEN AIRCONDITIONER ELSE CASE WHEN (CASE WHEN (CASE WHEN (CASE WHEN ((((SEGMENT3#201 = LAPTOP) OR (SEGMENT3#201 = DESKTOP PC)) OR (SEGMENT3#201 = SERVER)) OR (SEGMENT3#201 = ALL IN ONE)) THEN COMPUTER ELSE SEGMENT3#201 END = 3D TELEVISION) THEN LED SMART TELEVISION ELSE CASE WHEN ((((SEGMENT3#201 = LAPTOP) OR (SEGMENT3#201 = DESKTOP PC)) OR (SEGMENT3#201 = SERVER)) OR (SEGMENT3#201 = ALL IN ONE)) THEN COMPUTER ELSE SEGMENT3#201 END END = LCD TELEVISION) THEN LED TELEVISION ELSE CASE WHEN (CASE WHEN ((((SEGMENT3#201 = LAPTOP) OR (SEGMENT3#201 = DESKTOP PC)) OR (SEGMENT3#201 = SERVER)) OR (SEGMENT3#201 = ALL IN ONE)) THEN COMPUTER ELSE SEGMENT3#201 END = 3D TELEVISION) THEN LED SMART TELEVISION ELSE CASE WHEN ((((SEGMENT3#201 = LAPTOP) OR (SEGMENT3#201 = DESKTOP PC)) OR (SEGMENT3#201 = SERVER)) OR (SEGMENT3#201 = ALL IN ONE)) THEN COMPUTER ELSE SEGMENT3#201 END END END = BEVERAGE COOLER) THEN REFRIGERATOR ELSE CASE WHEN (CASE WHEN (CASE WHEN ((((SEGMENT3#201 = LAPTOP) OR (SEGMENT3#201 = DESKTOP PC)) OR (SEGMENT3#201 = SERVER)) OR (SEGMENT3#201 = ALL IN ONE)) THEN COMPUTER ELSE SEGMENT3#201 END = 3D TELEVISION) THEN LED SMART TELEVISION ELSE CASE WHEN ((((SEGMENT3#201 = LAPTOP) OR (SEGMENT3#201 = DESKTOP PC)) OR (SEGMENT3#201 = SERVER)) OR (SEGMENT3#201 = ALL IN ONE)) THEN COMPUTER ELSE SEGMENT3#201 END END = LCD TELEVISION) THEN LED TELEVISION ELSE CASE WHEN (CASE WHEN ((((SEGMENT3#201 = LAPTOP) OR (SEGMENT3#201 = DESKTOP PC)) OR (SEGMENT3#201 = SERVER)) OR (SEGMENT3#201 = ALL IN ONE)) THEN COMPUTER ELSE SEGMENT3#201 END = 3D TELEVISION) THEN LED SMART TELEVISION ELSE CASE WHEN ((((SEGMENT3#201 = LAPTOP) OR (SEGMENT3#201 = DESKTOP PC)) OR (SEGMENT3#201 = SERVER)) OR (SEGMENT3#201 = ALL IN ONE)) THEN COMPUTER ELSE SEGMENT3#201 END END END END END = AIRCONDITIONER) OR (CASE WHEN (CASE WHEN (CASE WHEN (CASE WHEN (CASE WHEN ((((SEGMENT3#201 = LAPTOP) OR (SEGMENT3#201 = DESKTOP PC)) OR (SEGMENT3#201 = SERVER)) OR (SEGMENT3#201 = ALL IN ONE)) THEN COMPUTER ELSE SEGMENT3#201 END = 3D TELEVISION) THEN LED SMART TELEVISION ELSE CASE WHEN ((((SEGMENT3#201 = LAPTOP) OR (SEGMENT3#201 = DESKTOP PC)) OR (SEGMENT3#201 = SERVER)) OR (SEGMENT3#201 = ALL IN ONE)) THEN COMPUTER ELSE SEGMENT3#201 END END = LCD TELEVISION) THEN LED TELEVISION ELSE CASE WHEN (CASE WHEN ((((SEGMENT3#201 = LAPTOP) OR (SEGMENT3#201 = DESKTOP PC)) OR (SEGMENT3#201 = SERVER)) OR (SEGMENT3#201 = ALL IN ONE)) THEN COMPUTER ELSE SEGMENT3#201 END = 3D TELEVISION) THEN LED SMART TELEVISION ELSE CASE WHEN ((((SEGMENT3#201 = LAPTOP) OR (SEGMENT3#201 = DESKTOP PC)) OR (SEGMENT3#201 = SERVER)) OR (SEGMENT3#201 = ALL IN ONE)) THEN COMPUTER ELSE SEGMENT3#201 END END END = BEVERAGE COOLER) THEN REFRIGERATOR ELSE CASE WHEN (CASE WHEN (CASE WHEN ((((SEGMENT3#201 = LAPTOP) OR (SEGMENT3#201 = DESKTOP PC)) OR (SEGMENT3#201 = SERVER)) OR (SEGMENT3#201 = ALL IN ONE)) THEN COMPUTER ELSE SEGMENT3#201 END = 3D TELEVISION) THEN LED SMART TELEVISION ELSE CASE WHEN ((((SEGMENT3#201 = LAPTOP) OR (SEGMENT3#201 = DESKTOP PC)) OR (SEGMENT3#201 = SERVER)) OR (SEGMENT3#201 = ALL IN ONE)) THEN COMPUTER ELSE SEGMENT3#201 END END = LCD TELEVISION) THEN LED TELEVISION ELSE CASE WHEN (CASE WHEN ((((SEGMENT3#201 = LAPTOP) OR (SEGMENT3#201 = DESKTOP PC)) OR (SEGMENT3#201 = SERVER)) OR (SEGMENT3#201 = ALL IN ONE)) THEN COMPUTER ELSE SEGMENT3#201 END = 3D TELEVISION) THEN LED SMART TELEVISION ELSE CASE WHEN ((((SEGMENT3#201 = LAPTOP) OR (SEGMENT3#201 = DESKTOP PC)) OR (SEGMENT3#201 = SERVER)) OR (SEGMENT3#201 = ALL IN ONE)) THEN COMPUTER ELSE SEGMENT3#201 END END END END = AIRCONDITIONER-INDOOR) THEN AIRCONDITIONER ELSE CASE WHEN (CASE WHEN (CASE WHEN (CASE WHEN ((((SEGMENT3#201 = LAPTOP) OR (SEGMENT3#201 = DESKTOP PC)) OR (SEGMENT3#201 = SERVER)) OR (SEGMENT3#201 = ALL IN ONE)) THEN COMPUTER ELSE SEGMENT3#201 END = 3D TELEVISION) THEN LED SMART TELEVISION ELSE CASE WHEN ((((SEGMENT3#201 = LAPTOP) OR (SEGMENT3#201 = DESKTOP PC)) OR (SEGMENT3#201 = SERVER)) OR (SEGMENT3#201 = ALL IN ONE)) THEN COMPUTER ELSE SEGMENT3#201 END END = LCD TELEVISION) THEN LED TELEVISION ELSE CASE WHEN (CASE WHEN ((((SEGMENT3#201 = LAPTOP) OR (SEGMENT3#201 = DESKTOP PC)) OR (SEGMENT3#201 = SERVER)) OR (SEGMENT3#201 = ALL IN ONE)) THEN COMPUTER ELSE SEGMENT3#201 END = 3D TELEVISION) THEN LED SMART TELEVISION ELSE CASE WHEN ((((SEGMENT3#201 = LAPTOP) OR (SEGMENT3#201 = DESKTOP PC)) OR (SEGMENT3#201 = SERVER)) OR (SEGMENT3#201 = ALL IN ONE)) THEN COMPUTER ELSE SEGMENT3#201 END END END = BEVERAGE COOLER) THEN REFRIGERATOR ELSE CASE WHEN (CASE WHEN (CASE WHEN ((((SEGMENT3#201 = LAPTOP) OR (SEGMENT3#201 = DESKTOP PC)) OR (SEGMENT3#201 = SERVER)) OR (SEGMENT3#201 = ALL IN ONE)) THEN COMPUTER ELSE SEGMENT3#201 END = 3D TELEVISION) THEN LED SMART TELEVISION ELSE CASE WHEN ((((SEGMENT3#201 = LAPTOP) OR (SEGMENT3#201 = DESKTOP PC)) OR (SEGMENT3#201 = SERVER)) OR (SEGMENT3#201 = ALL IN ONE)) THEN COMPUTER ELSE SEGMENT3#201 END END = LCD TELEVISION) THEN LED TELEVISION ELSE CASE WHEN (CASE WHEN ((((SEGMENT3#201 = LAPTOP) OR (SEGMENT3#201 = DESKTOP PC)) OR (SEGMENT3#201 = SERVER)) OR (SEGMENT3#201 = ALL IN ONE)) THEN COMPUTER ELSE SEGMENT3#201 END = 3D TELEVISION) THEN LED SMART TELEVISION ELSE CASE WHEN ((((SEGMENT3#201 = LAPTOP) OR (SEGMENT3#201 = DESKTOP PC)) OR (SEGMENT3#201 = SERVER)) OR (SEGMENT3#201 = ALL IN ONE)) THEN COMPUTER ELSE SEGMENT3#201 END END END END END = COMPUTER)) OR (CASE WHEN (CASE WHEN (CASE WHEN (CASE WHEN (CASE WHEN ((((SEGMENT3#201 = LAPTOP) OR (SEGMENT3#201 = DESKTOP PC)) OR (SEGMENT3#201 = SERVER)) OR (SEGMENT3#201 = ALL IN ONE)) THEN COMPUTER ELSE SEGMENT3#201 END = 3D TELEVISION) THEN LED SMART TELEVISION ELSE CASE WHEN ((((SEGMENT3#201 = LAPTOP) OR (SEGMENT3#201 = DESKTOP PC)) OR (SEGMENT3#201 = SERVER)) OR (SEGMENT3#201 = ALL IN ONE)) THEN COMPUTER ELSE SEGMENT3#201 END END = LCD TELEVISION) THEN LED TELEVISION ELSE CASE WHEN (CASE WHEN ((((SEGMENT3#201 = LAPTOP) OR (SEGMENT3#201 = DESKTOP PC)) OR (SEGMENT3#201 = SERVER)) OR (SEGMENT3#201 = ALL IN ONE)) THEN COMPUTER ELSE SEGMENT3#201 END = 3D TELEVISION) THEN LED SMART TELEVISION ELSE CASE WHEN ((((SEGMENT3#201 = LAPTOP) OR (SEGMENT3#201 = DESKTOP PC)) OR (SEGMENT3#201 = SERVER)) OR (SEGMENT3#201 = ALL IN ONE)) THEN COMPUTER ELSE SEGMENT3#201 END END END = BEVERAGE COOLER) THEN REFRIGERATOR ELSE CASE WHEN (CASE WHEN (CASE WHEN ((((SEGMENT3#201 = LAPTOP) OR (SEGMENT3#201 = DESKTOP PC)) OR (SEGMENT3#201 = SERVER)) OR (SEGMENT3#201 = ALL IN ONE)) THEN COMPUTER ELSE SEGMENT3#201 END = 3D TELEVISION) THEN LED SMART TELEVISION ELSE CASE WHEN ((((SEGMENT3#201 = LAPTOP) OR (SEGMENT3#201 = DESKTOP PC)) OR (SEGMENT3#201 = SERVER)) OR (SEGMENT3#201 = ALL IN ONE)) THEN COMPUTER ELSE SEGMENT3#201 END END = LCD TELEVISION) THEN LED TELEVISION ELSE CASE WHEN (CASE WHEN ((((SEGMENT3#201 = LAPTOP) OR (SEGMENT3#201 = DESKTOP PC)) OR (SEGMENT3#201 = SERVER)) OR (SEGMENT3#201 = ALL IN ONE)) THEN COMPUTER ELSE SEGMENT3#201 END = 3D TELEVISION) THEN LED SMART TELEVISION ELSE CASE WHEN ((((SEGMENT3#201 = LAPTOP) OR (SEGMENT3#201 = DESKTOP PC)) OR (SEGMENT3#201 = SERVER)) OR (SEGMENT3#201 = ALL IN ONE)) THEN COMPUTER ELSE SEGMENT3#201 END END END END = AIRCONDITIONER-INDOOR) THEN AIRCONDITIONER ELSE CASE WHEN (CASE WHEN (CASE WHEN (CASE WHEN ((((SEGMENT3#201 = LAPTOP) OR (SEGMENT3#201 = DESKTOP PC)) OR (SEGMENT3#201 = SERVER)) OR (SEGMENT3#201 = ALL IN ONE)) THEN COMPUTER ELSE SEGMENT3#201 END = 3D TELEVISION) THEN LED SMART TELEVISION ELSE CASE WHEN ((((SEGMENT3#201 = LAPTOP) OR (SEGMENT3#201 = DESKTOP PC)) OR (SEGMENT3#201 = SERVER)) OR (SEGMENT3#201 = ALL IN ONE)) THEN COMPUTER ELSE SEGMENT3#201 END END = LCD TELEVISION) THEN LED TELEVISION ELSE CASE WHEN (CASE WHEN ((((SEGMENT3#201 = LAPTOP) OR (SEGMENT3#201 = DESKTOP PC)) OR (SEGMENT3#201 = SERVER)) OR (SEGMENT3#201 = ALL IN ONE)) THEN COMPUTER ELSE SEGMENT3#201 END = 3D TELEVISION) THEN LED SMART TELEVISION ELSE CASE WHEN ((((SEGMENT3#201 = LAPTOP) OR (SEGMENT3#201 = DESKTOP PC)) OR (SEGMENT3#201 = SERVER)) OR (SEGMENT3#201 = ALL IN ONE)) THEN COMPUTER ELSE SEGMENT3#201 END END END = BEVERAGE COOLER) THEN REFRIGERATOR ELSE CASE WHEN (CASE WHEN (CASE WHEN ((((SEGMENT3#201 = LAPTOP) OR (SEGMENT3#201 = DESKTOP PC)) OR (SEGMENT3#201 = SERVER)) OR (SEGMENT3#201 = ALL IN ONE)) THEN COMPUTER ELSE SEGMENT3#201 END = 3D TELEVISION) THEN LED SMART TELEVISION ELSE CASE WHEN ((((SEGMENT3#201 = LAPTOP) OR (SEGMENT3#201 = DESKTOP PC)) OR (SEGMENT3#201 = SERVER)) OR (SEGMENT3#201 = ALL IN ONE)) THEN COMPUTER ELSE SEGMENT3#201 END END = LCD TELEVISION) THEN LED TELEVISION ELSE CASE WHEN (CASE WHEN ((((SEGMENT3#201 = LAPTOP) OR (SEGMENT3#201 = DESKTOP PC)) OR (SEGMENT3#201 = SERVER)) OR (SEGMENT3#201 = ALL IN ONE)) THEN COMPUTER ELSE SEGMENT3#201 END = 3D TELEVISION) THEN LED SMART TELEVISION ELSE CASE WHEN ((((SEGMENT3#201 = LAPTOP) OR (SEGMENT3#201 = DESKTOP PC)) OR (SEGMENT3#201 = SERVER)) OR (SEGMENT3#201 = ALL IN ONE)) THEN COMPUTER ELSE SEGMENT3#201 END END END END END = FREEZER))) OR ((CASE WHEN (CASE WHEN (CASE WHEN (CASE WHEN (CASE WHEN ((((SEGMENT3#201 = LAPTOP) OR (SEGMENT3#201 = DESKTOP PC)) OR (SEGMENT3#201 = SERVER)) OR (SEGMENT3#201 = ALL IN ONE)) THEN COMPUTER ELSE SEGMENT3#201 END = 3D TELEVISION) THEN LED SMART TELEVISION ELSE CASE WHEN ((((SEGMENT3#201 = LAPTOP) OR (SEGMENT3#201 = DESKTOP PC)) OR (SEGMENT3#201 = SERVER)) OR (SEGMENT3#201 = ALL IN ONE)) THEN COMPUTER ELSE SEGMENT3#201 END END = LCD TELEVISION) THEN LED TELEVISION ELSE CASE WHEN (CASE WHEN ((((SEGMENT3#201 = LAPTOP) OR (SEGMENT3#201 = DESKTOP PC)) OR (SEGMENT3#201 = SERVER)) OR (SEGMENT3#201 = ALL IN ONE)) THEN COMPUTER ELSE SEGMENT3#201 END = 3D TELEVISION) THEN LED SMART TELEVISION ELSE CASE WHEN ((((SEGMENT3#201 = LAPTOP) OR (SEGMENT3#201 = DESKTOP PC)) OR (SEGMENT3#201 = SERVER)) OR (SEGMENT3#201 = ALL IN ONE)) THEN COMPUTER ELSE SEGMENT3#201 END END END = BEVERAGE COOLER) THEN REFRIGERATOR ELSE CASE WHEN (CASE WHEN (CASE WHEN ((((SEGMENT3#201 = LAPTOP) OR (SEGMENT3#201 = DESKTOP PC)) OR (SEGMENT3#201 = SERVER)) OR (SEGMENT3#201 = ALL IN ONE)) THEN COMPUTER ELSE SEGMENT3#201 END = 3D TELEVISION) THEN LED SMART TELEVISION ELSE CASE WHEN ((((SEGMENT3#201 = LAPTOP) OR (SEGMENT3#201 = DESKTOP PC)) OR (SEGMENT3#201 = SERVER)) OR (SEGMENT3#201 = ALL IN ONE)) THEN COMPUTER ELSE SEGMENT3#201 END END = LCD TELEVISION) THEN LED TELEVISION ELSE CASE WHEN (CASE WHEN ((((SEGMENT3#201 = LAPTOP) OR (SEGMENT3#201 = DESKTOP PC)) OR (SEGMENT3#201 = SERVER)) OR (SEGMENT3#201 = ALL IN ONE)) THEN COMPUTER ELSE SEGMENT3#201 END = 3D TELEVISION) THEN LED SMART TELEVISION ELSE CASE WHEN ((((SEGMENT3#201 = LAPTOP) OR (SEGMENT3#201 = DESKTOP PC)) OR (SEGMENT3#201 = SERVER)) OR (SEGMENT3#201 = ALL IN ONE)) THEN COMPUTER ELSE SEGMENT3#201 END END END END = AIRCONDITIONER-INDOOR) THEN AIRCONDITIONER ELSE CASE WHEN (CASE WHEN (CASE WHEN (CASE WHEN ((((SEGMENT3#201 = LAPTOP) OR (SEGMENT3#201 = DESKTOP PC)) OR (SEGMENT3#201 = SERVER)) OR (SEGMENT3#201 = ALL IN ONE)) THEN COMPUTER ELSE SEGMENT3#201 END = 3D TELEVISION) THEN LED SMART TELEVISION ELSE CASE WHEN ((((SEGMENT3#201 = LAPTOP) OR (SEGMENT3#201 = DESKTOP PC)) OR (SEGMENT3#201 = SERVER)) OR (SEGMENT3#201 = ALL IN ONE)) THEN COMPUTER ELSE SEGMENT3#201 END END = LCD TELEVISION) THEN LED TELEVISION ELSE CASE WHEN (CASE WHEN ((((SEGMENT3#201 = LAPTOP) OR (SEGMENT3#201 = DESKTOP PC)) OR (SEGMENT3#201 = SERVER)) OR (SEGMENT3#201 = ALL IN ONE)) THEN COMPUTER ELSE SEGMENT3#201 END = 3D TELEVISION) THEN LED SMART TELEVISION ELSE CASE WHEN ((((SEGMENT3#201 = LAPTOP) OR (SEGMENT3#201 = DESKTOP PC)) OR (SEGMENT3#201 = SERVER)) OR (SEGMENT3#201 = ALL IN ONE)) THEN COMPUTER ELSE SEGMENT3#201 END END END = BEVERAGE COOLER) THEN REFRIGERATOR ELSE CASE WHEN (CASE WHEN (CASE WHEN ((((SEGMENT3#201 = LAPTOP) OR (SEGMENT3#201 = DESKTOP PC)) OR (SEGMENT3#201 = SERVER)) OR (SEGMENT3#201 = ALL IN ONE)) THEN COMPUTER ELSE SEGMENT3#201 END = 3D TELEVISION) THEN LED SMART TELEVISION ELSE CASE WHEN ((((SEGMENT3#201 = LAPTOP) OR (SEGMENT3#201 = DESKTOP PC)) OR (SEGMENT3#201 = SERVER)) OR (SEGMENT3#201 = ALL IN ONE)) THEN COMPUTER ELSE SEGMENT3#201 END END = LCD TELEVISION) THEN LED TELEVISION ELSE CASE WHEN (CASE WHEN ((((SEGMENT3#201 = LAPTOP) OR (SEGMENT3#201 = DESKTOP PC)) OR (SEGMENT3#201 = SERVER)) OR (SEGMENT3#201 = ALL IN ONE)) THEN COMPUTER ELSE SEGMENT3#201 END = 3D TELEVISION) THEN LED SMART TELEVISION ELSE CASE WHEN ((((SEGMENT3#201 = LAPTOP) OR (SEGMENT3#201 = DESKTOP PC)) OR (SEGMENT3#201 = SERVER)) OR (SEGMENT3#201 = ALL IN ONE)) THEN COMPUTER ELSE SEGMENT3#201 END END END END END = LED TELEVISION) OR (CASE WHEN (CASE WHEN (CASE WHEN (CASE WHEN (CASE WHEN ((((SEGMENT3#201 = LAPTOP) OR (SEGMENT3#201 = DESKTOP PC)) OR (SEGMENT3#201 = SERVER)) OR (SEGMENT3#201 = ALL IN ONE)) THEN COMPUTER ELSE SEGMENT3#201 END = 3D TELEVISION) THEN LED SMART TELEVISION ELSE CASE WHEN ((((SEGMENT3#201 = LAPTOP) OR (SEGMENT3#201 = DESKTOP PC)) OR (SEGMENT3#201 = SERVER)) OR (SEGMENT3#201 = ALL IN ONE)) THEN COMPUTER ELSE SEGMENT3#201 END END = LCD TELEVISION) THEN LED TELEVISION ELSE CASE WHEN (CASE WHEN ((((SEGMENT3#201 = LAPTOP) OR (SEGMENT3#201 = DESKTOP PC)) OR (SEGMENT3#201 = SERVER)) OR (SEGMENT3#201 = ALL IN ONE)) THEN COMPUTER ELSE SEGMENT3#201 END = 3D TELEVISION) THEN LED SMART TELEVISION ELSE CASE WHEN ((((SEGMENT3#201 = LAPTOP) OR (SEGMENT3#201 = DESKTOP PC)) OR (SEGMENT3#201 = SERVER)) OR (SEGMENT3#201 = ALL IN ONE)) THEN COMPUTER ELSE SEGMENT3#201 END END END = BEVERAGE COOLER) THEN REFRIGERATOR ELSE CASE WHEN (CASE WHEN (CASE WHEN ((((SEGMENT3#201 = LAPTOP) OR (SEGMENT3#201 = DESKTOP PC)) OR (SEGMENT3#201 = SERVER)) OR (SEGMENT3#201 = ALL IN ONE)) THEN COMPUTER ELSE SEGMENT3#201 END = 3D TELEVISION) THEN LED SMART TELEVISION ELSE CASE WHEN ((((SEGMENT3#201 = LAPTOP) OR (SEGMENT3#201 = DESKTOP PC)) OR (SEGMENT3#201 = SERVER)) OR (SEGMENT3#201 = ALL IN ONE)) THEN COMPUTER ELSE SEGMENT3#201 END END = LCD TELEVISION) THEN LED TELEVISION ELSE CASE WHEN (CASE WHEN ((((SEGMENT3#201 = LAPTOP) OR (SEGMENT3#201 = DESKTOP PC)) OR (SEGMENT3#201 = SERVER)) OR (SEGMENT3#201 = ALL IN ONE)) THEN COMPUTER ELSE SEGMENT3#201 END = 3D TELEVISION) THEN LED SMART TELEVISION ELSE CASE WHEN ((((SEGMENT3#201 = LAPTOP) OR (SEGMENT3#201 = DESKTOP PC)) OR (SEGMENT3#201 = SERVER)) OR (SEGMENT3#201 = ALL IN ONE)) THEN COMPUTER ELSE SEGMENT3#201 END END END END = AIRCONDITIONER-INDOOR) THEN AIRCONDITIONER ELSE CASE WHEN (CASE WHEN (CASE WHEN (CASE WHEN ((((SEGMENT3#201 = LAPTOP) OR (SEGMENT3#201 = DESKTOP PC)) OR (SEGMENT3#201 = SERVER)) OR (SEGMENT3#201 = ALL IN ONE)) THEN COMPUTER ELSE SEGMENT3#201 END = 3D TELEVISION) THEN LED SMART TELEVISION ELSE CASE WHEN ((((SEGMENT3#201 = LAPTOP) OR (SEGMENT3#201 = DESKTOP PC)) OR (SEGMENT3#201 = SERVER)) OR (SEGMENT3#201 = ALL IN ONE)) THEN COMPUTER ELSE SEGMENT3#201 END END = LCD TELEVISION) THEN LED TELEVISION ELSE CASE WHEN (CASE WHEN ((((SEGMENT3#201 = LAPTOP) OR (SEGMENT3#201 = DESKTOP PC)) OR (SEGMENT3#201 = SERVER)) OR (SEGMENT3#201 = ALL IN ONE)) THEN COMPUTER ELSE SEGMENT3#201 END = 3D TELEVISION) THEN LED SMART TELEVISION ELSE CASE WHEN ((((SEGMENT3#201 = LAPTOP) OR (SEGMENT3#201 = DESKTOP PC)) OR (SEGMENT3#201 = SERVER)) OR (SEGMENT3#201 = ALL IN ONE)) THEN COMPUTER ELSE SEGMENT3#201 END END END = BEVERAGE COOLER) THEN REFRIGERATOR ELSE CASE WHEN (CASE WHEN (CASE WHEN ((((SEGMENT3#201 = LAPTOP) OR (SEGMENT3#201 = DESKTOP PC)) OR (SEGMENT3#201 = SERVER)) OR (SEGMENT3#201 = ALL IN ONE)) THEN COMPUTER ELSE SEGMENT3#201 END = 3D TELEVISION) THEN LED SMART TELEVISION ELSE CASE WHEN ((((SEGMENT3#201 = LAPTOP) OR (SEGMENT3#201 = DESKTOP PC)) OR (SEGMENT3#201 = SERVER)) OR (SEGMENT3#201 = ALL IN ONE)) THEN COMPUTER ELSE SEGMENT3#201 END END = LCD TELEVISION) THEN LED TELEVISION ELSE CASE WHEN (CASE WHEN ((((SEGMENT3#201 = LAPTOP) OR (SEGMENT3#201 = DESKTOP PC)) OR (SEGMENT3#201 = SERVER)) OR (SEGMENT3#201 = ALL IN ONE)) THEN COMPUTER ELSE SEGMENT3#201 END = 3D TELEVISION) THEN LED SMART TELEVISION ELSE CASE WHEN ((((SEGMENT3#201 = LAPTOP) OR (SEGMENT3#201 = DESKTOP PC)) OR (SEGMENT3#201 = SERVER)) OR (SEGMENT3#201 = ALL IN ONE)) THEN COMPUTER ELSE SEGMENT3#201 END END END END END = LED SMART TELEVISION))) OR ((CASE WHEN (CASE WHEN (CASE WHEN (CASE WHEN (CASE WHEN ((((SEGMENT3#201 = LAPTOP) OR (SEGMENT3#201 = DESKTOP PC)) OR (SEGMENT3#201 = SERVER)) OR (SEGMENT3#201 = ALL IN ONE)) THEN COMPUTER ELSE SEGMENT3#201 END = 3D TELEVISION) THEN LED SMART TELEVISION ELSE CASE WHEN ((((SEGMENT3#201 = LAPTOP) OR (SEGMENT3#201 = DESKTOP PC)) OR (SEGMENT3#201 = SERVER)) OR (SEGMENT3#201 = ALL IN ONE)) THEN COMPUTER ELSE SEGMENT3#201 END END = LCD TELEVISION) THEN LED TELEVISION ELSE CASE WHEN (CASE WHEN ((((SEGMENT3#201 = LAPTOP) OR (SEGMENT3#201 = DESKTOP PC)) OR (SEGMENT3#201 = SERVER)) OR (SEGMENT3#201 = ALL IN ONE)) THEN COMPUTER ELSE SEGMENT3#201 END = 3D TELEVISION) THEN LED SMART TELEVISION ELSE CASE WHEN ((((SEGMENT3#201 = LAPTOP) OR (SEGMENT3#201 = DESKTOP PC)) OR (SEGMENT3#201 = SERVER)) OR (SEGMENT3#201 = ALL IN ONE)) THEN COMPUTER ELSE SEGMENT3#201 END END END = BEVERAGE COOLER) THEN REFRIGERATOR ELSE CASE WHEN (CASE WHEN (CASE WHEN ((((SEGMENT3#201 = LAPTOP) OR (SEGMENT3#201 = DESKTOP PC)) OR (SEGMENT3#201 = SERVER)) OR (SEGMENT3#201 = ALL IN ONE)) THEN COMPUTER ELSE SEGMENT3#201 END = 3D TELEVISION) THEN LED SMART TELEVISION ELSE CASE WHEN ((((SEGMENT3#201 = LAPTOP) OR (SEGMENT3#201 = DESKTOP PC)) OR (SEGMENT3#201 = SERVER)) OR (SEGMENT3#201 = ALL IN ONE)) THEN COMPUTER ELSE SEGMENT3#201 END END = LCD TELEVISION) THEN LED TELEVISION ELSE CASE WHEN (CASE WHEN ((((SEGMENT3#201 = LAPTOP) OR (SEGMENT3#201 = DESKTOP PC)) OR (SEGMENT3#201 = SERVER)) OR (SEGMENT3#201 = ALL IN ONE)) THEN COMPUTER ELSE SEGMENT3#201 END = 3D TELEVISION) THEN LED SMART TELEVISION ELSE CASE WHEN ((((SEGMENT3#201 = LAPTOP) OR (SEGMENT3#201 = DESKTOP PC)) OR (SEGMENT3#201 = SERVER)) OR (SEGMENT3#201 = ALL IN ONE)) THEN COMPUTER ELSE SEGMENT3#201 END END END END = AIRCONDITIONER-INDOOR) THEN AIRCONDITIONER ELSE CASE WHEN (CASE WHEN (CASE WHEN (CASE WHEN ((((SEGMENT3#201 = LAPTOP) OR (SEGMENT3#201 = DESKTOP PC)) OR (SEGMENT3#201 = SERVER)) OR (SEGMENT3#201 = ALL IN ONE)) THEN COMPUTER ELSE SEGMENT3#201 END = 3D TELEVISION) THEN LED SMART TELEVISION ELSE CASE WHEN ((((SEGMENT3#201 = LAPTOP) OR (SEGMENT3#201 = DESKTOP PC)) OR (SEGMENT3#201 = SERVER)) OR (SEGMENT3#201 = ALL IN ONE)) THEN COMPUTER ELSE SEGMENT3#201 END END = LCD TELEVISION) THEN LED TELEVISION ELSE CASE WHEN (CASE WHEN ((((SEGMENT3#201 = LAPTOP) OR (SEGMENT3#201 = DESKTOP PC)) OR (SEGMENT3#201 = SERVER)) OR (SEGMENT3#201 = ALL IN ONE)) THEN COMPUTER ELSE SEGMENT3#201 END = 3D TELEVISION) THEN LED SMART TELEVISION ELSE CASE WHEN ((((SEGMENT3#201 = LAPTOP) OR (SEGMENT3#201 = DESKTOP PC)) OR (SEGMENT3#201 = SERVER)) OR (SEGMENT3#201 = ALL IN ONE)) THEN COMPUTER ELSE SEGMENT3#201 END END END = BEVERAGE COOLER) THEN REFRIGERATOR ELSE CASE WHEN (CASE WHEN (CASE WHEN ((((SEGMENT3#201 = LAPTOP) OR (SEGMENT3#201 = DESKTOP PC)) OR (SEGMENT3#201 = SERVER)) OR (SEGMENT3#201 = ALL IN ONE)) THEN COMPUTER ELSE SEGMENT3#201 END = 3D TELEVISION) THEN LED SMART TELEVISION ELSE CASE WHEN ((((SEGMENT3#201 = LAPTOP) OR (SEGMENT3#201 = DESKTOP PC)) OR (SEGMENT3#201 = SERVER)) OR (SEGMENT3#201 = ALL IN ONE)) THEN COMPUTER ELSE SEGMENT3#201 END END = LCD TELEVISION) THEN LED TELEVISION ELSE CASE WHEN (CASE WHEN ((((SEGMENT3#201 = LAPTOP) OR (SEGMENT3#201 = DESKTOP PC)) OR (SEGMENT3#201 = SERVER)) OR (SEGMENT3#201 = ALL IN ONE)) THEN COMPUTER ELSE SEGMENT3#201 END = 3D TELEVISION) THEN LED SMART TELEVISION ELSE CASE WHEN ((((SEGMENT3#201 = LAPTOP) OR (SEGMENT3#201 = DESKTOP PC)) OR (SEGMENT3#201 = SERVER)) OR (SEGMENT3#201 = ALL IN ONE)) THEN COMPUTER ELSE SEGMENT3#201 END END END END END = MICROWAVE OVEN) AND isnotnull(CASE WHEN (CASE WHEN (CASE WHEN (CASE WHEN (CASE WHEN ((((SEGMENT3#201 = LAPTOP) OR (SEGMENT3#201 = DESKTOP PC)) OR (SEGMENT3#201 = SERVER)) OR (SEGMENT3#201 = ALL IN ONE)) THEN COMPUTER ELSE SEGMENT3#201 END = 3D TELEVISION) THEN LED SMART TELEVISION ELSE CASE WHEN ((((SEGMENT3#201 = LAPTOP) OR (SEGMENT3#201 = DESKTOP PC)) OR (SEGMENT3#201 = SERVER)) OR (SEGMENT3#201 = ALL IN ONE)) THEN COMPUTER ELSE SEGMENT3#201 END END = LCD TELEVISION) THEN LED TELEVISION ELSE CASE WHEN (CASE WHEN ((((SEGMENT3#201 = LAPTOP) OR (SEGMENT3#201 = DESKTOP PC)) OR (SEGMENT3#201 = SERVER)) OR (SEGMENT3#201 = ALL IN ONE)) THEN COMPUTER ELSE SEGMENT3#201 END = 3D TELEVISION) THEN LED SMART TELEVISION ELSE CASE WHEN ((((SEGMENT3#201 = LAPTOP) OR (SEGMENT3#201 = DESKTOP PC)) OR (SEGMENT3#201 = SERVER)) OR (SEGMENT3#201 = ALL IN ONE)) THEN COMPUTER ELSE SEGMENT3#201 END END END = BEVERAGE COOLER) THEN REFRIGERATOR ELSE CASE WHEN (CASE WHEN (CASE WHEN ((((SEGMENT3#201 = LAPTOP) OR (SEGMENT3#201 = DESKTOP PC)) OR (SEGMENT3#201 = SERVER)) OR (SEGMENT3#201 = ALL IN ONE)) THEN COMPUTER ELSE SEGMENT3#201 END = 3D TELEVISION) THEN LED SMART TELEVISION ELSE CASE WHEN ((((SEGMENT3#201 = LAPTOP) OR (SEGMENT3#201 = DESKTOP PC)) OR (SEGMENT3#201 = SERVER)) OR (SEGMENT3#201 = ALL IN ONE)) THEN COMPUTER ELSE SEGMENT3#201 END END = LCD TELEVISION) THEN LED TELEVISION ELSE CASE WHEN (CASE WHEN ((((SEGMENT3#201 = LAPTOP) OR (SEGMENT3#201 = DESKTOP PC)) OR (SEGMENT3#201 = SERVER)) OR (SEGMENT3#201 = ALL IN ONE)) THEN COMPUTER ELSE SEGMENT3#201 END = 3D TELEVISION) THEN LED SMART TELEVISION ELSE CASE WHEN ((((SEGMENT3#201 = LAPTOP) OR (SEGMENT3#201 = DESKTOP PC)) OR (SEGMENT3#201 = SERVER)) OR (SEGMENT3#201 = ALL IN ONE)) THEN COMPUTER ELSE SEGMENT3#201 END END END END = AIRCONDITIONER-INDOOR) THEN AIRCONDITIONER ELSE CASE WHEN (CASE WHEN (CASE WHEN (CASE WHEN ((((SEGMENT3#201 = LAPTOP) OR (SEGMENT3#201 = DESKTOP PC)) OR (SEGMENT3#201 = SERVER)) OR (SEGMENT3#201 = ALL IN ONE)) THEN COMPUTER ELSE SEGMENT3#201 END = 3D TELEVISION) THEN LED SMART TELEVISION ELSE CASE WHEN ((((SEGMENT3#201 = LAPTOP) OR (SEGMENT3#201 = DESKTOP PC)) OR (SEGMENT3#201 = SERVER)) OR (SEGMENT3#201 = ALL IN ONE)) THEN COMPUTER ELSE SEGMENT3#201 END END = LCD TELEVISION) THEN LED TELEVISION ELSE CASE WHEN (CASE WHEN ((((SEGMENT3#201 = LAPTOP) OR (SEGMENT3#201 = DESKTOP PC)) OR (SEGMENT3#201 = SERVER)) OR (SEGMENT3#201 = ALL IN ONE)) THEN COMPUTER ELSE SEGMENT3#201 END = 3D TELEVISION) THEN LED SMART TELEVISION ELSE CASE WHEN ((((SEGMENT3#201 = LAPTOP) OR (SEGMENT3#201 = DESKTOP PC)) OR (SEGMENT3#201 = SERVER)) OR (SEGMENT3#201 = ALL IN ONE)) THEN COMPUTER ELSE SEGMENT3#201 END END END = BEVERAGE COOLER) THEN REFRIGERATOR ELSE CASE WHEN (CASE WHEN (CASE WHEN ((((SEGMENT3#201 = LAPTOP) OR (SEGMENT3#201 = DESKTOP PC)) OR (SEGMENT3#201 = SERVER)) OR (SEGMENT3#201 = ALL IN ONE)) THEN COMPUTER ELSE SEGMENT3#201 END = 3D TELEVISION) THEN LED SMART TELEVISION ELSE CASE WHEN ((((SEGMENT3#201 = LAPTOP) OR (SEGMENT3#201 = DESKTOP PC)) OR (SEGMENT3#201 = SERVER)) OR (SEGMENT3#201 = ALL IN ONE)) THEN COMPUTER ELSE SEGMENT3#201 END END = LCD TELEVISION) THEN LED TELEVISION ELSE CASE WHEN (CASE WHEN ((((SEGMENT3#201 = LAPTOP) OR (SEGMENT3#201 = DESKTOP PC)) OR (SEGMENT3#201 = SERVER)) OR (SEGMENT3#201 = ALL IN ONE)) THEN COMPUTER ELSE SEGMENT3#201 END = 3D TELEVISION) THEN LED SMART TELEVISION ELSE CASE WHEN ((((SEGMENT3#201 = LAPTOP) OR (SEGMENT3#201 = DESKTOP PC)) OR (SEGMENT3#201 = SERVER)) OR (SEGMENT3#201 = ALL IN ONE)) THEN COMPUTER ELSE SEGMENT3#201 END END END END END))) OR ((CASE WHEN (CASE WHEN (CASE WHEN (CASE WHEN (CASE WHEN ((((SEGMENT3#201 = LAPTOP) OR (SEGMENT3#201 = DESKTOP PC)) OR (SEGMENT3#201 = SERVER)) OR (SEGMENT3#201 = ALL IN ONE)) THEN COMPUTER ELSE SEGMENT3#201 END = 3D TELEVISION) THEN LED SMART TELEVISION ELSE CASE WHEN ((((SEGMENT3#201 = LAPTOP) OR (SEGMENT3#201 = DESKTOP PC)) OR (SEGMENT3#201 = SERVER)) OR (SEGMENT3#201 = ALL IN ONE)) THEN COMPUTER ELSE SEGMENT3#201 END END = LCD TELEVISION) THEN LED TELEVISION ELSE CASE WHEN (CASE WHEN ((((SEGMENT3#201 = LAPTOP) OR (SEGMENT3#201 = DESKTOP PC)) OR (SEGMENT3#201 = SERVER)) OR (SEGMENT3#201 = ALL IN ONE)) THEN COMPUTER ELSE SEGMENT3#201 END = 3D TELEVISION) THEN LED SMART TELEVISION ELSE CASE WHEN ((((SEGMENT3#201 = LAPTOP) OR (SEGMENT3#201 = DESKTOP PC)) OR (SEGMENT3#201 = SERVER)) OR (SEGMENT3#201 = ALL IN ONE)) THEN COMPUTER ELSE SEGMENT3#201 END END END = BEVERAGE COOLER) THEN REFRIGERATOR ELSE CASE WHEN (CASE WHEN (CASE WHEN ((((SEGMENT3#201 = LAPTOP) OR (SEGMENT3#201 = DESKTOP PC)) OR (SEGMENT3#201 = SERVER)) OR (SEGMENT3#201 = ALL IN ONE)) THEN COMPUTER ELSE SEGMENT3#201 END = 3D TELEVISION) THEN LED SMART TELEVISION ELSE CASE WHEN ((((SEGMENT3#201 = LAPTOP) OR (SEGMENT3#201 = DESKTOP PC)) OR (SEGMENT3#201 = SERVER)) OR (SEGMENT3#201 = ALL IN ONE)) THEN COMPUTER ELSE SEGMENT3#201 END END = LCD TELEVISION) THEN LED TELEVISION ELSE CASE WHEN (CASE WHEN ((((SEGMENT3#201 = LAPTOP) OR (SEGMENT3#201 = DESKTOP PC)) OR (SEGMENT3#201 = SERVER)) OR (SEGMENT3#201 = ALL IN ONE)) THEN COMPUTER ELSE SEGMENT3#201 END = 3D TELEVISION) THEN LED SMART TELEVISION ELSE CASE WHEN ((((SEGMENT3#201 = LAPTOP) OR (SEGMENT3#201 = DESKTOP PC)) OR (SEGMENT3#201 = SERVER)) OR (SEGMENT3#201 = ALL IN ONE)) THEN COMPUTER ELSE SEGMENT3#201 END END END END = AIRCONDITIONER-INDOOR) THEN AIRCONDITIONER ELSE CASE WHEN (CASE WHEN (CASE WHEN (CASE WHEN ((((SEGMENT3#201 = LAPTOP) OR (SEGMENT3#201 = DESKTOP PC)) OR (SEGMENT3#201 = SERVER)) OR (SEGMENT3#201 = ALL IN ONE)) THEN COMPUTER ELSE SEGMENT3#201 END = 3D TELEVISION) THEN LED SMART TELEVISION ELSE CASE WHEN ((((SEGMENT3#201 = LAPTOP) OR (SEGMENT3#201 = DESKTOP PC)) OR (SEGMENT3#201 = SERVER)) OR (SEGMENT3#201 = ALL IN ONE)) THEN COMPUTER ELSE SEGMENT3#201 END END = LCD TELEVISION) THEN LED TELEVISION ELSE CASE WHEN (CASE WHEN ((((SEGMENT3#201 = LAPTOP) OR (SEGMENT3#201 = DESKTOP PC)) OR (SEGMENT3#201 = SERVER)) OR (SEGMENT3#201 = ALL IN ONE)) THEN COMPUTER ELSE SEGMENT3#201 END = 3D TELEVISION) THEN LED SMART TELEVISION ELSE CASE WHEN ((((SEGMENT3#201 = LAPTOP) OR (SEGMENT3#201 = DESKTOP PC)) OR (SEGMENT3#201 = SERVER)) OR (SEGMENT3#201 = ALL IN ONE)) THEN COMPUTER ELSE SEGMENT3#201 END END END = BEVERAGE COOLER) THEN REFRIGERATOR ELSE CASE WHEN (CASE WHEN (CASE WHEN ((((SEGMENT3#201 = LAPTOP) OR (SEGMENT3#201 = DESKTOP PC)) OR (SEGMENT3#201 = SERVER)) OR (SEGMENT3#201 = ALL IN ONE)) THEN COMPUTER ELSE SEGMENT3#201 END = 3D TELEVISION) THEN LED SMART TELEVISION ELSE CASE WHEN ((((SEGMENT3#201 = LAPTOP) OR (SEGMENT3#201 = DESKTOP PC)) OR (SEGMENT3#201 = SERVER)) OR (SEGMENT3#201 = ALL IN ONE)) THEN COMPUTER ELSE SEGMENT3#201 END END = LCD TELEVISION) THEN LED TELEVISION ELSE CASE WHEN (CASE WHEN ((((SEGMENT3#201 = LAPTOP) OR (SEGMENT3#201 = DESKTOP PC)) OR (SEGMENT3#201 = SERVER)) OR (SEGMENT3#201 = ALL IN ONE)) THEN COMPUTER ELSE SEGMENT3#201 END = 3D TELEVISION) THEN LED SMART TELEVISION ELSE CASE WHEN ((((SEGMENT3#201 = LAPTOP) OR (SEGMENT3#201 = DESKTOP PC)) OR (SEGMENT3#201 = SERVER)) OR (SEGMENT3#201 = ALL IN ONE)) THEN COMPUTER ELSE SEGMENT3#201 END END END END END = REFRIGERATOR) AND isnotnull(CASE WHEN (CASE WHEN (CASE WHEN (CASE WHEN (CASE WHEN ((((SEGMENT3#201 = LAPTOP) OR (SEGMENT3#201 = DESKTOP PC)) OR (SEGMENT3#201 = SERVER)) OR (SEGMENT3#201 = ALL IN ONE)) THEN COMPUTER ELSE SEGMENT3#201 END = 3D TELEVISION) THEN LED SMART TELEVISION ELSE CASE WHEN ((((SEGMENT3#201 = LAPTOP) OR (SEGMENT3#201 = DESKTOP PC)) OR (SEGMENT3#201 = SERVER)) OR (SEGMENT3#201 = ALL IN ONE)) THEN COMPUTER ELSE SEGMENT3#201 END END = LCD TELEVISION) THEN LED TELEVISION ELSE CASE WHEN (CASE WHEN ((((SEGMENT3#201 = LAPTOP) OR (SEGMENT3#201 = DESKTOP PC)) OR (SEGMENT3#201 = SERVER)) OR (SEGMENT3#201 = ALL IN ONE)) THEN COMPUTER ELSE SEGMENT3#201 END = 3D TELEVISION) THEN LED SMART TELEVISION ELSE CASE WHEN ((((SEGMENT3#201 = LAPTOP) OR (SEGMENT3#201 = DESKTOP PC)) OR (SEGMENT3#201 = SERVER)) OR (SEGMENT3#201 = ALL IN ONE)) THEN COMPUTER ELSE SEGMENT3#201 END END END = BEVERAGE COOLER) THEN REFRIGERATOR ELSE CASE WHEN (CASE WHEN (CASE WHEN ((((SEGMENT3#201 = LAPTOP) OR (SEGMENT3#201 = DESKTOP PC)) OR (SEGMENT3#201 = SERVER)) OR (SEGMENT3#201 = ALL IN ONE)) THEN COMPUTER ELSE SEGMENT3#201 END = 3D TELEVISION) THEN LED SMART TELEVISION ELSE CASE WHEN ((((SEGMENT3#201 = LAPTOP) OR (SEGMENT3#201 = DESKTOP PC)) OR (SEGMENT3#201 = SERVER)) OR (SEGMENT3#201 = ALL IN ONE)) THEN COMPUTER ELSE SEGMENT3#201 END END = LCD TELEVISION) THEN LED TELEVISION ELSE CASE WHEN (CASE WHEN ((((SEGMENT3#201 = LAPTOP) OR (SEGMENT3#201 = DESKTOP PC)) OR (SEGMENT3#201 = SERVER)) OR (SEGMENT3#201 = ALL IN ONE)) THEN COMPUTER ELSE SEGMENT3#201 END = 3D TELEVISION) THEN LED SMART TELEVISION ELSE CASE WHEN ((((SEGMENT3#201 = LAPTOP) OR (SEGMENT3#201 = DESKTOP PC)) OR (SEGMENT3#201 = SERVER)) OR (SEGMENT3#201 = ALL IN ONE)) THEN COMPUTER ELSE SEGMENT3#201 END END END END = AIRCONDITIONER-INDOOR) THEN AIRCONDITIONER ELSE CASE WHEN (CASE WHEN (CASE WHEN (CASE WHEN ((((SEGMENT3#201 = LAPTOP) OR (SEGMENT3#201 = DESKTOP PC)) OR (SEGMENT3#201 = SERVER)) OR (SEGMENT3#201 = ALL IN ONE)) THEN COMPUTER ELSE SEGMENT3#201 END = 3D TELEVISION) THEN LED SMART TELEVISION ELSE CASE WHEN ((((SEGMENT3#201 = LAPTOP) OR (SEGMENT3#201 = DESKTOP PC)) OR (SEGMENT3#201 = SERVER)) OR (SEGMENT3#201 = ALL IN ONE)) THEN COMPUTER ELSE SEGMENT3#201 END END = LCD TELEVISION) THEN LED TELEVISION ELSE CASE WHEN (CASE WHEN ((((SEGMENT3#201 = LAPTOP) OR (SEGMENT3#201 = DESKTOP PC)) OR (SEGMENT3#201 = SERVER)) OR (SEGMENT3#201 = ALL IN ONE)) THEN COMPUTER ELSE SEGMENT3#201 END = 3D TELEVISION) THEN LED SMART TELEVISION ELSE CASE WHEN ((((SEGMENT3#201 = LAPTOP) OR (SEGMENT3#201 = DESKTOP PC)) OR (SEGMENT3#201 = SERVER)) OR (SEGMENT3#201 = ALL IN ONE)) THEN COMPUTER ELSE SEGMENT3#201 END END END = BEVERAGE COOLER) THEN REFRIGERATOR ELSE CASE WHEN (CASE WHEN (CASE WHEN ((((SEGMENT3#201 = LAPTOP) OR (SEGMENT3#201 = DESKTOP PC)) OR (SEGMENT3#201 = SERVER)) OR (SEGMENT3#201 = ALL IN ONE)) THEN COMPUTER ELSE SEGMENT3#201 END = 3D TELEVISION) THEN LED SMART TELEVISION ELSE CASE WHEN ((((SEGMENT3#201 = LAPTOP) OR (SEGMENT3#201 = DESKTOP PC)) OR (SEGMENT3#201 = SERVER)) OR (SEGMENT3#201 = ALL IN ONE)) THEN COMPUTER ELSE SEGMENT3#201 END END = LCD TELEVISION) THEN LED TELEVISION ELSE CASE WHEN (CASE WHEN ((((SEGMENT3#201 = LAPTOP) OR (SEGMENT3#201 = DESKTOP PC)) OR (SEGMENT3#201 = SERVER)) OR (SEGMENT3#201 = ALL IN ONE)) THEN COMPUTER ELSE SEGMENT3#201 END = 3D TELEVISION) THEN LED SMART TELEVISION ELSE CASE WHEN ((((SEGMENT3#201 = LAPTOP) OR (SEGMENT3#201 = DESKTOP PC)) OR (SEGMENT3#201 = SERVER)) OR (SEGMENT3#201 = ALL IN ONE)) THEN COMPUTER ELSE SEGMENT3#201 END END END END END))) OR ((CASE WHEN (CASE WHEN (CASE WHEN (CASE WHEN (CASE WHEN ((((SEGMENT3#201 = LAPTOP) OR (SEGMENT3#201 = DESKTOP PC)) OR (SEGMENT3#201 = SERVER)) OR (SEGMENT3#201 = ALL IN ONE)) THEN COMPUTER ELSE SEGMENT3#201 END = 3D TELEVISION) THEN LED SMART TELEVISION ELSE CASE WHEN ((((SEGMENT3#201 = LAPTOP) OR (SEGMENT3#201 = DESKTOP PC)) OR (SEGMENT3#201 = SERVER)) OR (SEGMENT3#201 = ALL IN ONE)) THEN COMPUTER ELSE SEGMENT3#201 END END = LCD TELEVISION) THEN LED TELEVISION ELSE CASE WHEN (CASE WHEN ((((SEGMENT3#201 = LAPTOP) OR (SEGMENT3#201 = DESKTOP PC)) OR (SEGMENT3#201 = SERVER)) OR (SEGMENT3#201 = ALL IN ONE)) THEN COMPUTER ELSE SEGMENT3#201 END = 3D TELEVISION) THEN LED SMART TELEVISION ELSE CASE WHEN ((((SEGMENT3#201 = LAPTOP) OR (SEGMENT3#201 = DESKTOP PC)) OR (SEGMENT3#201 = SERVER)) OR (SEGMENT3#201 = ALL IN ONE)) THEN COMPUTER ELSE SEGMENT3#201 END END END = BEVERAGE COOLER) THEN REFRIGERATOR ELSE CASE WHEN (CASE WHEN (CASE WHEN ((((SEGMENT3#201 = LAPTOP) OR (SEGMENT3#201 = DESKTOP PC)) OR (SEGMENT3#201 = SERVER)) OR (SEGMENT3#201 = ALL IN ONE)) THEN COMPUTER ELSE SEGMENT3#201 END = 3D TELEVISION) THEN LED SMART TELEVISION ELSE CASE WHEN ((((SEGMENT3#201 = LAPTOP) OR (SEGMENT3#201 = DESKTOP PC)) OR (SEGMENT3#201 = SERVER)) OR (SEGMENT3#201 = ALL IN ONE)) THEN COMPUTER ELSE SEGMENT3#201 END END = LCD TELEVISION) THEN LED TELEVISION ELSE CASE WHEN (CASE WHEN ((((SEGMENT3#201 = LAPTOP) OR (SEGMENT3#201 = DESKTOP PC)) OR (SEGMENT3#201 = SERVER)) OR (SEGMENT3#201 = ALL IN ONE)) THEN COMPUTER ELSE SEGMENT3#201 END = 3D TELEVISION) THEN LED SMART TELEVISION ELSE CASE WHEN ((((SEGMENT3#201 = LAPTOP) OR (SEGMENT3#201 = DESKTOP PC)) OR (SEGMENT3#201 = SERVER)) OR (SEGMENT3#201 = ALL IN ONE)) THEN COMPUTER ELSE SEGMENT3#201 END END END END = AIRCONDITIONER-INDOOR) THEN AIRCONDITIONER ELSE CASE WHEN (CASE WHEN (CASE WHEN (CASE WHEN ((((SEGMENT3#201 = LAPTOP) OR (SEGMENT3#201 = DESKTOP PC)) OR (SEGMENT3#201 = SERVER)) OR (SEGMENT3#201 = ALL IN ONE)) THEN COMPUTER ELSE SEGMENT3#201 END = 3D TELEVISION) THEN LED SMART TELEVISION ELSE CASE WHEN ((((SEGMENT3#201 = LAPTOP) OR (SEGMENT3#201 = DESKTOP PC)) OR (SEGMENT3#201 = SERVER)) OR (SEGMENT3#201 = ALL IN ONE)) THEN COMPUTER ELSE SEGMENT3#201 END END = LCD TELEVISION) THEN LED TELEVISION ELSE CASE WHEN (CASE WHEN ((((SEGMENT3#201 = LAPTOP) OR (SEGMENT3#201 = DESKTOP PC)) OR (SEGMENT3#201 = SERVER)) OR (SEGMENT3#201 = ALL IN ONE)) THEN COMPUTER ELSE SEGMENT3#201 END = 3D TELEVISION) THEN LED SMART TELEVISION ELSE CASE WHEN ((((SEGMENT3#201 = LAPTOP) OR (SEGMENT3#201 = DESKTOP PC)) OR (SEGMENT3#201 = SERVER)) OR (SEGMENT3#201 = ALL IN ONE)) THEN COMPUTER ELSE SEGMENT3#201 END END END = BEVERAGE COOLER) THEN REFRIGERATOR ELSE CASE WHEN (CASE WHEN (CASE WHEN ((((SEGMENT3#201 = LAPTOP) OR (SEGMENT3#201 = DESKTOP PC)) OR (SEGMENT3#201 = SERVER)) OR (SEGMENT3#201 = ALL IN ONE)) THEN COMPUTER ELSE SEGMENT3#201 END = 3D TELEVISION) THEN LED SMART TELEVISION ELSE CASE WHEN ((((SEGMENT3#201 = LAPTOP) OR (SEGMENT3#201 = DESKTOP PC)) OR (SEGMENT3#201 = SERVER)) OR (SEGMENT3#201 = ALL IN ONE)) THEN COMPUTER ELSE SEGMENT3#201 END END = LCD TELEVISION) THEN LED TELEVISION ELSE CASE WHEN (CASE WHEN ((((SEGMENT3#201 = LAPTOP) OR (SEGMENT3#201 = DESKTOP PC)) OR (SEGMENT3#201 = SERVER)) OR (SEGMENT3#201 = ALL IN ONE)) THEN COMPUTER ELSE SEGMENT3#201 END = 3D TELEVISION) THEN LED SMART TELEVISION ELSE CASE WHEN ((((SEGMENT3#201 = LAPTOP) OR (SEGMENT3#201 = DESKTOP PC)) OR (SEGMENT3#201 = SERVER)) OR (SEGMENT3#201 = ALL IN ONE)) THEN COMPUTER ELSE SEGMENT3#201 END END END END END = WASHING MACHINE) AND isnotnull(CASE WHEN (CASE WHEN (CASE WHEN (CASE WHEN (CASE WHEN ((((SEGMENT3#201 = LAPTOP) OR (SEGMENT3#201 = DESKTOP PC)) OR (SEGMENT3#201 = SERVER)) OR (SEGMENT3#201 = ALL IN ONE)) THEN COMPUTER ELSE SEGMENT3#201 END = 3D TELEVISION) THEN LED SMART TELEVISION ELSE CASE WHEN ((((SEGMENT3#201 = LAPTOP) OR (SEGMENT3#201 = DESKTOP PC)) OR (SEGMENT3#201 = SERVER)) OR (SEGMENT3#201 = ALL IN ONE)) THEN COMPUTER ELSE SEGMENT3#201 END END = LCD TELEVISION) THEN LED TELEVISION ELSE CASE WHEN (CASE WHEN ((((SEGMENT3#201 = LAPTOP) OR (SEGMENT3#201 = DESKTOP PC)) OR (SEGMENT3#201 = SERVER)) OR (SEGMENT3#201 = ALL IN ONE)) THEN COMPUTER ELSE SEGMENT3#201 END = 3D TELEVISION) THEN LED SMART TELEVISION ELSE CASE WHEN ((((SEGMENT3#201 = LAPTOP) OR (SEGMENT3#201 = DESKTOP PC)) OR (SEGMENT3#201 = SERVER)) OR (SEGMENT3#201 = ALL IN ONE)) THEN COMPUTER ELSE SEGMENT3#201 END END END = BEVERAGE COOLER) THEN REFRIGERATOR ELSE CASE WHEN (CASE WHEN (CASE WHEN ((((SEGMENT3#201 = LAPTOP) OR (SEGMENT3#201 = DESKTOP PC)) OR (SEGMENT3#201 = SERVER)) OR (SEGMENT3#201 = ALL IN ONE)) THEN COMPUTER ELSE SEGMENT3#201 END = 3D TELEVISION) THEN LED SMART TELEVISION ELSE CASE WHEN ((((SEGMENT3#201 = LAPTOP) OR (SEGMENT3#201 = DESKTOP PC)) OR (SEGMENT3#201 = SERVER)) OR (SEGMENT3#201 = ALL IN ONE)) THEN COMPUTER ELSE SEGMENT3#201 END END = LCD TELEVISION) THEN LED TELEVISION ELSE CASE WHEN (CASE WHEN ((((SEGMENT3#201 = LAPTOP) OR (SEGMENT3#201 = DESKTOP PC)) OR (SEGMENT3#201 = SERVER)) OR (SEGMENT3#201 = ALL IN ONE)) THEN COMPUTER ELSE SEGMENT3#201 END = 3D TELEVISION) THEN LED SMART TELEVISION ELSE CASE WHEN ((((SEGMENT3#201 = LAPTOP) OR (SEGMENT3#201 = DESKTOP PC)) OR (SEGMENT3#201 = SERVER)) OR (SEGMENT3#201 = ALL IN ONE)) THEN COMPUTER ELSE SEGMENT3#201 END END END END = AIRCONDITIONER-INDOOR) THEN AIRCONDITIONER ELSE CASE WHEN (CASE WHEN (CASE WHEN (CASE WHEN ((((SEGMENT3#201 = LAPTOP) OR (SEGMENT3#201 = DESKTOP PC)) OR (SEGMENT3#201 = SERVER)) OR (SEGMENT3#201 = ALL IN ONE)) THEN COMPUTER ELSE SEGMENT3#201 END = 3D TELEVISION) THEN LED SMART TELEVISION ELSE CASE WHEN ((((SEGMENT3#201 = LAPTOP) OR (SEGMENT3#201 = DESKTOP PC)) OR (SEGMENT3#201 = SERVER)) OR (SEGMENT3#201 = ALL IN ONE)) THEN COMPUTER ELSE SEGMENT3#201 END END = LCD TELEVISION) THEN LED TELEVISION ELSE CASE WHEN (CASE WHEN ((((SEGMENT3#201 = LAPTOP) OR (SEGMENT3#201 = DESKTOP PC)) OR (SEGMENT3#201 = SERVER)) OR (SEGMENT3#201 = ALL IN ONE)) THEN COMPUTER ELSE SEGMENT3#201 END = 3D TELEVISION) THEN LED SMART TELEVISION ELSE CASE WHEN ((((SEGMENT3#201 = LAPTOP) OR (SEGMENT3#201 = DESKTOP PC)) OR (SEGMENT3#201 = SERVER)) OR (SEGMENT3#201 = ALL IN ONE)) THEN COMPUTER ELSE SEGMENT3#201 END END END = BEVERAGE COOLER) THEN REFRIGERATOR ELSE CASE WHEN (CASE WHEN (CASE WHEN ((((SEGMENT3#201 = LAPTOP) OR (SEGMENT3#201 = DESKTOP PC)) OR (SEGMENT3#201 = SERVER)) OR (SEGMENT3#201 = ALL IN ONE)) THEN COMPUTER ELSE SEGMENT3#201 END = 3D TELEVISION) THEN LED SMART TELEVISION ELSE CASE WHEN ((((SEGMENT3#201 = LAPTOP) OR (SEGMENT3#201 = DESKTOP PC)) OR (SEGMENT3#201 = SERVER)) OR (SEGMENT3#201 = ALL IN ONE)) THEN COMPUTER ELSE SEGMENT3#201 END END = LCD TELEVISION) THEN LED TELEVISION ELSE CASE WHEN (CASE WHEN ((((SEGMENT3#201 = LAPTOP) OR (SEGMENT3#201 = DESKTOP PC)) OR (SEGMENT3#201 = SERVER)) OR (SEGMENT3#201 = ALL IN ONE)) THEN COMPUTER ELSE SEGMENT3#201 END = 3D TELEVISION) THEN LED SMART TELEVISION ELSE CASE WHEN ((((SEGMENT3#201 = LAPTOP) OR (SEGMENT3#201 = DESKTOP PC)) OR (SEGMENT3#201 = SERVER)) OR (SEGMENT3#201 = ALL IN ONE)) THEN COMPUTER ELSE SEGMENT3#201 END END END END END))), isnotnull(CASE WHEN (CASE WHEN (CASE WHEN (CASE WHEN (CASE WHEN ((((SEGMENT3#201 = LAPTOP) OR (SEGMENT3#201 = DESKTOP PC)) OR (SEGMENT3#201 = SERVER)) OR (SEGMENT3#201 = ALL IN ONE)) THEN COMPUTER ELSE SEGMENT3#201 END = 3D TELEVISION) THEN LED SMART TELEVISION ELSE CASE WHEN ((((SEGMENT3#201 = LAPTOP) OR (SEGMENT3#201 = DESKTOP PC)) OR (SEGMENT3#201 = SERVER)) OR (SEGMENT3#201 = ALL IN ONE)) THEN COMPUTER ELSE SEGMENT3#201 END END = LCD TELEVISION) THEN LED TELEVISION ELSE CASE WHEN (CASE WHEN ((((SEGMENT3#201 = LAPTOP) OR (SEGMENT3#201 = DESKTOP PC)) OR (SEGMENT3#201 = SERVER)) OR (SEGMENT3#201 = ALL IN ONE)) THEN COMPUTER ELSE SEGMENT3#201 END = 3D TELEVISION) THEN LED SMART TELEVISION ELSE CASE WHEN ((((SEGMENT3#201 = LAPTOP) OR (SEGMENT3#201 = DESKTOP PC)) OR (SEGMENT3#201 = SERVER)) OR (SEGMENT3#201 = ALL IN ONE)) THEN COMPUTER ELSE SEGMENT3#201 END END END = BEVERAGE COOLER) THEN REFRIGERATOR ELSE CASE WHEN (CASE WHEN (CASE WHEN ((((SEGMENT3#201 = LAPTOP) OR (SEGMENT3#201 = DESKTOP PC)) OR (SEGMENT3#201 = SERVER)) OR (SEGMENT3#201 = ALL IN ONE)) THEN COMPUTER ELSE SEGMENT3#201 END = 3D TELEVISION) THEN LED SMART TELEVISION ELSE CASE WHEN ((((SEGMENT3#201 = LAPTOP) OR (SEGMENT3#201 = DESKTOP PC)) OR (SEGMENT3#201 = SERVER)) OR (SEGMENT3#201 = ALL IN ONE)) THEN COMPUTER ELSE SEGMENT3#201 END END = LCD TELEVISION) THEN LED TELEVISION ELSE CASE WHEN (CASE WHEN ((((SEGMENT3#201 = LAPTOP) OR (SEGMENT3#201 = DESKTOP PC)) OR (SEGMENT3#201 = SERVER)) OR (SEGMENT3#201 = ALL IN ONE)) THEN COMPUTER ELSE SEGMENT3#201 END = 3D TELEVISION) THEN LED SMART TELEVISION ELSE CASE WHEN ((((SEGMENT3#201 = LAPTOP) OR (SEGMENT3#201 = DESKTOP PC)) OR (SEGMENT3#201 = SERVER)) OR (SEGMENT3#201 = ALL IN ONE)) THEN COMPUTER ELSE SEGMENT3#201 END END END END = AIRCONDITIONER-INDOOR) THEN AIRCONDITIONER ELSE CASE WHEN (CASE WHEN (CASE WHEN (CASE WHEN ((((SEGMENT3#201 = LAPTOP) OR (SEGMENT3#201 = DESKTOP PC)) OR (SEGMENT3#201 = SERVER)) OR (SEGMENT3#201 = ALL IN ONE)) THEN COMPUTER ELSE SEGMENT3#201 END = 3D TELEVISION) THEN LED SMART TELEVISION ELSE CASE WHEN ((((SEGMENT3#201 = LAPTOP) OR (SEGMENT3#201 = DESKTOP PC)) OR (SEGMENT3#201 = SERVER)) OR (SEGMENT3#201 = ALL IN ONE)) THEN COMPUTER ELSE SEGMENT3#201 END END = LCD TELEVISION) THEN LED TELEVISION ELSE CASE WHEN (CASE WHEN ((((SEGMENT3#201 = LAPTOP) OR (SEGMENT3#201 = DESKTOP PC)) OR (SEGMENT3#201 = SERVER)) OR (SEGMENT3#201 = ALL IN ONE)) THEN COMPUTER ELSE SEGMENT3#201 END = 3D TELEVISION) THEN LED SMART TELEVISION ELSE CASE WHEN ((((SEGMENT3#201 = LAPTOP) OR (SEGMENT3#201 = DESKTOP PC)) OR (SEGMENT3#201 = SERVER)) OR (SEGMENT3#201 = ALL IN ONE)) THEN COMPUTER ELSE SEGMENT3#201 END END END = BEVERAGE COOLER) THEN REFRIGERATOR ELSE CASE WHEN (CASE WHEN (CASE WHEN ((((SEGMENT3#201 = LAPTOP) OR (SEGMENT3#201 = DESKTOP PC)) OR (SEGMENT3#201 = SERVER)) OR (SEGMENT3#201 = ALL IN ONE)) THEN COMPUTER ELSE SEGMENT3#201 END = 3D TELEVISION) THEN LED SMART TELEVISION ELSE CASE WHEN ((((SEGMENT3#201 = LAPTOP) OR (SEGMENT3#201 = DESKTOP PC)) OR (SEGMENT3#201 = SERVER)) OR (SEGMENT3#201 = ALL IN ONE)) THEN COMPUTER ELSE SEGMENT3#201 END END = LCD TELEVISION) THEN LED TELEVISION ELSE CASE WHEN (CASE WHEN ((((SEGMENT3#201 = LAPTOP) OR (SEGMENT3#201 = DESKTOP PC)) OR (SEGMENT3#201 = SERVER)) OR (SEGMENT3#201 = ALL IN ONE)) THEN COMPUTER ELSE SEGMENT3#201 END = 3D TELEVISION) THEN LED SMART TELEVISION ELSE CASE WHEN ((((SEGMENT3#201 = LAPTOP) OR (SEGMENT3#201 = DESKTOP PC)) OR (SEGMENT3#201 = SERVER)) OR (SEGMENT3#201 = ALL IN ONE)) THEN COMPUTER ELSE SEGMENT3#201 END END END END END)]\n",
      "         +- InMemoryRelation [PLAZA_NAME#571, CustomerName#619, CUSTOMER_PHONE_NO#399, CUSTOMER_TYPE#404, INVOICE_NO#83, CREATED_BY#19, S_TYPE#55, IS_EMPLOYEE#65, CUSTOMER_ID#20, SID#380, PLAZA_ID#48, RATE#168, QUANTITY#167, S_TOTAL#169, REBATE#161, G_TOTAL#166, SALE_MST_ID#156, PRODUCT_ID#154, SEGMENT3#201, SEGMENT5#203, prodid#409, date_of_registration#665], StorageLevel(disk, memory, deserialized, 1 replicas)\n",
      "               +- *(11) Project [NAME#333 AS PLAZA_NAME#571, cname#394 AS CustomerName#619, CUSTOMER_PHONE_NO#399, CUSTOMER_TYPE#404, INVOICE_NO#83, CREATED_BY#19, S_TYPE#55, IS_EMPLOYEE#65, CUSTOMER_ID#20, SID#380, PLAZA_ID#48, RATE#168, QUANTITY#167, S_TOTAL#169, REBATE#161, G_TOTAL#166, SALE_MST_ID#156, PRODUCT_ID#154, SEGMENT3#201, SEGMENT5#203, prodid#409, cast(CREATED#18 as date) AS date_of_registration#665]\n",
      "                  +- *(11) BroadcastHashJoin [knownfloatingpointnormalized(normalizenanandzero(pid#377))], [knownfloatingpointnormalized(normalizenanandzero(PLAZA_ID#48))], Inner, BuildLeft, false\n",
      "                     :- BroadcastExchange HashedRelationBroadcastMode(List(knownfloatingpointnormalized(normalizenanandzero(input[1, double, true]))),false), [id=#100]\n",
      "                     :  +- *(1) Project [NAME#333, ID#323 AS pid#377]\n",
      "                     :     +- *(1) Filter isnotnull(ID#323)\n",
      "                     :        +- BatchScan[ID#323, NAME#333] spark_catalog.pos.pos___POS_PLAZAS [filters=ID IS NOT NULL]\n",
      "                     +- *(11) Project [cname#394, CUSTOMER_PHONE_NO#399, CUSTOMER_TYPE#404, INVOICE_NO#83, CREATED#18, CREATED_BY#19, S_TYPE#55, IS_EMPLOYEE#65, CUSTOMER_ID#20, SID#380, PLAZA_ID#48, RATE#168, QUANTITY#167, S_TOTAL#169, REBATE#161, G_TOTAL#166, SALE_MST_ID#156, PRODUCT_ID#154, SEGMENT3#201, SEGMENT5#203, prodid#409]\n",
      "                        +- *(11) SortMergeJoin [knownfloatingpointnormalized(normalizenanandzero(CID#389))], [knownfloatingpointnormalized(normalizenanandzero(CUSTOMER_ID#20))], Inner\n",
      "                           :- *(3) Sort [knownfloatingpointnormalized(normalizenanandzero(CID#389)) ASC NULLS FIRST], false, 0\n",
      "                           :  +- Exchange hashpartitioning(knownfloatingpointnormalized(normalizenanandzero(CID#389)), 200), ENSURE_REQUIREMENTS, [id=#106]\n",
      "                           :     +- *(2) Project [NAME#259 AS cname#394, MOBILE_PHONE#256 AS CUSTOMER_PHONE_NO#399, C_TYPE#247 AS CUSTOMER_TYPE#404, ID#246 AS CID#389]\n",
      "                           :        +- *(2) Filter ((Contains(C_TYPE#247, Retail) OR Contains(C_TYPE#247, Hire)) AND isnotnull(ID#246))\n",
      "                           :           +- BatchScan[ID#246, C_TYPE#247, MOBILE_PHONE#256, NAME#259] spark_catalog.pos.pos___POS_CUSTOMERS [filters=ID IS NOT NULL]\n",
      "                           +- *(10) Sort [knownfloatingpointnormalized(normalizenanandzero(CUSTOMER_ID#20)) ASC NULLS FIRST], false, 0\n",
      "                              +- Exchange hashpartitioning(knownfloatingpointnormalized(normalizenanandzero(CUSTOMER_ID#20)), 200), ENSURE_REQUIREMENTS, [id=#137]\n",
      "                                 +- *(9) BroadcastHashJoin [knownfloatingpointnormalized(normalizenanandzero(PRODUCT_ID#154))], [knownfloatingpointnormalized(normalizenanandzero(prodid#409))], Inner, BuildRight, false\n",
      "                                    :- *(9) SortMergeJoin [knownfloatingpointnormalized(normalizenanandzero(SID#380))], [knownfloatingpointnormalized(normalizenanandzero(SALE_MST_ID#156))], Inner\n",
      "                                    :  :- *(5) Sort [knownfloatingpointnormalized(normalizenanandzero(SID#380)) ASC NULLS FIRST], false, 0\n",
      "                                    :  :  +- Exchange hashpartitioning(knownfloatingpointnormalized(normalizenanandzero(SID#380)), 200), ENSURE_REQUIREMENTS, [id=#115]\n",
      "                                    :  :     +- *(4) Project [INVOICE_NO#83, CREATED#18, CREATED_BY#19, S_TYPE#55, IS_EMPLOYEE#65, CUSTOMER_ID#20, ID#11 AS SID#380, PLAZA_ID#48]\n",
      "                                    :  :        +- *(4) Filter ((((((((((cast(CREATED#18 as date) >= 18628) AND (cast(CREATED#18 as date) <= 19041)) AND isnotnull(IS_EMPLOYEE#65)) AND isnotnull(CREATED_BY#19)) AND isnotnull(CREATED#18)) AND (IS_EMPLOYEE#65 = 0.0)) AND NOT (CREATED_BY#19 = OPENING_HIRE)) AND isnotnull(ID#11)) AND isnotnull(PLAZA_ID#48)) AND isnotnull(CUSTOMER_ID#20))\n",
      "                                    :  :           +- BatchScan[ID#11, CREATED#18, CREATED_BY#19, CUSTOMER_ID#20, PLAZA_ID#48, S_TYPE#55, IS_EMPLOYEE#65, INVOICE_NO#83] spark_catalog.pos.pos___POS_SALE_MST [filters=IS_EMPLOYEE IS NOT NULL, CREATED_BY IS NOT NULL, CREATED IS NOT NULL, IS_EMPLOYEE = 0.0, NOT (CREATED_BY = 'OPENING_HIRE'), ID IS NOT NULL, PLAZA_ID IS NOT NULL, CUSTOMER_ID IS NOT NULL]\n",
      "                                    :  +- *(7) Sort [knownfloatingpointnormalized(normalizenanandzero(SALE_MST_ID#156)) ASC NULLS FIRST], false, 0\n",
      "                                    :     +- Exchange hashpartitioning(knownfloatingpointnormalized(normalizenanandzero(SALE_MST_ID#156)), 200), ENSURE_REQUIREMENTS, [id=#123]\n",
      "                                    :        +- *(6) Filter (((isnotnull(RATE#168) AND (RATE#168 > 1500.0)) AND isnotnull(SALE_MST_ID#156)) AND isnotnull(PRODUCT_ID#154))\n",
      "                                    :           +- BatchScan[PRODUCT_ID#154, SALE_MST_ID#156, REBATE#161, G_TOTAL#166, QUANTITY#167, RATE#168, S_TOTAL#169] spark_catalog.pos.pos___POS_SALE_DTLS [filters=RATE IS NOT NULL, RATE > 1500.0, SALE_MST_ID IS NOT NULL, PRODUCT_ID IS NOT NULL]\n",
      "                                    +- BroadcastExchange HashedRelationBroadcastMode(List(knownfloatingpointnormalized(normalizenanandzero(input[2, double, true]))),false), [id=#133]\n",
      "                                       +- *(8) Project [SEGMENT3#201, SEGMENT5#203, ID#183 AS prodid#409]\n",
      "                                          +- *(8) Filter isnotnull(ID#183)\n",
      "                                             +- BatchScan[ID#183, SEGMENT3#201, SEGMENT5#203] spark_catalog.pos.pos___POS_PRODUCTS [filters=ID IS NOT NULL]\n",
      "\n",
      "                                                                                \r"
     ]
    }
   ],
   "source": [
    "df.repartition(1).write.format(\"csv\").options(header='True',delimiter='|',encoding ='UTF-16').save(\"s3a://bigdata-dev-cmfcknil/raw/init/posdb/pos/lf56\")"
   ]
  },
  {
   "cell_type": "code",
   "execution_count": null,
   "id": "ae612986",
   "metadata": {},
   "outputs": [],
   "source": []
  }
 ],
 "metadata": {
  "kernelspec": {
   "display_name": "Python 3 (ipykernel)",
   "language": "python",
   "name": "python3"
  },
  "language_info": {
   "codemirror_mode": {
    "name": "ipython",
    "version": 3
   },
   "file_extension": ".py",
   "mimetype": "text/x-python",
   "name": "python",
   "nbconvert_exporter": "python",
   "pygments_lexer": "ipython3",
   "version": "3.9.7"
  }
 },
 "nbformat": 4,
 "nbformat_minor": 5
}
